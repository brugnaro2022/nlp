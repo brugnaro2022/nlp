{
 "cells": [
  {
   "cell_type": "markdown",
   "id": "a9b44287-0d33-4a70-bf7c-7233736a2caa",
   "metadata": {},
   "source": [
    "\n",
    "<b>INSTITUTO FEDERAL DE GOIÁS<br/>\n",
    "PÓS-GRADUAÇÃO EM INTELIGÊNCIA ARTIFICIAL APLICADA<br/></b>\n",
    "Disciplina: Processamento de Linguagem Natural  <br/>\n",
    "Professor: Daniel Xavier de Sousa <br/>\n",
    "Alunos: Wagner Silva, Cleibson, Marcos Rodrigues\n",
    "\n",
    "\n",
    "---"
   ]
  },
  {
   "cell_type": "markdown",
   "id": "7f2c2b53-6ada-4cf2-8fee-9d000ec26123",
   "metadata": {},
   "source": [
    "#### Importação de bibliotecas"
   ]
  },
  {
   "cell_type": "code",
   "execution_count": 49,
   "id": "98574c79-76f9-42e6-8cf5-02045f2cf9b8",
   "metadata": {
    "tags": []
   },
   "outputs": [],
   "source": [
    "# Bibliotecas básicas\n",
    "import pandas as pd\n",
    "import numpy as np\n",
    "import re\n",
    "\n",
    "# Bibliotecas para preparação dos dados\n",
    "from tensorflow.keras.preprocessing.text import Tokenizer\n",
    "from tensorflow.keras.preprocessing.sequence import pad_sequences\n",
    "from unidecode import unidecode\n",
    "from imblearn.over_sampling import RandomOverSampler\n",
    "from imblearn.under_sampling import RandomUnderSampler\n",
    "\n",
    "# Bibliotecas para exibição de gráficos\n",
    "import matplotlib.pyplot as plt\n",
    "from sklearn.metrics import confusion_matrix, classification_report, accuracy_score\n",
    "import seaborn as sbn\n",
    "\n",
    "# Bibliotecas relacionadas à arquitetura da rede neural\n",
    "import tensorflow as tf\n",
    "from tensorflow import keras\n",
    "from keras.models import Sequential\n",
    "from tensorflow.keras.layers import Embedding, GlobalAveragePooling1D, Dense, Dropout, Flatten, Input\n",
    "from sklearn.model_selection import train_test_split\n",
    "from sklearn.metrics import confusion_matrix, classification_report, accuracy_score\n",
    "\n",
    "import gensim\n",
    "import fasttext\n",
    "from gensim.models import KeyedVectors"
   ]
  },
  {
   "cell_type": "code",
   "execution_count": 51,
   "id": "61313db2-9a88-48c4-a96f-8cf75f35a628",
   "metadata": {},
   "outputs": [],
   "source": [
    "# Carregando dataset pre-processado\n",
    "df = pd.read_csv('../../datasets/buscape_processed.csv')"
   ]
  },
  {
   "cell_type": "code",
   "execution_count": 52,
   "id": "52f6227d-8bd2-4ff7-b045-022293fc8259",
   "metadata": {
    "tags": []
   },
   "outputs": [],
   "source": [
    "# Criando uma instância do RandomOverSampler\n",
    "rus = RandomUnderSampler()"
   ]
  },
  {
   "cell_type": "code",
   "execution_count": 53,
   "id": "539664d6-e076-4edd-8d19-7fa8808c91a6",
   "metadata": {
    "tags": []
   },
   "outputs": [],
   "source": [
    "# Alterarando o shape dos dados para uma representação com uma única coluna\n",
    "# Os dados foram mantidos, mas agora X possui uma coluna adicional, tornando-se uma matriz bidimensional em vez de uma matriz unidimensional\n",
    "X = np.array(df['review_text'])\n",
    "X = X.reshape(-1, 1)"
   ]
  },
  {
   "cell_type": "code",
   "execution_count": 54,
   "id": "69995366-42d2-41e3-8425-39d4677f7177",
   "metadata": {
    "tags": []
   },
   "outputs": [],
   "source": [
    "y = df['rating']"
   ]
  },
  {
   "cell_type": "code",
   "execution_count": 55,
   "id": "4de15a6d-8d63-454b-a859-341ab35630dc",
   "metadata": {
    "tags": []
   },
   "outputs": [],
   "source": [
    "# Aplicando o RandomOverSampler para gerar novas amostras\n",
    "X_res, y_res = rus.fit_resample(X, y)"
   ]
  },
  {
   "cell_type": "code",
   "execution_count": 56,
   "id": "8d20a56f-c399-4702-b8a3-a489f2aab5a0",
   "metadata": {
    "tags": []
   },
   "outputs": [
    {
     "name": "stdout",
     "output_type": "stream",
     "text": [
      "rating\n",
      "0    6810\n",
      "1    6810\n",
      "Name: count, dtype: int64\n"
     ]
    }
   ],
   "source": [
    "# Verificando dataset após balanceamento\n",
    "print(pd.Series(y_res).value_counts())"
   ]
  },
  {
   "cell_type": "code",
   "execution_count": 57,
   "id": "7285bea3-c754-4613-9416-1a1a6019feb4",
   "metadata": {},
   "outputs": [
    {
     "data": {
      "text/plain": [
       "(13620, 1)"
      ]
     },
     "execution_count": 57,
     "metadata": {},
     "output_type": "execute_result"
    }
   ],
   "source": [
    "X_res.shape"
   ]
  },
  {
   "cell_type": "code",
   "execution_count": 58,
   "id": "388ebdf8-ae51-448c-ab43-c4d2834e5144",
   "metadata": {},
   "outputs": [
    {
     "data": {
      "text/plain": [
       "(13620,)"
      ]
     },
     "execution_count": 58,
     "metadata": {},
     "output_type": "execute_result"
    }
   ],
   "source": [
    "y_res.shape"
   ]
  },
  {
   "cell_type": "code",
   "execution_count": 59,
   "id": "2efc50d4-c021-433d-8429-a7e1ecfe0b73",
   "metadata": {},
   "outputs": [],
   "source": [
    "df_balanced = {\n",
    "    'review_text' : X_res.tolist(),\n",
    "    'rating' : y_res.tolist()\n",
    "}"
   ]
  },
  {
   "cell_type": "code",
   "execution_count": 60,
   "id": "1c3f001b-bdb7-4fab-a47d-003e79a3a427",
   "metadata": {},
   "outputs": [],
   "source": [
    "preprocessed_balanced_df = pd.DataFrame(df_balanced)"
   ]
  },
  {
   "cell_type": "code",
   "execution_count": 61,
   "id": "ccc64de7-df8f-4552-8fc2-c859c9e24aad",
   "metadata": {},
   "outputs": [],
   "source": [
    "preprocessed_balanced_df.to_csv('../../datasets/buscape_preprocessed_balanced.csv', index=False)"
   ]
  },
  {
   "cell_type": "code",
   "execution_count": 62,
   "id": "404fa8d0-870e-4626-826f-ecb1093fee57",
   "metadata": {},
   "outputs": [],
   "source": [
    "df_balanced = pd.read_csv('../../datasets/buscape_preprocessed_balanced.csv')"
   ]
  },
  {
   "cell_type": "code",
   "execution_count": 63,
   "id": "e6a3ff49-0abc-4ddd-bf17-ea64cd311eb0",
   "metadata": {},
   "outputs": [
    {
     "name": "stdout",
     "output_type": "stream",
     "text": [
      "rating\n",
      "0    6810\n",
      "1    6810\n",
      "Name: count, dtype: int64\n"
     ]
    }
   ],
   "source": [
    "print(pd.Series(df_balanced['rating']).value_counts())"
   ]
  },
  {
   "cell_type": "code",
   "execution_count": 64,
   "id": "f1b96812-fa92-4ddc-96d1-af0001b44e73",
   "metadata": {},
   "outputs": [],
   "source": [
    "texts = df_balanced['review_text'].tolist()\n",
    "labels = df_balanced['rating'].tolist()"
   ]
  },
  {
   "cell_type": "code",
   "execution_count": 65,
   "id": "4c1f0bff-77d3-426d-8305-7a8cb3efbdc3",
   "metadata": {},
   "outputs": [],
   "source": [
    "def clear_sentences(sentences):\n",
    "    new_list_texts = []\n",
    "    for item in sentences:\n",
    "        item_fixed = item[1:-1]  \n",
    "        new_list_texts.append(item_fixed)\n",
    "    \n",
    "    return [s[1:-1] for s in new_list_texts]"
   ]
  },
  {
   "cell_type": "code",
   "execution_count": 66,
   "id": "e836fcbe-7714-4845-b2d8-9267fbe0f18b",
   "metadata": {},
   "outputs": [],
   "source": [
    "texts = clear_sentences(texts)"
   ]
  },
  {
   "cell_type": "code",
   "execution_count": 67,
   "id": "06718f16-da91-4c23-85c5-0a8b1d8dc5e0",
   "metadata": {},
   "outputs": [],
   "source": [
    "df_preprocessed_balanced_cleared = {\n",
    "    'review_text' : texts,\n",
    "    'rating' : labels\n",
    "}"
   ]
  },
  {
   "cell_type": "code",
   "execution_count": 68,
   "id": "328b6538-bcba-4108-8372-2ee0c64c90eb",
   "metadata": {},
   "outputs": [],
   "source": [
    "df_preprocessed_balanced_cleared_dataset = pd.DataFrame(df_preprocessed_balanced_cleared)"
   ]
  },
  {
   "cell_type": "code",
   "execution_count": 69,
   "id": "13b77511-1e14-4694-8720-d5537f87c339",
   "metadata": {},
   "outputs": [],
   "source": [
    "df_preprocessed_balanced_cleared_dataset.to_csv('../../datasets/buscape_preprocessed_balanced_cleared.csv', index=False)"
   ]
  }
 ],
 "metadata": {
  "kernelspec": {
   "display_name": "Python 3 (ipykernel)",
   "language": "python",
   "name": "python3"
  },
  "language_info": {
   "codemirror_mode": {
    "name": "ipython",
    "version": 3
   },
   "file_extension": ".py",
   "mimetype": "text/x-python",
   "name": "python",
   "nbconvert_exporter": "python",
   "pygments_lexer": "ipython3",
   "version": "3.10.11"
  }
 },
 "nbformat": 4,
 "nbformat_minor": 5
}
