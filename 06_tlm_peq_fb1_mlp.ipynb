{
 "cells": [
  {
   "cell_type": "markdown",
   "id": "0eeecbd9-595c-478a-b467-0b325bf25dff",
   "metadata": {},
   "source": [
    "\n",
    "<b>INSTITUTO FEDERAL DE GOIÁS<br/>\n",
    "PÓS-GRADUAÇÃO EM INTELIGÊNCIA ARTIFICIAL APLICADA<br/></b>\n",
    "Disciplina: Processamento de Linguagem Natural  <br/>\n",
    "Professor: Daniel Xavier de Sousa <br/>\n",
    "Alunos: Wagner Silva, Cleibson, Marcos Rodrigues\n",
    "\n",
    "\n",
    "---"
   ]
  },
  {
   "cell_type": "code",
   "execution_count": 2,
   "id": "4eff3435-e01a-40ee-a853-4d9378cfc2cd",
   "metadata": {},
   "outputs": [],
   "source": [
    "import pandas as pd\n",
    "import numpy as np\n",
    "import torch\n",
    "\n",
    "from tqdm import tqdm\n",
    "\n",
    "from transformers import AutoTokenizer, AutoModel\n",
    "\n",
    "from sklearn.model_selection import cross_val_score, train_test_split\n",
    "from sklearn.model_selection import KFold\n",
    "from sklearn.metrics import accuracy_score, f1_score\n",
    "\n",
    "import tensorflow as tf\n",
    "from tensorflow.keras.models import Sequential\n",
    "from tensorflow.keras.layers import Dense, Dropout\n",
    "from tensorflow.keras.callbacks import EarlyStopping, ModelCheckpoint\n",
    "from tensorflow.keras.optimizers import Adam\n",
    "\n",
    "import matplotlib.pyplot as plt"
   ]
  },
  {
   "cell_type": "code",
   "execution_count": 3,
   "id": "498979f2-ba75-418f-aa31-882b9956d0e8",
   "metadata": {},
   "outputs": [],
   "source": [
    "DATASET = 'b2w'\n",
    "\n",
    "#Dropout: 0, 10%\n",
    "DROPOUT = 0\n",
    "\n",
    "#Learning rate: 2.5e-5, 5e-5\n",
    "LEARNING_RATE = 2.5e-5\n",
    "\n",
    "FOLDS = 10\n",
    "\n",
    "TRAIN_NUM = '01'"
   ]
  },
  {
   "cell_type": "code",
   "execution_count": 4,
   "id": "cc05eb94-185b-4ac5-a65f-92dc2337bce8",
   "metadata": {},
   "outputs": [],
   "source": [
    "tokenizer = AutoTokenizer.from_pretrained(\"xlm-roberta-base\")\n",
    "model = AutoModel.from_pretrained(\"xlm-roberta-base\")"
   ]
  },
  {
   "cell_type": "code",
   "execution_count": 5,
   "id": "67bd7419-7171-467e-9bff-0bafd968a094",
   "metadata": {},
   "outputs": [],
   "source": [
    "df = pd.read_csv(f'../datasets/{DATASET}_preprocessed.csv')"
   ]
  },
  {
   "cell_type": "code",
   "execution_count": 6,
   "id": "6b5a3d95-ae9e-4753-aac9-633b658c1c13",
   "metadata": {},
   "outputs": [
    {
     "data": {
      "text/html": [
       "<div>\n",
       "<style scoped>\n",
       "    .dataframe tbody tr th:only-of-type {\n",
       "        vertical-align: middle;\n",
       "    }\n",
       "\n",
       "    .dataframe tbody tr th {\n",
       "        vertical-align: top;\n",
       "    }\n",
       "\n",
       "    .dataframe thead th {\n",
       "        text-align: right;\n",
       "    }\n",
       "</style>\n",
       "<table border=\"1\" class=\"dataframe\">\n",
       "  <thead>\n",
       "    <tr style=\"text-align: right;\">\n",
       "      <th></th>\n",
       "      <th>review_text</th>\n",
       "      <th>rating</th>\n",
       "    </tr>\n",
       "  </thead>\n",
       "  <tbody>\n",
       "    <tr>\n",
       "      <th>0</th>\n",
       "      <td>recebi o produto antes do prazo mas veio com d...</td>\n",
       "      <td>0</td>\n",
       "    </tr>\n",
       "    <tr>\n",
       "      <th>1</th>\n",
       "      <td>nao compra este produto pois o mesmo veio com ...</td>\n",
       "      <td>0</td>\n",
       "    </tr>\n",
       "    <tr>\n",
       "      <th>2</th>\n",
       "      <td>tive azar pois o produto nao ligou tive que en...</td>\n",
       "      <td>0</td>\n",
       "    </tr>\n",
       "  </tbody>\n",
       "</table>\n",
       "</div>"
      ],
      "text/plain": [
       "                                         review_text  rating\n",
       "0  recebi o produto antes do prazo mas veio com d...       0\n",
       "1  nao compra este produto pois o mesmo veio com ...       0\n",
       "2  tive azar pois o produto nao ligou tive que en...       0"
      ]
     },
     "execution_count": 6,
     "metadata": {},
     "output_type": "execute_result"
    }
   ],
   "source": [
    "df.head(3)"
   ]
  },
  {
   "cell_type": "code",
   "execution_count": 7,
   "id": "253fd218-66f4-45b1-a5b7-68b774eea0a6",
   "metadata": {},
   "outputs": [
    {
     "name": "stdout",
     "output_type": "stream",
     "text": [
      "dataset preprocessado e balanceado: b2w -> 71516 instancias\n"
     ]
    }
   ],
   "source": [
    "print(f'dataset preprocessado e balanceado: {DATASET} -> {df.shape[0]} instancias')"
   ]
  },
  {
   "cell_type": "code",
   "execution_count": 8,
   "id": "6679171a-4b4e-43be-bd06-6207cd4c349c",
   "metadata": {},
   "outputs": [
    {
     "data": {
      "text/plain": [
       "rating\n",
       "0    35758\n",
       "1    35758\n",
       "Name: count, dtype: int64"
      ]
     },
     "execution_count": 8,
     "metadata": {},
     "output_type": "execute_result"
    }
   ],
   "source": [
    "df['rating'].value_counts()"
   ]
  },
  {
   "cell_type": "markdown",
   "id": "b2bf7d5c-71e0-44d7-98b3-a61014a8a8e2",
   "metadata": {},
   "source": [
    "#### Tentativa de treinamento com 10% do dataset"
   ]
  },
  {
   "cell_type": "code",
   "execution_count": 16,
   "id": "1929956f-49a9-4b9d-b92c-d4b80dff7e46",
   "metadata": {},
   "outputs": [],
   "source": [
    "#bach_01_text_train, bach_01_text_test, bach_01_labels_train, bach_01_labels_test = train_test_split(df['review_text'], df['rating'], train_size=0.1, random_state=42)"
   ]
  },
  {
   "cell_type": "code",
   "execution_count": 17,
   "id": "b95d2a2f-1159-4e15-81f6-7d035668ac62",
   "metadata": {},
   "outputs": [],
   "source": [
    "#print(f'{bach_01_text_train.shape[0]} para treinamento')"
   ]
  },
  {
   "cell_type": "code",
   "execution_count": 9,
   "id": "c95aaa09-8787-4a0d-99a4-f6b839d8bca3",
   "metadata": {},
   "outputs": [
    {
     "data": {
      "text/plain": [
       "rating\n",
       "0    35758\n",
       "1    35758\n",
       "Name: count, dtype: int64"
      ]
     },
     "execution_count": 9,
     "metadata": {},
     "output_type": "execute_result"
    }
   ],
   "source": [
    "df['rating'].value_counts()"
   ]
  },
  {
   "cell_type": "code",
   "execution_count": 11,
   "id": "282fb03a-25e5-40c0-9611-8c6ab5ebeff0",
   "metadata": {},
   "outputs": [],
   "source": [
    "reviews = df['review_text']\n",
    "labels = df['rating']"
   ]
  },
  {
   "cell_type": "markdown",
   "id": "8641ee11-6c0f-4d99-8063-9eb06b19c63f",
   "metadata": {},
   "source": [
    "#### Tokenização e geração dos embeddings\n",
    "- Este processo pode demorar alguns instantes para ser concluído"
   ]
  },
  {
   "cell_type": "code",
   "execution_count": null,
   "id": "583c3394-9378-4f1f-b66d-0e428398f6d1",
   "metadata": {},
   "outputs": [
    {
     "name": "stderr",
     "output_type": "stream",
     "text": [
      "Processing:  33%|███▎      | 23718/71516 [49:54<2:16:53,  5.82it/s] "
     ]
    }
   ],
   "source": [
    "embeddings = []\n",
    "for review in tqdm((reviews), desc=\"Processing\"):\n",
    "    inputs = tokenizer(str(review), return_tensors=\"pt\", padding=True, truncation=True)\n",
    "    with torch.no_grad():\n",
    "        output = model(**inputs)\n",
    "    embeddings.append(output.last_hidden_state.mean(dim=1).numpy())"
   ]
  },
  {
   "cell_type": "code",
   "execution_count": 22,
   "id": "31250cb7-be0d-43a3-8938-42bfee043378",
   "metadata": {},
   "outputs": [],
   "source": [
    "embeddings_array = np.vstack(embeddings)"
   ]
  },
  {
   "cell_type": "code",
   "execution_count": 23,
   "id": "9274f7b8-0804-436d-9341-82e702c7a1df",
   "metadata": {},
   "outputs": [
    {
     "name": "stdout",
     "output_type": "stream",
     "text": [
      "133632 embeddings de 768 dimensões\n"
     ]
    }
   ],
   "source": [
    "print(f'{embeddings_array.shape[0]} embeddings de {embeddings_array.shape[1]} dimensões')"
   ]
  },
  {
   "cell_type": "markdown",
   "id": "27fe71ea-9cbe-464e-9823-2b1772b43543",
   "metadata": {},
   "source": [
    "#### Feature based 1"
   ]
  },
  {
   "cell_type": "code",
   "execution_count": 24,
   "id": "0494221c-521c-4627-bc64-845c45d95942",
   "metadata": {},
   "outputs": [],
   "source": [
    "additional_features = np.array([[len(str(review).split())] for review in reviews])"
   ]
  },
  {
   "cell_type": "code",
   "execution_count": 25,
   "id": "7a40a583-1d1c-47e7-8275-4f28c255c491",
   "metadata": {},
   "outputs": [
    {
     "name": "stdout",
     "output_type": "stream",
     "text": [
      "(133632, 768)\n",
      "(133632, 1)\n"
     ]
    }
   ],
   "source": [
    "print(embeddings_array.shape)\n",
    "print(additional_features.shape)"
   ]
  },
  {
   "cell_type": "markdown",
   "id": "7fd2a886-b830-48bd-8893-94b0f286b0f6",
   "metadata": {},
   "source": [
    "#### Combinando embeddings_array e additional_features"
   ]
  },
  {
   "cell_type": "code",
   "execution_count": 26,
   "id": "1ad5c9cb-b4db-4d66-83ce-b0a313b47785",
   "metadata": {},
   "outputs": [],
   "source": [
    "combined_features = np.hstack((embeddings_array, additional_features))"
   ]
  },
  {
   "cell_type": "markdown",
   "id": "db03c447-ae9d-4b9d-90ae-c5826ef4d631",
   "metadata": {},
   "source": [
    "#### Dividindo dataset treino e teste"
   ]
  },
  {
   "cell_type": "code",
   "execution_count": 27,
   "id": "3f5fce34-b5ec-47c1-9c85-1790d41a14cf",
   "metadata": {},
   "outputs": [],
   "source": [
    "X_train, X_test, y_train, y_test = train_test_split(combined_features, labels, test_size=0.2, random_state=42)"
   ]
  },
  {
   "cell_type": "code",
   "execution_count": 28,
   "id": "c68f6ca6-df7b-4e13-a917-fcac77fe3a0a",
   "metadata": {},
   "outputs": [],
   "source": [
    "X_train_tensor = tf.convert_to_tensor(X_train, dtype=tf.float32)\n",
    "y_train_tensor = tf.convert_to_tensor(y_train, dtype=tf.float32)"
   ]
  },
  {
   "cell_type": "code",
   "execution_count": 29,
   "id": "a741c373-5fe8-43e1-bef7-3ca777f4f8c7",
   "metadata": {},
   "outputs": [],
   "source": [
    "X_test_tensor = tf.convert_to_tensor(X_test, dtype=tf.float32)\n",
    "y_test_tensor = tf.convert_to_tensor(y_test, dtype=tf.float32)"
   ]
  },
  {
   "cell_type": "markdown",
   "id": "fd918c3b-2483-4ae0-8add-993249735289",
   "metadata": {},
   "source": [
    "#### Arquitetura rede neural MLP"
   ]
  },
  {
   "cell_type": "code",
   "execution_count": 76,
   "id": "844193f9-f989-4aa6-bb3a-599ee915ec04",
   "metadata": {},
   "outputs": [
    {
     "name": "stdout",
     "output_type": "stream",
     "text": [
      "Model: \"sequential_4\"\n",
      "_________________________________________________________________\n",
      " Layer (type)                Output Shape              Param #   \n",
      "=================================================================\n",
      " dense_8 (Dense)             (None, 24)                18480     \n",
      "                                                                 \n",
      " dropout_4 (Dropout)         (None, 24)                0         \n",
      "                                                                 \n",
      " dense_9 (Dense)             (None, 1)                 25        \n",
      "                                                                 \n",
      "=================================================================\n",
      "Total params: 18,505\n",
      "Trainable params: 18,505\n",
      "Non-trainable params: 0\n",
      "_________________________________________________________________\n"
     ]
    }
   ],
   "source": [
    "model = Sequential([\n",
    "    Dense(24, activation='relu', input_dim=X_train_tensor.shape[1]),\n",
    "    Dropout(DROPOUT),\n",
    "    Dense(1, activation='sigmoid')\n",
    "])\n",
    "model.summary()"
   ]
  },
  {
   "cell_type": "code",
   "execution_count": 77,
   "id": "dd5bf94b-527c-4ccd-ae79-64da1843f3c1",
   "metadata": {},
   "outputs": [],
   "source": [
    "model.compile(optimizer=Adam(learning_rate=LEARNING_RATE), loss='binary_crossentropy', metrics=['accuracy'])"
   ]
  },
  {
   "cell_type": "code",
   "execution_count": 78,
   "id": "57b1ffe0-142d-4098-acdb-55c5c3ba376d",
   "metadata": {},
   "outputs": [],
   "source": [
    "CHECKPOINT=ModelCheckpoint(filepath='../weights/tlm_peq_fb1_weights.hdf5', verbose=0, save_best_only=True)\n",
    "EARLY_STOP = EarlyStopping(monitor='val_loss', patience=3)\n",
    "CALLBACKS = [CHECKPOINT, EARLY_STOP]"
   ]
  },
  {
   "cell_type": "markdown",
   "id": "e428006c-fa10-4fa9-bd30-0dfed115ac7a",
   "metadata": {},
   "source": [
    "#### Cross-validation"
   ]
  },
  {
   "cell_type": "code",
   "execution_count": 79,
   "id": "08e203b7-d30e-4d36-a824-4965e5a13299",
   "metadata": {},
   "outputs": [],
   "source": [
    "kf = KFold(n_splits=FOLDS, shuffle=True, random_state=42)"
   ]
  },
  {
   "cell_type": "markdown",
   "id": "f8960145-c7cd-4ee0-bc67-3e85cdca9292",
   "metadata": {},
   "source": [
    "#### Treinamento do modelo"
   ]
  },
  {
   "cell_type": "code",
   "execution_count": 80,
   "id": "b911ef20-f3f2-4033-99ef-99451a97abc2",
   "metadata": {},
   "outputs": [
    {
     "name": "stdout",
     "output_type": "stream",
     "text": [
      "fold = 1\n",
      "3759/3759 [==============================] - 3s 721us/step\n",
      "418/418 [==============================] - 0s 737us/step\n",
      "fold = 2\n",
      "3759/3759 [==============================] - 3s 745us/step\n",
      "418/418 [==============================] - 0s 719us/step\n",
      "fold = 3\n",
      "3759/3759 [==============================] - 3s 736us/step\n",
      "418/418 [==============================] - 0s 733us/step\n",
      "fold = 4\n",
      "3759/3759 [==============================] - 3s 733us/step\n",
      "418/418 [==============================] - 0s 744us/step\n",
      "fold = 5\n",
      "3759/3759 [==============================] - 3s 726us/step\n",
      "418/418 [==============================] - 0s 734us/step\n",
      "fold = 6\n",
      "3759/3759 [==============================] - 3s 737us/step\n",
      "418/418 [==============================] - 0s 735us/step\n",
      "fold = 7\n",
      "3759/3759 [==============================] - 3s 730us/step\n",
      "418/418 [==============================] - 0s 733us/step\n",
      "fold = 8\n",
      "3759/3759 [==============================] - 3s 756us/step\n",
      "418/418 [==============================] - 0s 782us/step\n",
      "fold = 9\n",
      "3759/3759 [==============================] - 3s 727us/step\n",
      "418/418 [==============================] - 0s 771us/step\n",
      "fold = 10\n",
      "3759/3759 [==============================] - 3s 764us/step\n",
      "418/418 [==============================] - 0s 830us/step\n"
     ]
    }
   ],
   "source": [
    "fold = 0\n",
    "\n",
    "fold_train_accuracies = []\n",
    "fold_train_f1_scores = []\n",
    "\n",
    "fold_accuracies = []\n",
    "fold_f1_scores = []\n",
    "\n",
    "train_loss_history = []\n",
    "train_accuracy_history = []\n",
    "for train_indices, val_indices in kf.split(combined_features):\n",
    "    fold+=1\n",
    "    print(f'fold = {fold}')\n",
    "    X_train_fold = combined_features[train_indices]\n",
    "    y_train_fold = np.array(labels)[train_indices]\n",
    "    \n",
    "    X_val_fold = combined_features[val_indices]\n",
    "    y_val_fold = np.array(labels)[val_indices]\n",
    "    \n",
    "    X_train_fold_tensor = tf.convert_to_tensor(X_train_fold, dtype=tf.float32)\n",
    "    y_train_fold_tensor = tf.convert_to_tensor(y_train_fold, dtype=tf.float32)\n",
    "    \n",
    "    X_val_fold_tensor = tf.convert_to_tensor(X_val_fold, dtype=tf.float32)\n",
    "    y_val_fold_tensor = tf.convert_to_tensor(y_val_fold, dtype=tf.float32)\n",
    "        \n",
    "    model_history = model.fit(\n",
    "        X_train_fold_tensor, \n",
    "        y_train_fold_tensor, \n",
    "        epochs=10, \n",
    "        batch_size=32, \n",
    "        verbose=0,\n",
    "        validation_data=(X_val_fold_tensor, y_val_fold_tensor),\n",
    "        callbacks=CALLBACKS\n",
    "    )\n",
    "    \n",
    "    # train accuracy each fold\n",
    "    fold_train_accuracies.append(model_history.history['accuracy'])\n",
    "    \n",
    "    # train f1 score each fold\n",
    "    y_pred_train = model.predict(X_train_fold_tensor)\n",
    "    y_pred_train_binary = np.round(y_pred_train)\n",
    "    fold_train_f1_scores.append(f1_score(y_train_fold_tensor, y_pred_train_binary))\n",
    "    \n",
    "    # -----------------------------------------------------------------------------\n",
    "    \n",
    "    y_pred_val = model.predict(X_val_fold_tensor)\n",
    "    y_pred_val_binary = np.round(y_pred_val)\n",
    "    \n",
    "    fold_accuracy = accuracy_score(y_val_fold, y_pred_val_binary)\n",
    "    fold_accuracies.append(fold_accuracy)\n",
    "    \n",
    "    fold_f1_score = f1_score(y_val_fold, y_pred_val_binary)\n",
    "    fold_f1_scores.append(fold_f1_score)\n",
    "    \n",
    "    train_loss_history.append(model_history.history['loss'])\n",
    "    train_accuracy_history.append(model_history.history['accuracy'])"
   ]
  },
  {
   "cell_type": "code",
   "execution_count": 81,
   "id": "8b556920-0007-45da-bafe-be3b3996a5f5",
   "metadata": {},
   "outputs": [
    {
     "name": "stdout",
     "output_type": "stream",
     "text": [
      "Media Accuracy Treino: 0.8579\n",
      "Media f1 score Treino: 0.8717\n",
      "--------------------------------------------------------------------------------\n",
      "Media Accuracy Validacao: 0.8660354019325857\n",
      "Media f1 score Validacao 0.8715359675687102\n"
     ]
    }
   ],
   "source": [
    "train_accuracy_mean_value = round(np.mean([np.mean(train_ac) for train_ac in fold_train_accuracies]),4)\n",
    "train_f1_mean_value = round(np.mean([np.mean(train_f1) for train_f1 in fold_train_f1_scores]),4)\n",
    "print(f\"Media Accuracy Treino: {train_accuracy_mean_value}\")\n",
    "print(f\"Media f1 score Treino: {train_f1_mean_value}\")\n",
    "print('-'*80)\n",
    "print(\"Media Accuracy Validacao:\", np.mean(fold_accuracies))\n",
    "print(\"Media f1 score Validacao\", np.mean(fold_f1_scores))"
   ]
  },
  {
   "cell_type": "code",
   "execution_count": 115,
   "id": "413e28f6-c7eb-4cd8-a713-060aef333cf7",
   "metadata": {},
   "outputs": [
    {
     "name": "stdout",
     "output_type": "stream",
     "text": [
      "45/45 [==============================] - 0s 1ms/step - loss: 0.1413 - accuracy: 0.9518\n"
     ]
    }
   ],
   "source": [
    "test_loss, test_accuracy = model.evaluate(X_test_tensor, y_test_tensor)"
   ]
  },
  {
   "cell_type": "code",
   "execution_count": 82,
   "id": "5414d3ec-9328-465e-b4da-84f2dc02b492",
   "metadata": {},
   "outputs": [
    {
     "data": {
      "image/png": "[encoded data removed]",
      "text/plain": [
       "<Figure size 1000x600 with 1 Axes>"
      ]
     },
     "metadata": {},
     "output_type": "display_data"
    },
    {
     "data": {
      "image/png": "[encoded data removed]",
      "text/plain": [
       "<Figure size 1000x600 with 1 Axes>"
      ]
     },
     "metadata": {},
     "output_type": "display_data"
    }
   ],
   "source": [
    "plt.figure(figsize=(10, 6))\n",
    "for fold_num, fold_loss in enumerate(train_loss_history):\n",
    "    plt.plot(fold_loss, label=f'Fold {fold_num+1}')\n",
    "plt.xlabel('Epoch')\n",
    "plt.ylabel('Training Loss')\n",
    "plt.title('Training Loss per Epoch for Each Fold')\n",
    "plt.legend()\n",
    "plt.savefig(f'./graphs/tlm_peq_fb1_mlp_loss_train_01.png')\n",
    "plt.show()\n",
    "\n",
    "plt.figure(figsize=(10, 6))\n",
    "for fold_num, fold_accuracy in enumerate(train_accuracy_history):\n",
    "    plt.plot(fold_accuracy, label=f'Fold {fold_num+1}')\n",
    "plt.xlabel('Epoch')\n",
    "plt.ylabel('Training Accuracy')\n",
    "plt.title('Training Accuracy per Epoch for Each Fold')\n",
    "plt.legend()\n",
    "plt.savefig(f'./graphs/tlm_peq_fb1_mlp_accuracy_train_01.png')\n",
    "plt.show()"
   ]
  }
 ],
 "metadata": {
  "kernelspec": {
   "display_name": "Python 3 (ipykernel)",
   "language": "python",
   "name": "python3"
  },
  "language_info": {
   "codemirror_mode": {
    "name": "ipython",
    "version": 3
   },
   "file_extension": ".py",
   "mimetype": "text/x-python",
   "name": "python",
   "nbconvert_exporter": "python",
   "pygments_lexer": "ipython3",
   "version": "3.10.11"
  }
 },
 "nbformat": 4,
 "nbformat_minor": 5
}
