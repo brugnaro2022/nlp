{
 "cells": [
  {
   "cell_type": "markdown",
   "id": "0eeecbd9-595c-478a-b467-0b325bf25dff",
   "metadata": {},
   "source": [
    "\n",
    "<b>INSTITUTO FEDERAL DE GOIÁS<br/>\n",
    "PÓS-GRADUAÇÃO EM INTELIGÊNCIA ARTIFICIAL APLICADA<br/></b>\n",
    "Disciplina: Processamento de Linguagem Natural  <br/>\n",
    "Professor: Daniel Xavier de Sousa <br/>\n",
    "Alunos: Wagner Silva, Cleibson, Marcos Rodrigues\n",
    "\n",
    "\n",
    "---"
   ]
  },
  {
   "cell_type": "code",
   "execution_count": 85,
   "id": "4eff3435-e01a-40ee-a853-4d9378cfc2cd",
   "metadata": {},
   "outputs": [],
   "source": [
    "import pandas as pd\n",
    "import numpy as np\n",
    "import torch\n",
    "\n",
    "from transformers import AutoTokenizer, AutoModel\n",
    "\n",
    "from sklearn.model_selection import cross_val_score, train_test_split\n",
    "from sklearn.model_selection import KFold\n",
    "from sklearn.metrics import accuracy_score, f1_score\n",
    "\n",
    "import tensorflow as tf\n",
    "from tensorflow.keras.models import Sequential\n",
    "from tensorflow.keras.layers import Dense, Dropout\n",
    "from tensorflow.keras.callbacks import EarlyStopping, ModelCheckpoint\n",
    "from tensorflow.keras.optimizers import Adam\n",
    "\n",
    "import matplotlib.pyplot as plt"
   ]
  },
  {
   "cell_type": "code",
   "execution_count": 54,
   "id": "498979f2-ba75-418f-aa31-882b9956d0e8",
   "metadata": {},
   "outputs": [],
   "source": [
    "DATASET = 'b2w'\n",
    "\n",
    "#Dropout: 5%, 15%, 25%, 35%, and 50%\n",
    "DROPOUT = 0.05\n",
    "\n",
    "#Learning rate: 5e-4, 1e-3, 5e-3, 1e-2\n",
    "LEARNING_RATE = 5e-4\n",
    "\n",
    "FOLDS = 10"
   ]
  },
  {
   "cell_type": "code",
   "execution_count": 21,
   "id": "cc05eb94-185b-4ac5-a65f-92dc2337bce8",
   "metadata": {},
   "outputs": [],
   "source": [
    "tokenizer = AutoTokenizer.from_pretrained(\"xlm-roberta-base\")\n",
    "model = AutoModel.from_pretrained(\"xlm-roberta-base\")"
   ]
  },
  {
   "cell_type": "code",
   "execution_count": 55,
   "id": "67bd7419-7171-467e-9bff-0bafd968a094",
   "metadata": {},
   "outputs": [],
   "source": [
    "df = pd.read_csv(f'../datasets/{DATASET}_preprocessed.csv')"
   ]
  },
  {
   "cell_type": "code",
   "execution_count": 56,
   "id": "6b5a3d95-ae9e-4753-aac9-633b658c1c13",
   "metadata": {},
   "outputs": [
    {
     "data": {
      "text/html": [
       "<div>\n",
       "<style scoped>\n",
       "    .dataframe tbody tr th:only-of-type {\n",
       "        vertical-align: middle;\n",
       "    }\n",
       "\n",
       "    .dataframe tbody tr th {\n",
       "        vertical-align: top;\n",
       "    }\n",
       "\n",
       "    .dataframe thead th {\n",
       "        text-align: right;\n",
       "    }\n",
       "</style>\n",
       "<table border=\"1\" class=\"dataframe\">\n",
       "  <thead>\n",
       "    <tr style=\"text-align: right;\">\n",
       "      <th></th>\n",
       "      <th>review_text</th>\n",
       "      <th>rating</th>\n",
       "    </tr>\n",
       "  </thead>\n",
       "  <tbody>\n",
       "    <tr>\n",
       "      <th>0</th>\n",
       "      <td>recebi o produto antes do prazo mas veio com d...</td>\n",
       "      <td>0</td>\n",
       "    </tr>\n",
       "    <tr>\n",
       "      <th>1</th>\n",
       "      <td>nao compra este produto pois o mesmo veio com ...</td>\n",
       "      <td>0</td>\n",
       "    </tr>\n",
       "    <tr>\n",
       "      <th>2</th>\n",
       "      <td>tive azar pois o produto nao ligou tive que en...</td>\n",
       "      <td>0</td>\n",
       "    </tr>\n",
       "  </tbody>\n",
       "</table>\n",
       "</div>"
      ],
      "text/plain": [
       "                                         review_text  rating\n",
       "0  recebi o produto antes do prazo mas veio com d...       0\n",
       "1  nao compra este produto pois o mesmo veio com ...       0\n",
       "2  tive azar pois o produto nao ligou tive que en...       0"
      ]
     },
     "execution_count": 56,
     "metadata": {},
     "output_type": "execute_result"
    }
   ],
   "source": [
    "df.head(3)"
   ]
  },
  {
   "cell_type": "code",
   "execution_count": 60,
   "id": "253fd218-66f4-45b1-a5b7-68b774eea0a6",
   "metadata": {},
   "outputs": [
    {
     "name": "stdout",
     "output_type": "stream",
     "text": [
      "dataset preprocessado e balanceado: b2w -> 71516 instancias\n"
     ]
    }
   ],
   "source": [
    "print(f'dataset preprocessado e balanceado: {DATASET} -> {df.shape[0]} instancias')"
   ]
  },
  {
   "cell_type": "code",
   "execution_count": 61,
   "id": "6679171a-4b4e-43be-bd06-6207cd4c349c",
   "metadata": {},
   "outputs": [
    {
     "data": {
      "text/plain": [
       "rating\n",
       "0    35758\n",
       "1    35758\n",
       "Name: count, dtype: int64"
      ]
     },
     "execution_count": 61,
     "metadata": {},
     "output_type": "execute_result"
    }
   ],
   "source": [
    "df['rating'].value_counts()"
   ]
  },
  {
   "cell_type": "markdown",
   "id": "b2bf7d5c-71e0-44d7-98b3-a61014a8a8e2",
   "metadata": {},
   "source": [
    "#### Tentativa de treinamento com 10% do dataset"
   ]
  },
  {
   "cell_type": "code",
   "execution_count": 68,
   "id": "1929956f-49a9-4b9d-b92c-d4b80dff7e46",
   "metadata": {},
   "outputs": [],
   "source": [
    "bach_01_text_train, bach_01_text_test, bach_01_labels_train, bach_01_labels_test = train_test_split(df['review_text'], df['rating'], train_size=0.1, random_state=42)"
   ]
  },
  {
   "cell_type": "code",
   "execution_count": 69,
   "id": "b95d2a2f-1159-4e15-81f6-7d035668ac62",
   "metadata": {},
   "outputs": [
    {
     "name": "stdout",
     "output_type": "stream",
     "text": [
      "7151 para treinamento\n"
     ]
    }
   ],
   "source": [
    "print(f'{bach_01_text_train.shape[0]} para treinamento')"
   ]
  },
  {
   "cell_type": "code",
   "execution_count": 70,
   "id": "c95aaa09-8787-4a0d-99a4-f6b839d8bca3",
   "metadata": {},
   "outputs": [
    {
     "data": {
      "text/plain": [
       "rating\n",
       "0    3664\n",
       "1    3487\n",
       "Name: count, dtype: int64"
      ]
     },
     "execution_count": 70,
     "metadata": {},
     "output_type": "execute_result"
    }
   ],
   "source": [
    "bach_01_labels_train.value_counts()"
   ]
  },
  {
   "cell_type": "code",
   "execution_count": 71,
   "id": "282fb03a-25e5-40c0-9611-8c6ab5ebeff0",
   "metadata": {},
   "outputs": [],
   "source": [
    "reviews = bach_01_text_train\n",
    "labels = bach_01_labels_train"
   ]
  },
  {
   "cell_type": "markdown",
   "id": "8641ee11-6c0f-4d99-8063-9eb06b19c63f",
   "metadata": {},
   "source": [
    "#### Tokenização e geração dos embeddings\n",
    "- Este processo pode demorar alguns instantes para ser concluído"
   ]
  },
  {
   "cell_type": "code",
   "execution_count": 73,
   "id": "583c3394-9378-4f1f-b66d-0e428398f6d1",
   "metadata": {},
   "outputs": [],
   "source": [
    "embeddings = []\n",
    "for review in reviews:\n",
    "    inputs = tokenizer(str(review), return_tensors=\"pt\", padding=True, truncation=True)\n",
    "    with torch.no_grad():\n",
    "        output = model(**inputs)\n",
    "    embeddings.append(output.last_hidden_state.mean(dim=1).numpy())"
   ]
  },
  {
   "cell_type": "code",
   "execution_count": 102,
   "id": "31250cb7-be0d-43a3-8938-42bfee043378",
   "metadata": {},
   "outputs": [],
   "source": [
    "embeddings_array = np.vstack(embeddings)"
   ]
  },
  {
   "cell_type": "code",
   "execution_count": 103,
   "id": "9274f7b8-0804-436d-9341-82e702c7a1df",
   "metadata": {},
   "outputs": [
    {
     "name": "stdout",
     "output_type": "stream",
     "text": [
      "7151 embeddings de 768 dimensões\n"
     ]
    }
   ],
   "source": [
    "print(f'{embeddings_array.shape[0]} embeddings de {embeddings_array.shape[1]} dimensões')"
   ]
  },
  {
   "cell_type": "markdown",
   "id": "27fe71ea-9cbe-464e-9823-2b1772b43543",
   "metadata": {},
   "source": [
    "#### Feature based 1"
   ]
  },
  {
   "cell_type": "code",
   "execution_count": 104,
   "id": "0494221c-521c-4627-bc64-845c45d95942",
   "metadata": {},
   "outputs": [],
   "source": [
    "additional_features = np.array([[len(str(review).split())] for review in reviews])"
   ]
  },
  {
   "cell_type": "code",
   "execution_count": 105,
   "id": "7a40a583-1d1c-47e7-8275-4f28c255c491",
   "metadata": {},
   "outputs": [
    {
     "name": "stdout",
     "output_type": "stream",
     "text": [
      "(7151, 768)\n",
      "(7151, 1)\n"
     ]
    }
   ],
   "source": [
    "print(embeddings_array.shape)\n",
    "print(additional_features.shape)"
   ]
  },
  {
   "cell_type": "markdown",
   "id": "7fd2a886-b830-48bd-8893-94b0f286b0f6",
   "metadata": {},
   "source": [
    "#### Combinando embeddings_array e additional_features"
   ]
  },
  {
   "cell_type": "code",
   "execution_count": 106,
   "id": "1ad5c9cb-b4db-4d66-83ce-b0a313b47785",
   "metadata": {},
   "outputs": [],
   "source": [
    "combined_features = np.hstack((embeddings_array, additional_features))"
   ]
  },
  {
   "cell_type": "markdown",
   "id": "db03c447-ae9d-4b9d-90ae-c5826ef4d631",
   "metadata": {},
   "source": [
    "#### Dividindo dataset treino e teste"
   ]
  },
  {
   "cell_type": "code",
   "execution_count": 107,
   "id": "3f5fce34-b5ec-47c1-9c85-1790d41a14cf",
   "metadata": {},
   "outputs": [],
   "source": [
    "X_train, X_test, y_train, y_test = train_test_split(combined_features, labels, test_size=0.2, random_state=42)"
   ]
  },
  {
   "cell_type": "code",
   "execution_count": 108,
   "id": "c68f6ca6-df7b-4e13-a917-fcac77fe3a0a",
   "metadata": {},
   "outputs": [],
   "source": [
    "X_train_tensor = tf.convert_to_tensor(X_train, dtype=tf.float32)\n",
    "y_train_tensor = tf.convert_to_tensor(y_train, dtype=tf.float32)"
   ]
  },
  {
   "cell_type": "code",
   "execution_count": 109,
   "id": "a741c373-5fe8-43e1-bef7-3ca777f4f8c7",
   "metadata": {},
   "outputs": [],
   "source": [
    "X_test_tensor = tf.convert_to_tensor(X_test, dtype=tf.float32)\n",
    "y_test_tensor = tf.convert_to_tensor(y_test, dtype=tf.float32)"
   ]
  },
  {
   "cell_type": "markdown",
   "id": "fd918c3b-2483-4ae0-8add-993249735289",
   "metadata": {},
   "source": [
    "#### Arquitetura rede neural MLP"
   ]
  },
  {
   "cell_type": "code",
   "execution_count": 110,
   "id": "844193f9-f989-4aa6-bb3a-599ee915ec04",
   "metadata": {},
   "outputs": [
    {
     "name": "stdout",
     "output_type": "stream",
     "text": [
      "Model: \"sequential_1\"\n",
      "_________________________________________________________________\n",
      " Layer (type)                Output Shape              Param #   \n",
      "=================================================================\n",
      " dense_2 (Dense)             (None, 24)                18480     \n",
      "                                                                 \n",
      " dropout_1 (Dropout)         (None, 24)                0         \n",
      "                                                                 \n",
      " dense_3 (Dense)             (None, 1)                 25        \n",
      "                                                                 \n",
      "=================================================================\n",
      "Total params: 18,505\n",
      "Trainable params: 18,505\n",
      "Non-trainable params: 0\n",
      "_________________________________________________________________\n"
     ]
    }
   ],
   "source": [
    "model = Sequential([\n",
    "    Dense(24, activation='relu', input_dim=X_train_tensor.shape[1]),\n",
    "    Dropout(DROPOUT),\n",
    "    Dense(1, activation='sigmoid')\n",
    "])\n",
    "model.summary()"
   ]
  },
  {
   "cell_type": "code",
   "execution_count": 111,
   "id": "dd5bf94b-527c-4ccd-ae79-64da1843f3c1",
   "metadata": {},
   "outputs": [],
   "source": [
    "model.compile(optimizer=Adam(learning_rate=LEARNING_RATE), loss='binary_crossentropy', metrics=['accuracy'])"
   ]
  },
  {
   "cell_type": "code",
   "execution_count": 112,
   "id": "57b1ffe0-142d-4098-acdb-55c5c3ba376d",
   "metadata": {},
   "outputs": [],
   "source": [
    "CHECKPOINT=ModelCheckpoint(filepath='../weights/tlm_peq_fb1_weights.hdf5', verbose=1, save_best_only=True)\n",
    "EARLY_STOP = EarlyStopping(monitor='val_loss', patience=3)\n",
    "CALLBACKS = [CHECKPOINT, EARLY_STOP]"
   ]
  },
  {
   "cell_type": "markdown",
   "id": "e428006c-fa10-4fa9-bd30-0dfed115ac7a",
   "metadata": {},
   "source": [
    "#### Cross-validation"
   ]
  },
  {
   "cell_type": "code",
   "execution_count": 113,
   "id": "08e203b7-d30e-4d36-a824-4965e5a13299",
   "metadata": {},
   "outputs": [],
   "source": [
    "kf = KFold(n_splits=FOLDS, shuffle=True, random_state=42)"
   ]
  },
  {
   "cell_type": "markdown",
   "id": "f8960145-c7cd-4ee0-bc67-3e85cdca9292",
   "metadata": {},
   "source": [
    "#### Treinamento do modelo"
   ]
  },
  {
   "cell_type": "code",
   "execution_count": 114,
   "id": "b911ef20-f3f2-4033-99ef-99451a97abc2",
   "metadata": {},
   "outputs": [
    {
     "name": "stdout",
     "output_type": "stream",
     "text": [
      "fold = 1\n",
      "Epoch 1/10\n",
      "188/202 [==========================>...] - ETA: 0s - loss: 0.6047 - accuracy: 0.6970\n",
      "Epoch 1: val_loss improved from inf to 0.49253, saving model to ../weights/tlm_peq_fb1_weights.hdf5\n",
      "202/202 [==============================] - 1s 2ms/step - loss: 0.5979 - accuracy: 0.7021 - val_loss: 0.4925 - val_accuracy: 0.7919\n",
      "Epoch 2/10\n",
      "197/202 [============================>.] - ETA: 0s - loss: 0.4338 - accuracy: 0.8295\n",
      "Epoch 2: val_loss improved from 0.49253 to 0.38258, saving model to ../weights/tlm_peq_fb1_weights.hdf5\n",
      "202/202 [==============================] - 0s 2ms/step - loss: 0.4333 - accuracy: 0.8305 - val_loss: 0.3826 - val_accuracy: 0.8478\n",
      "Epoch 3/10\n",
      "171/202 [========================>.....] - ETA: 0s - loss: 0.3513 - accuracy: 0.8651\n",
      "Epoch 3: val_loss improved from 0.38258 to 0.31012, saving model to ../weights/tlm_peq_fb1_weights.hdf5\n",
      "202/202 [==============================] - 0s 2ms/step - loss: 0.3442 - accuracy: 0.8690 - val_loss: 0.3101 - val_accuracy: 0.8869\n",
      "Epoch 4/10\n",
      "180/202 [=========================>....] - ETA: 0s - loss: 0.2971 - accuracy: 0.8877\n",
      "Epoch 4: val_loss improved from 0.31012 to 0.27609, saving model to ../weights/tlm_peq_fb1_weights.hdf5\n",
      "202/202 [==============================] - 0s 2ms/step - loss: 0.2946 - accuracy: 0.8887 - val_loss: 0.2761 - val_accuracy: 0.8980\n",
      "Epoch 5/10\n",
      "180/202 [=========================>....] - ETA: 0s - loss: 0.2629 - accuracy: 0.8997\n",
      "Epoch 5: val_loss improved from 0.27609 to 0.25306, saving model to ../weights/tlm_peq_fb1_weights.hdf5\n",
      "202/202 [==============================] - 0s 2ms/step - loss: 0.2651 - accuracy: 0.8985 - val_loss: 0.2531 - val_accuracy: 0.9050\n",
      "Epoch 6/10\n",
      "180/202 [=========================>....] - ETA: 0s - loss: 0.2464 - accuracy: 0.9076\n",
      "Epoch 6: val_loss improved from 0.25306 to 0.23666, saving model to ../weights/tlm_peq_fb1_weights.hdf5\n",
      "202/202 [==============================] - 0s 2ms/step - loss: 0.2459 - accuracy: 0.9086 - val_loss: 0.2367 - val_accuracy: 0.9148\n",
      "Epoch 7/10\n",
      "189/202 [===========================>..] - ETA: 0s - loss: 0.2334 - accuracy: 0.9129\n",
      "Epoch 7: val_loss improved from 0.23666 to 0.22561, saving model to ../weights/tlm_peq_fb1_weights.hdf5\n",
      "202/202 [==============================] - 0s 2ms/step - loss: 0.2331 - accuracy: 0.9127 - val_loss: 0.2256 - val_accuracy: 0.9232\n",
      "Epoch 8/10\n",
      "186/202 [==========================>...] - ETA: 0s - loss: 0.2207 - accuracy: 0.9172\n",
      "Epoch 8: val_loss improved from 0.22561 to 0.21885, saving model to ../weights/tlm_peq_fb1_weights.hdf5\n",
      "202/202 [==============================] - 0s 2ms/step - loss: 0.2216 - accuracy: 0.9170 - val_loss: 0.2188 - val_accuracy: 0.9274\n",
      "Epoch 9/10\n",
      "174/202 [========================>.....] - ETA: 0s - loss: 0.2160 - accuracy: 0.9156\n",
      "Epoch 9: val_loss improved from 0.21885 to 0.21773, saving model to ../weights/tlm_peq_fb1_weights.hdf5\n",
      "202/202 [==============================] - 0s 2ms/step - loss: 0.2157 - accuracy: 0.9172 - val_loss: 0.2177 - val_accuracy: 0.9260\n",
      "Epoch 10/10\n",
      "171/202 [========================>.....] - ETA: 0s - loss: 0.2105 - accuracy: 0.9211\n",
      "Epoch 10: val_loss improved from 0.21773 to 0.21042, saving model to ../weights/tlm_peq_fb1_weights.hdf5\n",
      "202/202 [==============================] - 0s 2ms/step - loss: 0.2087 - accuracy: 0.9214 - val_loss: 0.2104 - val_accuracy: 0.9288\n",
      "23/23 [==============================] - 0s 915us/step\n",
      "fold = 2\n",
      "Epoch 1/10\n",
      "170/202 [========================>.....] - ETA: 0s - loss: 0.2053 - accuracy: 0.9221\n",
      "Epoch 1: val_loss improved from 0.21042 to 0.18689, saving model to ../weights/tlm_peq_fb1_weights.hdf5\n",
      "202/202 [==============================] - 0s 2ms/step - loss: 0.2053 - accuracy: 0.9228 - val_loss: 0.1869 - val_accuracy: 0.9315\n",
      "Epoch 2/10\n",
      "192/202 [===========================>..] - ETA: 0s - loss: 0.2039 - accuracy: 0.9237\n",
      "Epoch 2: val_loss improved from 0.18689 to 0.18612, saving model to ../weights/tlm_peq_fb1_weights.hdf5\n",
      "202/202 [==============================] - 0s 2ms/step - loss: 0.2033 - accuracy: 0.9236 - val_loss: 0.1861 - val_accuracy: 0.9371\n",
      "Epoch 3/10\n",
      "201/202 [============================>.] - ETA: 0s - loss: 0.1984 - accuracy: 0.9243\n",
      "Epoch 3: val_loss did not improve from 0.18612\n",
      "202/202 [==============================] - 0s 2ms/step - loss: 0.1983 - accuracy: 0.9243 - val_loss: 0.1884 - val_accuracy: 0.9245\n",
      "Epoch 4/10\n",
      "177/202 [=========================>....] - ETA: 0s - loss: 0.1937 - accuracy: 0.9285\n",
      "Epoch 4: val_loss did not improve from 0.18612\n",
      "202/202 [==============================] - 0s 2ms/step - loss: 0.1934 - accuracy: 0.9284 - val_loss: 0.1865 - val_accuracy: 0.9301\n",
      "Epoch 5/10\n",
      "170/202 [========================>.....] - ETA: 0s - loss: 0.1908 - accuracy: 0.9281\n",
      "Epoch 5: val_loss did not improve from 0.18612\n",
      "202/202 [==============================] - 0s 2ms/step - loss: 0.1904 - accuracy: 0.9284 - val_loss: 0.1936 - val_accuracy: 0.9203\n",
      "23/23 [==============================] - 0s 1ms/step\n",
      "fold = 3\n",
      "Epoch 1/10\n",
      "181/202 [=========================>....] - ETA: 0s - loss: 0.1863 - accuracy: 0.9318\n",
      "Epoch 1: val_loss improved from 0.18612 to 0.17957, saving model to ../weights/tlm_peq_fb1_weights.hdf5\n",
      "202/202 [==============================] - 0s 2ms/step - loss: 0.1906 - accuracy: 0.9301 - val_loss: 0.1796 - val_accuracy: 0.9413\n",
      "Epoch 2/10\n",
      "178/202 [=========================>....] - ETA: 0s - loss: 0.1841 - accuracy: 0.9287\n",
      "Epoch 2: val_loss improved from 0.17957 to 0.17871, saving model to ../weights/tlm_peq_fb1_weights.hdf5\n",
      "202/202 [==============================] - 0s 2ms/step - loss: 0.1858 - accuracy: 0.9278 - val_loss: 0.1787 - val_accuracy: 0.9427\n",
      "Epoch 3/10\n",
      "180/202 [=========================>....] - ETA: 0s - loss: 0.1883 - accuracy: 0.9288\n",
      "Epoch 3: val_loss improved from 0.17871 to 0.17538, saving model to ../weights/tlm_peq_fb1_weights.hdf5\n",
      "202/202 [==============================] - 0s 2ms/step - loss: 0.1881 - accuracy: 0.9293 - val_loss: 0.1754 - val_accuracy: 0.9385\n",
      "Epoch 4/10\n",
      "198/202 [============================>.] - ETA: 0s - loss: 0.1822 - accuracy: 0.9310\n",
      "Epoch 4: val_loss did not improve from 0.17538\n",
      "202/202 [==============================] - 0s 2ms/step - loss: 0.1821 - accuracy: 0.9312 - val_loss: 0.1757 - val_accuracy: 0.9399\n",
      "Epoch 5/10\n",
      "191/202 [===========================>..] - ETA: 0s - loss: 0.1805 - accuracy: 0.9306\n",
      "Epoch 5: val_loss improved from 0.17538 to 0.17511, saving model to ../weights/tlm_peq_fb1_weights.hdf5\n",
      "202/202 [==============================] - 0s 2ms/step - loss: 0.1791 - accuracy: 0.9315 - val_loss: 0.1751 - val_accuracy: 0.9413\n",
      "Epoch 6/10\n",
      "202/202 [==============================] - ETA: 0s - loss: 0.1778 - accuracy: 0.9326\n",
      "Epoch 6: val_loss did not improve from 0.17511\n",
      "202/202 [==============================] - 0s 2ms/step - loss: 0.1778 - accuracy: 0.9326 - val_loss: 0.1781 - val_accuracy: 0.9399\n",
      "Epoch 7/10\n",
      "168/202 [=======================>......] - ETA: 0s - loss: 0.1789 - accuracy: 0.9301\n",
      "Epoch 7: val_loss improved from 0.17511 to 0.17347, saving model to ../weights/tlm_peq_fb1_weights.hdf5\n",
      "202/202 [==============================] - 0s 2ms/step - loss: 0.1778 - accuracy: 0.9304 - val_loss: 0.1735 - val_accuracy: 0.9427\n",
      "Epoch 8/10\n",
      "176/202 [=========================>....] - ETA: 0s - loss: 0.1757 - accuracy: 0.9311\n",
      "Epoch 8: val_loss improved from 0.17347 to 0.17312, saving model to ../weights/tlm_peq_fb1_weights.hdf5\n",
      "202/202 [==============================] - 0s 2ms/step - loss: 0.1765 - accuracy: 0.9312 - val_loss: 0.1731 - val_accuracy: 0.9427\n",
      "Epoch 9/10\n",
      "177/202 [=========================>....] - ETA: 0s - loss: 0.1788 - accuracy: 0.9315\n",
      "Epoch 9: val_loss did not improve from 0.17312\n",
      "202/202 [==============================] - 0s 2ms/step - loss: 0.1752 - accuracy: 0.9327 - val_loss: 0.1769 - val_accuracy: 0.9413\n",
      "Epoch 10/10\n",
      "190/202 [===========================>..] - ETA: 0s - loss: 0.1723 - accuracy: 0.9342\n",
      "Epoch 10: val_loss improved from 0.17312 to 0.17278, saving model to ../weights/tlm_peq_fb1_weights.hdf5\n",
      "202/202 [==============================] - 0s 2ms/step - loss: 0.1726 - accuracy: 0.9341 - val_loss: 0.1728 - val_accuracy: 0.9427\n",
      "23/23 [==============================] - 0s 1ms/step\n",
      "fold = 4\n",
      "Epoch 1/10\n",
      "194/202 [===========================>..] - ETA: 0s - loss: 0.1678 - accuracy: 0.9356\n",
      "Epoch 1: val_loss did not improve from 0.17278\n",
      "202/202 [==============================] - 0s 2ms/step - loss: 0.1680 - accuracy: 0.9357 - val_loss: 0.1938 - val_accuracy: 0.9259\n",
      "Epoch 2/10\n",
      "174/202 [========================>.....] - ETA: 0s - loss: 0.1677 - accuracy: 0.9346\n",
      "Epoch 2: val_loss did not improve from 0.17278\n",
      "202/202 [==============================] - 0s 2ms/step - loss: 0.1661 - accuracy: 0.9347 - val_loss: 0.1953 - val_accuracy: 0.9301\n",
      "Epoch 3/10\n",
      "176/202 [=========================>....] - ETA: 0s - loss: 0.1636 - accuracy: 0.9377\n",
      "Epoch 3: val_loss did not improve from 0.17278\n",
      "202/202 [==============================] - 0s 2ms/step - loss: 0.1641 - accuracy: 0.9372 - val_loss: 0.1961 - val_accuracy: 0.9273\n",
      "Epoch 4/10\n",
      "168/202 [=======================>......] - ETA: 0s - loss: 0.1661 - accuracy: 0.9358\n",
      "Epoch 4: val_loss did not improve from 0.17278\n",
      "202/202 [==============================] - 0s 2ms/step - loss: 0.1661 - accuracy: 0.9358 - val_loss: 0.1938 - val_accuracy: 0.9273\n",
      "Epoch 5/10\n",
      "168/202 [=======================>......] - ETA: 0s - loss: 0.1664 - accuracy: 0.9349\n",
      "Epoch 5: val_loss did not improve from 0.17278\n",
      "202/202 [==============================] - 0s 2ms/step - loss: 0.1624 - accuracy: 0.9372 - val_loss: 0.2007 - val_accuracy: 0.9231\n",
      "Epoch 6/10\n",
      "171/202 [========================>.....] - ETA: 0s - loss: 0.1641 - accuracy: 0.9393\n",
      "Epoch 6: val_loss did not improve from 0.17278\n",
      "202/202 [==============================] - 0s 2ms/step - loss: 0.1642 - accuracy: 0.9388 - val_loss: 0.2025 - val_accuracy: 0.9245\n",
      "Epoch 7/10\n",
      "197/202 [============================>.] - ETA: 0s - loss: 0.1628 - accuracy: 0.9399\n",
      "Epoch 7: val_loss did not improve from 0.17278\n",
      "202/202 [==============================] - 0s 2ms/step - loss: 0.1625 - accuracy: 0.9400 - val_loss: 0.1947 - val_accuracy: 0.9231\n",
      "23/23 [==============================] - 0s 953us/step\n",
      "fold = 5\n",
      "Epoch 1/10\n",
      "177/202 [=========================>....] - ETA: 0s - loss: 0.1582 - accuracy: 0.9437\n",
      "Epoch 1: val_loss did not improve from 0.17278\n",
      "202/202 [==============================] - 0s 2ms/step - loss: 0.1594 - accuracy: 0.9431 - val_loss: 0.1758 - val_accuracy: 0.9273\n",
      "Epoch 2/10\n",
      "176/202 [=========================>....] - ETA: 0s - loss: 0.1573 - accuracy: 0.9400\n",
      "Epoch 2: val_loss did not improve from 0.17278\n",
      "202/202 [==============================] - 0s 2ms/step - loss: 0.1609 - accuracy: 0.9394 - val_loss: 0.1767 - val_accuracy: 0.9259\n",
      "Epoch 3/10\n",
      "176/202 [=========================>....] - ETA: 0s - loss: 0.1594 - accuracy: 0.9398\n",
      "Epoch 3: val_loss did not improve from 0.17278\n",
      "202/202 [==============================] - 0s 2ms/step - loss: 0.1592 - accuracy: 0.9392 - val_loss: 0.1779 - val_accuracy: 0.9245\n",
      "Epoch 4/10\n",
      "175/202 [========================>.....] - ETA: 0s - loss: 0.1570 - accuracy: 0.9405\n",
      "Epoch 4: val_loss did not improve from 0.17278\n",
      "202/202 [==============================] - 0s 2ms/step - loss: 0.1580 - accuracy: 0.9410 - val_loss: 0.1798 - val_accuracy: 0.9217\n",
      "23/23 [==============================] - 0s 881us/step\n",
      "fold = 6\n",
      "Epoch 1/10\n",
      "194/202 [===========================>..] - ETA: 0s - loss: 0.1656 - accuracy: 0.9372\n",
      "Epoch 1: val_loss improved from 0.17278 to 0.11864, saving model to ../weights/tlm_peq_fb1_weights.hdf5\n",
      "202/202 [==============================] - 0s 2ms/step - loss: 0.1654 - accuracy: 0.9371 - val_loss: 0.1186 - val_accuracy: 0.9552\n",
      "Epoch 2/10\n",
      "176/202 [=========================>....] - ETA: 0s - loss: 0.1656 - accuracy: 0.9361\n",
      "Epoch 2: val_loss did not improve from 0.11864\n",
      "202/202 [==============================] - 0s 2ms/step - loss: 0.1646 - accuracy: 0.9369 - val_loss: 0.1231 - val_accuracy: 0.9538\n",
      "Epoch 3/10\n",
      "175/202 [========================>.....] - ETA: 0s - loss: 0.1643 - accuracy: 0.9382\n",
      "Epoch 3: val_loss did not improve from 0.11864\n",
      "202/202 [==============================] - 0s 2ms/step - loss: 0.1641 - accuracy: 0.9380 - val_loss: 0.1225 - val_accuracy: 0.9524\n",
      "Epoch 4/10\n",
      "181/202 [=========================>....] - ETA: 0s - loss: 0.1584 - accuracy: 0.9396\n",
      "Epoch 4: val_loss did not improve from 0.11864\n",
      "202/202 [==============================] - 0s 2ms/step - loss: 0.1610 - accuracy: 0.9378 - val_loss: 0.1233 - val_accuracy: 0.9552\n",
      "23/23 [==============================] - 0s 1ms/step\n",
      "fold = 7\n",
      "Epoch 1/10\n",
      "188/202 [==========================>...] - ETA: 0s - loss: 0.1544 - accuracy: 0.9407\n",
      "Epoch 1: val_loss did not improve from 0.11864\n",
      "202/202 [==============================] - 0s 2ms/step - loss: 0.1542 - accuracy: 0.9405 - val_loss: 0.1526 - val_accuracy: 0.9469\n",
      "Epoch 2/10\n",
      "179/202 [=========================>....] - ETA: 0s - loss: 0.1556 - accuracy: 0.9399\n",
      "Epoch 2: val_loss did not improve from 0.11864\n",
      "202/202 [==============================] - 0s 2ms/step - loss: 0.1557 - accuracy: 0.9394 - val_loss: 0.1560 - val_accuracy: 0.9483\n",
      "Epoch 3/10\n",
      "180/202 [=========================>....] - ETA: 0s - loss: 0.1549 - accuracy: 0.9389\n",
      "Epoch 3: val_loss did not improve from 0.11864\n",
      "202/202 [==============================] - 0s 2ms/step - loss: 0.1540 - accuracy: 0.9392 - val_loss: 0.1570 - val_accuracy: 0.9497\n",
      "Epoch 4/10\n",
      "169/202 [========================>.....] - ETA: 0s - loss: 0.1576 - accuracy: 0.9399\n",
      "Epoch 4: val_loss did not improve from 0.11864\n",
      "202/202 [==============================] - 0s 2ms/step - loss: 0.1567 - accuracy: 0.9405 - val_loss: 0.1554 - val_accuracy: 0.9455\n",
      "23/23 [==============================] - 0s 905us/step\n",
      "fold = 8\n",
      "Epoch 1/10\n",
      "190/202 [===========================>..] - ETA: 0s - loss: 0.1531 - accuracy: 0.9414\n",
      "Epoch 1: val_loss did not improve from 0.11864\n",
      "202/202 [==============================] - 0s 2ms/step - loss: 0.1528 - accuracy: 0.9414 - val_loss: 0.1641 - val_accuracy: 0.9329\n",
      "Epoch 2/10\n",
      "183/202 [==========================>...] - ETA: 0s - loss: 0.1502 - accuracy: 0.9464\n",
      "Epoch 2: val_loss did not improve from 0.11864\n",
      "202/202 [==============================] - 0s 2ms/step - loss: 0.1514 - accuracy: 0.9452 - val_loss: 0.1597 - val_accuracy: 0.9371\n",
      "Epoch 3/10\n",
      "177/202 [=========================>....] - ETA: 0s - loss: 0.1529 - accuracy: 0.9421\n",
      "Epoch 3: val_loss did not improve from 0.11864\n",
      "202/202 [==============================] - 0s 2ms/step - loss: 0.1521 - accuracy: 0.9422 - val_loss: 0.1613 - val_accuracy: 0.9287\n",
      "Epoch 4/10\n",
      "179/202 [=========================>....] - ETA: 0s - loss: 0.1504 - accuracy: 0.9426\n",
      "Epoch 4: val_loss did not improve from 0.11864\n",
      "202/202 [==============================] - 0s 2ms/step - loss: 0.1530 - accuracy: 0.9422 - val_loss: 0.1638 - val_accuracy: 0.9287\n",
      "Epoch 5/10\n",
      "170/202 [========================>.....] - ETA: 0s - loss: 0.1476 - accuracy: 0.9450\n",
      "Epoch 5: val_loss did not improve from 0.11864\n",
      "202/202 [==============================] - 0s 2ms/step - loss: 0.1490 - accuracy: 0.9441 - val_loss: 0.1613 - val_accuracy: 0.9343\n",
      "23/23 [==============================] - 0s 991us/step\n",
      "fold = 9\n",
      "Epoch 1/10\n",
      "181/202 [=========================>....] - ETA: 0s - loss: 0.1529 - accuracy: 0.9425\n",
      "Epoch 1: val_loss did not improve from 0.11864\n",
      "202/202 [==============================] - 0s 2ms/step - loss: 0.1528 - accuracy: 0.9424 - val_loss: 0.1198 - val_accuracy: 0.9566\n",
      "Epoch 2/10\n",
      "171/202 [========================>.....] - ETA: 0s - loss: 0.1544 - accuracy: 0.9412\n",
      "Epoch 2: val_loss did not improve from 0.11864\n",
      "202/202 [==============================] - 0s 2ms/step - loss: 0.1529 - accuracy: 0.9422 - val_loss: 0.1268 - val_accuracy: 0.9552\n",
      "Epoch 3/10\n",
      "179/202 [=========================>....] - ETA: 0s - loss: 0.1545 - accuracy: 0.9403\n",
      "Epoch 3: val_loss did not improve from 0.11864\n",
      "202/202 [==============================] - 0s 2ms/step - loss: 0.1541 - accuracy: 0.9408 - val_loss: 0.1229 - val_accuracy: 0.9566\n",
      "Epoch 4/10\n",
      "175/202 [========================>.....] - ETA: 0s - loss: 0.1561 - accuracy: 0.9423\n",
      "Epoch 4: val_loss did not improve from 0.11864\n",
      "202/202 [==============================] - 0s 2ms/step - loss: 0.1513 - accuracy: 0.9439 - val_loss: 0.1232 - val_accuracy: 0.9483\n",
      "23/23 [==============================] - 0s 1ms/step\n",
      "fold = 10\n",
      "Epoch 1/10\n",
      "180/202 [=========================>....] - ETA: 0s - loss: 0.1494 - accuracy: 0.9446\n",
      "Epoch 1: val_loss did not improve from 0.11864\n",
      "202/202 [==============================] - 0s 2ms/step - loss: 0.1478 - accuracy: 0.9455 - val_loss: 0.1316 - val_accuracy: 0.9455\n",
      "Epoch 2/10\n",
      "180/202 [=========================>....] - ETA: 0s - loss: 0.1483 - accuracy: 0.9444\n",
      "Epoch 2: val_loss did not improve from 0.11864\n",
      "202/202 [==============================] - 0s 2ms/step - loss: 0.1489 - accuracy: 0.9447 - val_loss: 0.1324 - val_accuracy: 0.9427\n",
      "Epoch 3/10\n",
      "175/202 [========================>.....] - ETA: 0s - loss: 0.1477 - accuracy: 0.9448\n",
      "Epoch 3: val_loss did not improve from 0.11864\n",
      "202/202 [==============================] - 0s 2ms/step - loss: 0.1465 - accuracy: 0.9462 - val_loss: 0.1329 - val_accuracy: 0.9455\n",
      "Epoch 4/10\n",
      "174/202 [========================>.....] - ETA: 0s - loss: 0.1463 - accuracy: 0.9432\n",
      "Epoch 4: val_loss did not improve from 0.11864\n",
      "202/202 [==============================] - 0s 2ms/step - loss: 0.1460 - accuracy: 0.9442 - val_loss: 0.1390 - val_accuracy: 0.9441\n",
      "23/23 [==============================] - 0s 1ms/step\n",
      "Media Accuracy Validacao: 0.9363735984685704\n",
      "Media f1 score Validacao 0.9335373389998243\n"
     ]
    }
   ],
   "source": [
    "fold = 0\n",
    "\n",
    "fold_accuracies = []\n",
    "fold_f1_scores = []\n",
    "\n",
    "train_loss_history = []\n",
    "train_accuracy_history = []\n",
    "for train_indices, val_indices in kf.split(combined_features):\n",
    "    fold+=1\n",
    "    print(f'fold = {fold}')\n",
    "    X_train_fold = combined_features[train_indices]\n",
    "    y_train_fold = np.array(labels)[train_indices]\n",
    "    \n",
    "    X_val_fold = combined_features[val_indices]\n",
    "    y_val_fold = np.array(labels)[val_indices]\n",
    "    \n",
    "    X_train_fold_tensor = tf.convert_to_tensor(X_train_fold, dtype=tf.float32)\n",
    "    y_train_fold_tensor = tf.convert_to_tensor(y_train_fold, dtype=tf.float32)\n",
    "    \n",
    "    X_val_fold_tensor = tf.convert_to_tensor(X_val_fold, dtype=tf.float32)\n",
    "    y_val_fold_tensor = tf.convert_to_tensor(y_val_fold, dtype=tf.float32)\n",
    "        \n",
    "    model_history = model.fit(\n",
    "        X_train_fold_tensor, \n",
    "        y_train_fold_tensor, \n",
    "        epochs=10, \n",
    "        batch_size=32, \n",
    "        verbose=1,\n",
    "        validation_data=(X_val_fold_tensor, y_val_fold_tensor),\n",
    "        callbacks=CALLBACKS\n",
    "    )\n",
    "    \n",
    "    y_pred_val = model.predict(X_val_fold_tensor)\n",
    "    y_pred_val_binary = np.round(y_pred_val)\n",
    "    \n",
    "    fold_accuracy = accuracy_score(y_val_fold, y_pred_val_binary)\n",
    "    fold_accuracies.append(fold_accuracy)\n",
    "    \n",
    "    fold_f1_score = f1_score(y_val_fold, y_pred_val_binary)\n",
    "    fold_f1_scores.append(fold_f1_score)\n",
    "    \n",
    "    train_loss_history.append(model_history.history['loss'])\n",
    "    train_accuracy_history.append(model_history.history['accuracy'])\n",
    "\n",
    "print(\"Media Accuracy Validacao:\", np.mean(fold_accuracies))\n",
    "print(\"Media f1 score Validacao\", np.mean(fold_f1_scores))"
   ]
  },
  {
   "cell_type": "code",
   "execution_count": 115,
   "id": "413e28f6-c7eb-4cd8-a713-060aef333cf7",
   "metadata": {},
   "outputs": [
    {
     "name": "stdout",
     "output_type": "stream",
     "text": [
      "45/45 [==============================] - 0s 1ms/step - loss: 0.1413 - accuracy: 0.9518\n"
     ]
    }
   ],
   "source": [
    "test_loss, test_accuracy = model.evaluate(X_test_tensor, y_test_tensor)"
   ]
  },
  {
   "cell_type": "code",
   "execution_count": 116,
   "id": "5414d3ec-9328-465e-b4da-84f2dc02b492",
   "metadata": {},
   "outputs": [
    {
     "data": {
      "image/png": "[encoded data removed]",
      "text/plain": [
       "<Figure size 1000x600 with 1 Axes>"
      ]
     },
     "metadata": {},
     "output_type": "display_data"
    },
    {
     "data": {
      "image/png": "[encoded data removed]",
      "text/plain": [
       "<Figure size 1000x600 with 1 Axes>"
      ]
     },
     "metadata": {},
     "output_type": "display_data"
    }
   ],
   "source": [
    "plt.figure(figsize=(10, 6))\n",
    "for fold_num, fold_loss in enumerate(train_loss_history):\n",
    "    plt.plot(fold_loss, label=f'Fold {fold_num+1}')\n",
    "plt.xlabel('Epoch')\n",
    "plt.ylabel('Training Loss')\n",
    "plt.title('Training Loss per Epoch for Each Fold')\n",
    "plt.legend()\n",
    "plt.show()\n",
    "\n",
    "plt.figure(figsize=(10, 6))\n",
    "for fold_num, fold_accuracy in enumerate(train_accuracy_history):\n",
    "    plt.plot(fold_accuracy, label=f'Fold {fold_num+1}')\n",
    "plt.xlabel('Epoch')\n",
    "plt.ylabel('Training Accuracy')\n",
    "plt.title('Training Accuracy per Epoch for Each Fold')\n",
    "plt.legend()\n",
    "plt.show()"
   ]
  }
 ],
 "metadata": {
  "kernelspec": {
   "display_name": "Python 3 (ipykernel)",
   "language": "python",
   "name": "python3"
  },
  "language_info": {
   "codemirror_mode": {
    "name": "ipython",
    "version": 3
   },
   "file_extension": ".py",
   "mimetype": "text/x-python",
   "name": "python",
   "nbconvert_exporter": "python",
   "pygments_lexer": "ipython3",
   "version": "3.10.11"
  }
 },
 "nbformat": 4,
 "nbformat_minor": 5
}
