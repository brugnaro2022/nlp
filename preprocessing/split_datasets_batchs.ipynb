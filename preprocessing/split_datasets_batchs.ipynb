{
 "cells": [
  {
   "cell_type": "code",
   "execution_count": null,
   "id": "74e3fc55-4dcf-4f59-9dbc-cb029b384438",
   "metadata": {},
   "outputs": [],
   "source": [
    "# Treinamento feito com 12.5% do dataset, 16704 instancias. Devido a problemas de sobrecarga de memória.\n",
    "batch_1, batch_2 = train_test_split(df, test_size=0.5, stratify=df['rating'], random_state=42)\n",
    "batch_3, batch_4 = train_test_split(batch_2, test_size=0.5, stratify=batch_2['rating'], random_state=42)\n",
    "batch_5, batch_6 = train_test_split(batch_4, test_size=0.5, stratify=batch_4['rating'], random_state=42)\n",
    "batch_7, batch_8 = train_test_split(batch_6, test_size=0.5, stratify=batch_6['rating'], random_state=42)\n",
    "batch_9, batch_10 = train_test_split(batch_8, test_size=0.5, stratify=batch_8['rating'], random_state=42)\n",
    "#batch_11, batch_12 = train_test_split(batch_10, test_size=0.5, stratify=batch_10['rating'], random_state=42)\n",
    "print(batch_1.shape)\n",
    "print(batch_2.shape)\n",
    "print(batch_3.shape)\n",
    "print(batch_4.shape)\n",
    "print(batch_5.shape)\n",
    "print(batch_6.shape)\n",
    "print(batch_7.shape)\n",
    "print(batch_8.shape)\n",
    "print(batch_9.shape)\n",
    "print(batch_10.shape)"
   ]
  }
 ],
 "metadata": {
  "kernelspec": {
   "display_name": "Python 3 (ipykernel)",
   "language": "python",
   "name": "python3"
  },
  "language_info": {
   "codemirror_mode": {
    "name": "ipython",
    "version": 3
   },
   "file_extension": ".py",
   "mimetype": "text/x-python",
   "name": "python",
   "nbconvert_exporter": "python",
   "pygments_lexer": "ipython3",
   "version": "3.10.11"
  }
 },
 "nbformat": 4,
 "nbformat_minor": 5
}
