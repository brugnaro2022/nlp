{
 "cells": [
  {
   "cell_type": "code",
   "execution_count": 2,
   "id": "6706ff53-844a-4912-8664-7f9e4dc735df",
   "metadata": {},
   "outputs": [],
   "source": [
    "import pandas as pd\n",
    "import numpy as np\n",
    "from tqdm import tqdm\n",
    "import torch\n",
    "from transformers import AutoTokenizer, AutoModelForMaskedLM\n",
    "import warnings\n",
    "warnings.filterwarnings('ignore')"
   ]
  },
  {
   "cell_type": "code",
   "execution_count": null,
   "id": "56e7f7af-eae9-4730-a03f-6c0f34ea1397",
   "metadata": {},
   "outputs": [],
   "source": []
  },
  {
   "cell_type": "code",
   "execution_count": 4,
   "id": "a36e7845-7d81-4ca9-a23d-56600352b154",
   "metadata": {},
   "outputs": [],
   "source": [
    "sentences = ['The cat sits outside',\n",
    "             'I love pasta',\n",
    "             'The cat plays in the garden',\n",
    "             'Do you like pizza?']\n",
    "labels = [0,1,0,1]"
   ]
  },
  {
   "cell_type": "code",
   "execution_count": 5,
   "id": "2458f176-db38-4119-872a-b392161fc776",
   "metadata": {},
   "outputs": [
    {
     "name": "stderr",
     "output_type": "stream",
     "text": [
      "Some weights of the model checkpoint at xlm-roberta-base were not used when initializing XLMRobertaForMaskedLM: ['roberta.pooler.dense.weight', 'roberta.pooler.dense.bias']\n",
      "- This IS expected if you are initializing XLMRobertaForMaskedLM from the checkpoint of a model trained on another task or with another architecture (e.g. initializing a BertForSequenceClassification model from a BertForPreTraining model).\n",
      "- This IS NOT expected if you are initializing XLMRobertaForMaskedLM from the checkpoint of a model that you expect to be exactly identical (initializing a BertForSequenceClassification model from a BertForSequenceClassification model).\n"
     ]
    }
   ],
   "source": [
    "tokenizer = AutoTokenizer.from_pretrained(\"xlm-roberta-base\")\n",
    "model = AutoModelForMaskedLM.from_pretrained(\"xlm-roberta-base\")"
   ]
  },
  {
   "cell_type": "code",
   "execution_count": 6,
   "id": "4416a689-d931-4404-853c-7b1a29733ddf",
   "metadata": {},
   "outputs": [],
   "source": [
    "embeddings = []\n",
    "for i in range(len(sentences)):\n",
    "    embeddings.append(tokenizer.encode(sentences[i], add_special_tokens=True))"
   ]
  },
  {
   "cell_type": "code",
   "execution_count": 7,
   "id": "6a83df8c-89fc-4bf1-9618-748558940277",
   "metadata": {},
   "outputs": [
    {
     "data": {
      "text/plain": [
       "[[0, 581, 7515, 1661, 7, 50782, 2],\n",
       " [0, 87, 5161, 14324, 2],\n",
       " [0, 581, 7515, 11301, 7, 23, 70, 80583, 2],\n",
       " [0, 984, 398, 1884, 32960, 32, 2]]"
      ]
     },
     "execution_count": 7,
     "metadata": {},
     "output_type": "execute_result"
    }
   ],
   "source": [
    "embeddings"
   ]
  },
  {
   "cell_type": "code",
   "execution_count": 8,
   "id": "d79dee7c-0db9-441a-8cad-718e1f4f7ec0",
   "metadata": {},
   "outputs": [
    {
     "name": "stdout",
     "output_type": "stream",
     "text": [
      "[0, 581, 7515, 1661, 7, 50782, 2]\n",
      "0  -  <s>\n",
      "581  -  ▁The\n",
      "7515  -  ▁cat\n",
      "1661  -  ▁sit\n",
      "7  -  s\n",
      "50782  -  ▁outside\n",
      "2  -  </s>\n",
      " \n",
      "[0, 87, 5161, 14324, 2]\n",
      "0  -  <s>\n",
      "87  -  ▁I\n",
      "5161  -  ▁love\n",
      "14324  -  ▁pasta\n",
      "2  -  </s>\n",
      " \n",
      "[0, 581, 7515, 11301, 7, 23, 70, 80583, 2]\n",
      "0  -  <s>\n",
      "581  -  ▁The\n",
      "7515  -  ▁cat\n",
      "11301  -  ▁play\n",
      "7  -  s\n",
      "23  -  ▁in\n",
      "70  -  ▁the\n",
      "80583  -  ▁garden\n",
      "2  -  </s>\n",
      " \n",
      "[0, 984, 398, 1884, 32960, 32, 2]\n",
      "0  -  <s>\n",
      "984  -  ▁Do\n",
      "398  -  ▁you\n",
      "1884  -  ▁like\n",
      "32960  -  ▁pizza\n",
      "32  -  ?\n",
      "2  -  </s>\n",
      " \n"
     ]
    }
   ],
   "source": [
    "for i in range(len(sentences)):\n",
    "    print(embeddings[i])\n",
    "    for j in range(len(embeddings[i])):\n",
    "        print(embeddings[i][j], \" - \",tokenizer.convert_ids_to_tokens(embeddings[i][j]))\n",
    "    print(\" \")"
   ]
  },
  {
   "cell_type": "code",
   "execution_count": 9,
   "id": "a7a283aa-2499-4241-a842-37047cdd0a4e",
   "metadata": {},
   "outputs": [
    {
     "name": "stdout",
     "output_type": "stream",
     "text": [
      "max size:  9\n"
     ]
    }
   ],
   "source": [
    "max_len=0\n",
    "for i in embeddings:\n",
    "    if len(i) > max_len:\n",
    "        max_len = len(i)\n",
    "print('max size: ', max_len)"
   ]
  },
  {
   "cell_type": "code",
   "execution_count": 10,
   "id": "48ec75d4-237a-4b67-b0ed-fd418cdde674",
   "metadata": {},
   "outputs": [],
   "source": [
    "padded = np.array([i + [0]*(max_len - len(i)) for i in embeddings])"
   ]
  },
  {
   "cell_type": "code",
   "execution_count": 11,
   "id": "78a2b2c9-829f-4b98-a41f-46d150769d0f",
   "metadata": {},
   "outputs": [
    {
     "data": {
      "text/plain": [
       "array([[    0,   581,  7515,  1661,     7, 50782,     2,     0,     0],\n",
       "       [    0,    87,  5161, 14324,     2,     0,     0,     0,     0],\n",
       "       [    0,   581,  7515, 11301,     7,    23,    70, 80583,     2],\n",
       "       [    0,   984,   398,  1884, 32960,    32,     2,     0,     0]])"
      ]
     },
     "execution_count": 11,
     "metadata": {},
     "output_type": "execute_result"
    }
   ],
   "source": [
    "padded"
   ]
  },
  {
   "cell_type": "code",
   "execution_count": 12,
   "id": "0f7a01b1-eeef-4d32-a9dd-2e32ac21f981",
   "metadata": {},
   "outputs": [],
   "source": [
    "attention_mask = np.where(padded != 0, 1, 0)"
   ]
  },
  {
   "cell_type": "code",
   "execution_count": 13,
   "id": "86913881-7834-4fbd-b35d-6834f407104d",
   "metadata": {},
   "outputs": [
    {
     "data": {
      "text/plain": [
       "array([[0, 1, 1, 1, 1, 1, 1, 0, 0],\n",
       "       [0, 1, 1, 1, 1, 0, 0, 0, 0],\n",
       "       [0, 1, 1, 1, 1, 1, 1, 1, 1],\n",
       "       [0, 1, 1, 1, 1, 1, 1, 0, 0]])"
      ]
     },
     "execution_count": 13,
     "metadata": {},
     "output_type": "execute_result"
    }
   ],
   "source": [
    "attention_mask"
   ]
  },
  {
   "cell_type": "code",
   "execution_count": 14,
   "id": "390d061e-9806-4898-8385-0407d462ebd0",
   "metadata": {},
   "outputs": [
    {
     "data": {
      "text/plain": [
       "(4, 9)"
      ]
     },
     "execution_count": 14,
     "metadata": {},
     "output_type": "execute_result"
    }
   ],
   "source": [
    "attention_mask.shape"
   ]
  },
  {
   "cell_type": "code",
   "execution_count": 15,
   "id": "2542cd05-6be9-4d80-b572-e5d52d6a4451",
   "metadata": {},
   "outputs": [],
   "source": [
    "input_ids = torch.tensor(padded)\n",
    "attention_mask = torch.tensor(attention_mask)"
   ]
  },
  {
   "cell_type": "code",
   "execution_count": 16,
   "id": "6c91b799-1b70-4822-8998-4f38215b63ad",
   "metadata": {},
   "outputs": [],
   "source": [
    "# Pegando resultados da ultima camada oculta\n",
    "with torch.no_grad():\n",
    "    last_hidden_states = model(input_ids, attention_mask=attention_mask)"
   ]
  },
  {
   "cell_type": "code",
   "execution_count": 17,
   "id": "e7e30cd4-2e3f-4f08-84ef-13647fb9226f",
   "metadata": {},
   "outputs": [
    {
     "data": {
      "text/plain": [
       "(4, 9, 250002)"
      ]
     },
     "execution_count": 17,
     "metadata": {},
     "output_type": "execute_result"
    }
   ],
   "source": [
    "last_hidden_states[0][:,:,:].numpy().shape"
   ]
  },
  {
   "cell_type": "code",
   "execution_count": 70,
   "id": "ee2a1d62-ee6c-43b4-87e5-b34b922182f8",
   "metadata": {},
   "outputs": [],
   "source": [
    "xml_roberta_base_embeddings = last_hidden_states[0][:,0,:].numpy()"
   ]
  },
  {
   "cell_type": "code",
   "execution_count": 71,
   "id": "baa58813-fda7-4eb9-9a64-c0b862535138",
   "metadata": {},
   "outputs": [
    {
     "data": {
      "text/plain": [
       "(4, 250002)"
      ]
     },
     "execution_count": 71,
     "metadata": {},
     "output_type": "execute_result"
    }
   ],
   "source": [
    "xml_roberta_base_embeddings.shape"
   ]
  },
  {
   "cell_type": "code",
   "execution_count": 72,
   "id": "46c286d0-6bd9-46d3-b66b-2df1828c69e3",
   "metadata": {},
   "outputs": [
    {
     "data": {
      "text/plain": [
       "array([[53.679016  , -0.396734  , 47.879303  , ..., 27.64236   ,\n",
       "        16.092344  , 24.076544  ],\n",
       "       [52.8779    , -0.26781884, 45.571747  , ..., 25.977713  ,\n",
       "        18.595173  , 23.0229    ],\n",
       "       [55.4995    , -0.48153916, 45.48795   , ..., 28.58248   ,\n",
       "        14.803785  , 24.128199  ],\n",
       "       [62.54553   , -0.24973875, 48.278133  , ..., 30.388872  ,\n",
       "        18.933002  , 25.117058  ]], dtype=float32)"
      ]
     },
     "execution_count": 72,
     "metadata": {},
     "output_type": "execute_result"
    }
   ],
   "source": [
    "xml_roberta_base_embeddings"
   ]
  },
  {
   "cell_type": "code",
   "execution_count": 75,
   "id": "07e799cf-9f4f-43ec-ad77-43a986f06703",
   "metadata": {},
   "outputs": [],
   "source": [
    "mean_cls_embedding = np.mean(xml_roberta_base_embeddings, axis=1)\n",
    "mean_values = np.mean(xml_roberta_base_embeddings, axis=0)\n",
    "std_values = np.std(xml_roberta_base_embeddings, axis=0)"
   ]
  },
  {
   "cell_type": "code",
   "execution_count": 76,
   "id": "9c12f338-419f-442e-a6bd-25de5bbde652",
   "metadata": {},
   "outputs": [
    {
     "name": "stdout",
     "output_type": "stream",
     "text": [
      "[21.005106 18.167103 20.553898 20.723627]\n",
      "[56.150486   -0.34895766 46.804283   ... 28.147856   17.106075\n",
      " 24.086174  ]\n",
      "[3.812425   0.09524748 1.2825544  ... 1.5949998  1.7236055  0.740799  ]\n"
     ]
    }
   ],
   "source": [
    "print(mean_cls_embedding)\n",
    "print(mean_values)\n",
    "print(std_values)"
   ]
  },
  {
   "cell_type": "code",
   "execution_count": null,
   "id": "5d97f2c4-802f-44a2-a1f0-a37e944dacfa",
   "metadata": {},
   "outputs": [],
   "source": [
    "concatenated_features = torch.cat((mean_cls_embedding, mean_values, std_values), dim=1)"
   ]
  },
  {
   "cell_type": "code",
   "execution_count": null,
   "id": "0b7e6952-4d0c-4ca9-9f9b-5b4c18781b68",
   "metadata": {},
   "outputs": [],
   "source": []
  },
  {
   "cell_type": "code",
   "execution_count": null,
   "id": "41fdd6d7-ab18-4e6c-85fe-1278d9e547f3",
   "metadata": {},
   "outputs": [],
   "source": []
  },
  {
   "cell_type": "code",
   "execution_count": null,
   "id": "2fe2904b-5117-48c4-bfd1-9095f89ab747",
   "metadata": {},
   "outputs": [],
   "source": []
  }
 ],
 "metadata": {
  "kernelspec": {
   "display_name": "Python 3 (ipykernel)",
   "language": "python",
   "name": "python3"
  },
  "language_info": {
   "codemirror_mode": {
    "name": "ipython",
    "version": 3
   },
   "file_extension": ".py",
   "mimetype": "text/x-python",
   "name": "python",
   "nbconvert_exporter": "python",
   "pygments_lexer": "ipython3",
   "version": "3.10.11"
  }
 },
 "nbformat": 4,
 "nbformat_minor": 5
}
