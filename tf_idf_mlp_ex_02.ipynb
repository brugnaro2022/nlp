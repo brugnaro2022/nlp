{
 "cells": [
  {
   "cell_type": "markdown",
   "id": "d5016200-380e-4499-a735-ec13f7f740f4",
   "metadata": {},
   "source": [
    "#### Bibliotecas básicas"
   ]
  },
  {
   "cell_type": "code",
   "execution_count": 12,
   "id": "157940a0-8732-43da-867c-c91730bbb566",
   "metadata": {},
   "outputs": [],
   "source": [
    "import pandas as pd\n",
    "import re"
   ]
  },
  {
   "cell_type": "markdown",
   "id": "a331dc36-be51-4687-8d54-13d1c0057469",
   "metadata": {},
   "source": [
    "#### Bibliotecas relacionadas a preparação dos dados"
   ]
  },
  {
   "cell_type": "code",
   "execution_count": 34,
   "id": "98e879e7-fa43-4b56-9187-fd2f33e99420",
   "metadata": {},
   "outputs": [],
   "source": [
    "from sklearn.feature_extraction.text import TfidfVectorizer\n",
    "from sklearn.preprocessing import LabelEncoder\n",
    "from sklearn.model_selection import train_test_split"
   ]
  },
  {
   "cell_type": "markdown",
   "id": "8569e21f-6699-4302-a90a-626911dd4f0e",
   "metadata": {},
   "source": [
    "#### Bibliotecas relacionadas aos modelos"
   ]
  },
  {
   "cell_type": "code",
   "execution_count": 37,
   "id": "bd269ad6-a7d3-4999-b568-321ce509f654",
   "metadata": {},
   "outputs": [],
   "source": [
    "from keras.utils import np_utils\n",
    "from keras.layers import Dense, Input, Activation, Conv1D\n",
    "from keras.layers import Dropout, MaxPooling1D, Flatten, Concatenate, Reshape\n",
    "from keras.models import Sequential, Model, load_model\n",
    "from keras.callbacks import ModelCheckpoint, EarlyStopping"
   ]
  },
  {
   "cell_type": "markdown",
   "id": "f87edb8f-11e0-41ac-98b3-5fec12e2d3a7",
   "metadata": {},
   "source": [
    "#### Bibliotecas relacionadas aos gráficos"
   ]
  },
  {
   "cell_type": "code",
   "execution_count": 41,
   "id": "b098360a-9602-42fc-8ab7-763d72159a52",
   "metadata": {},
   "outputs": [],
   "source": [
    "import matplotlib.pyplot as plt"
   ]
  },
  {
   "cell_type": "markdown",
   "id": "b55767f8-562b-4f1f-b5a9-d27343489c3d",
   "metadata": {},
   "source": [
    "#### Carregando dataset de treino"
   ]
  },
  {
   "cell_type": "code",
   "execution_count": 2,
   "id": "e992e95f-0103-4240-b5e9-e916b17efc21",
   "metadata": {},
   "outputs": [],
   "source": [
    "train_df = pd.read_json(\"../datasets/cooking/train.json\")"
   ]
  },
  {
   "cell_type": "markdown",
   "id": "89668fda-4b90-4eef-8556-6b236eec95ab",
   "metadata": {},
   "source": [
    "#### Vizualizando alguns dados"
   ]
  },
  {
   "cell_type": "code",
   "execution_count": 3,
   "id": "1219485c-2333-49b1-b381-4becbfe8cb3f",
   "metadata": {},
   "outputs": [
    {
     "data": {
      "text/html": [
       "<div>\n",
       "<style scoped>\n",
       "    .dataframe tbody tr th:only-of-type {\n",
       "        vertical-align: middle;\n",
       "    }\n",
       "\n",
       "    .dataframe tbody tr th {\n",
       "        vertical-align: top;\n",
       "    }\n",
       "\n",
       "    .dataframe thead th {\n",
       "        text-align: right;\n",
       "    }\n",
       "</style>\n",
       "<table border=\"1\" class=\"dataframe\">\n",
       "  <thead>\n",
       "    <tr style=\"text-align: right;\">\n",
       "      <th></th>\n",
       "      <th>id</th>\n",
       "      <th>cuisine</th>\n",
       "      <th>ingredients</th>\n",
       "    </tr>\n",
       "  </thead>\n",
       "  <tbody>\n",
       "    <tr>\n",
       "      <th>0</th>\n",
       "      <td>10259</td>\n",
       "      <td>greek</td>\n",
       "      <td>[romaine lettuce, black olives, grape tomatoes...</td>\n",
       "    </tr>\n",
       "    <tr>\n",
       "      <th>1</th>\n",
       "      <td>25693</td>\n",
       "      <td>southern_us</td>\n",
       "      <td>[plain flour, ground pepper, salt, tomatoes, g...</td>\n",
       "    </tr>\n",
       "    <tr>\n",
       "      <th>2</th>\n",
       "      <td>20130</td>\n",
       "      <td>filipino</td>\n",
       "      <td>[eggs, pepper, salt, mayonaise, cooking oil, g...</td>\n",
       "    </tr>\n",
       "    <tr>\n",
       "      <th>3</th>\n",
       "      <td>22213</td>\n",
       "      <td>indian</td>\n",
       "      <td>[water, vegetable oil, wheat, salt]</td>\n",
       "    </tr>\n",
       "    <tr>\n",
       "      <th>4</th>\n",
       "      <td>13162</td>\n",
       "      <td>indian</td>\n",
       "      <td>[black pepper, shallots, cornflour, cayenne pe...</td>\n",
       "    </tr>\n",
       "  </tbody>\n",
       "</table>\n",
       "</div>"
      ],
      "text/plain": [
       "      id      cuisine                                        ingredients\n",
       "0  10259        greek  [romaine lettuce, black olives, grape tomatoes...\n",
       "1  25693  southern_us  [plain flour, ground pepper, salt, tomatoes, g...\n",
       "2  20130     filipino  [eggs, pepper, salt, mayonaise, cooking oil, g...\n",
       "3  22213       indian                [water, vegetable oil, wheat, salt]\n",
       "4  13162       indian  [black pepper, shallots, cornflour, cayenne pe..."
      ]
     },
     "execution_count": 3,
     "metadata": {},
     "output_type": "execute_result"
    }
   ],
   "source": [
    "train_df.head()"
   ]
  },
  {
   "cell_type": "markdown",
   "id": "2527046a-1cf8-4167-a0c9-f4bb174d3cdf",
   "metadata": {},
   "source": [
    "#### Carregando dataset de teste"
   ]
  },
  {
   "cell_type": "code",
   "execution_count": 4,
   "id": "8c5a488d-3f47-4106-a696-ce41a14d620d",
   "metadata": {},
   "outputs": [],
   "source": [
    "test_df = pd.read_json(\"../datasets/cooking/test.json\")"
   ]
  },
  {
   "cell_type": "markdown",
   "id": "13cd9b12-1cb7-40d4-aa10-f942cdcf09c5",
   "metadata": {},
   "source": [
    "#### Vizualizando dados"
   ]
  },
  {
   "cell_type": "code",
   "execution_count": 5,
   "id": "636385e4-ea57-4431-8ede-47fec26c1677",
   "metadata": {},
   "outputs": [
    {
     "data": {
      "text/html": [
       "<div>\n",
       "<style scoped>\n",
       "    .dataframe tbody tr th:only-of-type {\n",
       "        vertical-align: middle;\n",
       "    }\n",
       "\n",
       "    .dataframe tbody tr th {\n",
       "        vertical-align: top;\n",
       "    }\n",
       "\n",
       "    .dataframe thead th {\n",
       "        text-align: right;\n",
       "    }\n",
       "</style>\n",
       "<table border=\"1\" class=\"dataframe\">\n",
       "  <thead>\n",
       "    <tr style=\"text-align: right;\">\n",
       "      <th></th>\n",
       "      <th>id</th>\n",
       "      <th>ingredients</th>\n",
       "    </tr>\n",
       "  </thead>\n",
       "  <tbody>\n",
       "    <tr>\n",
       "      <th>0</th>\n",
       "      <td>18009</td>\n",
       "      <td>[baking powder, eggs, all-purpose flour, raisi...</td>\n",
       "    </tr>\n",
       "    <tr>\n",
       "      <th>1</th>\n",
       "      <td>28583</td>\n",
       "      <td>[sugar, egg yolks, corn starch, cream of tarta...</td>\n",
       "    </tr>\n",
       "    <tr>\n",
       "      <th>2</th>\n",
       "      <td>41580</td>\n",
       "      <td>[sausage links, fennel bulb, fronds, olive oil...</td>\n",
       "    </tr>\n",
       "    <tr>\n",
       "      <th>3</th>\n",
       "      <td>29752</td>\n",
       "      <td>[meat cuts, file powder, smoked sausage, okra,...</td>\n",
       "    </tr>\n",
       "    <tr>\n",
       "      <th>4</th>\n",
       "      <td>35687</td>\n",
       "      <td>[ground black pepper, salt, sausage casings, l...</td>\n",
       "    </tr>\n",
       "  </tbody>\n",
       "</table>\n",
       "</div>"
      ],
      "text/plain": [
       "      id                                        ingredients\n",
       "0  18009  [baking powder, eggs, all-purpose flour, raisi...\n",
       "1  28583  [sugar, egg yolks, corn starch, cream of tarta...\n",
       "2  41580  [sausage links, fennel bulb, fronds, olive oil...\n",
       "3  29752  [meat cuts, file powder, smoked sausage, okra,...\n",
       "4  35687  [ground black pepper, salt, sausage casings, l..."
      ]
     },
     "execution_count": 5,
     "metadata": {},
     "output_type": "execute_result"
    }
   ],
   "source": [
    "test_df.head()"
   ]
  },
  {
   "cell_type": "markdown",
   "id": "50a4eb90-e719-4d3d-aee5-687bf3a0ae5f",
   "metadata": {},
   "source": [
    "#### Concatenando os dois datasets"
   ]
  },
  {
   "cell_type": "code",
   "execution_count": 7,
   "id": "1419cbea-85a2-47a7-bb6d-461e0d6005b8",
   "metadata": {},
   "outputs": [],
   "source": [
    "test_df[\"cuisine\"] = \"unknown\"\n",
    "df = pd.concat([train_df, test_df], ignore_index=True)"
   ]
  },
  {
   "cell_type": "markdown",
   "id": "6a5c1525-3efa-4f32-905c-180b4b1bdbce",
   "metadata": {},
   "source": [
    "#### Vizualizando dados"
   ]
  },
  {
   "cell_type": "code",
   "execution_count": 8,
   "id": "ad2c6908-b100-40c8-acaf-1068bcdfec03",
   "metadata": {},
   "outputs": [
    {
     "data": {
      "text/html": [
       "<div>\n",
       "<style scoped>\n",
       "    .dataframe tbody tr th:only-of-type {\n",
       "        vertical-align: middle;\n",
       "    }\n",
       "\n",
       "    .dataframe tbody tr th {\n",
       "        vertical-align: top;\n",
       "    }\n",
       "\n",
       "    .dataframe thead th {\n",
       "        text-align: right;\n",
       "    }\n",
       "</style>\n",
       "<table border=\"1\" class=\"dataframe\">\n",
       "  <thead>\n",
       "    <tr style=\"text-align: right;\">\n",
       "      <th></th>\n",
       "      <th>id</th>\n",
       "      <th>cuisine</th>\n",
       "      <th>ingredients</th>\n",
       "    </tr>\n",
       "  </thead>\n",
       "  <tbody>\n",
       "    <tr>\n",
       "      <th>0</th>\n",
       "      <td>10259</td>\n",
       "      <td>greek</td>\n",
       "      <td>[romaine lettuce, black olives, grape tomatoes...</td>\n",
       "    </tr>\n",
       "    <tr>\n",
       "      <th>1</th>\n",
       "      <td>25693</td>\n",
       "      <td>southern_us</td>\n",
       "      <td>[plain flour, ground pepper, salt, tomatoes, g...</td>\n",
       "    </tr>\n",
       "    <tr>\n",
       "      <th>2</th>\n",
       "      <td>20130</td>\n",
       "      <td>filipino</td>\n",
       "      <td>[eggs, pepper, salt, mayonaise, cooking oil, g...</td>\n",
       "    </tr>\n",
       "    <tr>\n",
       "      <th>3</th>\n",
       "      <td>22213</td>\n",
       "      <td>indian</td>\n",
       "      <td>[water, vegetable oil, wheat, salt]</td>\n",
       "    </tr>\n",
       "    <tr>\n",
       "      <th>4</th>\n",
       "      <td>13162</td>\n",
       "      <td>indian</td>\n",
       "      <td>[black pepper, shallots, cornflour, cayenne pe...</td>\n",
       "    </tr>\n",
       "  </tbody>\n",
       "</table>\n",
       "</div>"
      ],
      "text/plain": [
       "      id      cuisine                                        ingredients\n",
       "0  10259        greek  [romaine lettuce, black olives, grape tomatoes...\n",
       "1  25693  southern_us  [plain flour, ground pepper, salt, tomatoes, g...\n",
       "2  20130     filipino  [eggs, pepper, salt, mayonaise, cooking oil, g...\n",
       "3  22213       indian                [water, vegetable oil, wheat, salt]\n",
       "4  13162       indian  [black pepper, shallots, cornflour, cayenne pe..."
      ]
     },
     "execution_count": 8,
     "metadata": {},
     "output_type": "execute_result"
    }
   ],
   "source": [
    "df.head()"
   ]
  },
  {
   "cell_type": "code",
   "execution_count": 10,
   "id": "be98ea48-0144-47e1-99ce-c5b2266031cb",
   "metadata": {},
   "outputs": [
    {
     "data": {
      "text/plain": [
       "(49718, 3)"
      ]
     },
     "execution_count": 10,
     "metadata": {},
     "output_type": "execute_result"
    }
   ],
   "source": [
    "df.shape"
   ]
  },
  {
   "cell_type": "markdown",
   "id": "73483b76-3351-4f29-aa69-e0c6e186da4c",
   "metadata": {},
   "source": [
    "#### TF-IDF"
   ]
  },
  {
   "cell_type": "markdown",
   "id": "ca431727-2fe3-4a1c-a871-21ce065e1df6",
   "metadata": {},
   "source": [
    "#### Convertendo palavras com letras maiúsculas em minúsculas"
   ]
  },
  {
   "cell_type": "code",
   "execution_count": 11,
   "id": "892d9b24-2177-467c-ad36-ee542411ce6b",
   "metadata": {},
   "outputs": [],
   "source": [
    "df.ingredients = df.ingredients.apply(lambda x: (\" \".join(x)).lower())"
   ]
  },
  {
   "cell_type": "markdown",
   "id": "869b99e9-270c-4e77-a4a2-7cca5ec17e23",
   "metadata": {},
   "source": [
    "#### Removendo caracteres especiais"
   ]
  },
  {
   "cell_type": "code",
   "execution_count": 14,
   "id": "2a47a6cd-4ebf-4e40-bb57-28088253d1c3",
   "metadata": {},
   "outputs": [],
   "source": [
    "df.ingredients = df.ingredients.apply(lambda x: re.sub(r'[^\\w\\d ,]', '', x))"
   ]
  },
  {
   "cell_type": "markdown",
   "id": "349c466b-f132-4a92-9df2-baf47b8ab9b6",
   "metadata": {},
   "source": [
    "#### Vizualizando dados"
   ]
  },
  {
   "cell_type": "code",
   "execution_count": 15,
   "id": "2feb4327-b6c0-46f1-b455-73ac1bd70f13",
   "metadata": {},
   "outputs": [
    {
     "data": {
      "text/html": [
       "<div>\n",
       "<style scoped>\n",
       "    .dataframe tbody tr th:only-of-type {\n",
       "        vertical-align: middle;\n",
       "    }\n",
       "\n",
       "    .dataframe tbody tr th {\n",
       "        vertical-align: top;\n",
       "    }\n",
       "\n",
       "    .dataframe thead th {\n",
       "        text-align: right;\n",
       "    }\n",
       "</style>\n",
       "<table border=\"1\" class=\"dataframe\">\n",
       "  <thead>\n",
       "    <tr style=\"text-align: right;\">\n",
       "      <th></th>\n",
       "      <th>id</th>\n",
       "      <th>cuisine</th>\n",
       "      <th>ingredients</th>\n",
       "    </tr>\n",
       "  </thead>\n",
       "  <tbody>\n",
       "    <tr>\n",
       "      <th>0</th>\n",
       "      <td>10259</td>\n",
       "      <td>greek</td>\n",
       "      <td>romaine lettuce black olives grape tomatoes ga...</td>\n",
       "    </tr>\n",
       "    <tr>\n",
       "      <th>1</th>\n",
       "      <td>25693</td>\n",
       "      <td>southern_us</td>\n",
       "      <td>plain flour ground pepper salt tomatoes ground...</td>\n",
       "    </tr>\n",
       "    <tr>\n",
       "      <th>2</th>\n",
       "      <td>20130</td>\n",
       "      <td>filipino</td>\n",
       "      <td>eggs pepper salt mayonaise cooking oil green c...</td>\n",
       "    </tr>\n",
       "    <tr>\n",
       "      <th>3</th>\n",
       "      <td>22213</td>\n",
       "      <td>indian</td>\n",
       "      <td>water vegetable oil wheat salt</td>\n",
       "    </tr>\n",
       "    <tr>\n",
       "      <th>4</th>\n",
       "      <td>13162</td>\n",
       "      <td>indian</td>\n",
       "      <td>black pepper shallots cornflour cayenne pepper...</td>\n",
       "    </tr>\n",
       "  </tbody>\n",
       "</table>\n",
       "</div>"
      ],
      "text/plain": [
       "      id      cuisine                                        ingredients\n",
       "0  10259        greek  romaine lettuce black olives grape tomatoes ga...\n",
       "1  25693  southern_us  plain flour ground pepper salt tomatoes ground...\n",
       "2  20130     filipino  eggs pepper salt mayonaise cooking oil green c...\n",
       "3  22213       indian                     water vegetable oil wheat salt\n",
       "4  13162       indian  black pepper shallots cornflour cayenne pepper..."
      ]
     },
     "execution_count": 15,
     "metadata": {},
     "output_type": "execute_result"
    }
   ],
   "source": [
    "df.head()"
   ]
  },
  {
   "cell_type": "code",
   "execution_count": 16,
   "id": "2103b2bf-6c9f-46ec-9165-ee2dddd8ba88",
   "metadata": {},
   "outputs": [],
   "source": [
    "train_set = df[df.cuisine != 'unknown']\n",
    "test_set = df[df.cuisine == 'unknown']"
   ]
  },
  {
   "cell_type": "code",
   "execution_count": 20,
   "id": "224fcac0-a799-46e5-91ce-f74ec7201a20",
   "metadata": {},
   "outputs": [],
   "source": [
    "tfidf = TfidfVectorizer(binary=True)\n",
    "x = tfidf.fit_transform(train_set.ingredients).todense()\n",
    "x_test = tfidf.transform(test_set.ingredients).todense()"
   ]
  },
  {
   "cell_type": "code",
   "execution_count": 22,
   "id": "391aec35-0d58-4b30-aa3a-76744a0426e2",
   "metadata": {},
   "outputs": [
    {
     "data": {
      "text/plain": [
       "(39774, 3073)"
      ]
     },
     "execution_count": 22,
     "metadata": {},
     "output_type": "execute_result"
    }
   ],
   "source": [
    "x.shape"
   ]
  },
  {
   "cell_type": "code",
   "execution_count": 25,
   "id": "0d0cd54e-4294-4d62-9530-993de67c2ee2",
   "metadata": {},
   "outputs": [
    {
     "data": {
      "text/plain": [
       "(9944, 3073)"
      ]
     },
     "execution_count": 25,
     "metadata": {},
     "output_type": "execute_result"
    }
   ],
   "source": [
    "x_test.shape"
   ]
  },
  {
   "cell_type": "markdown",
   "id": "f79fb056-bd4f-4051-8ec7-a126fe4a8e0b",
   "metadata": {},
   "source": [
    "#### Dividindo dataset de treino"
   ]
  },
  {
   "cell_type": "code",
   "execution_count": 32,
   "id": "5035dc4e-4a4f-45b2-aae7-cc91e83fff93",
   "metadata": {},
   "outputs": [],
   "source": [
    "lb = LabelEncoder()\n",
    "y = lb.fit_transform(train_set.cuisine)\n",
    "y = np_utils.to_categorical(y)"
   ]
  },
  {
   "cell_type": "code",
   "execution_count": 33,
   "id": "fdeed492-e4e7-44b0-9f50-c2e3a4ccdaf5",
   "metadata": {},
   "outputs": [
    {
     "data": {
      "text/plain": [
       "(39774, 20)"
      ]
     },
     "execution_count": 33,
     "metadata": {},
     "output_type": "execute_result"
    }
   ],
   "source": [
    "y.shape"
   ]
  },
  {
   "cell_type": "code",
   "execution_count": 35,
   "id": "f921c775-8e85-46bb-8470-1361f74cab4a",
   "metadata": {},
   "outputs": [],
   "source": [
    "seed = 29\n",
    "x_train, x_val, y_train, y_val = train_test_split(x, y, test_size=0.2, random_state=seed)"
   ]
  },
  {
   "cell_type": "code",
   "execution_count": 36,
   "id": "a57cac35-90ab-4504-829d-b28eb65f4339",
   "metadata": {},
   "outputs": [
    {
     "data": {
      "text/plain": [
       "((31819, 3073), (31819, 20), (7955, 3073), (7955, 20))"
      ]
     },
     "execution_count": 36,
     "metadata": {},
     "output_type": "execute_result"
    }
   ],
   "source": [
    "x_train.shape, y_train.shape, x_val.shape, y_val.shape"
   ]
  },
  {
   "cell_type": "markdown",
   "id": "943991f3-b9e3-4fcf-85d8-60e794e3d72c",
   "metadata": {},
   "source": [
    "#### MLP"
   ]
  },
  {
   "cell_type": "code",
   "execution_count": 39,
   "id": "3eea9d8f-8927-4b81-8ce8-3bc189f632b1",
   "metadata": {},
   "outputs": [
    {
     "name": "stdout",
     "output_type": "stream",
     "text": [
      "Model: \"sequential_1\"\n",
      "_________________________________________________________________\n",
      " Layer (type)                Output Shape              Param #   \n",
      "=================================================================\n",
      " dense_2 (Dense)             (None, 512)               1573888   \n",
      "                                                                 \n",
      " dropout_1 (Dropout)         (None, 512)               0         \n",
      "                                                                 \n",
      " dense_3 (Dense)             (None, 20)                10260     \n",
      "                                                                 \n",
      "=================================================================\n",
      "Total params: 1,584,148\n",
      "Trainable params: 1,584,148\n",
      "Non-trainable params: 0\n",
      "_________________________________________________________________\n"
     ]
    }
   ],
   "source": [
    "MLP = Sequential()\n",
    "MLP.add(Dense(512, input_shape=(3073, ), activation='relu'))\n",
    "MLP.add(Dropout(0.5))\n",
    "MLP.add(Dense(y_train.shape[1], activation='softmax'))\n",
    "MLP.compile(loss='categorical_crossentropy', optimizer='adam', metrics=['accuracy'])\n",
    "MLP.summary()"
   ]
  },
  {
   "cell_type": "code",
   "execution_count": 43,
   "id": "24b9f324-938b-4508-848e-f2fa5bfcacad",
   "metadata": {},
   "outputs": [
    {
     "name": "stderr",
     "output_type": "stream",
     "text": [
      "2023-06-01 00:42:30.054630: W tensorflow/tsl/framework/cpu_allocator_impl.cc:83] Allocation of 391119148 exceeds 10% of free system memory.\n"
     ]
    },
    {
     "name": "stdout",
     "output_type": "stream",
     "text": [
      "Epoch 1/50\n",
      "248/249 [============================>.] - ETA: 0s - loss: 0.2342 - accuracy: 0.9288"
     ]
    },
    {
     "name": "stderr",
     "output_type": "stream",
     "text": [
      "2023-06-01 00:42:46.880297: W tensorflow/tsl/framework/cpu_allocator_impl.cc:83] Allocation of 97782860 exceeds 10% of free system memory.\n"
     ]
    },
    {
     "name": "stdout",
     "output_type": "stream",
     "text": [
      "WARNING:tensorflow:Can save best model only with val_acc available, skipping.\n",
      "WARNING:tensorflow:Early stopping conditioned on metric `val_acc` which is not available. Available metrics are: loss,accuracy,val_loss,val_accuracy\n",
      "249/249 [==============================] - 11s 44ms/step - loss: 0.2339 - accuracy: 0.9289 - val_loss: 0.7687 - val_accuracy: 0.7892\n",
      "Epoch 2/50\n",
      "248/249 [============================>.] - ETA: 0s - loss: 0.2228 - accuracy: 0.9336WARNING:tensorflow:Can save best model only with val_acc available, skipping.\n",
      "WARNING:tensorflow:Early stopping conditioned on metric `val_acc` which is not available. Available metrics are: loss,accuracy,val_loss,val_accuracy\n",
      "249/249 [==============================] - 10s 40ms/step - loss: 0.2227 - accuracy: 0.9336 - val_loss: 0.7829 - val_accuracy: 0.7915\n",
      "Epoch 3/50\n",
      "249/249 [==============================] - ETA: 0s - loss: 0.2102 - accuracy: 0.9378WARNING:tensorflow:Can save best model only with val_acc available, skipping.\n",
      "WARNING:tensorflow:Early stopping conditioned on metric `val_acc` which is not available. Available metrics are: loss,accuracy,val_loss,val_accuracy\n",
      "249/249 [==============================] - 14s 56ms/step - loss: 0.2102 - accuracy: 0.9378 - val_loss: 0.7939 - val_accuracy: 0.7882\n",
      "Epoch 4/50\n",
      "249/249 [==============================] - ETA: 0s - loss: 0.2024 - accuracy: 0.9389WARNING:tensorflow:Can save best model only with val_acc available, skipping.\n",
      "WARNING:tensorflow:Early stopping conditioned on metric `val_acc` which is not available. Available metrics are: loss,accuracy,val_loss,val_accuracy\n",
      "249/249 [==============================] - 44s 176ms/step - loss: 0.2024 - accuracy: 0.9389 - val_loss: 0.8006 - val_accuracy: 0.7892\n",
      "Epoch 5/50\n",
      "249/249 [==============================] - ETA: 0s - loss: 0.1902 - accuracy: 0.9435WARNING:tensorflow:Can save best model only with val_acc available, skipping.\n",
      "WARNING:tensorflow:Early stopping conditioned on metric `val_acc` which is not available. Available metrics are: loss,accuracy,val_loss,val_accuracy\n",
      "249/249 [==============================] - 52s 210ms/step - loss: 0.1902 - accuracy: 0.9435 - val_loss: 0.8137 - val_accuracy: 0.7887\n",
      "Epoch 6/50\n",
      "249/249 [==============================] - ETA: 0s - loss: 0.1809 - accuracy: 0.9467WARNING:tensorflow:Can save best model only with val_acc available, skipping.\n",
      "WARNING:tensorflow:Early stopping conditioned on metric `val_acc` which is not available. Available metrics are: loss,accuracy,val_loss,val_accuracy\n",
      "249/249 [==============================] - 42s 168ms/step - loss: 0.1809 - accuracy: 0.9467 - val_loss: 0.8268 - val_accuracy: 0.7908\n",
      "Epoch 7/50\n",
      "248/249 [============================>.] - ETA: 0s - loss: 0.1666 - accuracy: 0.9512WARNING:tensorflow:Can save best model only with val_acc available, skipping.\n",
      "WARNING:tensorflow:Early stopping conditioned on metric `val_acc` which is not available. Available metrics are: loss,accuracy,val_loss,val_accuracy\n",
      "249/249 [==============================] - 20s 81ms/step - loss: 0.1667 - accuracy: 0.9512 - val_loss: 0.8329 - val_accuracy: 0.7891\n",
      "Epoch 8/50\n",
      "249/249 [==============================] - ETA: 0s - loss: 0.1599 - accuracy: 0.9538WARNING:tensorflow:Can save best model only with val_acc available, skipping.\n",
      "WARNING:tensorflow:Early stopping conditioned on metric `val_acc` which is not available. Available metrics are: loss,accuracy,val_loss,val_accuracy\n",
      "249/249 [==============================] - 18s 71ms/step - loss: 0.1599 - accuracy: 0.9538 - val_loss: 0.8483 - val_accuracy: 0.7884\n",
      "Epoch 9/50\n",
      "249/249 [==============================] - ETA: 0s - loss: 0.1531 - accuracy: 0.9552WARNING:tensorflow:Can save best model only with val_acc available, skipping.\n",
      "WARNING:tensorflow:Early stopping conditioned on metric `val_acc` which is not available. Available metrics are: loss,accuracy,val_loss,val_accuracy\n",
      "249/249 [==============================] - 18s 72ms/step - loss: 0.1531 - accuracy: 0.9552 - val_loss: 0.8601 - val_accuracy: 0.7857\n",
      "Epoch 10/50\n",
      "248/249 [============================>.] - ETA: 0s - loss: 0.1452 - accuracy: 0.9581WARNING:tensorflow:Can save best model only with val_acc available, skipping.\n",
      "WARNING:tensorflow:Early stopping conditioned on metric `val_acc` which is not available. Available metrics are: loss,accuracy,val_loss,val_accuracy\n",
      "249/249 [==============================] - 18s 73ms/step - loss: 0.1453 - accuracy: 0.9581 - val_loss: 0.8702 - val_accuracy: 0.7871\n",
      "Epoch 11/50\n",
      "249/249 [==============================] - ETA: 0s - loss: 0.1355 - accuracy: 0.9608WARNING:tensorflow:Can save best model only with val_acc available, skipping.\n",
      "WARNING:tensorflow:Early stopping conditioned on metric `val_acc` which is not available. Available metrics are: loss,accuracy,val_loss,val_accuracy\n",
      "249/249 [==============================] - 17s 68ms/step - loss: 0.1355 - accuracy: 0.9608 - val_loss: 0.8790 - val_accuracy: 0.7883\n",
      "Epoch 12/50\n",
      "249/249 [==============================] - ETA: 0s - loss: 0.1308 - accuracy: 0.9638WARNING:tensorflow:Can save best model only with val_acc available, skipping.\n",
      "WARNING:tensorflow:Early stopping conditioned on metric `val_acc` which is not available. Available metrics are: loss,accuracy,val_loss,val_accuracy\n",
      "249/249 [==============================] - 19s 76ms/step - loss: 0.1308 - accuracy: 0.9638 - val_loss: 0.8897 - val_accuracy: 0.7889\n",
      "Epoch 13/50\n",
      "249/249 [==============================] - ETA: 0s - loss: 0.1223 - accuracy: 0.9663WARNING:tensorflow:Can save best model only with val_acc available, skipping.\n",
      "WARNING:tensorflow:Early stopping conditioned on metric `val_acc` which is not available. Available metrics are: loss,accuracy,val_loss,val_accuracy\n",
      "249/249 [==============================] - 21s 84ms/step - loss: 0.1223 - accuracy: 0.9663 - val_loss: 0.9038 - val_accuracy: 0.7878\n",
      "Epoch 14/50\n",
      "248/249 [============================>.] - ETA: 0s - loss: 0.1167 - accuracy: 0.9680WARNING:tensorflow:Can save best model only with val_acc available, skipping.\n",
      "WARNING:tensorflow:Early stopping conditioned on metric `val_acc` which is not available. Available metrics are: loss,accuracy,val_loss,val_accuracy\n",
      "249/249 [==============================] - 20s 78ms/step - loss: 0.1166 - accuracy: 0.9680 - val_loss: 0.9144 - val_accuracy: 0.7891\n",
      "Epoch 15/50\n",
      "249/249 [==============================] - ETA: 0s - loss: 0.1100 - accuracy: 0.9696WARNING:tensorflow:Can save best model only with val_acc available, skipping.\n",
      "WARNING:tensorflow:Early stopping conditioned on metric `val_acc` which is not available. Available metrics are: loss,accuracy,val_loss,val_accuracy\n",
      "249/249 [==============================] - 21s 84ms/step - loss: 0.1100 - accuracy: 0.9696 - val_loss: 0.9280 - val_accuracy: 0.7883\n",
      "Epoch 16/50\n",
      "249/249 [==============================] - ETA: 0s - loss: 0.1041 - accuracy: 0.9705WARNING:tensorflow:Can save best model only with val_acc available, skipping.\n",
      "WARNING:tensorflow:Early stopping conditioned on metric `val_acc` which is not available. Available metrics are: loss,accuracy,val_loss,val_accuracy\n",
      "249/249 [==============================] - 20s 80ms/step - loss: 0.1041 - accuracy: 0.9705 - val_loss: 0.9286 - val_accuracy: 0.7893\n",
      "Epoch 17/50\n",
      "249/249 [==============================] - ETA: 0s - loss: 0.1007 - accuracy: 0.9722WARNING:tensorflow:Can save best model only with val_acc available, skipping.\n",
      "WARNING:tensorflow:Early stopping conditioned on metric `val_acc` which is not available. Available metrics are: loss,accuracy,val_loss,val_accuracy\n",
      "249/249 [==============================] - 21s 83ms/step - loss: 0.1007 - accuracy: 0.9722 - val_loss: 0.9449 - val_accuracy: 0.7868\n",
      "Epoch 18/50\n",
      "249/249 [==============================] - ETA: 0s - loss: 0.0930 - accuracy: 0.9754WARNING:tensorflow:Can save best model only with val_acc available, skipping.\n",
      "WARNING:tensorflow:Early stopping conditioned on metric `val_acc` which is not available. Available metrics are: loss,accuracy,val_loss,val_accuracy\n",
      "249/249 [==============================] - 21s 86ms/step - loss: 0.0930 - accuracy: 0.9754 - val_loss: 0.9531 - val_accuracy: 0.7918\n",
      "Epoch 19/50\n",
      "249/249 [==============================] - ETA: 0s - loss: 0.0891 - accuracy: 0.9752WARNING:tensorflow:Can save best model only with val_acc available, skipping.\n",
      "WARNING:tensorflow:Early stopping conditioned on metric `val_acc` which is not available. Available metrics are: loss,accuracy,val_loss,val_accuracy\n",
      "249/249 [==============================] - 22s 90ms/step - loss: 0.0891 - accuracy: 0.9752 - val_loss: 0.9676 - val_accuracy: 0.7883\n",
      "Epoch 20/50\n",
      "249/249 [==============================] - ETA: 0s - loss: 0.0854 - accuracy: 0.9774WARNING:tensorflow:Can save best model only with val_acc available, skipping.\n",
      "WARNING:tensorflow:Early stopping conditioned on metric `val_acc` which is not available. Available metrics are: loss,accuracy,val_loss,val_accuracy\n",
      "249/249 [==============================] - 21s 86ms/step - loss: 0.0854 - accuracy: 0.9774 - val_loss: 0.9786 - val_accuracy: 0.7889\n",
      "Epoch 21/50\n",
      "249/249 [==============================] - ETA: 0s - loss: 0.0816 - accuracy: 0.9790WARNING:tensorflow:Can save best model only with val_acc available, skipping.\n",
      "WARNING:tensorflow:Early stopping conditioned on metric `val_acc` which is not available. Available metrics are: loss,accuracy,val_loss,val_accuracy\n",
      "249/249 [==============================] - 24s 97ms/step - loss: 0.0816 - accuracy: 0.9790 - val_loss: 0.9893 - val_accuracy: 0.7869\n",
      "Epoch 22/50\n",
      "249/249 [==============================] - ETA: 0s - loss: 0.0791 - accuracy: 0.9786WARNING:tensorflow:Can save best model only with val_acc available, skipping.\n",
      "WARNING:tensorflow:Early stopping conditioned on metric `val_acc` which is not available. Available metrics are: loss,accuracy,val_loss,val_accuracy\n",
      "249/249 [==============================] - 21s 83ms/step - loss: 0.0791 - accuracy: 0.9786 - val_loss: 0.9967 - val_accuracy: 0.7881\n",
      "Epoch 23/50\n",
      "249/249 [==============================] - ETA: 0s - loss: 0.0746 - accuracy: 0.9807WARNING:tensorflow:Can save best model only with val_acc available, skipping.\n",
      "WARNING:tensorflow:Early stopping conditioned on metric `val_acc` which is not available. Available metrics are: loss,accuracy,val_loss,val_accuracy\n",
      "249/249 [==============================] - 17s 69ms/step - loss: 0.0746 - accuracy: 0.9807 - val_loss: 1.0093 - val_accuracy: 0.7901\n",
      "Epoch 24/50\n",
      "249/249 [==============================] - ETA: 0s - loss: 0.0709 - accuracy: 0.9812WARNING:tensorflow:Can save best model only with val_acc available, skipping.\n",
      "WARNING:tensorflow:Early stopping conditioned on metric `val_acc` which is not available. Available metrics are: loss,accuracy,val_loss,val_accuracy\n",
      "249/249 [==============================] - 19s 76ms/step - loss: 0.0709 - accuracy: 0.9812 - val_loss: 1.0273 - val_accuracy: 0.7871\n",
      "Epoch 25/50\n",
      "249/249 [==============================] - ETA: 0s - loss: 0.0694 - accuracy: 0.9819WARNING:tensorflow:Can save best model only with val_acc available, skipping.\n",
      "WARNING:tensorflow:Early stopping conditioned on metric `val_acc` which is not available. Available metrics are: loss,accuracy,val_loss,val_accuracy\n",
      "249/249 [==============================] - 21s 84ms/step - loss: 0.0694 - accuracy: 0.9819 - val_loss: 1.0336 - val_accuracy: 0.7883\n",
      "Epoch 26/50\n",
      "249/249 [==============================] - ETA: 0s - loss: 0.0648 - accuracy: 0.9839WARNING:tensorflow:Can save best model only with val_acc available, skipping.\n",
      "WARNING:tensorflow:Early stopping conditioned on metric `val_acc` which is not available. Available metrics are: loss,accuracy,val_loss,val_accuracy\n",
      "249/249 [==============================] - 23s 92ms/step - loss: 0.0648 - accuracy: 0.9839 - val_loss: 1.0409 - val_accuracy: 0.7879\n",
      "Epoch 27/50\n",
      "248/249 [============================>.] - ETA: 0s - loss: 0.0623 - accuracy: 0.9842WARNING:tensorflow:Can save best model only with val_acc available, skipping.\n",
      "WARNING:tensorflow:Early stopping conditioned on metric `val_acc` which is not available. Available metrics are: loss,accuracy,val_loss,val_accuracy\n",
      "249/249 [==============================] - 21s 86ms/step - loss: 0.0625 - accuracy: 0.9841 - val_loss: 1.0550 - val_accuracy: 0.7882\n",
      "Epoch 28/50\n",
      "249/249 [==============================] - ETA: 0s - loss: 0.0573 - accuracy: 0.9856WARNING:tensorflow:Can save best model only with val_acc available, skipping.\n",
      "WARNING:tensorflow:Early stopping conditioned on metric `val_acc` which is not available. Available metrics are: loss,accuracy,val_loss,val_accuracy\n",
      "249/249 [==============================] - 23s 91ms/step - loss: 0.0573 - accuracy: 0.9856 - val_loss: 1.0639 - val_accuracy: 0.7891\n",
      "Epoch 29/50\n",
      "248/249 [============================>.] - ETA: 0s - loss: 0.0583 - accuracy: 0.9846WARNING:tensorflow:Can save best model only with val_acc available, skipping.\n",
      "WARNING:tensorflow:Early stopping conditioned on metric `val_acc` which is not available. Available metrics are: loss,accuracy,val_loss,val_accuracy\n",
      "249/249 [==============================] - 23s 92ms/step - loss: 0.0583 - accuracy: 0.9846 - val_loss: 1.0633 - val_accuracy: 0.7891\n",
      "Epoch 30/50\n",
      "249/249 [==============================] - ETA: 0s - loss: 0.0566 - accuracy: 0.9854WARNING:tensorflow:Can save best model only with val_acc available, skipping.\n",
      "WARNING:tensorflow:Early stopping conditioned on metric `val_acc` which is not available. Available metrics are: loss,accuracy,val_loss,val_accuracy\n",
      "249/249 [==============================] - 23s 94ms/step - loss: 0.0566 - accuracy: 0.9854 - val_loss: 1.0817 - val_accuracy: 0.7884\n",
      "Epoch 31/50\n",
      "249/249 [==============================] - ETA: 0s - loss: 0.0544 - accuracy: 0.9851WARNING:tensorflow:Can save best model only with val_acc available, skipping.\n",
      "WARNING:tensorflow:Early stopping conditioned on metric `val_acc` which is not available. Available metrics are: loss,accuracy,val_loss,val_accuracy\n",
      "249/249 [==============================] - 24s 96ms/step - loss: 0.0544 - accuracy: 0.9851 - val_loss: 1.0858 - val_accuracy: 0.7858\n",
      "Epoch 32/50\n",
      "249/249 [==============================] - ETA: 0s - loss: 0.0514 - accuracy: 0.9876WARNING:tensorflow:Can save best model only with val_acc available, skipping.\n",
      "WARNING:tensorflow:Early stopping conditioned on metric `val_acc` which is not available. Available metrics are: loss,accuracy,val_loss,val_accuracy\n",
      "249/249 [==============================] - 23s 93ms/step - loss: 0.0514 - accuracy: 0.9876 - val_loss: 1.0988 - val_accuracy: 0.7878\n",
      "Epoch 33/50\n",
      "249/249 [==============================] - ETA: 0s - loss: 0.0491 - accuracy: 0.9880WARNING:tensorflow:Can save best model only with val_acc available, skipping.\n",
      "WARNING:tensorflow:Early stopping conditioned on metric `val_acc` which is not available. Available metrics are: loss,accuracy,val_loss,val_accuracy\n",
      "249/249 [==============================] - 23s 91ms/step - loss: 0.0491 - accuracy: 0.9880 - val_loss: 1.1071 - val_accuracy: 0.7864\n",
      "Epoch 34/50\n",
      "249/249 [==============================] - ETA: 0s - loss: 0.0464 - accuracy: 0.9885WARNING:tensorflow:Can save best model only with val_acc available, skipping.\n",
      "WARNING:tensorflow:Early stopping conditioned on metric `val_acc` which is not available. Available metrics are: loss,accuracy,val_loss,val_accuracy\n",
      "249/249 [==============================] - 24s 95ms/step - loss: 0.0464 - accuracy: 0.9885 - val_loss: 1.1198 - val_accuracy: 0.7882\n",
      "Epoch 35/50\n",
      "249/249 [==============================] - ETA: 0s - loss: 0.0445 - accuracy: 0.9886WARNING:tensorflow:Can save best model only with val_acc available, skipping.\n",
      "WARNING:tensorflow:Early stopping conditioned on metric `val_acc` which is not available. Available metrics are: loss,accuracy,val_loss,val_accuracy\n",
      "249/249 [==============================] - 24s 95ms/step - loss: 0.0445 - accuracy: 0.9886 - val_loss: 1.1275 - val_accuracy: 0.7881\n",
      "Epoch 36/50\n",
      "249/249 [==============================] - ETA: 0s - loss: 0.0444 - accuracy: 0.9885WARNING:tensorflow:Can save best model only with val_acc available, skipping.\n",
      "WARNING:tensorflow:Early stopping conditioned on metric `val_acc` which is not available. Available metrics are: loss,accuracy,val_loss,val_accuracy\n",
      "249/249 [==============================] - 26s 103ms/step - loss: 0.0444 - accuracy: 0.9885 - val_loss: 1.1340 - val_accuracy: 0.7908\n",
      "Epoch 37/50\n",
      "249/249 [==============================] - ETA: 0s - loss: 0.0418 - accuracy: 0.9894WARNING:tensorflow:Can save best model only with val_acc available, skipping.\n",
      "WARNING:tensorflow:Early stopping conditioned on metric `val_acc` which is not available. Available metrics are: loss,accuracy,val_loss,val_accuracy\n",
      "249/249 [==============================] - 26s 106ms/step - loss: 0.0418 - accuracy: 0.9894 - val_loss: 1.1439 - val_accuracy: 0.7901\n",
      "Epoch 38/50\n",
      "249/249 [==============================] - ETA: 0s - loss: 0.0399 - accuracy: 0.9900WARNING:tensorflow:Can save best model only with val_acc available, skipping.\n",
      "WARNING:tensorflow:Early stopping conditioned on metric `val_acc` which is not available. Available metrics are: loss,accuracy,val_loss,val_accuracy\n",
      "249/249 [==============================] - 23s 94ms/step - loss: 0.0399 - accuracy: 0.9900 - val_loss: 1.1559 - val_accuracy: 0.7898\n",
      "Epoch 39/50\n",
      "249/249 [==============================] - ETA: 0s - loss: 0.0396 - accuracy: 0.9900WARNING:tensorflow:Can save best model only with val_acc available, skipping.\n",
      "WARNING:tensorflow:Early stopping conditioned on metric `val_acc` which is not available. Available metrics are: loss,accuracy,val_loss,val_accuracy\n",
      "249/249 [==============================] - 25s 99ms/step - loss: 0.0396 - accuracy: 0.9900 - val_loss: 1.1597 - val_accuracy: 0.7881\n",
      "Epoch 40/50\n",
      "249/249 [==============================] - ETA: 0s - loss: 0.0376 - accuracy: 0.9909WARNING:tensorflow:Can save best model only with val_acc available, skipping.\n",
      "WARNING:tensorflow:Early stopping conditioned on metric `val_acc` which is not available. Available metrics are: loss,accuracy,val_loss,val_accuracy\n",
      "249/249 [==============================] - 24s 96ms/step - loss: 0.0376 - accuracy: 0.9909 - val_loss: 1.1663 - val_accuracy: 0.7908\n",
      "Epoch 41/50\n",
      "249/249 [==============================] - ETA: 0s - loss: 0.0354 - accuracy: 0.9917WARNING:tensorflow:Can save best model only with val_acc available, skipping.\n",
      "WARNING:tensorflow:Early stopping conditioned on metric `val_acc` which is not available. Available metrics are: loss,accuracy,val_loss,val_accuracy\n",
      "249/249 [==============================] - 25s 100ms/step - loss: 0.0354 - accuracy: 0.9917 - val_loss: 1.1811 - val_accuracy: 0.7925\n",
      "Epoch 42/50\n",
      "249/249 [==============================] - ETA: 0s - loss: 0.0346 - accuracy: 0.9915WARNING:tensorflow:Can save best model only with val_acc available, skipping.\n",
      "WARNING:tensorflow:Early stopping conditioned on metric `val_acc` which is not available. Available metrics are: loss,accuracy,val_loss,val_accuracy\n",
      "249/249 [==============================] - 25s 100ms/step - loss: 0.0346 - accuracy: 0.9915 - val_loss: 1.1936 - val_accuracy: 0.7887\n",
      "Epoch 43/50\n",
      "249/249 [==============================] - ETA: 0s - loss: 0.0337 - accuracy: 0.9909WARNING:tensorflow:Can save best model only with val_acc available, skipping.\n",
      "WARNING:tensorflow:Early stopping conditioned on metric `val_acc` which is not available. Available metrics are: loss,accuracy,val_loss,val_accuracy\n",
      "249/249 [==============================] - 24s 98ms/step - loss: 0.0337 - accuracy: 0.9909 - val_loss: 1.1981 - val_accuracy: 0.7898\n",
      "Epoch 44/50\n",
      "249/249 [==============================] - ETA: 0s - loss: 0.0334 - accuracy: 0.9918WARNING:tensorflow:Can save best model only with val_acc available, skipping.\n",
      "WARNING:tensorflow:Early stopping conditioned on metric `val_acc` which is not available. Available metrics are: loss,accuracy,val_loss,val_accuracy\n",
      "249/249 [==============================] - 23s 93ms/step - loss: 0.0334 - accuracy: 0.9918 - val_loss: 1.2054 - val_accuracy: 0.7889\n",
      "Epoch 45/50\n",
      "249/249 [==============================] - ETA: 0s - loss: 0.0322 - accuracy: 0.9926WARNING:tensorflow:Can save best model only with val_acc available, skipping.\n",
      "WARNING:tensorflow:Early stopping conditioned on metric `val_acc` which is not available. Available metrics are: loss,accuracy,val_loss,val_accuracy\n",
      "249/249 [==============================] - 25s 100ms/step - loss: 0.0322 - accuracy: 0.9926 - val_loss: 1.2157 - val_accuracy: 0.7891\n",
      "Epoch 46/50\n",
      "249/249 [==============================] - ETA: 0s - loss: 0.0308 - accuracy: 0.9928WARNING:tensorflow:Can save best model only with val_acc available, skipping.\n",
      "WARNING:tensorflow:Early stopping conditioned on metric `val_acc` which is not available. Available metrics are: loss,accuracy,val_loss,val_accuracy\n",
      "249/249 [==============================] - 25s 99ms/step - loss: 0.0308 - accuracy: 0.9928 - val_loss: 1.2327 - val_accuracy: 0.7884\n",
      "Epoch 47/50\n",
      "249/249 [==============================] - ETA: 0s - loss: 0.0295 - accuracy: 0.9928WARNING:tensorflow:Can save best model only with val_acc available, skipping.\n",
      "WARNING:tensorflow:Early stopping conditioned on metric `val_acc` which is not available. Available metrics are: loss,accuracy,val_loss,val_accuracy\n",
      "249/249 [==============================] - 24s 97ms/step - loss: 0.0295 - accuracy: 0.9928 - val_loss: 1.2417 - val_accuracy: 0.7889\n",
      "Epoch 48/50\n",
      "249/249 [==============================] - ETA: 0s - loss: 0.0293 - accuracy: 0.9926WARNING:tensorflow:Can save best model only with val_acc available, skipping.\n",
      "WARNING:tensorflow:Early stopping conditioned on metric `val_acc` which is not available. Available metrics are: loss,accuracy,val_loss,val_accuracy\n",
      "249/249 [==============================] - 25s 101ms/step - loss: 0.0293 - accuracy: 0.9926 - val_loss: 1.2452 - val_accuracy: 0.7884\n",
      "Epoch 49/50\n",
      "249/249 [==============================] - ETA: 0s - loss: 0.0282 - accuracy: 0.9931WARNING:tensorflow:Can save best model only with val_acc available, skipping.\n",
      "WARNING:tensorflow:Early stopping conditioned on metric `val_acc` which is not available. Available metrics are: loss,accuracy,val_loss,val_accuracy\n",
      "249/249 [==============================] - 24s 95ms/step - loss: 0.0282 - accuracy: 0.9931 - val_loss: 1.2571 - val_accuracy: 0.7881\n",
      "Epoch 50/50\n",
      "249/249 [==============================] - ETA: 0s - loss: 0.0265 - accuracy: 0.9934WARNING:tensorflow:Can save best model only with val_acc available, skipping.\n",
      "WARNING:tensorflow:Early stopping conditioned on metric `val_acc` which is not available. Available metrics are: loss,accuracy,val_loss,val_accuracy\n",
      "249/249 [==============================] - 25s 102ms/step - loss: 0.0265 - accuracy: 0.9934 - val_loss: 1.2684 - val_accuracy: 0.7899\n"
     ]
    }
   ],
   "source": [
    "file_weights_path = \"../datasets/cooking/weights/mlp.hdf5\"\n",
    "check_point = ModelCheckpoint(filepath=file_weights_path, monitor=\"val_acc\", verbose=1, save_best_only=True, mode=\"max\")\n",
    "early_stop = EarlyStopping(monitor=\"val_acc\", mode=\"max\", patience=5)\n",
    "\n",
    "mlp_history = MLP.fit(\n",
    "    x_train,\n",
    "    y_train,\n",
    "    batch_size=128,\n",
    "    epochs=50,\n",
    "    validation_data=(x_val, y_val),\n",
    "    callbacks=[check_point, early_stop]\n",
    ")"
   ]
  },
  {
   "cell_type": "code",
   "execution_count": 44,
   "id": "d1e21651-6c2e-4c8b-868e-8a7bb88351d8",
   "metadata": {},
   "outputs": [
    {
     "data": {
      "image/png": "[encoded data removed]",
      "text/plain": [
       "<Figure size 800x500 with 1 Axes>"
      ]
     },
     "metadata": {},
     "output_type": "display_data"
    }
   ],
   "source": [
    "pd.DataFrame(mlp_history.history).plot(figsize=(8,5))\n",
    "plt.grid(True)\n",
    "plt.gca().set_ylim(0,3)\n",
    "plt.show()"
   ]
  },
  {
   "cell_type": "code",
   "execution_count": null,
   "id": "98f9f8f4-fd6a-421c-b717-f07f378e85a2",
   "metadata": {},
   "outputs": [],
   "source": []
  },
  {
   "cell_type": "code",
   "execution_count": null,
   "id": "f1017cc1-6ab5-444b-8f3f-d210afdfc4c8",
   "metadata": {},
   "outputs": [],
   "source": []
  }
 ],
 "metadata": {
  "kernelspec": {
   "display_name": "Python 3 (ipykernel)",
   "language": "python",
   "name": "python3"
  },
  "language_info": {
   "codemirror_mode": {
    "name": "ipython",
    "version": 3
   },
   "file_extension": ".py",
   "mimetype": "text/x-python",
   "name": "python",
   "nbconvert_exporter": "python",
   "pygments_lexer": "ipython3",
   "version": "3.10.11"
  }
 },
 "nbformat": 4,
 "nbformat_minor": 5
}
