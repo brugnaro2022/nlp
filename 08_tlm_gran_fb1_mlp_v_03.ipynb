{
 "cells": [
  {
   "cell_type": "markdown",
   "id": "0eeecbd9-595c-478a-b467-0b325bf25dff",
   "metadata": {
    "id": "0eeecbd9-595c-478a-b467-0b325bf25dff"
   },
   "source": [
    "\n",
    "<b>INSTITUTO FEDERAL DE GOIÁS<br/>\n",
    "PÓS-GRADUAÇÃO EM INTELIGÊNCIA ARTIFICIAL APLICADA<br/></b>\n",
    "Disciplina: Processamento de Linguagem Natural  <br/>\n",
    "Professor: Daniel Xavier de Sousa <br/>\n",
    "Alunos: Wagner Silva, Cleibson, Marcos Rodrigues\n",
    "\n",
    "\n",
    "---"
   ]
  },
  {
   "cell_type": "code",
   "execution_count": 2,
   "id": "aee85bd9-5b95-434d-9e05-ba9ea9a57343",
   "metadata": {
    "tags": []
   },
   "outputs": [
    {
     "name": "stdout",
     "output_type": "stream",
     "text": [
      "Collecting transformers==4.33.1\n",
      "  Obtaining dependency information for transformers==4.33.1 from https://files.pythonhosted.org/packages/13/30/54b59e73400df3de506ad8630284e9fd63f4b94f735423d55fc342181037/transformers-4.33.1-py3-none-any.whl.metadata\n",
      "  Using cached transformers-4.33.1-py3-none-any.whl.metadata (119 kB)\n",
      "Collecting filelock (from transformers==4.33.1)\n",
      "  Obtaining dependency information for filelock from https://files.pythonhosted.org/packages/5e/5d/97afbafd9d584ff1b45fcb354a479a3609bd97f912f8f1f6c563cb1fae21/filelock-3.12.4-py3-none-any.whl.metadata\n",
      "  Downloading filelock-3.12.4-py3-none-any.whl.metadata (2.8 kB)\n",
      "Collecting huggingface-hub<1.0,>=0.15.1 (from transformers==4.33.1)\n",
      "  Obtaining dependency information for huggingface-hub<1.0,>=0.15.1 from https://files.pythonhosted.org/packages/50/9d/5eac2733606df7d164b951b14cd76b056e530af96c881aaec89383bdbe45/huggingface_hub-0.17.1-py3-none-any.whl.metadata\n",
      "  Downloading huggingface_hub-0.17.1-py3-none-any.whl.metadata (13 kB)\n",
      "Collecting numpy>=1.17 (from transformers==4.33.1)\n",
      "  Obtaining dependency information for numpy>=1.17 from https://files.pythonhosted.org/packages/71/3c/3b1981c6a1986adc9ee7db760c0c34ea5b14ac3da9ecfcf1ea2a4ec6c398/numpy-1.25.2-cp310-cp310-manylinux_2_17_x86_64.manylinux2014_x86_64.whl.metadata\n",
      "  Downloading numpy-1.25.2-cp310-cp310-manylinux_2_17_x86_64.manylinux2014_x86_64.whl.metadata (5.6 kB)\n",
      "Requirement already satisfied: packaging>=20.0 in /home/marcos/anaconda3/envs/pln_env_v_01/lib/python3.10/site-packages (from transformers==4.33.1) (23.1)\n",
      "Requirement already satisfied: pyyaml>=5.1 in /home/marcos/anaconda3/envs/pln_env_v_01/lib/python3.10/site-packages (from transformers==4.33.1) (6.0)\n",
      "Collecting regex!=2019.12.17 (from transformers==4.33.1)\n",
      "  Obtaining dependency information for regex!=2019.12.17 from https://files.pythonhosted.org/packages/d1/df/460ca6171a8494fcf37af43f52f6fac23e38784bb4a26563f6fa01ef6faf/regex-2023.8.8-cp310-cp310-manylinux_2_17_x86_64.manylinux2014_x86_64.whl.metadata\n",
      "  Using cached regex-2023.8.8-cp310-cp310-manylinux_2_17_x86_64.manylinux2014_x86_64.whl.metadata (40 kB)\n",
      "Requirement already satisfied: requests in /home/marcos/anaconda3/envs/pln_env_v_01/lib/python3.10/site-packages (from transformers==4.33.1) (2.31.0)\n",
      "Collecting tokenizers!=0.11.3,<0.14,>=0.11.1 (from transformers==4.33.1)\n",
      "  Using cached tokenizers-0.13.3-cp310-cp310-manylinux_2_17_x86_64.manylinux2014_x86_64.whl (7.8 MB)\n",
      "Collecting safetensors>=0.3.1 (from transformers==4.33.1)\n",
      "  Obtaining dependency information for safetensors>=0.3.1 from https://files.pythonhosted.org/packages/6c/f0/c17bbdb1e5f9dab29d44cade445135789f75f8f08ea2728d04493ea8412b/safetensors-0.3.3-cp310-cp310-manylinux_2_17_x86_64.manylinux2014_x86_64.whl.metadata\n",
      "  Downloading safetensors-0.3.3-cp310-cp310-manylinux_2_17_x86_64.manylinux2014_x86_64.whl.metadata (4.7 kB)\n",
      "Collecting tqdm>=4.27 (from transformers==4.33.1)\n",
      "  Obtaining dependency information for tqdm>=4.27 from https://files.pythonhosted.org/packages/00/e5/f12a80907d0884e6dff9c16d0c0114d81b8cd07dc3ae54c5e962cc83037e/tqdm-4.66.1-py3-none-any.whl.metadata\n",
      "  Downloading tqdm-4.66.1-py3-none-any.whl.metadata (57 kB)\n",
      "\u001b[2K     \u001b[38;2;114;156;31m━━━━━━━━━━━━━━━━━━━━━━━━━━━━━━━━━━━━━━━━\u001b[0m \u001b[32m57.6/57.6 kB\u001b[0m \u001b[31m2.2 MB/s\u001b[0m eta \u001b[36m0:00:00\u001b[0m\n",
      "\u001b[?25hCollecting fsspec (from huggingface-hub<1.0,>=0.15.1->transformers==4.33.1)\n",
      "  Obtaining dependency information for fsspec from https://files.pythonhosted.org/packages/3a/9f/b40e8e5be886143379000af5fc0c675352d59e82fd869d24bf784161dc77/fsspec-2023.9.0-py3-none-any.whl.metadata\n",
      "  Downloading fsspec-2023.9.0-py3-none-any.whl.metadata (6.7 kB)\n",
      "Requirement already satisfied: typing-extensions>=3.7.4.3 in /home/marcos/anaconda3/envs/pln_env_v_01/lib/python3.10/site-packages (from huggingface-hub<1.0,>=0.15.1->transformers==4.33.1) (4.7.1)\n",
      "Requirement already satisfied: charset-normalizer<4,>=2 in /home/marcos/anaconda3/envs/pln_env_v_01/lib/python3.10/site-packages (from requests->transformers==4.33.1) (2.0.4)\n",
      "Requirement already satisfied: idna<4,>=2.5 in /home/marcos/anaconda3/envs/pln_env_v_01/lib/python3.10/site-packages (from requests->transformers==4.33.1) (3.4)\n",
      "Requirement already satisfied: urllib3<3,>=1.21.1 in /home/marcos/anaconda3/envs/pln_env_v_01/lib/python3.10/site-packages (from requests->transformers==4.33.1) (1.26.16)\n",
      "Requirement already satisfied: certifi>=2017.4.17 in /home/marcos/anaconda3/envs/pln_env_v_01/lib/python3.10/site-packages (from requests->transformers==4.33.1) (2023.7.22)\n",
      "Using cached transformers-4.33.1-py3-none-any.whl (7.6 MB)\n",
      "Downloading huggingface_hub-0.17.1-py3-none-any.whl (294 kB)\n",
      "\u001b[2K   \u001b[38;2;114;156;31m━━━━━━━━━━━━━━━━━━━━━━━━━━━━━━━━━━━━━━━━\u001b[0m \u001b[32m294.8/294.8 kB\u001b[0m \u001b[31m7.2 MB/s\u001b[0m eta \u001b[36m0:00:00\u001b[0m MB/s\u001b[0m eta \u001b[36m0:00:01\u001b[0m\n",
      "\u001b[?25hDownloading numpy-1.25.2-cp310-cp310-manylinux_2_17_x86_64.manylinux2014_x86_64.whl (18.2 MB)\n",
      "\u001b[2K   \u001b[38;2;114;156;31m━━━━━━━━━━━━━━━━━━━━━━━━━━━━━━━━━━━━━━━━\u001b[0m \u001b[32m18.2/18.2 MB\u001b[0m \u001b[31m23.2 MB/s\u001b[0m eta \u001b[36m0:00:00\u001b[0mm eta \u001b[36m0:00:01\u001b[0m0:01\u001b[0m:01\u001b[0m\n",
      "\u001b[?25hUsing cached regex-2023.8.8-cp310-cp310-manylinux_2_17_x86_64.manylinux2014_x86_64.whl (771 kB)\n",
      "Downloading safetensors-0.3.3-cp310-cp310-manylinux_2_17_x86_64.manylinux2014_x86_64.whl (1.3 MB)\n",
      "\u001b[2K   \u001b[38;2;114;156;31m━━━━━━━━━━━━━━━━━━━━━━━━━━━━━━━━━━━━━━━━\u001b[0m \u001b[32m1.3/1.3 MB\u001b[0m \u001b[31m8.6 MB/s\u001b[0m eta \u001b[36m0:00:00\u001b[0mm eta \u001b[36m0:00:01\u001b[0m\u001b[36m0:00:01\u001b[0m\n",
      "\u001b[?25hDownloading tqdm-4.66.1-py3-none-any.whl (78 kB)\n",
      "\u001b[2K   \u001b[38;2;114;156;31m━━━━━━━━━━━━━━━━━━━━━━━━━━━━━━━━━━━━━━━━\u001b[0m \u001b[32m78.3/78.3 kB\u001b[0m \u001b[31m19.8 MB/s\u001b[0m eta \u001b[36m0:00:00\u001b[0m\n",
      "\u001b[?25hDownloading filelock-3.12.4-py3-none-any.whl (11 kB)\n",
      "Downloading fsspec-2023.9.0-py3-none-any.whl (173 kB)\n",
      "\u001b[2K   \u001b[38;2;114;156;31m━━━━━━━━━━━━━━━━━━━━━━━━━━━━━━━━━━━━━━━━\u001b[0m \u001b[32m173.2/173.2 kB\u001b[0m \u001b[31m25.7 MB/s\u001b[0m eta \u001b[36m0:00:00\u001b[0m\n",
      "\u001b[?25hInstalling collected packages: tokenizers, safetensors, tqdm, regex, numpy, fsspec, filelock, huggingface-hub, transformers\n",
      "Successfully installed filelock-3.12.4 fsspec-2023.9.0 huggingface-hub-0.17.1 numpy-1.25.2 regex-2023.8.8 safetensors-0.3.3 tokenizers-0.13.3 tqdm-4.66.1 transformers-4.33.1\n"
     ]
    }
   ],
   "source": [
    "!pip install transformers==4.33.1"
   ]
  },
  {
   "cell_type": "code",
   "execution_count": 19,
   "id": "4eff3435-e01a-40ee-a853-4d9378cfc2cd",
   "metadata": {
    "executionInfo": {
     "elapsed": 13760,
     "status": "ok",
     "timestamp": 1694631811644,
     "user": {
      "displayName": "Marcos Rodrigues",
      "userId": "12069737177985307674"
     },
     "user_tz": 180
    },
    "id": "4eff3435-e01a-40ee-a853-4d9378cfc2cd",
    "tags": []
   },
   "outputs": [],
   "source": [
    "import pandas as pd\n",
    "import numpy as np\n",
    "import torch\n",
    "\n",
    "from tqdm import tqdm\n",
    "\n",
    "from transformers import XLMRobertaTokenizerFast, XLMRobertaModel\n",
    "\n",
    "from sklearn.model_selection import cross_val_score, train_test_split\n",
    "from sklearn.model_selection import KFold\n",
    "from sklearn.metrics import accuracy_score, f1_score, roc_curve, auc, confusion_matrix\n",
    "\n",
    "import tensorflow as tf\n",
    "from tensorflow.keras.models import Sequential\n",
    "from tensorflow.keras.layers import Dense, Dropout\n",
    "from tensorflow.keras.callbacks import EarlyStopping, ModelCheckpoint\n",
    "from tensorflow.keras.optimizers import Adam\n",
    "\n",
    "import csv\n",
    "import ast\n",
    "\n",
    "import matplotlib.pyplot as plt\n",
    "import seaborn as sbn"
   ]
  },
  {
   "cell_type": "code",
   "execution_count": 12,
   "id": "67bd7419-7171-467e-9bff-0bafd968a094",
   "metadata": {
    "executionInfo": {
     "elapsed": 608,
     "status": "ok",
     "timestamp": 1694631958032,
     "user": {
      "displayName": "Marcos Rodrigues",
      "userId": "12069737177985307674"
     },
     "user_tz": 180
    },
    "id": "67bd7419-7171-467e-9bff-0bafd968a094",
    "tags": []
   },
   "outputs": [],
   "source": [
    "df = pd.read_csv(f'../datasets/buscape_preprocessed.csv')"
   ]
  },
  {
   "cell_type": "code",
   "execution_count": 13,
   "id": "jVqyVTPWPqjn",
   "metadata": {
    "colab": {
     "base_uri": "https://localhost:8080/"
    },
    "executionInfo": {
     "elapsed": 4,
     "status": "ok",
     "timestamp": 1694631960104,
     "user": {
      "displayName": "Marcos Rodrigues",
      "userId": "12069737177985307674"
     },
     "user_tz": 180
    },
    "id": "jVqyVTPWPqjn",
    "outputId": "85824586-63f0-441f-b809-abc9e2a8d027",
    "tags": []
   },
   "outputs": [
    {
     "data": {
      "text/plain": [
       "(133438, 2)"
      ]
     },
     "execution_count": 13,
     "metadata": {},
     "output_type": "execute_result"
    }
   ],
   "source": [
    "df.shape"
   ]
  },
  {
   "cell_type": "code",
   "execution_count": 14,
   "id": "6679171a-4b4e-43be-bd06-6207cd4c349c",
   "metadata": {
    "colab": {
     "base_uri": "https://localhost:8080/"
    },
    "executionInfo": {
     "elapsed": 1934,
     "status": "ok",
     "timestamp": 1694631964980,
     "user": {
      "displayName": "Marcos Rodrigues",
      "userId": "12069737177985307674"
     },
     "user_tz": 180
    },
    "id": "6679171a-4b4e-43be-bd06-6207cd4c349c",
    "outputId": "8f87048e-7098-49f0-c484-3f7c109841ad",
    "tags": []
   },
   "outputs": [
    {
     "data": {
      "text/plain": [
       "rating\n",
       "0    66741\n",
       "1    66697\n",
       "Name: count, dtype: int64"
      ]
     },
     "execution_count": 14,
     "metadata": {},
     "output_type": "execute_result"
    }
   ],
   "source": [
    "df['rating'].value_counts()"
   ]
  },
  {
   "cell_type": "code",
   "execution_count": 15,
   "id": "282fb03a-25e5-40c0-9611-8c6ab5ebeff0",
   "metadata": {
    "executionInfo": {
     "elapsed": 456,
     "status": "ok",
     "timestamp": 1694631968535,
     "user": {
      "displayName": "Marcos Rodrigues",
      "userId": "12069737177985307674"
     },
     "user_tz": 180
    },
    "id": "282fb03a-25e5-40c0-9611-8c6ab5ebeff0",
    "tags": []
   },
   "outputs": [],
   "source": [
    "reviews = df['review_text']\n",
    "labels = df['rating']"
   ]
  },
  {
   "cell_type": "code",
   "execution_count": 17,
   "id": "8521cf55-2688-44ba-98e6-0f814335007c",
   "metadata": {
    "tags": []
   },
   "outputs": [],
   "source": [
    "def load_model_on_cpu(model_path):\n",
    "    # Load the model to CPU by using map_location\n",
    "    loaded_model = torch.load(model_path, map_location=torch.device('cpu'))\n",
    "    \n",
    "    # Ensure all model parameters are on CPU\n",
    "    if isinstance(loaded_model, torch.nn.Module):\n",
    "        loaded_model.to(torch.device('cpu'))\n",
    "    elif isinstance(loaded_model, dict):\n",
    "        for key in loaded_model:\n",
    "            if isinstance(loaded_model[key], torch.nn.Module):\n",
    "                loaded_model[key].to(torch.device('cpu'))\n",
    "    \n",
    "    return loaded_model"
   ]
  },
  {
   "cell_type": "code",
   "execution_count": 20,
   "id": "4a716337-77e0-4f9d-b422-85d92c4316f1",
   "metadata": {
    "tags": []
   },
   "outputs": [
    {
     "name": "stderr",
     "output_type": "stream",
     "text": [
      "Processing: 133438it [12:17, 180.90it/s]\n"
     ]
    }
   ],
   "source": [
    "loaded_embeddings_xml_roberta_large_buscape = []\n",
    "\n",
    "with open('../embeddings/xml-roberta-large-embeddings-buscape.csv', 'r') as csvfile:\n",
    "    reader = csv.reader(csvfile)\n",
    "    for row in tqdm((reader),desc='Processing'):\n",
    "        # Parse the string as a list and convert elements to floats\n",
    "        embedding_list = ast.literal_eval(row[0])\n",
    "        loaded_embeddings_xml_roberta_large_buscape.append(embedding_list)"
   ]
  },
  {
   "cell_type": "code",
   "execution_count": 24,
   "id": "f2ea1487-4d37-45f6-aa23-6390fe05d45c",
   "metadata": {
    "tags": []
   },
   "outputs": [
    {
     "name": "stdout",
     "output_type": "stream",
     "text": [
      "Embeddings: 133438\n",
      "Dimensions of each embedding: 1024\n"
     ]
    }
   ],
   "source": [
    "print(f'Embeddings: {len(loaded_embeddings_xml_roberta_large_buscape)}')\n",
    "print(f'Dimensions of each embedding: {len(loaded_embeddings_xml_roberta_large_buscape[0])}')"
   ]
  },
  {
   "cell_type": "code",
   "execution_count": 25,
   "id": "a5f7a181-d80a-4547-bb9c-227557cc9b0c",
   "metadata": {
    "tags": []
   },
   "outputs": [],
   "source": [
    "embeddings_numpy_array = np.array(loaded_embeddings_xml_roberta_large_buscape)"
   ]
  },
  {
   "cell_type": "code",
   "execution_count": 27,
   "id": "kX76NmeNLgR2",
   "metadata": {
    "colab": {
     "base_uri": "https://localhost:8080/"
    },
    "executionInfo": {
     "elapsed": 4,
     "status": "ok",
     "timestamp": 1694636442195,
     "user": {
      "displayName": "Marcos Rodrigues",
      "userId": "12069737177985307674"
     },
     "user_tz": 180
    },
    "id": "kX76NmeNLgR2",
    "outputId": "14e1681e-ae00-48ac-b76f-57a61f472b2f",
    "tags": []
   },
   "outputs": [
    {
     "data": {
      "text/plain": [
       "(133438, 1024)"
      ]
     },
     "execution_count": 27,
     "metadata": {},
     "output_type": "execute_result"
    }
   ],
   "source": [
    "embeddings_numpy_array.shape"
   ]
  },
  {
   "cell_type": "code",
   "execution_count": 64,
   "id": "JpvzOkE8Fpes",
   "metadata": {
    "executionInfo": {
     "elapsed": 2,
     "status": "ok",
     "timestamp": 1694636447109,
     "user": {
      "displayName": "Marcos Rodrigues",
      "userId": "12069737177985307674"
     },
     "user_tz": 180
    },
    "id": "JpvzOkE8Fpes",
    "tags": []
   },
   "outputs": [],
   "source": [
    "mean_values = np.mean(embeddings_numpy_array,axis=1)\n",
    "min_values = np.min(embeddings_numpy_array,axis=1)\n",
    "max_values = np.max(embeddings_numpy_array,axis=1)"
   ]
  },
  {
   "cell_type": "code",
   "execution_count": 65,
   "id": "42bec5d9-a796-4439-97de-ff69f42daf6d",
   "metadata": {
    "tags": []
   },
   "outputs": [],
   "source": [
    "mean_values = mean_values.reshape(-1, 1)  # Reshape to (num_samples, 1)\n",
    "min_values = min_values.reshape(-1, 1)    # Reshape to (num_samples, 1)\n",
    "max_values = max_values.reshape(-1, 1)    # Reshape to (num_samples, 1)"
   ]
  },
  {
   "cell_type": "code",
   "execution_count": 66,
   "id": "50dd7fa9-c930-48c1-9a95-106454aaf502",
   "metadata": {
    "tags": []
   },
   "outputs": [],
   "source": [
    "combined_data = np.concatenate((mean_values, min_values, max_values), axis=1)"
   ]
  },
  {
   "cell_type": "code",
   "execution_count": 67,
   "id": "e7194355-2d0a-4538-9d60-33aa8dfc0629",
   "metadata": {
    "tags": []
   },
   "outputs": [
    {
     "data": {
      "text/plain": [
       "(133438, 3)"
      ]
     },
     "execution_count": 67,
     "metadata": {},
     "output_type": "execute_result"
    }
   ],
   "source": [
    "combined_data.shape"
   ]
  },
  {
   "cell_type": "code",
   "execution_count": 68,
   "id": "3f5fce34-b5ec-47c1-9c85-1790d41a14cf",
   "metadata": {
    "executionInfo": {
     "elapsed": 781,
     "status": "ok",
     "timestamp": 1694636462263,
     "user": {
      "displayName": "Marcos Rodrigues",
      "userId": "12069737177985307674"
     },
     "user_tz": 180
    },
    "id": "3f5fce34-b5ec-47c1-9c85-1790d41a14cf",
    "tags": []
   },
   "outputs": [],
   "source": [
    "X_train, X_test, y_train, y_test = train_test_split(combined_data, labels, test_size=0.2, random_state=42)"
   ]
  },
  {
   "cell_type": "code",
   "execution_count": 71,
   "id": "k_EKZrLEO5LW",
   "metadata": {
    "executionInfo": {
     "elapsed": 1034,
     "status": "ok",
     "timestamp": 1694636466913,
     "user": {
      "displayName": "Marcos Rodrigues",
      "userId": "12069737177985307674"
     },
     "user_tz": 180
    },
    "id": "k_EKZrLEO5LW",
    "tags": []
   },
   "outputs": [],
   "source": [
    "DROPOUT = 0 #Dropout: 0, 10%\n",
    "LEARNING_RATE = 2.5e-5 #Learning rate: 2.5e-5 e 5e-5\n",
    "HIDDEN_LAYER = 24\n",
    "INPUT_DIM = X_train.shape[1]\n",
    "FOLDS = 10\n",
    "EPOCHS = 5\n",
    "BATCH_SIZE = 32\n",
    "VERBOSE = 0\n",
    "LOSS = 'binary_crossentropy'\n",
    "METRICS = ['accuracy']\n",
    "EARLY_STOP = EarlyStopping(monitor='val_loss', patience=3)\n",
    "CALLBACKS = [EARLY_STOP]"
   ]
  },
  {
   "cell_type": "code",
   "execution_count": 72,
   "id": "844193f9-f989-4aa6-bb3a-599ee915ec04",
   "metadata": {
    "colab": {
     "base_uri": "https://localhost:8080/"
    },
    "executionInfo": {
     "elapsed": 1681,
     "status": "ok",
     "timestamp": 1694636476367,
     "user": {
      "displayName": "Marcos Rodrigues",
      "userId": "12069737177985307674"
     },
     "user_tz": 180
    },
    "id": "844193f9-f989-4aa6-bb3a-599ee915ec04",
    "outputId": "8c9259a2-15c7-483e-8b9a-86505a373a17",
    "tags": []
   },
   "outputs": [
    {
     "name": "stdout",
     "output_type": "stream",
     "text": [
      "Model: \"sequential_6\"\n",
      "_________________________________________________________________\n",
      " Layer (type)                Output Shape              Param #   \n",
      "=================================================================\n",
      " dense_12 (Dense)            (None, 24)                96        \n",
      "                                                                 \n",
      " dropout_6 (Dropout)         (None, 24)                0         \n",
      "                                                                 \n",
      " dense_13 (Dense)            (None, 1)                 25        \n",
      "                                                                 \n",
      "=================================================================\n",
      "Total params: 121\n",
      "Trainable params: 121\n",
      "Non-trainable params: 0\n",
      "_________________________________________________________________\n"
     ]
    }
   ],
   "source": [
    "model = Sequential([\n",
    "    Dense(\n",
    "        HIDDEN_LAYER,\n",
    "        activation='relu',\n",
    "        input_dim=INPUT_DIM\n",
    "    ),\n",
    "    Dropout(DROPOUT),\n",
    "    Dense(1, activation='sigmoid')\n",
    "])\n",
    "model.summary()"
   ]
  },
  {
   "cell_type": "code",
   "execution_count": 73,
   "id": "dd5bf94b-527c-4ccd-ae79-64da1843f3c1",
   "metadata": {
    "executionInfo": {
     "elapsed": 681,
     "status": "ok",
     "timestamp": 1694636506128,
     "user": {
      "displayName": "Marcos Rodrigues",
      "userId": "12069737177985307674"
     },
     "user_tz": 180
    },
    "id": "dd5bf94b-527c-4ccd-ae79-64da1843f3c1",
    "tags": []
   },
   "outputs": [],
   "source": [
    "model.compile(\n",
    "    optimizer=Adam(learning_rate=LEARNING_RATE),\n",
    "    loss=LOSS,\n",
    "    metrics=METRICS\n",
    ")"
   ]
  },
  {
   "cell_type": "code",
   "execution_count": 74,
   "id": "08e203b7-d30e-4d36-a824-4965e5a13299",
   "metadata": {
    "executionInfo": {
     "elapsed": 451,
     "status": "ok",
     "timestamp": 1694636510192,
     "user": {
      "displayName": "Marcos Rodrigues",
      "userId": "12069737177985307674"
     },
     "user_tz": 180
    },
    "id": "08e203b7-d30e-4d36-a824-4965e5a13299",
    "tags": []
   },
   "outputs": [],
   "source": [
    "kf = KFold(n_splits=FOLDS, shuffle=True, random_state=42)"
   ]
  },
  {
   "cell_type": "code",
   "execution_count": 75,
   "id": "b911ef20-f3f2-4033-99ef-99451a97abc2",
   "metadata": {
    "colab": {
     "base_uri": "https://localhost:8080/"
    },
    "id": "b911ef20-f3f2-4033-99ef-99451a97abc2",
    "outputId": "0b419930-ef7e-453e-e2c9-3956d3372ac1",
    "tags": []
   },
   "outputs": [
    {
     "name": "stderr",
     "output_type": "stream",
     "text": [
      "Processing: 0it [00:00, ?it/s]"
     ]
    },
    {
     "name": "stdout",
     "output_type": "stream",
     "text": [
      "fold = 1\n",
      "3753/3753 [==============================] - 7s 2ms/step\n",
      "417/417 [==============================] - 1s 1ms/step\n"
     ]
    },
    {
     "name": "stderr",
     "output_type": "stream",
     "text": [
      "Processing: 1it [01:41, 101.18s/it]"
     ]
    },
    {
     "name": "stdout",
     "output_type": "stream",
     "text": [
      "------------------------------------------------------------\n",
      "fold: 1\n",
      "loss: 0.7750206589698792\n",
      "acc: 0.4859559953212738\n",
      "f1_score: 0.4220088681797685\n",
      "------------------------------\n",
      "val_loss: 0.695831036567688\n",
      "val_acc: 0.48192415833473207\n",
      "val_f1_score: 0.4274565746412688\n",
      "------------------------------------------------------------\n",
      "fold = 2\n",
      "3753/3753 [==============================] - 7s 2ms/step\n",
      "417/417 [==============================] - 1s 2ms/step\n"
     ]
    },
    {
     "name": "stderr",
     "output_type": "stream",
     "text": [
      "Processing: 2it [02:59, 87.78s/it] "
     ]
    },
    {
     "name": "stdout",
     "output_type": "stream",
     "text": [
      "------------------------------------------------------------\n",
      "fold: 2\n",
      "loss: 0.694106113910675\n",
      "acc: 0.48403750658035277\n",
      "f1_score: 0.41506630086877\n",
      "------------------------------\n",
      "val_loss: 0.69389488697052\n",
      "val_acc: 0.48315819501876833\n",
      "val_f1_score: 0.41894447309609767\n",
      "------------------------------------------------------------\n",
      "fold = 3\n",
      "3753/3753 [==============================] - 6s 2ms/step\n",
      "417/417 [==============================] - 1s 1ms/step\n"
     ]
    },
    {
     "name": "stderr",
     "output_type": "stream",
     "text": [
      "Processing: 3it [04:03, 76.78s/it]"
     ]
    },
    {
     "name": "stdout",
     "output_type": "stream",
     "text": [
      "------------------------------------------------------------\n",
      "fold: 3\n",
      "loss: 0.6925434708595276\n",
      "acc: 0.4857927978038788\n",
      "f1_score: 0.45159649122807016\n",
      "------------------------------\n",
      "val_loss: 0.6924228191375732\n",
      "val_acc: 0.4835645377635956\n",
      "val_f1_score: 0.4587757651467833\n",
      "------------------------------------------------------------\n",
      "fold = 4\n",
      "3753/3753 [==============================] - 6s 2ms/step\n",
      "417/417 [==============================] - 1s 2ms/step\n"
     ]
    },
    {
     "name": "stderr",
     "output_type": "stream",
     "text": [
      "Processing: 4it [05:02, 69.81s/it]"
     ]
    },
    {
     "name": "stdout",
     "output_type": "stream",
     "text": [
      "------------------------------------------------------------\n",
      "fold: 4\n",
      "loss: 0.6917835354804993\n",
      "acc: 0.484628701210022\n",
      "f1_score: 0.43698272106868014\n",
      "------------------------------\n",
      "val_loss: 0.6917352795600891\n",
      "val_acc: 0.48253368139266967\n",
      "val_f1_score: 0.43554607368507425\n",
      "------------------------------------------------------------\n",
      "fold = 5\n",
      "3753/3753 [==============================] - 6s 2ms/step\n",
      "417/417 [==============================] - 1s 3ms/step\n"
     ]
    },
    {
     "name": "stderr",
     "output_type": "stream",
     "text": [
      "Processing: 5it [06:03, 66.66s/it]"
     ]
    },
    {
     "name": "stdout",
     "output_type": "stream",
     "text": [
      "------------------------------------------------------------\n",
      "fold: 5\n",
      "loss: 0.6912891745567322\n",
      "acc: 0.48507168889045715\n",
      "f1_score: 0.45033555276050413\n",
      "------------------------------\n",
      "val_loss: 0.691239869594574\n",
      "val_acc: 0.4795243740081787\n",
      "val_f1_score: 0.46153846153846156\n",
      "------------------------------------------------------------\n",
      "fold = 6\n",
      "3753/3753 [==============================] - 6s 1ms/step\n",
      "417/417 [==============================] - 1s 2ms/step\n"
     ]
    },
    {
     "name": "stderr",
     "output_type": "stream",
     "text": [
      "Processing: 6it [07:01, 63.66s/it]"
     ]
    },
    {
     "name": "stdout",
     "output_type": "stream",
     "text": [
      "------------------------------------------------------------\n",
      "fold: 6\n",
      "loss: 0.6907481551170349\n",
      "acc: 0.4876030445098877\n",
      "f1_score: 0.43868898793347094\n",
      "------------------------------\n",
      "val_loss: 0.6906960129737854\n",
      "val_acc: 0.4911469280719757\n",
      "val_f1_score: 0.4296716659910823\n",
      "------------------------------------------------------------\n",
      "fold = 7\n",
      "3753/3753 [==============================] - 7s 2ms/step\n",
      "417/417 [==============================] - 1s 1ms/step\n"
     ]
    },
    {
     "name": "stderr",
     "output_type": "stream",
     "text": [
      "Processing: 7it [08:01, 62.55s/it]"
     ]
    },
    {
     "name": "stdout",
     "output_type": "stream",
     "text": [
      "------------------------------------------------------------\n",
      "fold: 7\n",
      "loss: 0.6906197190284729\n",
      "acc: 0.48714174032211305\n",
      "f1_score: 0.4608800482218204\n",
      "------------------------------\n",
      "val_loss: 0.6906064033508301\n",
      "val_acc: 0.48728328943252563\n",
      "val_f1_score: 0.45173296115375666\n",
      "------------------------------------------------------------\n",
      "fold = 8\n",
      "3753/3753 [==============================] - 5s 1ms/step\n",
      "417/417 [==============================] - 1s 2ms/step\n"
     ]
    },
    {
     "name": "stderr",
     "output_type": "stream",
     "text": [
      "Processing: 8it [08:58, 60.69s/it]"
     ]
    },
    {
     "name": "stdout",
     "output_type": "stream",
     "text": [
      "------------------------------------------------------------\n",
      "fold: 8\n",
      "loss: 0.6906101107597351\n",
      "acc: 0.48515995740890505\n",
      "f1_score: 0.4683903422227115\n",
      "------------------------------\n",
      "val_loss: 0.690675687789917\n",
      "val_acc: 0.47815377712249757\n",
      "val_f1_score: 0.45636335451867927\n",
      "------------------------------------------------------------\n",
      "fold = 9\n",
      "3753/3753 [==============================] - 5s 1ms/step\n",
      "417/417 [==============================] - 1s 2ms/step\n"
     ]
    },
    {
     "name": "stderr",
     "output_type": "stream",
     "text": [
      "Processing: 9it [09:47, 56.97s/it]"
     ]
    },
    {
     "name": "stdout",
     "output_type": "stream",
     "text": [
      "------------------------------------------------------------\n",
      "fold: 9\n",
      "loss: 0.6906782537698746\n",
      "acc: 0.48575086146593094\n",
      "f1_score: 0.3791380008093889\n",
      "------------------------------\n",
      "val_loss: 0.6906739324331284\n",
      "val_acc: 0.4857529476284981\n",
      "val_f1_score: 0.3833684403333638\n",
      "------------------------------------------------------------\n",
      "fold = 10\n",
      "3753/3753 [==============================] - 5s 1ms/step\n",
      "417/417 [==============================] - 1s 2ms/step\n"
     ]
    },
    {
     "name": "stderr",
     "output_type": "stream",
     "text": [
      "Processing: 10it [10:49, 64.96s/it]"
     ]
    },
    {
     "name": "stdout",
     "output_type": "stream",
     "text": [
      "------------------------------------------------------------\n",
      "fold: 10\n",
      "loss: 0.690579092502594\n",
      "acc: 0.4857970714569092\n",
      "f1_score: 0.4183027592480291\n",
      "------------------------------\n",
      "val_loss: 0.6905955672264099\n",
      "val_acc: 0.48939256072044374\n",
      "val_f1_score: 0.411906400550585\n",
      "------------------------------------------------------------\n",
      "--------------------------------------------------------------------------------\n",
      "Metrics means - all folds:\n",
      "mean losses: 0.6997978284955024\n",
      "mean accuracies: 0.4856939364969731\n",
      "mean f1 scores: 0.43413900725412136\n",
      "------------------------------------------------------------\n",
      "mean val losses: 0.6918371495604514\n",
      "mean val accuracies: 0.48424344494938854\n",
      "mean val f1 scores: 0.4335304170655153\n",
      "--------------------------------------------------------------------------------\n"
     ]
    },
    {
     "name": "stderr",
     "output_type": "stream",
     "text": [
      "\n"
     ]
    }
   ],
   "source": [
    "fold = 0\n",
    "\n",
    "losses = []\n",
    "accuracies = []\n",
    "f1_scores =[]\n",
    "tprs = []\n",
    "aucs = []\n",
    "mean_fpr = np.linspace(0, 1, 100)\n",
    "\n",
    "val_losses = []\n",
    "val_accuracies = []\n",
    "val_f1_scores = []\n",
    "val_tprs = []\n",
    "val_aucs = []\n",
    "val_mean_fpr = np.linspace(0, 1, 100)\n",
    "\n",
    "for train_indices, val_indices in tqdm((kf.split(combined_data)),desc=\"Processing\"):\n",
    "    fold += 1\n",
    "    print(f'fold = {fold}')\n",
    "\n",
    "    X_train_fold = combined_data[train_indices]\n",
    "    y_train_fold = np.array(labels)[train_indices]\n",
    "\n",
    "    X_val_fold = combined_data[val_indices]\n",
    "    y_val_fold = np.array(labels)[val_indices]\n",
    "\n",
    "    model_history = model.fit(\n",
    "        X_train_fold,\n",
    "        y_train_fold,\n",
    "        epochs=EPOCHS,\n",
    "        batch_size=BATCH_SIZE,\n",
    "        verbose=VERBOSE,\n",
    "        validation_data=(X_train_fold, y_train_fold),\n",
    "        callbacks=CALLBACKS\n",
    "    )\n",
    "\n",
    "    loss = model_history.history['loss']\n",
    "    mean_fold_losses = np.mean(loss)\n",
    "    losses.append(mean_fold_losses)\n",
    "\n",
    "    acc = model_history.history['accuracy']\n",
    "    mean_fold_accuracies = np.mean(acc)\n",
    "    accuracies.append(mean_fold_accuracies)\n",
    "\n",
    "    predictions = (model.predict(X_train_fold) > 0.5).astype(int)\n",
    "\n",
    "    mean_fold_f1_scores = f1_score(y_train_fold, predictions)\n",
    "    f1_scores.append(mean_fold_f1_scores)\n",
    "\n",
    "    fpr, tpr, thresholds = roc_curve(y_train_fold, predictions)\n",
    "    roc_auc = auc(fpr, tpr)\n",
    "    tprs.append(np.interp(mean_fpr, fpr, tpr))\n",
    "    aucs.append(roc_auc)\n",
    "\n",
    "    # --------------------------------------------------------------------\n",
    "\n",
    "    val_loss = model_history.history['val_loss']\n",
    "    mean_fold_val_losses = np.mean(val_loss)\n",
    "    val_losses.append(mean_fold_val_losses)\n",
    "\n",
    "    val_acc = model_history.history['val_accuracy']\n",
    "    mean_fold_val_accuracies = np.mean(val_acc)\n",
    "    val_accuracies.append(mean_fold_val_accuracies)\n",
    "\n",
    "    val_predictions = (model.predict(X_val_fold) > 0.5).astype(int)\n",
    "\n",
    "    mean_fold_val_f1_scores = f1_score(y_val_fold, val_predictions)\n",
    "    val_f1_scores.append(mean_fold_val_f1_scores)\n",
    "\n",
    "    val_fpr, val_tpr, val_thresholds = roc_curve(y_val_fold, val_predictions)\n",
    "    val_roc_auc = auc(val_fpr, val_tpr)\n",
    "    val_tprs.append(np.interp(val_mean_fpr, val_fpr, val_tpr))\n",
    "    val_aucs.append(val_roc_auc)\n",
    "\n",
    "    print('-'*60)\n",
    "    print(f'fold: {fold}')\n",
    "    print(f'loss: {mean_fold_losses}')\n",
    "    print(f'acc: {mean_fold_accuracies}')\n",
    "    print(f'f1_score: {mean_fold_f1_scores}')\n",
    "    print('-'*30)\n",
    "    print(f'val_loss: {mean_fold_val_losses}')\n",
    "    print(f'val_acc: {mean_fold_val_accuracies}')\n",
    "    print(f'val_f1_score: {mean_fold_val_f1_scores}')\n",
    "    print('-'*60)\n",
    "\n",
    "print('-'*80)\n",
    "print(f'Metrics means - all folds:')\n",
    "print(f'mean losses: {np.mean(losses)}')\n",
    "print(f'mean accuracies: {np.mean(accuracies)}')\n",
    "print(f'mean f1 scores: {np.mean(f1_scores)}')\n",
    "print('-'*60)\n",
    "print(f'mean val losses: {np.mean(val_losses)}')\n",
    "print(f'mean val accuracies: {np.mean(val_accuracies)}')\n",
    "print(f'mean val f1 scores: {np.mean(val_f1_scores)}')\n",
    "print('-'*80)\n"
   ]
  },
  {
   "cell_type": "code",
   "execution_count": 76,
   "id": "81a8ca74-4e05-4b85-81d5-1e6e81fb9e44",
   "metadata": {
    "id": "81a8ca74-4e05-4b85-81d5-1e6e81fb9e44",
    "tags": []
   },
   "outputs": [],
   "source": [
    "def plot_eval_metric(metric, train_metrics, val_metrics):\n",
    "    x_values_1 = range(1, len(train_metrics)+1)\n",
    "    y_values_1 = train_metrics\n",
    "\n",
    "    x_values_2 = range(1, len(val_metrics)+1)\n",
    "    y_values_2 = val_metrics\n",
    "\n",
    "    plt.figure(figsize=(8, 6))\n",
    "\n",
    "    plt.plot(x_values_1, y_values_1, marker='o', linestyle='-', label='train')\n",
    "\n",
    "    plt.plot(x_values_2, y_values_2, marker='x', linestyle='--', label='val')\n",
    "\n",
    "    plt.title(f'{metric} Graphic')\n",
    "    plt.xlabel('Folds')\n",
    "    plt.ylabel(metric)\n",
    "    plt.legend()\n",
    "    plt.grid(True)\n",
    "\n",
    "    plt.show()\n",
    "\n",
    "def plot_roc_auc_curve(desc, mean_tpr, mean_auc, mean_fpr):\n",
    "    plt.figure()\n",
    "    plt.plot(mean_fpr, mean_tpr, color='b', label=f'{desc} Mean ROC curve (AUC = {mean_auc:.2f})')\n",
    "    plt.plot([0, 1], [0, 1], color='gray', linestyle='--')\n",
    "    plt.xlim([0.0, 1.0])\n",
    "    plt.ylim([0.0, 1.05])\n",
    "    plt.xlabel('False Positive Rate')\n",
    "    plt.ylabel('True Positive Rate')\n",
    "    plt.title(f'{desc} Mean Receiver Operating Characteristic (ROC) Curve')\n",
    "    plt.legend(loc=\"lower right\")\n",
    "    plt.show()\n",
    "\n",
    "def plot_confunsion_matrix(cm, metric):\n",
    "    plt.figure(figsize=(6,4))\n",
    "    sbn.heatmap(cm, annot=True, linewidth=0.2, annot_kws={'size':12}, fmt='.0f')\n",
    "    plt.title(f\"Confusion Matrix - {metric}\", fontsize=12)\n",
    "    plt.xlabel('Real')\n",
    "    plt.ylabel('Predict')\n",
    "    plt.show()"
   ]
  },
  {
   "cell_type": "code",
   "execution_count": 80,
   "id": "295bf6d9-70b5-4078-89ef-0dbdaa1bb535",
   "metadata": {
    "id": "295bf6d9-70b5-4078-89ef-0dbdaa1bb535",
    "outputId": "279aaee9-3577-40a4-916e-d141128b1270",
    "tags": []
   },
   "outputs": [
    {
     "data": {
      "image/png": "[encoded data removed]",
      "text/plain": [
       "<Figure size 800x600 with 1 Axes>"
      ]
     },
     "metadata": {},
     "output_type": "display_data"
    },
    {
     "data": {
      "image/png": "[encoded data removed]",
      "text/plain": [
       "<Figure size 800x600 with 1 Axes>"
      ]
     },
     "metadata": {},
     "output_type": "display_data"
    },
    {
     "data": {
      "image/png": "[encoded data removed]",
      "text/plain": [
       "<Figure size 800x600 with 1 Axes>"
      ]
     },
     "metadata": {},
     "output_type": "display_data"
    },
    {
     "data": {
      "image/png": "[encoded data removed]",
      "text/plain": [
       "<Figure size 640x480 with 1 Axes>"
      ]
     },
     "metadata": {},
     "output_type": "display_data"
    },
    {
     "data": {
      "image/png": "[encoded data removed]",
      "text/plain": [
       "<Figure size 640x480 with 1 Axes>"
      ]
     },
     "metadata": {},
     "output_type": "display_data"
    }
   ],
   "source": [
    "plot_eval_metric('Loss',losses,val_losses)\n",
    "plot_eval_metric('Accuracy',accuracies,val_accuracies)\n",
    "plot_eval_metric('F1 Score',f1_scores,val_f1_scores)\n",
    "\n",
    "mean_tpr = np.mean(tprs, axis=0)\n",
    "mean_auc = auc(mean_fpr, mean_tpr)\n",
    "plot_roc_auc_curve('Train', mean_tpr, mean_auc, mean_fpr)\n",
    "\n",
    "val_mean_tpr = np.mean(val_tprs, axis=0)\n",
    "val_mean_auc = auc(val_mean_fpr, val_mean_tpr)\n",
    "plot_roc_auc_curve('Train', val_mean_tpr, val_mean_auc, val_mean_fpr)"
   ]
  },
  {
   "cell_type": "code",
   "execution_count": 81,
   "id": "94585173-47f6-4a3a-846d-709c13ee1a2d",
   "metadata": {
    "id": "94585173-47f6-4a3a-846d-709c13ee1a2d",
    "outputId": "181b4cde-3b7a-4a23-ee8a-d90aca7d335a",
    "tags": []
   },
   "outputs": [
    {
     "name": "stdout",
     "output_type": "stream",
     "text": [
      "834/834 [==============================] - 1s 2ms/step\n"
     ]
    }
   ],
   "source": [
    "test_predict = np.round(model.predict(X_test))"
   ]
  },
  {
   "cell_type": "code",
   "execution_count": 82,
   "id": "249a5115-34c2-452c-a682-7dc48fce2cf6",
   "metadata": {
    "id": "249a5115-34c2-452c-a682-7dc48fce2cf6",
    "outputId": "7ff5147f-4882-403c-ad82-623330309681",
    "tags": []
   },
   "outputs": [
    {
     "data": {
      "text/plain": [
       "0.4918315347721823"
      ]
     },
     "execution_count": 82,
     "metadata": {},
     "output_type": "execute_result"
    }
   ],
   "source": [
    "accuracy = accuracy_score(y_test, test_predict)\n",
    "accuracy"
   ]
  },
  {
   "cell_type": "code",
   "execution_count": 83,
   "id": "19ae6342-8827-4ebd-9feb-b70f377f8151",
   "metadata": {
    "id": "19ae6342-8827-4ebd-9feb-b70f377f8151",
    "outputId": "82d4d552-15dd-4bfe-d0f1-8bce93961a9d",
    "tags": []
   },
   "outputs": [
    {
     "data": {
      "image/png": "[encoded data removed]",
      "text/plain": [
       "<Figure size 600x400 with 2 Axes>"
      ]
     },
     "metadata": {},
     "output_type": "display_data"
    }
   ],
   "source": [
    "test_conf_matrix = confusion_matrix(y_test, test_predict)\n",
    "plot_confunsion_matrix(test_conf_matrix, 'Test')"
   ]
  },
  {
   "cell_type": "code",
   "execution_count": null,
   "id": "2782764e-4ee3-48b4-a0f2-3767e30ba047",
   "metadata": {
    "id": "2782764e-4ee3-48b4-a0f2-3767e30ba047"
   },
   "outputs": [],
   "source": []
  }
 ],
 "metadata": {
  "accelerator": "GPU",
  "colab": {
   "gpuType": "T4",
   "provenance": []
  },
  "kernelspec": {
   "display_name": "Python 3 (ipykernel)",
   "language": "python",
   "name": "python3"
  },
  "language_info": {
   "codemirror_mode": {
    "name": "ipython",
    "version": 3
   },
   "file_extension": ".py",
   "mimetype": "text/x-python",
   "name": "python",
   "nbconvert_exporter": "python",
   "pygments_lexer": "ipython3",
   "version": "3.10.13"
  },
  "widgets": {
   "application/vnd.jupyter.widget-state+json": {
    "01ff8854f7a1426aa1e4efccce27cba2": {
     "model_module": "@jupyter-widgets/controls",
     "model_module_version": "1.5.0",
     "model_name": "DescriptionStyleModel",
     "state": {
      "_model_module": "@jupyter-widgets/controls",
      "_model_module_version": "1.5.0",
      "_model_name": "DescriptionStyleModel",
      "_view_count": null,
      "_view_module": "@jupyter-widgets/base",
      "_view_module_version": "1.2.0",
      "_view_name": "StyleView",
      "description_width": ""
     }
    },
    "0ad27294cfef45aeb3b2301ff27addf2": {
     "model_module": "@jupyter-widgets/base",
     "model_module_version": "1.2.0",
     "model_name": "LayoutModel",
     "state": {
      "_model_module": "@jupyter-widgets/base",
      "_model_module_version": "1.2.0",
      "_model_name": "LayoutModel",
      "_view_count": null,
      "_view_module": "@jupyter-widgets/base",
      "_view_module_version": "1.2.0",
      "_view_name": "LayoutView",
      "align_content": null,
      "align_items": null,
      "align_self": null,
      "border": null,
      "bottom": null,
      "display": null,
      "flex": null,
      "flex_flow": null,
      "grid_area": null,
      "grid_auto_columns": null,
      "grid_auto_flow": null,
      "grid_auto_rows": null,
      "grid_column": null,
      "grid_gap": null,
      "grid_row": null,
      "grid_template_areas": null,
      "grid_template_columns": null,
      "grid_template_rows": null,
      "height": null,
      "justify_content": null,
      "justify_items": null,
      "left": null,
      "margin": null,
      "max_height": null,
      "max_width": null,
      "min_height": null,
      "min_width": null,
      "object_fit": null,
      "object_position": null,
      "order": null,
      "overflow": null,
      "overflow_x": null,
      "overflow_y": null,
      "padding": null,
      "right": null,
      "top": null,
      "visibility": null,
      "width": null
     }
    },
    "1e6e8c440d114c0490dcf0e1c50c8555": {
     "model_module": "@jupyter-widgets/controls",
     "model_module_version": "1.5.0",
     "model_name": "HTMLModel",
     "state": {
      "_dom_classes": [],
      "_model_module": "@jupyter-widgets/controls",
      "_model_module_version": "1.5.0",
      "_model_name": "HTMLModel",
      "_view_count": null,
      "_view_module": "@jupyter-widgets/controls",
      "_view_module_version": "1.5.0",
      "_view_name": "HTMLView",
      "description": "",
      "description_tooltip": null,
      "layout": "IPY_MODEL_c7081c2bdf3e47959223d5789a1eef06",
      "placeholder": "​",
      "style": "IPY_MODEL_6aaa4635e90241468d0f9b6e3a257ab9",
      "value": " 5.07M/5.07M [00:00&lt;00:00, 10.9MB/s]"
     }
    },
    "27f2c547d432422b92659464fd45d59c": {
     "model_module": "@jupyter-widgets/base",
     "model_module_version": "1.2.0",
     "model_name": "LayoutModel",
     "state": {
      "_model_module": "@jupyter-widgets/base",
      "_model_module_version": "1.2.0",
      "_model_name": "LayoutModel",
      "_view_count": null,
      "_view_module": "@jupyter-widgets/base",
      "_view_module_version": "1.2.0",
      "_view_name": "LayoutView",
      "align_content": null,
      "align_items": null,
      "align_self": null,
      "border": null,
      "bottom": null,
      "display": null,
      "flex": null,
      "flex_flow": null,
      "grid_area": null,
      "grid_auto_columns": null,
      "grid_auto_flow": null,
      "grid_auto_rows": null,
      "grid_column": null,
      "grid_gap": null,
      "grid_row": null,
      "grid_template_areas": null,
      "grid_template_columns": null,
      "grid_template_rows": null,
      "height": null,
      "justify_content": null,
      "justify_items": null,
      "left": null,
      "margin": null,
      "max_height": null,
      "max_width": null,
      "min_height": null,
      "min_width": null,
      "object_fit": null,
      "object_position": null,
      "order": null,
      "overflow": null,
      "overflow_x": null,
      "overflow_y": null,
      "padding": null,
      "right": null,
      "top": null,
      "visibility": null,
      "width": null
     }
    },
    "29c5ba7e38854e7a905532367b585814": {
     "model_module": "@jupyter-widgets/controls",
     "model_module_version": "1.5.0",
     "model_name": "DescriptionStyleModel",
     "state": {
      "_model_module": "@jupyter-widgets/controls",
      "_model_module_version": "1.5.0",
      "_model_name": "DescriptionStyleModel",
      "_view_count": null,
      "_view_module": "@jupyter-widgets/base",
      "_view_module_version": "1.2.0",
      "_view_name": "StyleView",
      "description_width": ""
     }
    },
    "2c45a4d977b74d379fcf20f185851dc9": {
     "model_module": "@jupyter-widgets/controls",
     "model_module_version": "1.5.0",
     "model_name": "HTMLModel",
     "state": {
      "_dom_classes": [],
      "_model_module": "@jupyter-widgets/controls",
      "_model_module_version": "1.5.0",
      "_model_name": "HTMLModel",
      "_view_count": null,
      "_view_module": "@jupyter-widgets/controls",
      "_view_module_version": "1.5.0",
      "_view_name": "HTMLView",
      "description": "",
      "description_tooltip": null,
      "layout": "IPY_MODEL_fea40fdc2ec149fe9d0989de4abd0d76",
      "placeholder": "​",
      "style": "IPY_MODEL_fe909c9433cb4eb2bc3815ebce7f864f",
      "value": " 616/616 [00:00&lt;00:00, 31.2kB/s]"
     }
    },
    "2d523e72160045bc8db0c8e362659719": {
     "model_module": "@jupyter-widgets/controls",
     "model_module_version": "1.5.0",
     "model_name": "HBoxModel",
     "state": {
      "_dom_classes": [],
      "_model_module": "@jupyter-widgets/controls",
      "_model_module_version": "1.5.0",
      "_model_name": "HBoxModel",
      "_view_count": null,
      "_view_module": "@jupyter-widgets/controls",
      "_view_module_version": "1.5.0",
      "_view_name": "HBoxView",
      "box_style": "",
      "children": [
       "IPY_MODEL_e8f5a114d29c46b08fbd042aa2419d89",
       "IPY_MODEL_5b795da789714541b68b56e73d478e28",
       "IPY_MODEL_de3b970c31e846dd92406719bbdac921"
      ],
      "layout": "IPY_MODEL_57938fd48cd047b983d61c542174738b"
     }
    },
    "359e3dc8dab6443f94c43bd2994f4edf": {
     "model_module": "@jupyter-widgets/controls",
     "model_module_version": "1.5.0",
     "model_name": "ProgressStyleModel",
     "state": {
      "_model_module": "@jupyter-widgets/controls",
      "_model_module_version": "1.5.0",
      "_model_name": "ProgressStyleModel",
      "_view_count": null,
      "_view_module": "@jupyter-widgets/base",
      "_view_module_version": "1.2.0",
      "_view_name": "StyleView",
      "bar_color": null,
      "description_width": ""
     }
    },
    "463504951c6b4f3b879f78690ccbcf2b": {
     "model_module": "@jupyter-widgets/base",
     "model_module_version": "1.2.0",
     "model_name": "LayoutModel",
     "state": {
      "_model_module": "@jupyter-widgets/base",
      "_model_module_version": "1.2.0",
      "_model_name": "LayoutModel",
      "_view_count": null,
      "_view_module": "@jupyter-widgets/base",
      "_view_module_version": "1.2.0",
      "_view_name": "LayoutView",
      "align_content": null,
      "align_items": null,
      "align_self": null,
      "border": null,
      "bottom": null,
      "display": null,
      "flex": null,
      "flex_flow": null,
      "grid_area": null,
      "grid_auto_columns": null,
      "grid_auto_flow": null,
      "grid_auto_rows": null,
      "grid_column": null,
      "grid_gap": null,
      "grid_row": null,
      "grid_template_areas": null,
      "grid_template_columns": null,
      "grid_template_rows": null,
      "height": null,
      "justify_content": null,
      "justify_items": null,
      "left": null,
      "margin": null,
      "max_height": null,
      "max_width": null,
      "min_height": null,
      "min_width": null,
      "object_fit": null,
      "object_position": null,
      "order": null,
      "overflow": null,
      "overflow_x": null,
      "overflow_y": null,
      "padding": null,
      "right": null,
      "top": null,
      "visibility": null,
      "width": null
     }
    },
    "4d6036d19722410392ee0594c24fc4e7": {
     "model_module": "@jupyter-widgets/base",
     "model_module_version": "1.2.0",
     "model_name": "LayoutModel",
     "state": {
      "_model_module": "@jupyter-widgets/base",
      "_model_module_version": "1.2.0",
      "_model_name": "LayoutModel",
      "_view_count": null,
      "_view_module": "@jupyter-widgets/base",
      "_view_module_version": "1.2.0",
      "_view_name": "LayoutView",
      "align_content": null,
      "align_items": null,
      "align_self": null,
      "border": null,
      "bottom": null,
      "display": null,
      "flex": null,
      "flex_flow": null,
      "grid_area": null,
      "grid_auto_columns": null,
      "grid_auto_flow": null,
      "grid_auto_rows": null,
      "grid_column": null,
      "grid_gap": null,
      "grid_row": null,
      "grid_template_areas": null,
      "grid_template_columns": null,
      "grid_template_rows": null,
      "height": null,
      "justify_content": null,
      "justify_items": null,
      "left": null,
      "margin": null,
      "max_height": null,
      "max_width": null,
      "min_height": null,
      "min_width": null,
      "object_fit": null,
      "object_position": null,
      "order": null,
      "overflow": null,
      "overflow_x": null,
      "overflow_y": null,
      "padding": null,
      "right": null,
      "top": null,
      "visibility": null,
      "width": null
     }
    },
    "4e073770afa0413eafbf01064042ee9e": {
     "model_module": "@jupyter-widgets/controls",
     "model_module_version": "1.5.0",
     "model_name": "HTMLModel",
     "state": {
      "_dom_classes": [],
      "_model_module": "@jupyter-widgets/controls",
      "_model_module_version": "1.5.0",
      "_model_name": "HTMLModel",
      "_view_count": null,
      "_view_module": "@jupyter-widgets/controls",
      "_view_module_version": "1.5.0",
      "_view_name": "HTMLView",
      "description": "",
      "description_tooltip": null,
      "layout": "IPY_MODEL_92bb03ef673f4287a132fcbc9b352be7",
      "placeholder": "​",
      "style": "IPY_MODEL_01ff8854f7a1426aa1e4efccce27cba2",
      "value": "Downloading (…)tencepiece.bpe.model: 100%"
     }
    },
    "57938fd48cd047b983d61c542174738b": {
     "model_module": "@jupyter-widgets/base",
     "model_module_version": "1.2.0",
     "model_name": "LayoutModel",
     "state": {
      "_model_module": "@jupyter-widgets/base",
      "_model_module_version": "1.2.0",
      "_model_name": "LayoutModel",
      "_view_count": null,
      "_view_module": "@jupyter-widgets/base",
      "_view_module_version": "1.2.0",
      "_view_name": "LayoutView",
      "align_content": null,
      "align_items": null,
      "align_self": null,
      "border": null,
      "bottom": null,
      "display": null,
      "flex": null,
      "flex_flow": null,
      "grid_area": null,
      "grid_auto_columns": null,
      "grid_auto_flow": null,
      "grid_auto_rows": null,
      "grid_column": null,
      "grid_gap": null,
      "grid_row": null,
      "grid_template_areas": null,
      "grid_template_columns": null,
      "grid_template_rows": null,
      "height": null,
      "justify_content": null,
      "justify_items": null,
      "left": null,
      "margin": null,
      "max_height": null,
      "max_width": null,
      "min_height": null,
      "min_width": null,
      "object_fit": null,
      "object_position": null,
      "order": null,
      "overflow": null,
      "overflow_x": null,
      "overflow_y": null,
      "padding": null,
      "right": null,
      "top": null,
      "visibility": null,
      "width": null
     }
    },
    "59b606349e074143a09d0478785e0b10": {
     "model_module": "@jupyter-widgets/controls",
     "model_module_version": "1.5.0",
     "model_name": "HBoxModel",
     "state": {
      "_dom_classes": [],
      "_model_module": "@jupyter-widgets/controls",
      "_model_module_version": "1.5.0",
      "_model_name": "HBoxModel",
      "_view_count": null,
      "_view_module": "@jupyter-widgets/controls",
      "_view_module_version": "1.5.0",
      "_view_name": "HBoxView",
      "box_style": "",
      "children": [
       "IPY_MODEL_6d49e6e0062a49e2939baa29f9ca734d",
       "IPY_MODEL_b4d78346b45e4e46906194c256acca99",
       "IPY_MODEL_2c45a4d977b74d379fcf20f185851dc9"
      ],
      "layout": "IPY_MODEL_4d6036d19722410392ee0594c24fc4e7"
     }
    },
    "5b795da789714541b68b56e73d478e28": {
     "model_module": "@jupyter-widgets/controls",
     "model_module_version": "1.5.0",
     "model_name": "FloatProgressModel",
     "state": {
      "_dom_classes": [],
      "_model_module": "@jupyter-widgets/controls",
      "_model_module_version": "1.5.0",
      "_model_name": "FloatProgressModel",
      "_view_count": null,
      "_view_module": "@jupyter-widgets/controls",
      "_view_module_version": "1.5.0",
      "_view_name": "ProgressView",
      "bar_style": "success",
      "description": "",
      "description_tooltip": null,
      "layout": "IPY_MODEL_75ab5d62862b41b5b0b4bd6d07704c06",
      "max": 2244817354,
      "min": 0,
      "orientation": "horizontal",
      "style": "IPY_MODEL_de5c9fe848684bccaf64f0cb1f37fac5",
      "value": 2244817354
     }
    },
    "5bee40b21db5460888bc29c061ddf540": {
     "model_module": "@jupyter-widgets/controls",
     "model_module_version": "1.5.0",
     "model_name": "ProgressStyleModel",
     "state": {
      "_model_module": "@jupyter-widgets/controls",
      "_model_module_version": "1.5.0",
      "_model_name": "ProgressStyleModel",
      "_view_count": null,
      "_view_module": "@jupyter-widgets/base",
      "_view_module_version": "1.2.0",
      "_view_name": "StyleView",
      "bar_color": null,
      "description_width": ""
     }
    },
    "5eec5f9f2bfb49d0952922ea6ca4bfea": {
     "model_module": "@jupyter-widgets/controls",
     "model_module_version": "1.5.0",
     "model_name": "FloatProgressModel",
     "state": {
      "_dom_classes": [],
      "_model_module": "@jupyter-widgets/controls",
      "_model_module_version": "1.5.0",
      "_model_name": "FloatProgressModel",
      "_view_count": null,
      "_view_module": "@jupyter-widgets/controls",
      "_view_module_version": "1.5.0",
      "_view_name": "ProgressView",
      "bar_style": "success",
      "description": "",
      "description_tooltip": null,
      "layout": "IPY_MODEL_0ad27294cfef45aeb3b2301ff27addf2",
      "max": 5069051,
      "min": 0,
      "orientation": "horizontal",
      "style": "IPY_MODEL_359e3dc8dab6443f94c43bd2994f4edf",
      "value": 5069051
     }
    },
    "5feec569b746412c93c23c4219143aa0": {
     "model_module": "@jupyter-widgets/controls",
     "model_module_version": "1.5.0",
     "model_name": "HBoxModel",
     "state": {
      "_dom_classes": [],
      "_model_module": "@jupyter-widgets/controls",
      "_model_module_version": "1.5.0",
      "_model_name": "HBoxModel",
      "_view_count": null,
      "_view_module": "@jupyter-widgets/controls",
      "_view_module_version": "1.5.0",
      "_view_name": "HBoxView",
      "box_style": "",
      "children": [
       "IPY_MODEL_9c9ccf27857741868793839eae018a06",
       "IPY_MODEL_9ff569d08be844beac9101f3669b1cd5",
       "IPY_MODEL_e52070d4760e4d808c926913f8480908"
      ],
      "layout": "IPY_MODEL_6346a0cef27e4ce5b06d9d5e17693081"
     }
    },
    "6346a0cef27e4ce5b06d9d5e17693081": {
     "model_module": "@jupyter-widgets/base",
     "model_module_version": "1.2.0",
     "model_name": "LayoutModel",
     "state": {
      "_model_module": "@jupyter-widgets/base",
      "_model_module_version": "1.2.0",
      "_model_name": "LayoutModel",
      "_view_count": null,
      "_view_module": "@jupyter-widgets/base",
      "_view_module_version": "1.2.0",
      "_view_name": "LayoutView",
      "align_content": null,
      "align_items": null,
      "align_self": null,
      "border": null,
      "bottom": null,
      "display": null,
      "flex": null,
      "flex_flow": null,
      "grid_area": null,
      "grid_auto_columns": null,
      "grid_auto_flow": null,
      "grid_auto_rows": null,
      "grid_column": null,
      "grid_gap": null,
      "grid_row": null,
      "grid_template_areas": null,
      "grid_template_columns": null,
      "grid_template_rows": null,
      "height": null,
      "justify_content": null,
      "justify_items": null,
      "left": null,
      "margin": null,
      "max_height": null,
      "max_width": null,
      "min_height": null,
      "min_width": null,
      "object_fit": null,
      "object_position": null,
      "order": null,
      "overflow": null,
      "overflow_x": null,
      "overflow_y": null,
      "padding": null,
      "right": null,
      "top": null,
      "visibility": null,
      "width": null
     }
    },
    "6aaa4635e90241468d0f9b6e3a257ab9": {
     "model_module": "@jupyter-widgets/controls",
     "model_module_version": "1.5.0",
     "model_name": "DescriptionStyleModel",
     "state": {
      "_model_module": "@jupyter-widgets/controls",
      "_model_module_version": "1.5.0",
      "_model_name": "DescriptionStyleModel",
      "_view_count": null,
      "_view_module": "@jupyter-widgets/base",
      "_view_module_version": "1.2.0",
      "_view_name": "StyleView",
      "description_width": ""
     }
    },
    "6d49e6e0062a49e2939baa29f9ca734d": {
     "model_module": "@jupyter-widgets/controls",
     "model_module_version": "1.5.0",
     "model_name": "HTMLModel",
     "state": {
      "_dom_classes": [],
      "_model_module": "@jupyter-widgets/controls",
      "_model_module_version": "1.5.0",
      "_model_name": "HTMLModel",
      "_view_count": null,
      "_view_module": "@jupyter-widgets/controls",
      "_view_module_version": "1.5.0",
      "_view_name": "HTMLView",
      "description": "",
      "description_tooltip": null,
      "layout": "IPY_MODEL_bc504fe5e1f54ab580bfc75067aa22fc",
      "placeholder": "​",
      "style": "IPY_MODEL_8788e6687d2949a29eaf3db434d3ec28",
      "value": "Downloading (…)lve/main/config.json: 100%"
     }
    },
    "75ab5d62862b41b5b0b4bd6d07704c06": {
     "model_module": "@jupyter-widgets/base",
     "model_module_version": "1.2.0",
     "model_name": "LayoutModel",
     "state": {
      "_model_module": "@jupyter-widgets/base",
      "_model_module_version": "1.2.0",
      "_model_name": "LayoutModel",
      "_view_count": null,
      "_view_module": "@jupyter-widgets/base",
      "_view_module_version": "1.2.0",
      "_view_name": "LayoutView",
      "align_content": null,
      "align_items": null,
      "align_self": null,
      "border": null,
      "bottom": null,
      "display": null,
      "flex": null,
      "flex_flow": null,
      "grid_area": null,
      "grid_auto_columns": null,
      "grid_auto_flow": null,
      "grid_auto_rows": null,
      "grid_column": null,
      "grid_gap": null,
      "grid_row": null,
      "grid_template_areas": null,
      "grid_template_columns": null,
      "grid_template_rows": null,
      "height": null,
      "justify_content": null,
      "justify_items": null,
      "left": null,
      "margin": null,
      "max_height": null,
      "max_width": null,
      "min_height": null,
      "min_width": null,
      "object_fit": null,
      "object_position": null,
      "order": null,
      "overflow": null,
      "overflow_x": null,
      "overflow_y": null,
      "padding": null,
      "right": null,
      "top": null,
      "visibility": null,
      "width": null
     }
    },
    "7d542d49910040ffb3349637c79ed8f6": {
     "model_module": "@jupyter-widgets/base",
     "model_module_version": "1.2.0",
     "model_name": "LayoutModel",
     "state": {
      "_model_module": "@jupyter-widgets/base",
      "_model_module_version": "1.2.0",
      "_model_name": "LayoutModel",
      "_view_count": null,
      "_view_module": "@jupyter-widgets/base",
      "_view_module_version": "1.2.0",
      "_view_name": "LayoutView",
      "align_content": null,
      "align_items": null,
      "align_self": null,
      "border": null,
      "bottom": null,
      "display": null,
      "flex": null,
      "flex_flow": null,
      "grid_area": null,
      "grid_auto_columns": null,
      "grid_auto_flow": null,
      "grid_auto_rows": null,
      "grid_column": null,
      "grid_gap": null,
      "grid_row": null,
      "grid_template_areas": null,
      "grid_template_columns": null,
      "grid_template_rows": null,
      "height": null,
      "justify_content": null,
      "justify_items": null,
      "left": null,
      "margin": null,
      "max_height": null,
      "max_width": null,
      "min_height": null,
      "min_width": null,
      "object_fit": null,
      "object_position": null,
      "order": null,
      "overflow": null,
      "overflow_x": null,
      "overflow_y": null,
      "padding": null,
      "right": null,
      "top": null,
      "visibility": null,
      "width": null
     }
    },
    "8788e6687d2949a29eaf3db434d3ec28": {
     "model_module": "@jupyter-widgets/controls",
     "model_module_version": "1.5.0",
     "model_name": "DescriptionStyleModel",
     "state": {
      "_model_module": "@jupyter-widgets/controls",
      "_model_module_version": "1.5.0",
      "_model_name": "DescriptionStyleModel",
      "_view_count": null,
      "_view_module": "@jupyter-widgets/base",
      "_view_module_version": "1.2.0",
      "_view_name": "StyleView",
      "description_width": ""
     }
    },
    "8c3ee05d4fee4c4f98ff861ccaf2abf7": {
     "model_module": "@jupyter-widgets/controls",
     "model_module_version": "1.5.0",
     "model_name": "ProgressStyleModel",
     "state": {
      "_model_module": "@jupyter-widgets/controls",
      "_model_module_version": "1.5.0",
      "_model_name": "ProgressStyleModel",
      "_view_count": null,
      "_view_module": "@jupyter-widgets/base",
      "_view_module_version": "1.2.0",
      "_view_name": "StyleView",
      "bar_color": null,
      "description_width": ""
     }
    },
    "92bb03ef673f4287a132fcbc9b352be7": {
     "model_module": "@jupyter-widgets/base",
     "model_module_version": "1.2.0",
     "model_name": "LayoutModel",
     "state": {
      "_model_module": "@jupyter-widgets/base",
      "_model_module_version": "1.2.0",
      "_model_name": "LayoutModel",
      "_view_count": null,
      "_view_module": "@jupyter-widgets/base",
      "_view_module_version": "1.2.0",
      "_view_name": "LayoutView",
      "align_content": null,
      "align_items": null,
      "align_self": null,
      "border": null,
      "bottom": null,
      "display": null,
      "flex": null,
      "flex_flow": null,
      "grid_area": null,
      "grid_auto_columns": null,
      "grid_auto_flow": null,
      "grid_auto_rows": null,
      "grid_column": null,
      "grid_gap": null,
      "grid_row": null,
      "grid_template_areas": null,
      "grid_template_columns": null,
      "grid_template_rows": null,
      "height": null,
      "justify_content": null,
      "justify_items": null,
      "left": null,
      "margin": null,
      "max_height": null,
      "max_width": null,
      "min_height": null,
      "min_width": null,
      "object_fit": null,
      "object_position": null,
      "order": null,
      "overflow": null,
      "overflow_x": null,
      "overflow_y": null,
      "padding": null,
      "right": null,
      "top": null,
      "visibility": null,
      "width": null
     }
    },
    "9919c104a23d4c71b0aa7fce47837909": {
     "model_module": "@jupyter-widgets/controls",
     "model_module_version": "1.5.0",
     "model_name": "HBoxModel",
     "state": {
      "_dom_classes": [],
      "_model_module": "@jupyter-widgets/controls",
      "_model_module_version": "1.5.0",
      "_model_name": "HBoxModel",
      "_view_count": null,
      "_view_module": "@jupyter-widgets/controls",
      "_view_module_version": "1.5.0",
      "_view_name": "HBoxView",
      "box_style": "",
      "children": [
       "IPY_MODEL_4e073770afa0413eafbf01064042ee9e",
       "IPY_MODEL_5eec5f9f2bfb49d0952922ea6ca4bfea",
       "IPY_MODEL_1e6e8c440d114c0490dcf0e1c50c8555"
      ],
      "layout": "IPY_MODEL_ea429d766d3840209f622b36dd0dc4d0"
     }
    },
    "9c9ccf27857741868793839eae018a06": {
     "model_module": "@jupyter-widgets/controls",
     "model_module_version": "1.5.0",
     "model_name": "HTMLModel",
     "state": {
      "_dom_classes": [],
      "_model_module": "@jupyter-widgets/controls",
      "_model_module_version": "1.5.0",
      "_model_name": "HTMLModel",
      "_view_count": null,
      "_view_module": "@jupyter-widgets/controls",
      "_view_module_version": "1.5.0",
      "_view_name": "HTMLView",
      "description": "",
      "description_tooltip": null,
      "layout": "IPY_MODEL_27f2c547d432422b92659464fd45d59c",
      "placeholder": "​",
      "style": "IPY_MODEL_29c5ba7e38854e7a905532367b585814",
      "value": "Downloading (…)/main/tokenizer.json: 100%"
     }
    },
    "9ff569d08be844beac9101f3669b1cd5": {
     "model_module": "@jupyter-widgets/controls",
     "model_module_version": "1.5.0",
     "model_name": "FloatProgressModel",
     "state": {
      "_dom_classes": [],
      "_model_module": "@jupyter-widgets/controls",
      "_model_module_version": "1.5.0",
      "_model_name": "FloatProgressModel",
      "_view_count": null,
      "_view_module": "@jupyter-widgets/controls",
      "_view_module_version": "1.5.0",
      "_view_name": "ProgressView",
      "bar_style": "success",
      "description": "",
      "description_tooltip": null,
      "layout": "IPY_MODEL_e3e19625cd1641b1b7f0a81e747e16af",
      "max": 9096718,
      "min": 0,
      "orientation": "horizontal",
      "style": "IPY_MODEL_5bee40b21db5460888bc29c061ddf540",
      "value": 9096718
     }
    },
    "a0c3c8ca45e54dbca1f667d63ec640a7": {
     "model_module": "@jupyter-widgets/base",
     "model_module_version": "1.2.0",
     "model_name": "LayoutModel",
     "state": {
      "_model_module": "@jupyter-widgets/base",
      "_model_module_version": "1.2.0",
      "_model_name": "LayoutModel",
      "_view_count": null,
      "_view_module": "@jupyter-widgets/base",
      "_view_module_version": "1.2.0",
      "_view_name": "LayoutView",
      "align_content": null,
      "align_items": null,
      "align_self": null,
      "border": null,
      "bottom": null,
      "display": null,
      "flex": null,
      "flex_flow": null,
      "grid_area": null,
      "grid_auto_columns": null,
      "grid_auto_flow": null,
      "grid_auto_rows": null,
      "grid_column": null,
      "grid_gap": null,
      "grid_row": null,
      "grid_template_areas": null,
      "grid_template_columns": null,
      "grid_template_rows": null,
      "height": null,
      "justify_content": null,
      "justify_items": null,
      "left": null,
      "margin": null,
      "max_height": null,
      "max_width": null,
      "min_height": null,
      "min_width": null,
      "object_fit": null,
      "object_position": null,
      "order": null,
      "overflow": null,
      "overflow_x": null,
      "overflow_y": null,
      "padding": null,
      "right": null,
      "top": null,
      "visibility": null,
      "width": null
     }
    },
    "a9bb8b8acd7f4a51a6259015dddbaf11": {
     "model_module": "@jupyter-widgets/controls",
     "model_module_version": "1.5.0",
     "model_name": "DescriptionStyleModel",
     "state": {
      "_model_module": "@jupyter-widgets/controls",
      "_model_module_version": "1.5.0",
      "_model_name": "DescriptionStyleModel",
      "_view_count": null,
      "_view_module": "@jupyter-widgets/base",
      "_view_module_version": "1.2.0",
      "_view_name": "StyleView",
      "description_width": ""
     }
    },
    "b4d78346b45e4e46906194c256acca99": {
     "model_module": "@jupyter-widgets/controls",
     "model_module_version": "1.5.0",
     "model_name": "FloatProgressModel",
     "state": {
      "_dom_classes": [],
      "_model_module": "@jupyter-widgets/controls",
      "_model_module_version": "1.5.0",
      "_model_name": "FloatProgressModel",
      "_view_count": null,
      "_view_module": "@jupyter-widgets/controls",
      "_view_module_version": "1.5.0",
      "_view_name": "ProgressView",
      "bar_style": "success",
      "description": "",
      "description_tooltip": null,
      "layout": "IPY_MODEL_463504951c6b4f3b879f78690ccbcf2b",
      "max": 616,
      "min": 0,
      "orientation": "horizontal",
      "style": "IPY_MODEL_8c3ee05d4fee4c4f98ff861ccaf2abf7",
      "value": 616
     }
    },
    "b50ef98257e84eb0be26d846e999b737": {
     "model_module": "@jupyter-widgets/controls",
     "model_module_version": "1.5.0",
     "model_name": "DescriptionStyleModel",
     "state": {
      "_model_module": "@jupyter-widgets/controls",
      "_model_module_version": "1.5.0",
      "_model_name": "DescriptionStyleModel",
      "_view_count": null,
      "_view_module": "@jupyter-widgets/base",
      "_view_module_version": "1.2.0",
      "_view_name": "StyleView",
      "description_width": ""
     }
    },
    "bc504fe5e1f54ab580bfc75067aa22fc": {
     "model_module": "@jupyter-widgets/base",
     "model_module_version": "1.2.0",
     "model_name": "LayoutModel",
     "state": {
      "_model_module": "@jupyter-widgets/base",
      "_model_module_version": "1.2.0",
      "_model_name": "LayoutModel",
      "_view_count": null,
      "_view_module": "@jupyter-widgets/base",
      "_view_module_version": "1.2.0",
      "_view_name": "LayoutView",
      "align_content": null,
      "align_items": null,
      "align_self": null,
      "border": null,
      "bottom": null,
      "display": null,
      "flex": null,
      "flex_flow": null,
      "grid_area": null,
      "grid_auto_columns": null,
      "grid_auto_flow": null,
      "grid_auto_rows": null,
      "grid_column": null,
      "grid_gap": null,
      "grid_row": null,
      "grid_template_areas": null,
      "grid_template_columns": null,
      "grid_template_rows": null,
      "height": null,
      "justify_content": null,
      "justify_items": null,
      "left": null,
      "margin": null,
      "max_height": null,
      "max_width": null,
      "min_height": null,
      "min_width": null,
      "object_fit": null,
      "object_position": null,
      "order": null,
      "overflow": null,
      "overflow_x": null,
      "overflow_y": null,
      "padding": null,
      "right": null,
      "top": null,
      "visibility": null,
      "width": null
     }
    },
    "c510bfbb8e2f4cf4a496b4fbf16d87a3": {
     "model_module": "@jupyter-widgets/controls",
     "model_module_version": "1.5.0",
     "model_name": "DescriptionStyleModel",
     "state": {
      "_model_module": "@jupyter-widgets/controls",
      "_model_module_version": "1.5.0",
      "_model_name": "DescriptionStyleModel",
      "_view_count": null,
      "_view_module": "@jupyter-widgets/base",
      "_view_module_version": "1.2.0",
      "_view_name": "StyleView",
      "description_width": ""
     }
    },
    "c7081c2bdf3e47959223d5789a1eef06": {
     "model_module": "@jupyter-widgets/base",
     "model_module_version": "1.2.0",
     "model_name": "LayoutModel",
     "state": {
      "_model_module": "@jupyter-widgets/base",
      "_model_module_version": "1.2.0",
      "_model_name": "LayoutModel",
      "_view_count": null,
      "_view_module": "@jupyter-widgets/base",
      "_view_module_version": "1.2.0",
      "_view_name": "LayoutView",
      "align_content": null,
      "align_items": null,
      "align_self": null,
      "border": null,
      "bottom": null,
      "display": null,
      "flex": null,
      "flex_flow": null,
      "grid_area": null,
      "grid_auto_columns": null,
      "grid_auto_flow": null,
      "grid_auto_rows": null,
      "grid_column": null,
      "grid_gap": null,
      "grid_row": null,
      "grid_template_areas": null,
      "grid_template_columns": null,
      "grid_template_rows": null,
      "height": null,
      "justify_content": null,
      "justify_items": null,
      "left": null,
      "margin": null,
      "max_height": null,
      "max_width": null,
      "min_height": null,
      "min_width": null,
      "object_fit": null,
      "object_position": null,
      "order": null,
      "overflow": null,
      "overflow_x": null,
      "overflow_y": null,
      "padding": null,
      "right": null,
      "top": null,
      "visibility": null,
      "width": null
     }
    },
    "c96287bdb1d344fc911f3a8f46847b0e": {
     "model_module": "@jupyter-widgets/base",
     "model_module_version": "1.2.0",
     "model_name": "LayoutModel",
     "state": {
      "_model_module": "@jupyter-widgets/base",
      "_model_module_version": "1.2.0",
      "_model_name": "LayoutModel",
      "_view_count": null,
      "_view_module": "@jupyter-widgets/base",
      "_view_module_version": "1.2.0",
      "_view_name": "LayoutView",
      "align_content": null,
      "align_items": null,
      "align_self": null,
      "border": null,
      "bottom": null,
      "display": null,
      "flex": null,
      "flex_flow": null,
      "grid_area": null,
      "grid_auto_columns": null,
      "grid_auto_flow": null,
      "grid_auto_rows": null,
      "grid_column": null,
      "grid_gap": null,
      "grid_row": null,
      "grid_template_areas": null,
      "grid_template_columns": null,
      "grid_template_rows": null,
      "height": null,
      "justify_content": null,
      "justify_items": null,
      "left": null,
      "margin": null,
      "max_height": null,
      "max_width": null,
      "min_height": null,
      "min_width": null,
      "object_fit": null,
      "object_position": null,
      "order": null,
      "overflow": null,
      "overflow_x": null,
      "overflow_y": null,
      "padding": null,
      "right": null,
      "top": null,
      "visibility": null,
      "width": null
     }
    },
    "de3b970c31e846dd92406719bbdac921": {
     "model_module": "@jupyter-widgets/controls",
     "model_module_version": "1.5.0",
     "model_name": "HTMLModel",
     "state": {
      "_dom_classes": [],
      "_model_module": "@jupyter-widgets/controls",
      "_model_module_version": "1.5.0",
      "_model_name": "HTMLModel",
      "_view_count": null,
      "_view_module": "@jupyter-widgets/controls",
      "_view_module_version": "1.5.0",
      "_view_name": "HTMLView",
      "description": "",
      "description_tooltip": null,
      "layout": "IPY_MODEL_a0c3c8ca45e54dbca1f667d63ec640a7",
      "placeholder": "​",
      "style": "IPY_MODEL_a9bb8b8acd7f4a51a6259015dddbaf11",
      "value": " 2.24G/2.24G [00:15&lt;00:00, 257MB/s]"
     }
    },
    "de5c9fe848684bccaf64f0cb1f37fac5": {
     "model_module": "@jupyter-widgets/controls",
     "model_module_version": "1.5.0",
     "model_name": "ProgressStyleModel",
     "state": {
      "_model_module": "@jupyter-widgets/controls",
      "_model_module_version": "1.5.0",
      "_model_name": "ProgressStyleModel",
      "_view_count": null,
      "_view_module": "@jupyter-widgets/base",
      "_view_module_version": "1.2.0",
      "_view_name": "StyleView",
      "bar_color": null,
      "description_width": ""
     }
    },
    "e3e19625cd1641b1b7f0a81e747e16af": {
     "model_module": "@jupyter-widgets/base",
     "model_module_version": "1.2.0",
     "model_name": "LayoutModel",
     "state": {
      "_model_module": "@jupyter-widgets/base",
      "_model_module_version": "1.2.0",
      "_model_name": "LayoutModel",
      "_view_count": null,
      "_view_module": "@jupyter-widgets/base",
      "_view_module_version": "1.2.0",
      "_view_name": "LayoutView",
      "align_content": null,
      "align_items": null,
      "align_self": null,
      "border": null,
      "bottom": null,
      "display": null,
      "flex": null,
      "flex_flow": null,
      "grid_area": null,
      "grid_auto_columns": null,
      "grid_auto_flow": null,
      "grid_auto_rows": null,
      "grid_column": null,
      "grid_gap": null,
      "grid_row": null,
      "grid_template_areas": null,
      "grid_template_columns": null,
      "grid_template_rows": null,
      "height": null,
      "justify_content": null,
      "justify_items": null,
      "left": null,
      "margin": null,
      "max_height": null,
      "max_width": null,
      "min_height": null,
      "min_width": null,
      "object_fit": null,
      "object_position": null,
      "order": null,
      "overflow": null,
      "overflow_x": null,
      "overflow_y": null,
      "padding": null,
      "right": null,
      "top": null,
      "visibility": null,
      "width": null
     }
    },
    "e52070d4760e4d808c926913f8480908": {
     "model_module": "@jupyter-widgets/controls",
     "model_module_version": "1.5.0",
     "model_name": "HTMLModel",
     "state": {
      "_dom_classes": [],
      "_model_module": "@jupyter-widgets/controls",
      "_model_module_version": "1.5.0",
      "_model_name": "HTMLModel",
      "_view_count": null,
      "_view_module": "@jupyter-widgets/controls",
      "_view_module_version": "1.5.0",
      "_view_name": "HTMLView",
      "description": "",
      "description_tooltip": null,
      "layout": "IPY_MODEL_7d542d49910040ffb3349637c79ed8f6",
      "placeholder": "​",
      "style": "IPY_MODEL_b50ef98257e84eb0be26d846e999b737",
      "value": " 9.10M/9.10M [00:00&lt;00:00, 29.0MB/s]"
     }
    },
    "e8f5a114d29c46b08fbd042aa2419d89": {
     "model_module": "@jupyter-widgets/controls",
     "model_module_version": "1.5.0",
     "model_name": "HTMLModel",
     "state": {
      "_dom_classes": [],
      "_model_module": "@jupyter-widgets/controls",
      "_model_module_version": "1.5.0",
      "_model_name": "HTMLModel",
      "_view_count": null,
      "_view_module": "@jupyter-widgets/controls",
      "_view_module_version": "1.5.0",
      "_view_name": "HTMLView",
      "description": "",
      "description_tooltip": null,
      "layout": "IPY_MODEL_c96287bdb1d344fc911f3a8f46847b0e",
      "placeholder": "​",
      "style": "IPY_MODEL_c510bfbb8e2f4cf4a496b4fbf16d87a3",
      "value": "Downloading model.safetensors: 100%"
     }
    },
    "ea429d766d3840209f622b36dd0dc4d0": {
     "model_module": "@jupyter-widgets/base",
     "model_module_version": "1.2.0",
     "model_name": "LayoutModel",
     "state": {
      "_model_module": "@jupyter-widgets/base",
      "_model_module_version": "1.2.0",
      "_model_name": "LayoutModel",
      "_view_count": null,
      "_view_module": "@jupyter-widgets/base",
      "_view_module_version": "1.2.0",
      "_view_name": "LayoutView",
      "align_content": null,
      "align_items": null,
      "align_self": null,
      "border": null,
      "bottom": null,
      "display": null,
      "flex": null,
      "flex_flow": null,
      "grid_area": null,
      "grid_auto_columns": null,
      "grid_auto_flow": null,
      "grid_auto_rows": null,
      "grid_column": null,
      "grid_gap": null,
      "grid_row": null,
      "grid_template_areas": null,
      "grid_template_columns": null,
      "grid_template_rows": null,
      "height": null,
      "justify_content": null,
      "justify_items": null,
      "left": null,
      "margin": null,
      "max_height": null,
      "max_width": null,
      "min_height": null,
      "min_width": null,
      "object_fit": null,
      "object_position": null,
      "order": null,
      "overflow": null,
      "overflow_x": null,
      "overflow_y": null,
      "padding": null,
      "right": null,
      "top": null,
      "visibility": null,
      "width": null
     }
    },
    "fe909c9433cb4eb2bc3815ebce7f864f": {
     "model_module": "@jupyter-widgets/controls",
     "model_module_version": "1.5.0",
     "model_name": "DescriptionStyleModel",
     "state": {
      "_model_module": "@jupyter-widgets/controls",
      "_model_module_version": "1.5.0",
      "_model_name": "DescriptionStyleModel",
      "_view_count": null,
      "_view_module": "@jupyter-widgets/base",
      "_view_module_version": "1.2.0",
      "_view_name": "StyleView",
      "description_width": ""
     }
    },
    "fea40fdc2ec149fe9d0989de4abd0d76": {
     "model_module": "@jupyter-widgets/base",
     "model_module_version": "1.2.0",
     "model_name": "LayoutModel",
     "state": {
      "_model_module": "@jupyter-widgets/base",
      "_model_module_version": "1.2.0",
      "_model_name": "LayoutModel",
      "_view_count": null,
      "_view_module": "@jupyter-widgets/base",
      "_view_module_version": "1.2.0",
      "_view_name": "LayoutView",
      "align_content": null,
      "align_items": null,
      "align_self": null,
      "border": null,
      "bottom": null,
      "display": null,
      "flex": null,
      "flex_flow": null,
      "grid_area": null,
      "grid_auto_columns": null,
      "grid_auto_flow": null,
      "grid_auto_rows": null,
      "grid_column": null,
      "grid_gap": null,
      "grid_row": null,
      "grid_template_areas": null,
      "grid_template_columns": null,
      "grid_template_rows": null,
      "height": null,
      "justify_content": null,
      "justify_items": null,
      "left": null,
      "margin": null,
      "max_height": null,
      "max_width": null,
      "min_height": null,
      "min_width": null,
      "object_fit": null,
      "object_position": null,
      "order": null,
      "overflow": null,
      "overflow_x": null,
      "overflow_y": null,
      "padding": null,
      "right": null,
      "top": null,
      "visibility": null,
      "width": null
     }
    }
   }
  }
 },
 "nbformat": 4,
 "nbformat_minor": 5
}
