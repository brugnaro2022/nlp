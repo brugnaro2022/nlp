{
 "cells": [
  {
   "cell_type": "markdown",
   "id": "a9b44287-0d33-4a70-bf7c-7233736a2caa",
   "metadata": {},
   "source": [
    "\n",
    "<b>INSTITUTO FEDERAL DE GOIÁS<br/>\n",
    "PÓS-GRADUAÇÃO EM INTELIGÊNCIA ARTIFICIAL APLICADA<br/></b>\n",
    "Disciplina: Processamento de Linguagem Natural  <br/>\n",
    "Professor: Daniel Xavier de Sousa <br/>\n",
    "Alunos: Wagner Silva, Cleibson, Marcos Rodrigues\n",
    "\n",
    "\n",
    "---"
   ]
  },
  {
   "cell_type": "markdown",
   "id": "0a0b4233-2b7c-49ac-a872-6fd3700d7491",
   "metadata": {},
   "source": [
    "#### Notebook responsavel pelo pré-processamento dos textos das bases;\n",
    "- Realizamos todo processamento de texto com exceção das ngrams e frequência menor que 5, onde estes dois parâmetros ajustamos utilizando TfidfVectorizer quando necessário.\n",
    "- Quando necessário realizamos o balanceamento das classes;\n",
    "- No final do pré-processamento, salvamos dataset pré-processado."
   ]
  },
  {
   "cell_type": "markdown",
   "id": "7f2c2b53-6ada-4cf2-8fee-9d000ec26123",
   "metadata": {},
   "source": [
    "#### Importação de bibliotecas"
   ]
  },
  {
   "cell_type": "code",
   "execution_count": 3,
   "id": "98574c79-76f9-42e6-8cf5-02045f2cf9b8",
   "metadata": {
    "tags": []
   },
   "outputs": [],
   "source": [
    "import pandas as pd\n",
    "import numpy as np\n",
    "import re\n",
    "from unidecode import unidecode\n",
    "import matplotlib.pyplot as plt"
   ]
  },
  {
   "cell_type": "markdown",
   "id": "2ffa5bd9-5d77-445d-834b-c40ba73f6ad0",
   "metadata": {},
   "source": [
    "#### Tarefa: Classificação de ratings das avaliações de clientes:\n",
    "- 4 e 5: Positiva\n",
    "- 1 e 2: Negativa\n",
    "- 3: Descartadas\n"
   ]
  },
  {
   "cell_type": "markdown",
   "id": "8abe1159-efdc-40b8-89e9-912c3e26c742",
   "metadata": {},
   "source": [
    "#### Importação do dataset"
   ]
  },
  {
   "cell_type": "code",
   "execution_count": 10,
   "id": "dbb122c8-ce19-4b29-97ab-45947919ffc1",
   "metadata": {
    "tags": []
   },
   "outputs": [],
   "source": [
    "df = pd.read_csv('../datasets/buscape.csv')"
   ]
  },
  {
   "cell_type": "code",
   "execution_count": 11,
   "id": "df0bf68e-20cc-4aaf-ac34-534cb4ebc630",
   "metadata": {},
   "outputs": [
    {
     "data": {
      "text/html": [
       "<div>\n",
       "<style scoped>\n",
       "    .dataframe tbody tr th:only-of-type {\n",
       "        vertical-align: middle;\n",
       "    }\n",
       "\n",
       "    .dataframe tbody tr th {\n",
       "        vertical-align: top;\n",
       "    }\n",
       "\n",
       "    .dataframe thead th {\n",
       "        text-align: right;\n",
       "    }\n",
       "</style>\n",
       "<table border=\"1\" class=\"dataframe\">\n",
       "  <thead>\n",
       "    <tr style=\"text-align: right;\">\n",
       "      <th></th>\n",
       "      <th>original_index</th>\n",
       "      <th>review_text</th>\n",
       "      <th>review_text_processed</th>\n",
       "      <th>review_text_tokenized</th>\n",
       "      <th>polarity</th>\n",
       "      <th>rating</th>\n",
       "      <th>kfold_polarity</th>\n",
       "      <th>kfold_rating</th>\n",
       "    </tr>\n",
       "  </thead>\n",
       "  <tbody>\n",
       "    <tr>\n",
       "      <th>0</th>\n",
       "      <td>4_55516</td>\n",
       "      <td>Estou muito satisfeito, o visor é melhor do qu...</td>\n",
       "      <td>estou muito satisfeito, o visor e melhor do qu...</td>\n",
       "      <td>['estou', 'muito', 'satisfeito', 'visor', 'mel...</td>\n",
       "      <td>1.0</td>\n",
       "      <td>4</td>\n",
       "      <td>1</td>\n",
       "      <td>1</td>\n",
       "    </tr>\n",
       "    <tr>\n",
       "      <th>1</th>\n",
       "      <td>minus_1_105339</td>\n",
       "      <td>\"muito boa\\n\\nO que gostei: preco\\n\\nO que não...</td>\n",
       "      <td>\"muito boa\\n\\no que gostei: preco\\n\\no que nao...</td>\n",
       "      <td>['muito', 'boa', 'que', 'gostei', 'preco', 'qu...</td>\n",
       "      <td>1.0</td>\n",
       "      <td>5</td>\n",
       "      <td>1</td>\n",
       "      <td>1</td>\n",
       "    </tr>\n",
       "  </tbody>\n",
       "</table>\n",
       "</div>"
      ],
      "text/plain": [
       "   original_index                                        review_text   \n",
       "0         4_55516  Estou muito satisfeito, o visor é melhor do qu...  \\\n",
       "1  minus_1_105339  \"muito boa\\n\\nO que gostei: preco\\n\\nO que não...   \n",
       "\n",
       "                               review_text_processed   \n",
       "0  estou muito satisfeito, o visor e melhor do qu...  \\\n",
       "1  \"muito boa\\n\\no que gostei: preco\\n\\no que nao...   \n",
       "\n",
       "                               review_text_tokenized  polarity  rating   \n",
       "0  ['estou', 'muito', 'satisfeito', 'visor', 'mel...       1.0       4  \\\n",
       "1  ['muito', 'boa', 'que', 'gostei', 'preco', 'qu...       1.0       5   \n",
       "\n",
       "   kfold_polarity  kfold_rating  \n",
       "0               1             1  \n",
       "1               1             1  "
      ]
     },
     "execution_count": 11,
     "metadata": {},
     "output_type": "execute_result"
    }
   ],
   "source": [
    "df.head(2)"
   ]
  },
  {
   "cell_type": "markdown",
   "id": "abfd92da-e628-4cba-a086-dc21bf64753b",
   "metadata": {},
   "source": [
    "#### Removendo colunas que não serão utilizadas"
   ]
  },
  {
   "cell_type": "code",
   "execution_count": 12,
   "id": "38ede5ff-3286-426b-b8a3-5c04529af67e",
   "metadata": {},
   "outputs": [],
   "source": [
    "columns_to_remove = ['original_index', 'review_text_processed', 'review_text_tokenized', 'polarity', 'kfold_polarity', 'kfold_rating']"
   ]
  },
  {
   "cell_type": "code",
   "execution_count": 13,
   "id": "0843e17c-5d45-4606-8a66-787b17faa816",
   "metadata": {},
   "outputs": [],
   "source": [
    "df = df.drop(columns=columns_to_remove, axis=1)"
   ]
  },
  {
   "cell_type": "code",
   "execution_count": 14,
   "id": "cd15a678-3890-4681-8523-3fca3ca69b76",
   "metadata": {},
   "outputs": [
    {
     "data": {
      "text/html": [
       "<div>\n",
       "<style scoped>\n",
       "    .dataframe tbody tr th:only-of-type {\n",
       "        vertical-align: middle;\n",
       "    }\n",
       "\n",
       "    .dataframe tbody tr th {\n",
       "        vertical-align: top;\n",
       "    }\n",
       "\n",
       "    .dataframe thead th {\n",
       "        text-align: right;\n",
       "    }\n",
       "</style>\n",
       "<table border=\"1\" class=\"dataframe\">\n",
       "  <thead>\n",
       "    <tr style=\"text-align: right;\">\n",
       "      <th></th>\n",
       "      <th>review_text</th>\n",
       "      <th>rating</th>\n",
       "    </tr>\n",
       "  </thead>\n",
       "  <tbody>\n",
       "    <tr>\n",
       "      <th>0</th>\n",
       "      <td>Estou muito satisfeito, o visor é melhor do qu...</td>\n",
       "      <td>4</td>\n",
       "    </tr>\n",
       "    <tr>\n",
       "      <th>1</th>\n",
       "      <td>\"muito boa\\n\\nO que gostei: preco\\n\\nO que não...</td>\n",
       "      <td>5</td>\n",
       "    </tr>\n",
       "    <tr>\n",
       "      <th>2</th>\n",
       "      <td>Rápida, ótima qualidade de impressão e fácil d...</td>\n",
       "      <td>5</td>\n",
       "    </tr>\n",
       "  </tbody>\n",
       "</table>\n",
       "</div>"
      ],
      "text/plain": [
       "                                         review_text  rating\n",
       "0  Estou muito satisfeito, o visor é melhor do qu...       4\n",
       "1  \"muito boa\\n\\nO que gostei: preco\\n\\nO que não...       5\n",
       "2  Rápida, ótima qualidade de impressão e fácil d...       5"
      ]
     },
     "execution_count": 14,
     "metadata": {},
     "output_type": "execute_result"
    }
   ],
   "source": [
    "df.head(3)"
   ]
  },
  {
   "cell_type": "code",
   "execution_count": 15,
   "id": "b0899eee-3f12-4b97-b4e6-6c22f5dfef13",
   "metadata": {
    "tags": []
   },
   "outputs": [],
   "source": [
    "# Caso necessite renomear as colunas\n",
    "#new_column_names = {\n",
    " #   'alvo' : 'rating',\n",
    "  #  'textoProcessado' : 'review_text'\n",
    "#}"
   ]
  },
  {
   "cell_type": "code",
   "execution_count": 8,
   "id": "a350a441-a2c3-4a0b-a87d-769e74824ef4",
   "metadata": {},
   "outputs": [],
   "source": [
    "#df.rename(columns=new_column_names, inplace=True)"
   ]
  },
  {
   "cell_type": "code",
   "execution_count": 21,
   "id": "45c34aac-794f-4365-886a-1940f8a8aaca",
   "metadata": {},
   "outputs": [
    {
     "name": "stdout",
     "output_type": "stream",
     "text": [
      "dataset original : 84991 instancias, 2 classes\n"
     ]
    }
   ],
   "source": [
    "print(f'dataset original : {df.shape[0]} instancias, {df.shape[1]} classes')"
   ]
  },
  {
   "cell_type": "markdown",
   "id": "9e172027-75a6-4ea2-a956-7906f2c90d96",
   "metadata": {},
   "source": [
    "#### Pré-processamento"
   ]
  },
  {
   "cell_type": "markdown",
   "id": "b68a63c3-2513-4263-be70-f58aa5cd5a37",
   "metadata": {},
   "source": [
    "#### Verificando registros nulos"
   ]
  },
  {
   "cell_type": "code",
   "execution_count": 22,
   "id": "91d58bd3-6eda-466a-92ef-fbbbb8487c3c",
   "metadata": {
    "tags": []
   },
   "outputs": [
    {
     "data": {
      "text/plain": [
       "review_text     True\n",
       "rating         False\n",
       "dtype: bool"
      ]
     },
     "execution_count": 22,
     "metadata": {},
     "output_type": "execute_result"
    }
   ],
   "source": [
    "df.isnull().any()"
   ]
  },
  {
   "cell_type": "code",
   "execution_count": 23,
   "id": "adb93c91-e4e1-450b-b0fb-90b61ef5639f",
   "metadata": {
    "tags": []
   },
   "outputs": [
    {
     "data": {
      "text/plain": [
       "1"
      ]
     },
     "execution_count": 23,
     "metadata": {},
     "output_type": "execute_result"
    }
   ],
   "source": [
    "df['review_text'].isnull().sum()"
   ]
  },
  {
   "cell_type": "code",
   "execution_count": 24,
   "id": "6b11089b-55cc-4b88-b59a-6805b208ced8",
   "metadata": {
    "tags": []
   },
   "outputs": [
    {
     "data": {
      "text/html": [
       "<div>\n",
       "<style scoped>\n",
       "    .dataframe tbody tr th:only-of-type {\n",
       "        vertical-align: middle;\n",
       "    }\n",
       "\n",
       "    .dataframe tbody tr th {\n",
       "        vertical-align: top;\n",
       "    }\n",
       "\n",
       "    .dataframe thead th {\n",
       "        text-align: right;\n",
       "    }\n",
       "</style>\n",
       "<table border=\"1\" class=\"dataframe\">\n",
       "  <thead>\n",
       "    <tr style=\"text-align: right;\">\n",
       "      <th></th>\n",
       "      <th>review_text</th>\n",
       "      <th>rating</th>\n",
       "    </tr>\n",
       "  </thead>\n",
       "  <tbody>\n",
       "    <tr>\n",
       "      <th>38852</th>\n",
       "      <td>NaN</td>\n",
       "      <td>4</td>\n",
       "    </tr>\n",
       "  </tbody>\n",
       "</table>\n",
       "</div>"
      ],
      "text/plain": [
       "      review_text  rating\n",
       "38852         NaN       4"
      ]
     },
     "execution_count": 24,
     "metadata": {},
     "output_type": "execute_result"
    }
   ],
   "source": [
    "df[df['review_text'].isnull()]"
   ]
  },
  {
   "cell_type": "markdown",
   "id": "c629ef39-112c-4eea-99ea-d85060ee85fc",
   "metadata": {},
   "source": [
    "#### Removendo registros nulos"
   ]
  },
  {
   "cell_type": "code",
   "execution_count": 25,
   "id": "3f5a6650-de34-4e0a-b5e7-c401ebb335c3",
   "metadata": {
    "tags": []
   },
   "outputs": [],
   "source": [
    "df = df.dropna()"
   ]
  },
  {
   "cell_type": "code",
   "execution_count": 26,
   "id": "c0c3b09b-de9b-4628-a8d5-2631cb718405",
   "metadata": {
    "tags": []
   },
   "outputs": [
    {
     "data": {
      "text/plain": [
       "review_text    False\n",
       "rating         False\n",
       "dtype: bool"
      ]
     },
     "execution_count": 26,
     "metadata": {},
     "output_type": "execute_result"
    }
   ],
   "source": [
    "df.isnull().any()"
   ]
  },
  {
   "cell_type": "code",
   "execution_count": 27,
   "id": "677190fb-d1e8-438c-afa8-f356e2201d14",
   "metadata": {
    "tags": []
   },
   "outputs": [
    {
     "data": {
      "text/plain": [
       "(84990, 2)"
      ]
     },
     "execution_count": 27,
     "metadata": {},
     "output_type": "execute_result"
    }
   ],
   "source": [
    "df.shape"
   ]
  },
  {
   "cell_type": "markdown",
   "id": "c6a385c0-bda8-4118-af9a-db8269775dc3",
   "metadata": {},
   "source": [
    "#### Padronizando texto em lowercase"
   ]
  },
  {
   "cell_type": "code",
   "execution_count": 28,
   "id": "ef44dfb7-e089-4e58-ab54-ef8c53d65554",
   "metadata": {
    "tags": []
   },
   "outputs": [],
   "source": [
    "def to_lowercase(text):\n",
    "    text = text.apply(lambda x: \" \".join(x.lower().split()) if isinstance(x, str) else \"\")\n",
    "    return text"
   ]
  },
  {
   "cell_type": "code",
   "execution_count": 29,
   "id": "2c6ad848-9563-41b3-8008-e7266f2969a0",
   "metadata": {
    "tags": []
   },
   "outputs": [],
   "source": [
    "df[\"review_text\"] = to_lowercase(df[\"review_text\"])"
   ]
  },
  {
   "cell_type": "markdown",
   "id": "fe289870-65ea-4560-b83c-6ff2619d86ef",
   "metadata": {},
   "source": [
    "#### Removendo caracteres especiais e substituindo cedilhas por c"
   ]
  },
  {
   "cell_type": "code",
   "execution_count": 30,
   "id": "81bf858d-fa6e-4fd6-ae5d-978a397a51c7",
   "metadata": {
    "tags": []
   },
   "outputs": [],
   "source": [
    "def preprocess_text(text):\n",
    "    # removendo caracteres especiais\n",
    "    text = re.sub(r'[^\\w\\s]', '', text)\n",
    "    # unidecode translitera caracteres acentuados e especiais para formas sem acento ou caracteres equivalentes\n",
    "    text = unidecode(text)\n",
    "    return text"
   ]
  },
  {
   "cell_type": "code",
   "execution_count": 31,
   "id": "9391be9a-7b6b-4b7f-a731-bd277858bc0e",
   "metadata": {
    "tags": []
   },
   "outputs": [],
   "source": [
    "df['review_text'] = [preprocess_text(doc) for doc in df['review_text']]"
   ]
  },
  {
   "cell_type": "markdown",
   "id": "8a37b5d4-42f2-4d61-998a-15e6acc343dd",
   "metadata": {},
   "source": [
    "#### Removendo hiperlinks"
   ]
  },
  {
   "cell_type": "code",
   "execution_count": 32,
   "id": "40b08c2f-8771-4076-9d1a-31cedc21cbec",
   "metadata": {
    "tags": []
   },
   "outputs": [],
   "source": [
    "def remove_hiperlink(text):\n",
    "    text = re.sub(r\"(https?://[^\\s]+|www\\.[^\\s]+)\", '', text)\n",
    "    return text"
   ]
  },
  {
   "cell_type": "code",
   "execution_count": 33,
   "id": "1078930c-d288-41d6-a55c-cf68d1e075e8",
   "metadata": {
    "tags": []
   },
   "outputs": [],
   "source": [
    "df['review_text'] = [remove_hiperlink(doc) for doc in df['review_text']]"
   ]
  },
  {
   "cell_type": "markdown",
   "id": "8b434461-81c8-4b06-a88e-f059e6b3b559",
   "metadata": {},
   "source": [
    "#### Descartando instâncias com avaliação igual a 3"
   ]
  },
  {
   "cell_type": "code",
   "execution_count": 34,
   "id": "37798bf8-a548-4ebe-a954-6ff50b49d67e",
   "metadata": {
    "tags": []
   },
   "outputs": [
    {
     "data": {
      "text/plain": [
       "11364"
      ]
     },
     "execution_count": 34,
     "metadata": {},
     "output_type": "execute_result"
    }
   ],
   "source": [
    "rating_3 = df['rating'] == 3\n",
    "rating_3.sum()"
   ]
  },
  {
   "cell_type": "code",
   "execution_count": 35,
   "id": "9f89c75e-02ca-4a73-87ab-b1729659ad1d",
   "metadata": {
    "tags": []
   },
   "outputs": [],
   "source": [
    "df = df[df['rating'] != 3]"
   ]
  },
  {
   "cell_type": "code",
   "execution_count": 36,
   "id": "d94de7da-1364-47e2-a6b8-5a671777e427",
   "metadata": {
    "tags": []
   },
   "outputs": [
    {
     "data": {
      "text/plain": [
       "(73626, 2)"
      ]
     },
     "execution_count": 36,
     "metadata": {},
     "output_type": "execute_result"
    }
   ],
   "source": [
    "df.shape"
   ]
  },
  {
   "cell_type": "markdown",
   "id": "318a5fda-bf11-4276-90f3-afff28787e04",
   "metadata": {},
   "source": [
    "#### Ajustando ratings:\n",
    "- 1 e 2 = 0\n",
    "- 4 e 5 = 1"
   ]
  },
  {
   "cell_type": "code",
   "execution_count": 37,
   "id": "b2ab69d9-ddc1-4b40-b0ad-4edef7addbb1",
   "metadata": {
    "tags": []
   },
   "outputs": [],
   "source": [
    "# Caso necessite binarização\n",
    "df['rating'] = list(map(lambda x: 0 if x<=2 else 1, df['rating']))"
   ]
  },
  {
   "cell_type": "code",
   "execution_count": 44,
   "id": "7afcd17e-8209-450d-b8e3-a2cbaeb9d09a",
   "metadata": {},
   "outputs": [
    {
     "data": {
      "text/plain": [
       "rating\n",
       "1    66816\n",
       "0     6810\n",
       "Name: count, dtype: int64"
      ]
     },
     "execution_count": 44,
     "metadata": {},
     "output_type": "execute_result"
    }
   ],
   "source": [
    "df_rating_counts = df['rating'].value_counts()\n",
    "df_rating_counts"
   ]
  },
  {
   "cell_type": "markdown",
   "id": "f91ef1a6-7ace-4e28-8b31-8f1294a146a9",
   "metadata": {},
   "source": [
    "#### Nota-se que o dataset está desbalanceado\n",
    "- Existem mais avalições positivas do que negativas;\n",
    "- Muito desproporcional:"
   ]
  },
  {
   "cell_type": "code",
   "execution_count": 48,
   "id": "f58c8919-129a-44f8-8424-8a0b6e63dbc4",
   "metadata": {},
   "outputs": [
    {
     "name": "stdout",
     "output_type": "stream",
     "text": [
      "positivas: 66816\n",
      "negativas: 6810\n"
     ]
    }
   ],
   "source": [
    "print(f'positivas: {df_rating_counts[1]}')\n",
    "print(f'negativas: {df_rating_counts[0]}')"
   ]
  },
  {
   "cell_type": "code",
   "execution_count": 49,
   "id": "b1214f0c-afda-4bb6-8119-9d57acd85b19",
   "metadata": {
    "tags": []
   },
   "outputs": [],
   "source": [
    "def plot_barchart(data):\n",
    "    rating_counts = data\n",
    "    labels = [f'{data[1]} Avaliações Positivas', f'{data[0]} Avaliações Negativas']\n",
    "\n",
    "    # Criar o gráfico de barras\n",
    "    plt.bar(labels, rating_counts)\n",
    "\n",
    "    # Adicionar rótulos e título\n",
    "    plt.xlabel('Ratings')\n",
    "    plt.ylabel('Contagem')\n",
    "    plt.title('Gráfico de Barras de Ratings')\n",
    "\n",
    "    # Mostrar o gráfico\n",
    "    plt.show()"
   ]
  },
  {
   "cell_type": "code",
   "execution_count": 50,
   "id": "477ee922-6c02-48b9-8921-50759787bda3",
   "metadata": {
    "tags": []
   },
   "outputs": [
    {
     "data": {
      "image/png": "[encoded data removed]",
      "text/plain": [
       "<Figure size 640x480 with 1 Axes>"
      ]
     },
     "metadata": {},
     "output_type": "display_data"
    }
   ],
   "source": [
    "plot_barchart(df_rating_counts)"
   ]
  },
  {
   "cell_type": "markdown",
   "id": "762bb679-73bc-4053-aea2-a66e55de12db",
   "metadata": {},
   "source": [
    "#### Utilizar a técnica de reamostragem RandomOverSampler para resolver o problema de desbalanceamento das classes\n",
    "- Esta técnica gera novas amostras aleatórias para a classe minoritária;\n",
    "- Desta forma tenta igualar número de amostras da classe majoritária;"
   ]
  },
  {
   "cell_type": "code",
   "execution_count": 71,
   "id": "21aef2ab-c4a1-4b15-abe7-e97652f88775",
   "metadata": {
    "tags": []
   },
   "outputs": [],
   "source": [
    "from imblearn.over_sampling import RandomOverSampler"
   ]
  },
  {
   "cell_type": "code",
   "execution_count": 72,
   "id": "938a7be3-704d-4f81-83b6-90819070e03d",
   "metadata": {
    "tags": []
   },
   "outputs": [],
   "source": [
    "# Gerando uma cópia do dataset\n",
    "df_balanced = df.copy()"
   ]
  },
  {
   "cell_type": "code",
   "execution_count": 73,
   "id": "1068701a-6c76-4214-811d-e21497a24182",
   "metadata": {},
   "outputs": [],
   "source": [
    "ros = RandomOverSampler()"
   ]
  },
  {
   "cell_type": "markdown",
   "id": "ee593fb6-71de-4efd-943b-70309a154f1b",
   "metadata": {},
   "source": [
    "#### Separarando os recursos (X) e os rótulos (y)"
   ]
  },
  {
   "cell_type": "code",
   "execution_count": 74,
   "id": "539664d6-e076-4edd-8d19-7fa8808c91a6",
   "metadata": {
    "tags": []
   },
   "outputs": [],
   "source": [
    "# Alterarando o shape dos dados para uma representação com uma única coluna\n",
    "# Os dados foram mantidos, mas agora X possui uma coluna adicional, tornando-se uma matriz bidimensional em vez de uma matriz unidimensional\n",
    "X = np.array(df_balanced['review_text'])\n",
    "X = X.reshape(-1, 1)"
   ]
  },
  {
   "cell_type": "code",
   "execution_count": 75,
   "id": "69995366-42d2-41e3-8425-39d4677f7177",
   "metadata": {
    "tags": []
   },
   "outputs": [],
   "source": [
    "y = df_balanced['rating']"
   ]
  },
  {
   "cell_type": "code",
   "execution_count": 76,
   "id": "4de15a6d-8d63-454b-a859-341ab35630dc",
   "metadata": {
    "tags": []
   },
   "outputs": [],
   "source": [
    "# Aplicando o RandomOverSampler para gerar novas amostras\n",
    "X_res, y_res = ros.fit_resample(X, y)"
   ]
  },
  {
   "cell_type": "code",
   "execution_count": 77,
   "id": "8d20a56f-c399-4702-b8a3-a489f2aab5a0",
   "metadata": {
    "tags": []
   },
   "outputs": [
    {
     "name": "stdout",
     "output_type": "stream",
     "text": [
      "rating\n",
      "1    66816\n",
      "0    66816\n",
      "Name: count, dtype: int64\n"
     ]
    }
   ],
   "source": [
    "print(pd.Series(y_res).value_counts())"
   ]
  },
  {
   "cell_type": "code",
   "execution_count": 78,
   "id": "017bd93a-73d7-4bc6-a39e-96a78ad21741",
   "metadata": {
    "tags": []
   },
   "outputs": [
    {
     "data": {
      "image/png": "[encoded data removed]",
      "text/plain": [
       "<Figure size 640x480 with 1 Axes>"
      ]
     },
     "metadata": {},
     "output_type": "display_data"
    }
   ],
   "source": [
    "plot_barchart(y_res.value_counts())"
   ]
  },
  {
   "cell_type": "code",
   "execution_count": 79,
   "id": "97c2fe7f-ef64-42d4-ab08-f7de91a3723a",
   "metadata": {},
   "outputs": [],
   "source": [
    "def clear_sentences(sentences):\n",
    "    new_list_texts = []\n",
    "    for item in sentences:\n",
    "        item = str(item)\n",
    "        item_fixed = item[1:-1]  \n",
    "        new_list_texts.append(item_fixed)\n",
    "    \n",
    "    return [s[1:-1] for s in new_list_texts]"
   ]
  },
  {
   "cell_type": "code",
   "execution_count": 80,
   "id": "1cf75696-660e-4c36-a02b-3f5ca77803a8",
   "metadata": {},
   "outputs": [],
   "source": [
    "texts = clear_sentences(X_res)\n",
    "labels = y_res"
   ]
  },
  {
   "cell_type": "code",
   "execution_count": 81,
   "id": "a3e966bd-30f0-405c-a6e8-51911e0afdda",
   "metadata": {},
   "outputs": [],
   "source": [
    "df_balanced = {\n",
    "    'review_text' : texts,\n",
    "    'rating' : labels\n",
    "}"
   ]
  },
  {
   "cell_type": "code",
   "execution_count": 82,
   "id": "af9f7ebd-b30c-4ddf-8986-b7a996f0cb67",
   "metadata": {},
   "outputs": [],
   "source": [
    "preprocessed_balanced_df = pd.DataFrame(df_balanced)"
   ]
  },
  {
   "cell_type": "code",
   "execution_count": 83,
   "id": "3408f7c4-a3a5-495e-a140-a7ab695889fa",
   "metadata": {},
   "outputs": [
    {
     "data": {
      "text/html": [
       "<div>\n",
       "<style scoped>\n",
       "    .dataframe tbody tr th:only-of-type {\n",
       "        vertical-align: middle;\n",
       "    }\n",
       "\n",
       "    .dataframe tbody tr th {\n",
       "        vertical-align: top;\n",
       "    }\n",
       "\n",
       "    .dataframe thead th {\n",
       "        text-align: right;\n",
       "    }\n",
       "</style>\n",
       "<table border=\"1\" class=\"dataframe\">\n",
       "  <thead>\n",
       "    <tr style=\"text-align: right;\">\n",
       "      <th></th>\n",
       "      <th>review_text</th>\n",
       "      <th>rating</th>\n",
       "    </tr>\n",
       "  </thead>\n",
       "  <tbody>\n",
       "    <tr>\n",
       "      <th>0</th>\n",
       "      <td>estou muito satisfeito o visor e melhor do que...</td>\n",
       "      <td>1</td>\n",
       "    </tr>\n",
       "    <tr>\n",
       "      <th>1</th>\n",
       "      <td>muito boa o que gostei preco o que nao gostei ...</td>\n",
       "      <td>1</td>\n",
       "    </tr>\n",
       "    <tr>\n",
       "      <th>2</th>\n",
       "      <td>rapida otima qualidade de impressao e facil de...</td>\n",
       "      <td>1</td>\n",
       "    </tr>\n",
       "  </tbody>\n",
       "</table>\n",
       "</div>"
      ],
      "text/plain": [
       "                                         review_text  rating\n",
       "0  estou muito satisfeito o visor e melhor do que...       1\n",
       "1  muito boa o que gostei preco o que nao gostei ...       1\n",
       "2  rapida otima qualidade de impressao e facil de...       1"
      ]
     },
     "execution_count": 83,
     "metadata": {},
     "output_type": "execute_result"
    }
   ],
   "source": [
    "preprocessed_balanced_df.head(3)"
   ]
  },
  {
   "cell_type": "code",
   "execution_count": 84,
   "id": "80fff9b9-d609-4544-8382-d87545915081",
   "metadata": {},
   "outputs": [
    {
     "data": {
      "text/plain": [
       "(133632, 2)"
      ]
     },
     "execution_count": 84,
     "metadata": {},
     "output_type": "execute_result"
    }
   ],
   "source": [
    "preprocessed_balanced_df.shape"
   ]
  },
  {
   "cell_type": "code",
   "execution_count": 85,
   "id": "201f35b2-87ef-4122-8570-763a43fc57b2",
   "metadata": {},
   "outputs": [
    {
     "data": {
      "text/plain": [
       "rating\n",
       "1    66816\n",
       "0    66816\n",
       "Name: count, dtype: int64"
      ]
     },
     "execution_count": 85,
     "metadata": {},
     "output_type": "execute_result"
    }
   ],
   "source": [
    "preprocessed_balanced_df['rating'].value_counts()"
   ]
  },
  {
   "cell_type": "code",
   "execution_count": 86,
   "id": "60f36134-b18d-448c-a559-9db378e06213",
   "metadata": {},
   "outputs": [
    {
     "name": "stdout",
     "output_type": "stream",
     "text": [
      "Após pré-processamento e balanceamento, a base buscape está com 133632 instâncias\n"
     ]
    }
   ],
   "source": [
    "print(f'Após pré-processamento e balanceamento, a base buscape está com {preprocessed_balanced_df.shape[0]} instâncias')"
   ]
  },
  {
   "cell_type": "code",
   "execution_count": 87,
   "id": "ef103f50-813a-4637-98d5-df019cf240c0",
   "metadata": {},
   "outputs": [],
   "source": [
    "preprocessed_balanced_df.to_csv('../datasets/buscape_preprocessed.csv', index=False)"
   ]
  }
 ],
 "metadata": {
  "kernelspec": {
   "display_name": "Python 3 (ipykernel)",
   "language": "python",
   "name": "python3"
  },
  "language_info": {
   "codemirror_mode": {
    "name": "ipython",
    "version": 3
   },
   "file_extension": ".py",
   "mimetype": "text/x-python",
   "name": "python",
   "nbconvert_exporter": "python",
   "pygments_lexer": "ipython3",
   "version": "3.10.11"
  }
 },
 "nbformat": 4,
 "nbformat_minor": 5
}
