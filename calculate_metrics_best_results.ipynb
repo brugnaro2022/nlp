{
  "nbformat": 4,
  "nbformat_minor": 0,
  "metadata": {
    "colab": {
      "provenance": []
    },
    "kernelspec": {
      "name": "python3",
      "display_name": "Python 3"
    },
    "language_info": {
      "name": "python"
    }
  },
  "cells": [
    {
      "cell_type": "code",
      "source": [
        "import pandas as pd"
      ],
      "metadata": {
        "id": "F5EpyRRK44WP"
      },
      "execution_count": 2,
      "outputs": []
    },
    {
      "cell_type": "code",
      "execution_count": 9,
      "metadata": {
        "id": "9JcKe1JK39kd"
      },
      "outputs": [],
      "source": [
        "f1_score = [0.86,0.84,0.83,0.83,0.83,0.85,0.83,0.83,0.86,0.85,0.83,0.83,0.86,0.85,0.84,0.83,0.86,0.86,0.85,0.85]\n",
        "accuracy = [0.85,0.84,0.83,0.83,0.83,0.84,0.83,0.83,0.86,0.85,0.83,0.83,0.86,0.85,0.84,0.83,0.86,0.86,0.84,0.84]"
      ]
    },
    {
      "cell_type": "code",
      "source": [
        "data = {\n",
        "    'f1_score': f1_score,\n",
        "    'accuracy': accuracy\n",
        "}"
      ],
      "metadata": {
        "id": "EiyH_W0W75jL"
      },
      "execution_count": 10,
      "outputs": []
    },
    {
      "cell_type": "code",
      "source": [
        "df = pd.DataFrame(data,index=range(1, len(f1_score) + 1))"
      ],
      "metadata": {
        "id": "k-TrzpNL48Av"
      },
      "execution_count": 13,
      "outputs": []
    },
    {
      "cell_type": "code",
      "source": [
        "print(df)"
      ],
      "metadata": {
        "colab": {
          "base_uri": "https://localhost:8080/"
        },
        "id": "E0kyJBWA4_dv",
        "outputId": "2a194f04-119d-434b-91f7-a4ba96de50e2"
      },
      "execution_count": 15,
      "outputs": [
        {
          "output_type": "stream",
          "name": "stdout",
          "text": [
            "    f1_score  accuracy\n",
            "1       0.86      0.85\n",
            "2       0.84      0.84\n",
            "3       0.83      0.83\n",
            "4       0.83      0.83\n",
            "5       0.83      0.83\n",
            "6       0.85      0.84\n",
            "7       0.83      0.83\n",
            "8       0.83      0.83\n",
            "9       0.86      0.86\n",
            "10      0.85      0.85\n",
            "11      0.83      0.83\n",
            "12      0.83      0.83\n",
            "13      0.86      0.86\n",
            "14      0.85      0.85\n",
            "15      0.84      0.84\n",
            "16      0.83      0.83\n",
            "17      0.86      0.86\n",
            "18      0.86      0.86\n",
            "19      0.85      0.84\n",
            "20      0.85      0.84\n"
          ]
        }
      ]
    },
    {
      "cell_type": "code",
      "source": [
        "def extract_best_combined_result(df):\n",
        "    df['combined_score'] = df['f1_score'] + df['accuracy']\n",
        "    best_combined_index = df['combined_score'].idxmax()\n",
        "    best_result = df.loc[best_combined_index]\n",
        "\n",
        "    return best_combined_index, best_result\n",
        "\n",
        "best_index, best_combined_result = extract_best_combined_result(df)\n",
        "\n",
        "print(\"Melhores Resultados Combinados:\")\n",
        "print(\"Index Melhor Resultado:\", best_index)\n",
        "print(best_combined_result)"
      ],
      "metadata": {
        "colab": {
          "base_uri": "https://localhost:8080/"
        },
        "id": "WFZcvlFF4z25",
        "outputId": "7f3f0b87-4ff6-43fe-c3ca-b6849ca0051e"
      },
      "execution_count": 25,
      "outputs": [
        {
          "output_type": "stream",
          "name": "stdout",
          "text": [
            "Melhores Resultados Combinados:\n",
            "Index Melhor Resultado: 9\n",
            "f1_score          0.86\n",
            "accuracy          0.86\n",
            "combined_score    1.72\n",
            "Name: 9, dtype: float64\n"
          ]
        }
      ]
    }
  ]
}