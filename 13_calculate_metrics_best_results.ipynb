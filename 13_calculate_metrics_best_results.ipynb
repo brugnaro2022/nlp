{
 "cells": [
  {
   "cell_type": "code",
   "execution_count": 8,
   "metadata": {
    "id": "F5EpyRRK44WP"
   },
   "outputs": [],
   "source": [
    "import pandas as pd\n",
    "import numpy as np"
   ]
  },
  {
   "cell_type": "code",
   "execution_count": 39,
   "metadata": {
    "id": "9JcKe1JK39kd"
   },
   "outputs": [],
   "source": [
    "f1_score=[0.87,0.87,0.87,0.86,0.87,0.87,0.87,0.86,0.87,0.87,0.87,0.87,0.87,0.87,0.87,0.85,0.87,0.87,0.86,0.83]\n",
    "f1_score=[0.87,0.88,0.87,0.86,0.87,0.88,0.87,0.86,0.87,0.87,0.87,0.87,0.87,0.87,0.87,0.85,0.87,0.87,0.86,0.84]"
   ]
  },
  {
   "cell_type": "code",
   "execution_count": 40,
   "metadata": {
    "id": "EiyH_W0W75jL"
   },
   "outputs": [
    {
     "name": "stdout",
     "output_type": "stream",
     "text": [
      "    f1_score  accuracy\n",
      "1       0.87      0.92\n",
      "2       0.88      0.92\n",
      "3       0.87      0.92\n",
      "4       0.86      0.92\n",
      "5       0.87      0.92\n",
      "6       0.88      0.92\n",
      "7       0.87      0.92\n",
      "8       0.86      0.92\n",
      "9       0.87      0.91\n",
      "10      0.87      0.92\n",
      "11      0.87      0.92\n",
      "12      0.87      0.91\n",
      "13      0.87      0.91\n",
      "14      0.87      0.91\n",
      "15      0.87      0.91\n",
      "16      0.85      0.91\n",
      "17      0.87      0.91\n",
      "18      0.87      0.91\n",
      "19      0.86      0.91\n",
      "20      0.84      0.91\n",
      "--------------------------------------------------------------------------------\n",
      "Melhores Resultados Combinados:\n",
      "Index Melhor Resultado: 2\n",
      "f1_score          0.88\n",
      "accuracy          0.92\n",
      "combined_score    1.80\n",
      "Name: 2, dtype: float64\n",
      "Desvio Padrão F1 Score: 0.01\n",
      "Desvio Padrão Accuracies: 0.01\n",
      "Desvio Padrão dos Resultados Combinados: 0.01\n"
     ]
    }
   ],
   "source": [
    "data = {\n",
    "    'f1_score': f1_score,\n",
    "    'accuracy': accuracy\n",
    "}\n",
    "\n",
    "df = pd.DataFrame(data,index=range(1, len(f1_score) + 1))\n",
    "\n",
    "print(df)\n",
    "\n",
    "print('-'*80)\n",
    "\n",
    "def extract_best_combined_result(df):\n",
    "    df['combined_score'] = df['f1_score'] + df['accuracy']\n",
    "    best_combined_index = df['combined_score'].idxmax()\n",
    "    best_result = df.loc[best_combined_index]\n",
    "    \n",
    "    std_f1_scores = np.std(df['f1_score'])\n",
    "    std_accuracies = np.std(df['accuracy'])\n",
    "    \n",
    "    # Calculate standard deviation of the combined scores\n",
    "    combined_scores = df['combined_score']\n",
    "    std_deviation = np.std(combined_scores)\n",
    "    \n",
    "    return best_combined_index, best_result, std_f1_scores, std_accuracies, std_deviation\n",
    "\n",
    "best_index, best_combined_result, std_f1_scores, std_accuracies, std_deviation = extract_best_combined_result(df)\n",
    "\n",
    "print(\"Melhores Resultados Combinados:\")\n",
    "print(\"Index Melhor Resultado:\", best_index)\n",
    "print(best_combined_result)\n",
    "print(\"Desvio Padrão F1 Score:\", round(std_f1_scores, 2))\n",
    "print(\"Desvio Padrão Accuracies:\", round(std_accuracies, 2))\n",
    "print(\"Desvio Padrão dos Resultados Combinados:\", round(std_deviation, 2))\n"
   ]
  }
 ],
 "metadata": {
  "colab": {
   "provenance": []
  },
  "kernelspec": {
   "display_name": "Python 3 (ipykernel)",
   "language": "python",
   "name": "python3"
  },
  "language_info": {
   "codemirror_mode": {
    "name": "ipython",
    "version": 3
   },
   "file_extension": ".py",
   "mimetype": "text/x-python",
   "name": "python",
   "nbconvert_exporter": "python",
   "pygments_lexer": "ipython3",
   "version": "3.10.11"
  }
 },
 "nbformat": 4,
 "nbformat_minor": 4
}
