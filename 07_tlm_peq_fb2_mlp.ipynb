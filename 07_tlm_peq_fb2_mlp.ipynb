{
 "cells": [
  {
   "cell_type": "markdown",
   "id": "0eeecbd9-595c-478a-b467-0b325bf25dff",
   "metadata": {},
   "source": [
    "\n",
    "<b>INSTITUTO FEDERAL DE GOIÁS<br/>\n",
    "PÓS-GRADUAÇÃO EM INTELIGÊNCIA ARTIFICIAL APLICADA<br/></b>\n",
    "Disciplina: Processamento de Linguagem Natural  <br/>\n",
    "Professor: Daniel Xavier de Sousa <br/>\n",
    "Alunos: Wagner Silva, Cleibson, Marcos Rodrigues\n",
    "\n",
    "\n",
    "---"
   ]
  },
  {
   "cell_type": "code",
   "execution_count": 2,
   "id": "4eff3435-e01a-40ee-a853-4d9378cfc2cd",
   "metadata": {},
   "outputs": [],
   "source": [
    "import pandas as pd\n",
    "import numpy as np\n",
    "import torch\n",
    "\n",
    "from transformers import AutoTokenizer, AutoModel\n",
    "\n",
    "from sklearn.model_selection import cross_val_score, train_test_split\n",
    "from sklearn.model_selection import KFold\n",
    "from sklearn.metrics import accuracy_score, f1_score\n",
    "\n",
    "import tensorflow as tf\n",
    "from tensorflow.keras.models import Sequential\n",
    "from tensorflow.keras.layers import Dense, Dropout\n",
    "from tensorflow.keras.callbacks import EarlyStopping\n",
    "from tensorflow.keras.optimizers import Adam\n",
    "\n",
    "import matplotlib.pyplot as plt"
   ]
  },
  {
   "cell_type": "code",
   "execution_count": 3,
   "id": "498979f2-ba75-418f-aa31-882b9956d0e8",
   "metadata": {},
   "outputs": [],
   "source": [
    "#Dropout: 5%, 15%, 25%, 35%, and 50%\n",
    "DROPOUT = 0.05\n",
    "\n",
    "#Learning rate: 5e-4, 1e-3, 5e-3, 1e-2\n",
    "LEARNING_RATE = 5e-4"
   ]
  },
  {
   "cell_type": "code",
   "execution_count": 4,
   "id": "cc05eb94-185b-4ac5-a65f-92dc2337bce8",
   "metadata": {},
   "outputs": [],
   "source": [
    "tokenizer = AutoTokenizer.from_pretrained(\"xlm-roberta-base\")\n",
    "model = AutoModel.from_pretrained(\"xlm-roberta-base\")"
   ]
  },
  {
   "cell_type": "code",
   "execution_count": 5,
   "id": "67bd7419-7171-467e-9bff-0bafd968a094",
   "metadata": {},
   "outputs": [],
   "source": [
    "df = pd.read_csv('../datasets/buscape_preprocessed_balanced_cleared.csv')"
   ]
  },
  {
   "cell_type": "code",
   "execution_count": 6,
   "id": "6b5a3d95-ae9e-4753-aac9-633b658c1c13",
   "metadata": {},
   "outputs": [
    {
     "data": {
      "text/html": [
       "<div>\n",
       "<style scoped>\n",
       "    .dataframe tbody tr th:only-of-type {\n",
       "        vertical-align: middle;\n",
       "    }\n",
       "\n",
       "    .dataframe tbody tr th {\n",
       "        vertical-align: top;\n",
       "    }\n",
       "\n",
       "    .dataframe thead th {\n",
       "        text-align: right;\n",
       "    }\n",
       "</style>\n",
       "<table border=\"1\" class=\"dataframe\">\n",
       "  <thead>\n",
       "    <tr style=\"text-align: right;\">\n",
       "      <th></th>\n",
       "      <th>review_text</th>\n",
       "      <th>rating</th>\n",
       "    </tr>\n",
       "  </thead>\n",
       "  <tbody>\n",
       "    <tr>\n",
       "      <th>0</th>\n",
       "      <td>nao comparia novamente essa marca pois paguei ...</td>\n",
       "      <td>0</td>\n",
       "    </tr>\n",
       "    <tr>\n",
       "      <th>1</th>\n",
       "      <td>tem uma boa aderencia te da mas agilidades no ...</td>\n",
       "      <td>0</td>\n",
       "    </tr>\n",
       "    <tr>\n",
       "      <th>2</th>\n",
       "      <td>somente mais um jogo do estilo nada realmente ...</td>\n",
       "      <td>0</td>\n",
       "    </tr>\n",
       "  </tbody>\n",
       "</table>\n",
       "</div>"
      ],
      "text/plain": [
       "                                         review_text  rating\n",
       "0  nao comparia novamente essa marca pois paguei ...       0\n",
       "1  tem uma boa aderencia te da mas agilidades no ...       0\n",
       "2  somente mais um jogo do estilo nada realmente ...       0"
      ]
     },
     "execution_count": 6,
     "metadata": {},
     "output_type": "execute_result"
    }
   ],
   "source": [
    "df.head(3)"
   ]
  },
  {
   "cell_type": "code",
   "execution_count": 7,
   "id": "253fd218-66f4-45b1-a5b7-68b774eea0a6",
   "metadata": {},
   "outputs": [
    {
     "data": {
      "text/plain": [
       "(13620, 2)"
      ]
     },
     "execution_count": 7,
     "metadata": {},
     "output_type": "execute_result"
    }
   ],
   "source": [
    "df.shape"
   ]
  },
  {
   "cell_type": "code",
   "execution_count": 18,
   "id": "86740916-bd2c-4654-9c3d-3094d072d971",
   "metadata": {},
   "outputs": [],
   "source": [
    "reviews_part_01, reviews_part_02, labels_part_01, labels_part_02 = train_test_split(df['review_text'], df['rating'], test_size=0.5, random_state=42)"
   ]
  },
  {
   "cell_type": "code",
   "execution_count": 21,
   "id": "f796d79b-78c8-4c5d-a825-2a5ab6612846",
   "metadata": {},
   "outputs": [
    {
     "name": "stdout",
     "output_type": "stream",
     "text": [
      "(6810,)\n",
      "(6810,)\n",
      "(6810,)\n",
      "(6810,)\n"
     ]
    }
   ],
   "source": [
    "print(reviews_part_01.shape)\n",
    "print(labels_part_01.shape)\n",
    "print(reviews_part_02.shape)\n",
    "print(labels_part_02.shape)"
   ]
  },
  {
   "cell_type": "code",
   "execution_count": 40,
   "id": "6679171a-4b4e-43be-bd06-6207cd4c349c",
   "metadata": {},
   "outputs": [
    {
     "data": {
      "text/plain": [
       "rating\n",
       "1    3419\n",
       "0    3391\n",
       "Name: count, dtype: int64"
      ]
     },
     "execution_count": 40,
     "metadata": {},
     "output_type": "execute_result"
    }
   ],
   "source": [
    "labels_part_01.value_counts()"
   ]
  },
  {
   "cell_type": "code",
   "execution_count": 23,
   "id": "282fb03a-25e5-40c0-9611-8c6ab5ebeff0",
   "metadata": {},
   "outputs": [],
   "source": [
    "#reviews = [\"This movie was great!\", \"I didn't like this movie.\", \"Ate que gostei\", \"Nao achei tao legal\"]\n",
    "#labels = [1, 0, 1, 0]\n",
    "reviews = reviews_part_01\n",
    "labels = labels_part_01"
   ]
  },
  {
   "cell_type": "markdown",
   "id": "8641ee11-6c0f-4d99-8063-9eb06b19c63f",
   "metadata": {},
   "source": [
    "#### Tokenização e geração dos embeddings\n",
    "- Este processo pode demorar alguns minnutos para ser concluído"
   ]
  },
  {
   "cell_type": "code",
   "execution_count": 26,
   "id": "583c3394-9378-4f1f-b66d-0e428398f6d1",
   "metadata": {},
   "outputs": [],
   "source": [
    "embeddings = []\n",
    "for review in reviews:\n",
    "    inputs = tokenizer(review, return_tensors=\"pt\", padding=True, truncation=True)\n",
    "    with torch.no_grad():\n",
    "        output = model(**inputs)\n",
    "    embeddings.append(output.last_hidden_state.mean(dim=1).numpy())"
   ]
  },
  {
   "cell_type": "code",
   "execution_count": 27,
   "id": "31250cb7-be0d-43a3-8938-42bfee043378",
   "metadata": {},
   "outputs": [],
   "source": [
    "embeddings_array = np.vstack(embeddings)"
   ]
  },
  {
   "cell_type": "code",
   "execution_count": 28,
   "id": "9274f7b8-0804-436d-9341-82e702c7a1df",
   "metadata": {},
   "outputs": [
    {
     "name": "stdout",
     "output_type": "stream",
     "text": [
      "6810 embeddings de 768 dimensões\n"
     ]
    }
   ],
   "source": [
    "print(f'{embeddings_array.shape[0]} embeddings de {embeddings_array.shape[1]} dimensões')"
   ]
  },
  {
   "cell_type": "markdown",
   "id": "27fe71ea-9cbe-464e-9823-2b1772b43543",
   "metadata": {},
   "source": [
    "#### Feature based 2"
   ]
  },
  {
   "cell_type": "code",
   "execution_count": 29,
   "id": "0494221c-521c-4627-bc64-845c45d95942",
   "metadata": {},
   "outputs": [],
   "source": [
    "additional_features_1 = np.array([[len(review.split())] for review in reviews])\n",
    "additional_features_2 = np.array([[len(review_part_2.split())] for review_part_2 in reviews_part_02])"
   ]
  },
  {
   "cell_type": "code",
   "execution_count": 30,
   "id": "7a40a583-1d1c-47e7-8275-4f28c255c491",
   "metadata": {},
   "outputs": [
    {
     "name": "stdout",
     "output_type": "stream",
     "text": [
      "(6810, 768)\n",
      "(6810, 1)\n",
      "(6810, 1)\n"
     ]
    }
   ],
   "source": [
    "print(embeddings_array.shape)\n",
    "print(additional_features_1.shape)\n",
    "print(additional_features_2.shape)"
   ]
  },
  {
   "cell_type": "markdown",
   "id": "7fd2a886-b830-48bd-8893-94b0f286b0f6",
   "metadata": {},
   "source": [
    "#### Combinando embeddings_array e additional_features"
   ]
  },
  {
   "cell_type": "code",
   "execution_count": 31,
   "id": "1ad5c9cb-b4db-4d66-83ce-b0a313b47785",
   "metadata": {},
   "outputs": [],
   "source": [
    "#combined_features = np.hstack((embeddings_array, additional_features))\n",
    "combined_features = np.hstack((embeddings_array, additional_features_1, additional_features_2))"
   ]
  },
  {
   "cell_type": "markdown",
   "id": "db03c447-ae9d-4b9d-90ae-c5826ef4d631",
   "metadata": {},
   "source": [
    "#### Dividindo dataset treino e teste"
   ]
  },
  {
   "cell_type": "code",
   "execution_count": 32,
   "id": "3f5fce34-b5ec-47c1-9c85-1790d41a14cf",
   "metadata": {},
   "outputs": [],
   "source": [
    "X_train, X_test, y_train, y_test = train_test_split(combined_features, labels, test_size=0.2, random_state=42)"
   ]
  },
  {
   "cell_type": "code",
   "execution_count": 33,
   "id": "c68f6ca6-df7b-4e13-a917-fcac77fe3a0a",
   "metadata": {},
   "outputs": [],
   "source": [
    "X_train_tensor = tf.convert_to_tensor(X_train, dtype=tf.float32)\n",
    "y_train_tensor = tf.convert_to_tensor(y_train, dtype=tf.float32)"
   ]
  },
  {
   "cell_type": "code",
   "execution_count": 34,
   "id": "a741c373-5fe8-43e1-bef7-3ca777f4f8c7",
   "metadata": {},
   "outputs": [],
   "source": [
    "X_test_tensor = tf.convert_to_tensor(X_test, dtype=tf.float32)\n",
    "y_test_tensor = tf.convert_to_tensor(y_test, dtype=tf.float32)"
   ]
  },
  {
   "cell_type": "markdown",
   "id": "fd918c3b-2483-4ae0-8add-993249735289",
   "metadata": {},
   "source": [
    "#### Arquitetura rede neural MLP"
   ]
  },
  {
   "cell_type": "code",
   "execution_count": 35,
   "id": "844193f9-f989-4aa6-bb3a-599ee915ec04",
   "metadata": {},
   "outputs": [
    {
     "name": "stdout",
     "output_type": "stream",
     "text": [
      "Model: \"sequential\"\n",
      "_________________________________________________________________\n",
      " Layer (type)                Output Shape              Param #   \n",
      "=================================================================\n",
      " dense (Dense)               (None, 24)                18504     \n",
      "                                                                 \n",
      " dropout (Dropout)           (None, 24)                0         \n",
      "                                                                 \n",
      " dense_1 (Dense)             (None, 1)                 25        \n",
      "                                                                 \n",
      "=================================================================\n",
      "Total params: 18,529\n",
      "Trainable params: 18,529\n",
      "Non-trainable params: 0\n",
      "_________________________________________________________________\n"
     ]
    }
   ],
   "source": [
    "model = Sequential([\n",
    "    Dense(24, activation='relu', input_dim=X_train_tensor.shape[1]),\n",
    "    Dropout(DROPOUT),\n",
    "    Dense(1, activation='sigmoid')\n",
    "])\n",
    "model.summary()"
   ]
  },
  {
   "cell_type": "code",
   "execution_count": 36,
   "id": "dd5bf94b-527c-4ccd-ae79-64da1843f3c1",
   "metadata": {},
   "outputs": [],
   "source": [
    "model.compile(optimizer=Adam(learning_rate=LEARNING_RATE), loss='binary_crossentropy', metrics=['accuracy'])"
   ]
  },
  {
   "cell_type": "markdown",
   "id": "e428006c-fa10-4fa9-bd30-0dfed115ac7a",
   "metadata": {},
   "source": [
    "#### Cross-validation"
   ]
  },
  {
   "cell_type": "code",
   "execution_count": 37,
   "id": "08e203b7-d30e-4d36-a824-4965e5a13299",
   "metadata": {},
   "outputs": [],
   "source": [
    "num_folds = 10\n",
    "kf = KFold(n_splits=num_folds, shuffle=True, random_state=42)"
   ]
  },
  {
   "cell_type": "markdown",
   "id": "f8960145-c7cd-4ee0-bc67-3e85cdca9292",
   "metadata": {},
   "source": [
    "#### Treinamento do modelo"
   ]
  },
  {
   "cell_type": "code",
   "execution_count": 38,
   "id": "b911ef20-f3f2-4033-99ef-99451a97abc2",
   "metadata": {},
   "outputs": [
    {
     "name": "stdout",
     "output_type": "stream",
     "text": [
      "fold = 1\n",
      "Epoch 1/10\n",
      "192/192 [==============================] - 1s 1ms/step - loss: 0.8302 - accuracy: 0.6428\n",
      "Epoch 2/10\n",
      "192/192 [==============================] - 0s 1ms/step - loss: 0.6209 - accuracy: 0.7070\n",
      "Epoch 3/10\n",
      "192/192 [==============================] - 0s 2ms/step - loss: 0.5555 - accuracy: 0.7417\n",
      "Epoch 4/10\n",
      "192/192 [==============================] - 0s 2ms/step - loss: 0.5200 - accuracy: 0.7559\n",
      "Epoch 5/10\n",
      "192/192 [==============================] - 0s 2ms/step - loss: 0.4883 - accuracy: 0.7799\n",
      "Epoch 6/10\n",
      "192/192 [==============================] - 0s 1ms/step - loss: 0.4655 - accuracy: 0.7892\n",
      "Epoch 7/10\n",
      "192/192 [==============================] - 0s 1ms/step - loss: 0.4557 - accuracy: 0.7943\n",
      "Epoch 8/10\n",
      "192/192 [==============================] - 0s 1ms/step - loss: 0.4356 - accuracy: 0.8098\n",
      "Epoch 9/10\n",
      "192/192 [==============================] - 0s 1ms/step - loss: 0.4207 - accuracy: 0.8122\n",
      "Epoch 10/10\n",
      "192/192 [==============================] - 0s 1ms/step - loss: 0.4120 - accuracy: 0.8176\n",
      "22/22 [==============================] - 0s 1ms/step\n",
      "fold = 2\n",
      "Epoch 1/10\n",
      "192/192 [==============================] - 0s 1ms/step - loss: 0.4041 - accuracy: 0.8176\n",
      "Epoch 2/10\n",
      "192/192 [==============================] - 0s 1ms/step - loss: 0.3938 - accuracy: 0.8271\n",
      "Epoch 3/10\n",
      "192/192 [==============================] - 0s 1ms/step - loss: 0.3936 - accuracy: 0.8284\n",
      "Epoch 4/10\n",
      "192/192 [==============================] - 0s 1ms/step - loss: 0.3859 - accuracy: 0.8305\n",
      "Epoch 5/10\n",
      "192/192 [==============================] - 0s 1ms/step - loss: 0.3824 - accuracy: 0.8341\n",
      "Epoch 6/10\n",
      "192/192 [==============================] - 0s 1ms/step - loss: 0.3799 - accuracy: 0.8347\n",
      "Epoch 7/10\n",
      "192/192 [==============================] - 0s 1ms/step - loss: 0.3736 - accuracy: 0.8401\n",
      "Epoch 8/10\n",
      "192/192 [==============================] - 0s 1ms/step - loss: 0.3712 - accuracy: 0.8377\n",
      "Epoch 9/10\n",
      "192/192 [==============================] - 0s 1ms/step - loss: 0.3709 - accuracy: 0.8383\n",
      "Epoch 10/10\n",
      "192/192 [==============================] - 0s 1ms/step - loss: 0.3636 - accuracy: 0.8401\n",
      "22/22 [==============================] - 0s 800us/step\n",
      "fold = 3\n",
      "Epoch 1/10\n",
      "192/192 [==============================] - 0s 1ms/step - loss: 0.3623 - accuracy: 0.8470\n",
      "Epoch 2/10\n",
      "192/192 [==============================] - 0s 1ms/step - loss: 0.3591 - accuracy: 0.8515\n",
      "Epoch 3/10\n",
      "192/192 [==============================] - 0s 1ms/step - loss: 0.3574 - accuracy: 0.8483\n",
      "Epoch 4/10\n",
      "192/192 [==============================] - 0s 1ms/step - loss: 0.3522 - accuracy: 0.8519\n",
      "Epoch 5/10\n",
      "192/192 [==============================] - 0s 1ms/step - loss: 0.3526 - accuracy: 0.8443\n",
      "Epoch 6/10\n",
      "192/192 [==============================] - 0s 1ms/step - loss: 0.3491 - accuracy: 0.8491\n",
      "Epoch 7/10\n",
      "192/192 [==============================] - 0s 1ms/step - loss: 0.3505 - accuracy: 0.8525\n",
      "Epoch 8/10\n",
      "192/192 [==============================] - 0s 1ms/step - loss: 0.3442 - accuracy: 0.8561\n",
      "Epoch 9/10\n",
      "192/192 [==============================] - 0s 1ms/step - loss: 0.3431 - accuracy: 0.8550\n",
      "Epoch 10/10\n",
      "192/192 [==============================] - 0s 1ms/step - loss: 0.3410 - accuracy: 0.8520\n",
      "22/22 [==============================] - 0s 773us/step\n",
      "fold = 4\n",
      "Epoch 1/10\n",
      "192/192 [==============================] - 0s 1ms/step - loss: 0.3350 - accuracy: 0.8585\n",
      "Epoch 2/10\n",
      "192/192 [==============================] - 0s 1ms/step - loss: 0.3321 - accuracy: 0.8589\n",
      "Epoch 3/10\n",
      "192/192 [==============================] - 0s 1ms/step - loss: 0.3335 - accuracy: 0.8587\n",
      "Epoch 4/10\n",
      "192/192 [==============================] - 0s 1ms/step - loss: 0.3317 - accuracy: 0.8613\n",
      "Epoch 5/10\n",
      "192/192 [==============================] - 0s 1ms/step - loss: 0.3280 - accuracy: 0.8628\n",
      "Epoch 6/10\n",
      "192/192 [==============================] - 0s 1ms/step - loss: 0.3295 - accuracy: 0.8649\n",
      "Epoch 7/10\n",
      "192/192 [==============================] - 0s 1ms/step - loss: 0.3253 - accuracy: 0.8631\n",
      "Epoch 8/10\n",
      "192/192 [==============================] - 0s 1ms/step - loss: 0.3245 - accuracy: 0.8623\n",
      "Epoch 9/10\n",
      "192/192 [==============================] - 0s 1ms/step - loss: 0.3231 - accuracy: 0.8647\n",
      "Epoch 10/10\n",
      "192/192 [==============================] - 0s 1ms/step - loss: 0.3237 - accuracy: 0.8621\n",
      "22/22 [==============================] - 0s 880us/step\n",
      "fold = 5\n",
      "Epoch 1/10\n",
      "192/192 [==============================] - 0s 1ms/step - loss: 0.3261 - accuracy: 0.8677\n",
      "Epoch 2/10\n",
      "192/192 [==============================] - 0s 1ms/step - loss: 0.3287 - accuracy: 0.8644\n",
      "Epoch 3/10\n",
      "192/192 [==============================] - 0s 1ms/step - loss: 0.3202 - accuracy: 0.8644\n",
      "Epoch 4/10\n",
      "192/192 [==============================] - 0s 1ms/step - loss: 0.3247 - accuracy: 0.8646\n",
      "Epoch 5/10\n",
      "192/192 [==============================] - 0s 1ms/step - loss: 0.3189 - accuracy: 0.8677\n",
      "Epoch 6/10\n",
      "192/192 [==============================] - 0s 1ms/step - loss: 0.3176 - accuracy: 0.8656\n",
      "Epoch 7/10\n",
      "192/192 [==============================] - 0s 1ms/step - loss: 0.3174 - accuracy: 0.8675\n",
      "Epoch 8/10\n",
      "192/192 [==============================] - 0s 1ms/step - loss: 0.3170 - accuracy: 0.8674\n",
      "Epoch 9/10\n",
      "192/192 [==============================] - 0s 1ms/step - loss: 0.3154 - accuracy: 0.8696\n",
      "Epoch 10/10\n",
      "192/192 [==============================] - 0s 1ms/step - loss: 0.3123 - accuracy: 0.8722\n",
      "22/22 [==============================] - 0s 833us/step\n",
      "fold = 6\n",
      "Epoch 1/10\n",
      "192/192 [==============================] - 0s 1ms/step - loss: 0.3165 - accuracy: 0.8690\n",
      "Epoch 2/10\n",
      "192/192 [==============================] - 0s 1ms/step - loss: 0.3177 - accuracy: 0.8687\n",
      "Epoch 3/10\n",
      "192/192 [==============================] - 0s 1ms/step - loss: 0.3163 - accuracy: 0.8683\n",
      "Epoch 4/10\n",
      "192/192 [==============================] - 0s 1ms/step - loss: 0.3126 - accuracy: 0.8664\n",
      "Epoch 5/10\n",
      "192/192 [==============================] - 0s 1ms/step - loss: 0.3087 - accuracy: 0.8711\n",
      "Epoch 6/10\n",
      "192/192 [==============================] - 0s 1ms/step - loss: 0.3097 - accuracy: 0.8706\n",
      "Epoch 7/10\n",
      "192/192 [==============================] - 0s 1ms/step - loss: 0.3156 - accuracy: 0.8674\n",
      "Epoch 8/10\n",
      "192/192 [==============================] - 0s 1ms/step - loss: 0.3124 - accuracy: 0.8698\n",
      "22/22 [==============================] - 0s 799us/step\n",
      "fold = 7\n",
      "Epoch 1/10\n",
      "192/192 [==============================] - 0s 2ms/step - loss: 0.3043 - accuracy: 0.8700\n",
      "Epoch 2/10\n",
      "192/192 [==============================] - 0s 2ms/step - loss: 0.3024 - accuracy: 0.8732\n",
      "Epoch 3/10\n",
      "192/192 [==============================] - 0s 2ms/step - loss: 0.3084 - accuracy: 0.8677\n",
      "Epoch 4/10\n",
      "192/192 [==============================] - 0s 2ms/step - loss: 0.3032 - accuracy: 0.8727\n",
      "Epoch 5/10\n",
      "192/192 [==============================] - 0s 1ms/step - loss: 0.2998 - accuracy: 0.8747\n",
      "Epoch 6/10\n",
      "192/192 [==============================] - 0s 1ms/step - loss: 0.2995 - accuracy: 0.8729\n",
      "Epoch 7/10\n",
      "192/192 [==============================] - 0s 2ms/step - loss: 0.2960 - accuracy: 0.8765\n",
      "Epoch 8/10\n",
      "192/192 [==============================] - 0s 1ms/step - loss: 0.2989 - accuracy: 0.8770\n",
      "Epoch 9/10\n",
      "192/192 [==============================] - 0s 1ms/step - loss: 0.2978 - accuracy: 0.8765\n",
      "Epoch 10/10\n",
      "192/192 [==============================] - 0s 1ms/step - loss: 0.2977 - accuracy: 0.8739\n",
      "22/22 [==============================] - 0s 862us/step\n",
      "fold = 8\n",
      "Epoch 1/10\n",
      "192/192 [==============================] - 0s 1ms/step - loss: 0.2943 - accuracy: 0.8763\n",
      "Epoch 2/10\n",
      "192/192 [==============================] - 0s 1ms/step - loss: 0.2949 - accuracy: 0.8786\n",
      "Epoch 3/10\n",
      "192/192 [==============================] - 0s 1ms/step - loss: 0.2919 - accuracy: 0.8767\n",
      "Epoch 4/10\n",
      "192/192 [==============================] - 0s 1ms/step - loss: 0.2954 - accuracy: 0.8765\n",
      "Epoch 5/10\n",
      "192/192 [==============================] - 0s 1ms/step - loss: 0.2890 - accuracy: 0.8815\n",
      "Epoch 6/10\n",
      "192/192 [==============================] - 0s 1ms/step - loss: 0.2940 - accuracy: 0.8781\n",
      "Epoch 7/10\n",
      "192/192 [==============================] - 0s 1ms/step - loss: 0.2916 - accuracy: 0.8771\n",
      "Epoch 8/10\n",
      "192/192 [==============================] - 0s 1ms/step - loss: 0.2890 - accuracy: 0.8781\n",
      "Epoch 9/10\n",
      "192/192 [==============================] - 0s 1ms/step - loss: 0.2855 - accuracy: 0.8801\n",
      "Epoch 10/10\n",
      "192/192 [==============================] - 0s 1ms/step - loss: 0.2883 - accuracy: 0.8822\n",
      "22/22 [==============================] - 0s 939us/step\n",
      "fold = 9\n",
      "Epoch 1/10\n",
      "192/192 [==============================] - 0s 1ms/step - loss: 0.2861 - accuracy: 0.8814\n",
      "Epoch 2/10\n",
      "192/192 [==============================] - 0s 1ms/step - loss: 0.2841 - accuracy: 0.8830\n",
      "Epoch 3/10\n",
      "192/192 [==============================] - 0s 1ms/step - loss: 0.2850 - accuracy: 0.8802\n",
      "Epoch 4/10\n",
      "192/192 [==============================] - 0s 1ms/step - loss: 0.2861 - accuracy: 0.8848\n",
      "Epoch 5/10\n",
      "192/192 [==============================] - 0s 1ms/step - loss: 0.2842 - accuracy: 0.8783\n",
      "22/22 [==============================] - 0s 907us/step\n",
      "fold = 10\n",
      "Epoch 1/10\n",
      "192/192 [==============================] - 0s 1ms/step - loss: 0.2840 - accuracy: 0.8838\n",
      "Epoch 2/10\n",
      "192/192 [==============================] - 0s 1ms/step - loss: 0.2872 - accuracy: 0.8819\n",
      "Epoch 3/10\n",
      "192/192 [==============================] - 0s 1ms/step - loss: 0.2788 - accuracy: 0.8848\n",
      "Epoch 4/10\n",
      "192/192 [==============================] - 0s 1ms/step - loss: 0.2798 - accuracy: 0.8851\n",
      "Epoch 5/10\n",
      "192/192 [==============================] - 0s 1ms/step - loss: 0.2771 - accuracy: 0.8864\n",
      "Epoch 6/10\n",
      "192/192 [==============================] - 0s 1ms/step - loss: 0.2790 - accuracy: 0.8830\n",
      "Epoch 7/10\n",
      "192/192 [==============================] - 0s 1ms/step - loss: 0.2781 - accuracy: 0.8853\n",
      "Epoch 8/10\n",
      "192/192 [==============================] - 0s 1ms/step - loss: 0.2786 - accuracy: 0.8858\n",
      "22/22 [==============================] - 0s 1ms/step\n",
      "Cross-Validation Accuracies: [0.8340675477239354, 0.8355359765051396, 0.8502202643171806, 0.8472834067547724, 0.8590308370044053, 0.8707782672540382, 0.882525697503671, 0.8663729809104258, 0.8751835535976505, 0.8634361233480177]\n",
      "Cross-Validation Scores: [0.836940836940837, 0.8357771260997068, 0.8538681948424068, 0.8617021276595745, 0.8620689655172413, 0.8797814207650273, 0.8857142857142857, 0.8639760837070255, 0.8883048620236531, 0.8634361233480177]\n",
      "Media Accuracy: 0.8584434654919235\n",
      "Media f1 score: 0.8631570026617774\n"
     ]
    },
    {
     "data": {
      "image/png": "[encoded data removed]",
      "text/plain": [
       "<Figure size 1000x600 with 1 Axes>"
      ]
     },
     "metadata": {},
     "output_type": "display_data"
    },
    {
     "data": {
      "image/png": "[encoded data removed]",
      "text/plain": [
       "<Figure size 1000x600 with 1 Axes>"
      ]
     },
     "metadata": {},
     "output_type": "display_data"
    }
   ],
   "source": [
    "fold = 0\n",
    "\n",
    "fold_accuracies = []\n",
    "fold_f1_scores = []\n",
    "\n",
    "train_loss_history = []\n",
    "train_accuracy_history = []\n",
    "for train_indices, val_indices in kf.split(combined_features):\n",
    "    fold+=1\n",
    "    print(f'fold = {fold}')\n",
    "    X_train_fold = combined_features[train_indices]\n",
    "    y_train_fold = np.array(labels)[train_indices]\n",
    "    \n",
    "    X_val_fold = combined_features[val_indices]\n",
    "    y_val_fold = np.array(labels)[val_indices]\n",
    "    \n",
    "    X_train_fold_tensor = tf.convert_to_tensor(X_train_fold, dtype=tf.float32)\n",
    "    y_train_fold_tensor = tf.convert_to_tensor(y_train_fold, dtype=tf.float32)\n",
    "    X_val_fold_tensor = tf.convert_to_tensor(X_val_fold, dtype=tf.float32)\n",
    "    \n",
    "    model_history = model.fit(\n",
    "        X_train_fold_tensor, \n",
    "        y_train_fold_tensor, \n",
    "        epochs=10, \n",
    "        batch_size=32, \n",
    "        verbose=1,\n",
    "        callbacks=[EarlyStopping('loss', patience=3)],\n",
    "    )\n",
    "    \n",
    "    y_pred_val = model.predict(X_val_fold_tensor)\n",
    "    y_pred_val_binary = np.round(y_pred_val)\n",
    "    \n",
    "    fold_accuracy = accuracy_score(y_val_fold, y_pred_val_binary)\n",
    "    fold_accuracies.append(fold_accuracy)\n",
    "    \n",
    "    fold_f1_score = f1_score(y_val_fold, y_pred_val_binary)\n",
    "    fold_f1_scores.append(fold_f1_score)\n",
    "    \n",
    "    train_loss_history.append(model_history.history['loss'])\n",
    "    train_accuracy_history.append(model_history.history['accuracy'])\n",
    "    \n",
    "print(\"Cross-Validation Accuracies:\", fold_accuracies)\n",
    "print(\"Cross-Validation Scores:\", fold_f1_scores)\n",
    "print(\"Media Accuracy:\", np.mean(fold_accuracies))\n",
    "print(\"Media f1 score:\", np.mean(fold_f1_scores))\n",
    "\n",
    "plt.figure(figsize=(10, 6))\n",
    "for fold_num, fold_loss in enumerate(train_loss_history):\n",
    "    plt.plot(fold_loss, label=f'Fold {fold_num+1}')\n",
    "plt.xlabel('Epoch')\n",
    "plt.ylabel('Training Loss')\n",
    "plt.title('Training Loss per Epoch for Each Fold')\n",
    "plt.legend()\n",
    "plt.show()\n",
    "\n",
    "plt.figure(figsize=(10, 6))\n",
    "for fold_num, fold_accuracy in enumerate(train_accuracy_history):\n",
    "    plt.plot(fold_accuracy, label=f'Fold {fold_num+1}')\n",
    "plt.xlabel('Epoch')\n",
    "plt.ylabel('Training Accuracy')\n",
    "plt.title('Training Accuracy per Epoch for Each Fold')\n",
    "plt.legend()\n",
    "plt.show()"
   ]
  },
  {
   "cell_type": "code",
   "execution_count": 39,
   "id": "413e28f6-c7eb-4cd8-a713-060aef333cf7",
   "metadata": {},
   "outputs": [
    {
     "name": "stdout",
     "output_type": "stream",
     "text": [
      "43/43 [==============================] - 0s 943us/step - loss: 0.2685 - accuracy: 0.8737\n"
     ]
    }
   ],
   "source": [
    "test_loss, test_accuracy = model.evaluate(X_test_tensor, y_test_tensor)"
   ]
  }
 ],
 "metadata": {
  "kernelspec": {
   "display_name": "Python 3 (ipykernel)",
   "language": "python",
   "name": "python3"
  },
  "language_info": {
   "codemirror_mode": {
    "name": "ipython",
    "version": 3
   },
   "file_extension": ".py",
   "mimetype": "text/x-python",
   "name": "python",
   "nbconvert_exporter": "python",
   "pygments_lexer": "ipython3",
   "version": "3.10.11"
  }
 },
 "nbformat": 4,
 "nbformat_minor": 5
}
