{
 "cells": [
  {
   "cell_type": "markdown",
   "id": "0eeecbd9-595c-478a-b467-0b325bf25dff",
   "metadata": {},
   "source": [
    "\n",
    "<b>INSTITUTO FEDERAL DE GOIÁS<br/>\n",
    "PÓS-GRADUAÇÃO EM INTELIGÊNCIA ARTIFICIAL APLICADA<br/></b>\n",
    "Disciplina: Processamento de Linguagem Natural  <br/>\n",
    "Professor: Daniel Xavier de Sousa <br/>\n",
    "Alunos: Wagner Silva, Cleibson, Marcos Rodrigues\n",
    "\n",
    "\n",
    "---"
   ]
  },
  {
   "cell_type": "code",
   "execution_count": 2,
   "id": "4eff3435-e01a-40ee-a853-4d9378cfc2cd",
   "metadata": {},
   "outputs": [],
   "source": [
    "import pandas as pd\n",
    "import numpy as np\n",
    "import torch\n",
    "\n",
    "from transformers import AutoTokenizer, AutoModel\n",
    "\n",
    "from sklearn.model_selection import cross_val_score, train_test_split\n",
    "from sklearn.model_selection import KFold\n",
    "from sklearn.metrics import accuracy_score, f1_score\n",
    "\n",
    "import tensorflow as tf\n",
    "from tensorflow.keras.models import Sequential\n",
    "from tensorflow.keras.layers import Dense, Dropout\n",
    "from tensorflow.keras.callbacks import EarlyStopping\n",
    "from tensorflow.keras.optimizers import Adam\n",
    "\n",
    "import matplotlib.pyplot as plt"
   ]
  },
  {
   "cell_type": "code",
   "execution_count": 3,
   "id": "498979f2-ba75-418f-aa31-882b9956d0e8",
   "metadata": {},
   "outputs": [],
   "source": [
    "#Dropout: 5%, 15%, 25%, 35%, and 50%\n",
    "DROPOUT = 0.05\n",
    "\n",
    "#Learning rate: 5e-4, 1e-3, 5e-3, 1e-2\n",
    "LEARNING_RATE = 5e-4"
   ]
  },
  {
   "cell_type": "code",
   "execution_count": 4,
   "id": "cc05eb94-185b-4ac5-a65f-92dc2337bce8",
   "metadata": {},
   "outputs": [],
   "source": [
    "tokenizer = AutoTokenizer.from_pretrained(\"xlm-roberta-large\")\n",
    "model = AutoModel.from_pretrained(\"xlm-roberta-large\")"
   ]
  },
  {
   "cell_type": "code",
   "execution_count": 5,
   "id": "67bd7419-7171-467e-9bff-0bafd968a094",
   "metadata": {},
   "outputs": [],
   "source": [
    "df = pd.read_csv('../datasets/buscape_preprocessed_balanced_cleared.csv')"
   ]
  },
  {
   "cell_type": "code",
   "execution_count": 6,
   "id": "6b5a3d95-ae9e-4753-aac9-633b658c1c13",
   "metadata": {},
   "outputs": [
    {
     "data": {
      "text/html": [
       "<div>\n",
       "<style scoped>\n",
       "    .dataframe tbody tr th:only-of-type {\n",
       "        vertical-align: middle;\n",
       "    }\n",
       "\n",
       "    .dataframe tbody tr th {\n",
       "        vertical-align: top;\n",
       "    }\n",
       "\n",
       "    .dataframe thead th {\n",
       "        text-align: right;\n",
       "    }\n",
       "</style>\n",
       "<table border=\"1\" class=\"dataframe\">\n",
       "  <thead>\n",
       "    <tr style=\"text-align: right;\">\n",
       "      <th></th>\n",
       "      <th>review_text</th>\n",
       "      <th>rating</th>\n",
       "    </tr>\n",
       "  </thead>\n",
       "  <tbody>\n",
       "    <tr>\n",
       "      <th>0</th>\n",
       "      <td>nao comparia novamente essa marca pois paguei ...</td>\n",
       "      <td>0</td>\n",
       "    </tr>\n",
       "    <tr>\n",
       "      <th>1</th>\n",
       "      <td>tem uma boa aderencia te da mas agilidades no ...</td>\n",
       "      <td>0</td>\n",
       "    </tr>\n",
       "    <tr>\n",
       "      <th>2</th>\n",
       "      <td>somente mais um jogo do estilo nada realmente ...</td>\n",
       "      <td>0</td>\n",
       "    </tr>\n",
       "  </tbody>\n",
       "</table>\n",
       "</div>"
      ],
      "text/plain": [
       "                                         review_text  rating\n",
       "0  nao comparia novamente essa marca pois paguei ...       0\n",
       "1  tem uma boa aderencia te da mas agilidades no ...       0\n",
       "2  somente mais um jogo do estilo nada realmente ...       0"
      ]
     },
     "execution_count": 6,
     "metadata": {},
     "output_type": "execute_result"
    }
   ],
   "source": [
    "df.head(3)"
   ]
  },
  {
   "cell_type": "code",
   "execution_count": 7,
   "id": "253fd218-66f4-45b1-a5b7-68b774eea0a6",
   "metadata": {},
   "outputs": [
    {
     "data": {
      "text/plain": [
       "(13620, 2)"
      ]
     },
     "execution_count": 7,
     "metadata": {},
     "output_type": "execute_result"
    }
   ],
   "source": [
    "df.shape"
   ]
  },
  {
   "cell_type": "code",
   "execution_count": 8,
   "id": "86740916-bd2c-4654-9c3d-3094d072d971",
   "metadata": {},
   "outputs": [],
   "source": [
    "reviews_batch_01, reviews_batch_02, labels_batch_01, labels_batch_02 = train_test_split(df['review_text'], df['rating'], test_size=0.5, random_state=42)"
   ]
  },
  {
   "cell_type": "code",
   "execution_count": 9,
   "id": "f796d79b-78c8-4c5d-a825-2a5ab6612846",
   "metadata": {},
   "outputs": [
    {
     "name": "stdout",
     "output_type": "stream",
     "text": [
      "(6810,)\n",
      "(6810,)\n",
      "(6810,)\n",
      "(6810,)\n"
     ]
    }
   ],
   "source": [
    "print(reviews_batch_01.shape)\n",
    "print(labels_batch_01.shape)\n",
    "print(reviews_batch_02.shape)\n",
    "print(labels_batch_02.shape)"
   ]
  },
  {
   "cell_type": "code",
   "execution_count": 11,
   "id": "6679171a-4b4e-43be-bd06-6207cd4c349c",
   "metadata": {},
   "outputs": [
    {
     "data": {
      "text/plain": [
       "rating\n",
       "1    3419\n",
       "0    3391\n",
       "Name: count, dtype: int64"
      ]
     },
     "execution_count": 11,
     "metadata": {},
     "output_type": "execute_result"
    }
   ],
   "source": [
    "labels_batch_01.value_counts()"
   ]
  },
  {
   "cell_type": "code",
   "execution_count": 12,
   "id": "282fb03a-25e5-40c0-9611-8c6ab5ebeff0",
   "metadata": {},
   "outputs": [],
   "source": [
    "#reviews = [\"This movie was great!\", \"I didn't like this movie.\", \"Ate que gostei\", \"Nao achei tao legal\"]\n",
    "#labels = [1, 0, 1, 0]\n",
    "reviews = reviews_batch_01\n",
    "labels = labels_batch_01"
   ]
  },
  {
   "cell_type": "markdown",
   "id": "8641ee11-6c0f-4d99-8063-9eb06b19c63f",
   "metadata": {},
   "source": [
    "#### Tokenização e geração dos embeddings\n",
    "- Este processo pode demorar alguns minnutos para ser concluído"
   ]
  },
  {
   "cell_type": "code",
   "execution_count": 13,
   "id": "583c3394-9378-4f1f-b66d-0e428398f6d1",
   "metadata": {},
   "outputs": [],
   "source": [
    "embeddings = []\n",
    "for review in reviews:\n",
    "    inputs = tokenizer(review, return_tensors=\"pt\", padding=True, truncation=True)\n",
    "    with torch.no_grad():\n",
    "        output = model(**inputs)\n",
    "    embeddings.append(output.last_hidden_state.mean(dim=1).numpy())"
   ]
  },
  {
   "cell_type": "code",
   "execution_count": 14,
   "id": "31250cb7-be0d-43a3-8938-42bfee043378",
   "metadata": {},
   "outputs": [],
   "source": [
    "embeddings_array = np.vstack(embeddings)"
   ]
  },
  {
   "cell_type": "code",
   "execution_count": 15,
   "id": "9274f7b8-0804-436d-9341-82e702c7a1df",
   "metadata": {},
   "outputs": [
    {
     "name": "stdout",
     "output_type": "stream",
     "text": [
      "6810 embeddings de 1024 dimensões\n"
     ]
    }
   ],
   "source": [
    "print(f'{embeddings_array.shape[0]} embeddings de {embeddings_array.shape[1]} dimensões')"
   ]
  },
  {
   "cell_type": "markdown",
   "id": "27fe71ea-9cbe-464e-9823-2b1772b43543",
   "metadata": {},
   "source": [
    "#### Feature based 2"
   ]
  },
  {
   "cell_type": "code",
   "execution_count": 17,
   "id": "0494221c-521c-4627-bc64-845c45d95942",
   "metadata": {},
   "outputs": [],
   "source": [
    "additional_features_1 = np.array([[len(review_batch_1.split())] for review_batch_1 in reviews_batch_01])\n",
    "additional_features_2 = np.array([[len(review_batch_2.split())] for review_batch_2 in reviews_batch_02])"
   ]
  },
  {
   "cell_type": "code",
   "execution_count": 18,
   "id": "7a40a583-1d1c-47e7-8275-4f28c255c491",
   "metadata": {},
   "outputs": [
    {
     "name": "stdout",
     "output_type": "stream",
     "text": [
      "(6810, 1024)\n",
      "(6810, 1)\n",
      "(6810, 1)\n"
     ]
    }
   ],
   "source": [
    "print(embeddings_array.shape)\n",
    "print(additional_features_1.shape)\n",
    "print(additional_features_2.shape)"
   ]
  },
  {
   "cell_type": "markdown",
   "id": "7fd2a886-b830-48bd-8893-94b0f286b0f6",
   "metadata": {},
   "source": [
    "#### Combinando embeddings_array e additional_features"
   ]
  },
  {
   "cell_type": "code",
   "execution_count": 19,
   "id": "1ad5c9cb-b4db-4d66-83ce-b0a313b47785",
   "metadata": {},
   "outputs": [],
   "source": [
    "#combined_features = np.hstack((embeddings_array, additional_features))\n",
    "combined_features = np.hstack((embeddings_array, additional_features_1, additional_features_2))"
   ]
  },
  {
   "cell_type": "markdown",
   "id": "db03c447-ae9d-4b9d-90ae-c5826ef4d631",
   "metadata": {},
   "source": [
    "#### Dividindo dataset treino e teste"
   ]
  },
  {
   "cell_type": "code",
   "execution_count": 20,
   "id": "3f5fce34-b5ec-47c1-9c85-1790d41a14cf",
   "metadata": {},
   "outputs": [],
   "source": [
    "X_train, X_test, y_train, y_test = train_test_split(combined_features, labels, test_size=0.2, random_state=42)"
   ]
  },
  {
   "cell_type": "code",
   "execution_count": 21,
   "id": "c68f6ca6-df7b-4e13-a917-fcac77fe3a0a",
   "metadata": {},
   "outputs": [],
   "source": [
    "X_train_tensor = tf.convert_to_tensor(X_train, dtype=tf.float32)\n",
    "y_train_tensor = tf.convert_to_tensor(y_train, dtype=tf.float32)"
   ]
  },
  {
   "cell_type": "code",
   "execution_count": 22,
   "id": "a741c373-5fe8-43e1-bef7-3ca777f4f8c7",
   "metadata": {},
   "outputs": [],
   "source": [
    "X_test_tensor = tf.convert_to_tensor(X_test, dtype=tf.float32)\n",
    "y_test_tensor = tf.convert_to_tensor(y_test, dtype=tf.float32)"
   ]
  },
  {
   "cell_type": "markdown",
   "id": "fd918c3b-2483-4ae0-8add-993249735289",
   "metadata": {},
   "source": [
    "#### Arquitetura rede neural MLP"
   ]
  },
  {
   "cell_type": "code",
   "execution_count": 23,
   "id": "844193f9-f989-4aa6-bb3a-599ee915ec04",
   "metadata": {},
   "outputs": [
    {
     "name": "stdout",
     "output_type": "stream",
     "text": [
      "Model: \"sequential\"\n",
      "_________________________________________________________________\n",
      " Layer (type)                Output Shape              Param #   \n",
      "=================================================================\n",
      " dense (Dense)               (None, 24)                24648     \n",
      "                                                                 \n",
      " dropout (Dropout)           (None, 24)                0         \n",
      "                                                                 \n",
      " dense_1 (Dense)             (None, 1)                 25        \n",
      "                                                                 \n",
      "=================================================================\n",
      "Total params: 24,673\n",
      "Trainable params: 24,673\n",
      "Non-trainable params: 0\n",
      "_________________________________________________________________\n"
     ]
    }
   ],
   "source": [
    "model = Sequential([\n",
    "    Dense(24, activation='relu', input_dim=X_train_tensor.shape[1]),\n",
    "    Dropout(DROPOUT),\n",
    "    Dense(1, activation='sigmoid')\n",
    "])\n",
    "model.summary()"
   ]
  },
  {
   "cell_type": "code",
   "execution_count": 24,
   "id": "dd5bf94b-527c-4ccd-ae79-64da1843f3c1",
   "metadata": {},
   "outputs": [],
   "source": [
    "model.compile(optimizer=Adam(learning_rate=LEARNING_RATE), loss='binary_crossentropy', metrics=['accuracy'])"
   ]
  },
  {
   "cell_type": "markdown",
   "id": "e428006c-fa10-4fa9-bd30-0dfed115ac7a",
   "metadata": {},
   "source": [
    "#### Cross-validation"
   ]
  },
  {
   "cell_type": "code",
   "execution_count": 25,
   "id": "08e203b7-d30e-4d36-a824-4965e5a13299",
   "metadata": {},
   "outputs": [],
   "source": [
    "num_folds = 10\n",
    "kf = KFold(n_splits=num_folds, shuffle=True, random_state=42)"
   ]
  },
  {
   "cell_type": "markdown",
   "id": "f8960145-c7cd-4ee0-bc67-3e85cdca9292",
   "metadata": {},
   "source": [
    "#### Treinamento do modelo"
   ]
  },
  {
   "cell_type": "code",
   "execution_count": 26,
   "id": "b911ef20-f3f2-4033-99ef-99451a97abc2",
   "metadata": {},
   "outputs": [
    {
     "name": "stdout",
     "output_type": "stream",
     "text": [
      "fold = 1\n",
      "Epoch 1/10\n",
      "192/192 [==============================] - 1s 1ms/step - loss: 0.7879 - accuracy: 0.6339\n",
      "Epoch 2/10\n",
      "192/192 [==============================] - 0s 2ms/step - loss: 0.5887 - accuracy: 0.7040\n",
      "Epoch 3/10\n",
      "192/192 [==============================] - 0s 2ms/step - loss: 0.5437 - accuracy: 0.7456\n",
      "Epoch 4/10\n",
      "192/192 [==============================] - 0s 1ms/step - loss: 0.5042 - accuracy: 0.7647\n",
      "Epoch 5/10\n",
      "192/192 [==============================] - 0s 2ms/step - loss: 0.4789 - accuracy: 0.7859\n",
      "Epoch 6/10\n",
      "192/192 [==============================] - 0s 1ms/step - loss: 0.4501 - accuracy: 0.8014\n",
      "Epoch 7/10\n",
      "192/192 [==============================] - 0s 1ms/step - loss: 0.4340 - accuracy: 0.8109\n",
      "Epoch 8/10\n",
      "192/192 [==============================] - 0s 1ms/step - loss: 0.4138 - accuracy: 0.8251\n",
      "Epoch 9/10\n",
      "192/192 [==============================] - 0s 1ms/step - loss: 0.4011 - accuracy: 0.8287\n",
      "Epoch 10/10\n",
      "192/192 [==============================] - 0s 1ms/step - loss: 0.3918 - accuracy: 0.8336\n",
      "22/22 [==============================] - 0s 849us/step\n",
      "fold = 2\n",
      "Epoch 1/10\n",
      "192/192 [==============================] - 0s 1ms/step - loss: 0.3800 - accuracy: 0.8412\n",
      "Epoch 2/10\n",
      "192/192 [==============================] - 0s 1ms/step - loss: 0.3720 - accuracy: 0.8439\n",
      "Epoch 3/10\n",
      "192/192 [==============================] - 0s 2ms/step - loss: 0.3685 - accuracy: 0.8445\n",
      "Epoch 4/10\n",
      "192/192 [==============================] - 0s 2ms/step - loss: 0.3587 - accuracy: 0.8496\n",
      "Epoch 5/10\n",
      "192/192 [==============================] - 0s 2ms/step - loss: 0.3526 - accuracy: 0.8536\n",
      "Epoch 6/10\n",
      "192/192 [==============================] - 0s 2ms/step - loss: 0.3472 - accuracy: 0.8519\n",
      "Epoch 7/10\n",
      "192/192 [==============================] - 0s 2ms/step - loss: 0.3452 - accuracy: 0.8582\n",
      "Epoch 8/10\n",
      "192/192 [==============================] - 0s 1ms/step - loss: 0.3402 - accuracy: 0.8587\n",
      "Epoch 9/10\n",
      "192/192 [==============================] - 0s 1ms/step - loss: 0.3371 - accuracy: 0.8563\n",
      "Epoch 10/10\n",
      "192/192 [==============================] - 0s 1ms/step - loss: 0.3369 - accuracy: 0.8572\n",
      "22/22 [==============================] - 0s 967us/step\n",
      "fold = 3\n",
      "Epoch 1/10\n",
      "192/192 [==============================] - 0s 1ms/step - loss: 0.3342 - accuracy: 0.8594\n",
      "Epoch 2/10\n",
      "192/192 [==============================] - 0s 1ms/step - loss: 0.3290 - accuracy: 0.8641\n",
      "Epoch 3/10\n",
      "192/192 [==============================] - 0s 1ms/step - loss: 0.3215 - accuracy: 0.8660\n",
      "Epoch 4/10\n",
      "192/192 [==============================] - 0s 1ms/step - loss: 0.3200 - accuracy: 0.8670\n",
      "Epoch 5/10\n",
      "192/192 [==============================] - 0s 2ms/step - loss: 0.3182 - accuracy: 0.8670\n",
      "Epoch 6/10\n",
      "192/192 [==============================] - 0s 1ms/step - loss: 0.3163 - accuracy: 0.8665\n",
      "Epoch 7/10\n",
      "192/192 [==============================] - 0s 1ms/step - loss: 0.3152 - accuracy: 0.8693\n",
      "Epoch 8/10\n",
      "192/192 [==============================] - 0s 1ms/step - loss: 0.3127 - accuracy: 0.8727\n",
      "Epoch 9/10\n",
      "192/192 [==============================] - 0s 1ms/step - loss: 0.3076 - accuracy: 0.8703\n",
      "Epoch 10/10\n",
      "192/192 [==============================] - 0s 1ms/step - loss: 0.3045 - accuracy: 0.8745\n",
      "22/22 [==============================] - 0s 772us/step\n",
      "fold = 4\n",
      "Epoch 1/10\n",
      "192/192 [==============================] - 0s 1ms/step - loss: 0.3052 - accuracy: 0.8739\n",
      "Epoch 2/10\n",
      "192/192 [==============================] - 0s 1ms/step - loss: 0.3053 - accuracy: 0.8736\n",
      "Epoch 3/10\n",
      "192/192 [==============================] - 0s 1ms/step - loss: 0.2981 - accuracy: 0.8780\n",
      "Epoch 4/10\n",
      "192/192 [==============================] - 0s 1ms/step - loss: 0.2989 - accuracy: 0.8798\n",
      "Epoch 5/10\n",
      "192/192 [==============================] - 0s 1ms/step - loss: 0.2996 - accuracy: 0.8778\n",
      "Epoch 6/10\n",
      "192/192 [==============================] - 0s 1ms/step - loss: 0.2941 - accuracy: 0.8801\n",
      "Epoch 7/10\n",
      "192/192 [==============================] - 0s 1ms/step - loss: 0.2972 - accuracy: 0.8780\n",
      "Epoch 8/10\n",
      "192/192 [==============================] - 0s 1ms/step - loss: 0.2909 - accuracy: 0.8812\n",
      "Epoch 9/10\n",
      "192/192 [==============================] - 0s 1ms/step - loss: 0.2917 - accuracy: 0.8791\n",
      "Epoch 10/10\n",
      "192/192 [==============================] - 0s 1ms/step - loss: 0.2880 - accuracy: 0.8811\n",
      "22/22 [==============================] - 0s 944us/step\n",
      "fold = 5\n",
      "Epoch 1/10\n",
      "192/192 [==============================] - 0s 1ms/step - loss: 0.2948 - accuracy: 0.8807\n",
      "Epoch 2/10\n",
      "192/192 [==============================] - 0s 1ms/step - loss: 0.2876 - accuracy: 0.8864\n",
      "Epoch 3/10\n",
      "192/192 [==============================] - 0s 2ms/step - loss: 0.2855 - accuracy: 0.8850\n",
      "Epoch 4/10\n",
      "192/192 [==============================] - 0s 2ms/step - loss: 0.2884 - accuracy: 0.8817\n",
      "Epoch 5/10\n",
      "192/192 [==============================] - 0s 2ms/step - loss: 0.2826 - accuracy: 0.8879\n",
      "Epoch 6/10\n",
      "192/192 [==============================] - 0s 2ms/step - loss: 0.2823 - accuracy: 0.8895\n",
      "Epoch 7/10\n",
      "192/192 [==============================] - 0s 1ms/step - loss: 0.2788 - accuracy: 0.8882\n",
      "Epoch 8/10\n",
      "192/192 [==============================] - 0s 1ms/step - loss: 0.2798 - accuracy: 0.8892\n",
      "Epoch 9/10\n",
      "192/192 [==============================] - 0s 1ms/step - loss: 0.2794 - accuracy: 0.8899\n",
      "Epoch 10/10\n",
      "192/192 [==============================] - 0s 1ms/step - loss: 0.2764 - accuracy: 0.8895\n",
      "22/22 [==============================] - 0s 836us/step\n",
      "fold = 6\n",
      "Epoch 1/10\n",
      "192/192 [==============================] - 0s 1ms/step - loss: 0.2794 - accuracy: 0.8858\n",
      "Epoch 2/10\n",
      "192/192 [==============================] - 0s 2ms/step - loss: 0.2802 - accuracy: 0.8868\n",
      "Epoch 3/10\n",
      "192/192 [==============================] - 0s 1ms/step - loss: 0.2738 - accuracy: 0.8912\n",
      "Epoch 4/10\n",
      "192/192 [==============================] - 0s 2ms/step - loss: 0.2737 - accuracy: 0.8905\n",
      "Epoch 5/10\n",
      "192/192 [==============================] - 0s 1ms/step - loss: 0.2726 - accuracy: 0.8900\n",
      "Epoch 6/10\n",
      "192/192 [==============================] - 0s 1ms/step - loss: 0.2690 - accuracy: 0.8912\n",
      "Epoch 7/10\n",
      "192/192 [==============================] - 0s 2ms/step - loss: 0.2707 - accuracy: 0.8920\n",
      "Epoch 8/10\n",
      "192/192 [==============================] - 0s 2ms/step - loss: 0.2692 - accuracy: 0.8913\n",
      "Epoch 9/10\n",
      "192/192 [==============================] - 0s 2ms/step - loss: 0.2663 - accuracy: 0.8933\n",
      "Epoch 10/10\n",
      "192/192 [==============================] - 0s 2ms/step - loss: 0.2665 - accuracy: 0.8904\n",
      "22/22 [==============================] - 0s 936us/step\n",
      "fold = 7\n",
      "Epoch 1/10\n",
      "192/192 [==============================] - 0s 1ms/step - loss: 0.2663 - accuracy: 0.8935\n",
      "Epoch 2/10\n",
      "192/192 [==============================] - 0s 1ms/step - loss: 0.2705 - accuracy: 0.8904\n",
      "Epoch 3/10\n",
      "192/192 [==============================] - 0s 1ms/step - loss: 0.2664 - accuracy: 0.8907\n",
      "Epoch 4/10\n",
      "192/192 [==============================] - 0s 2ms/step - loss: 0.2586 - accuracy: 0.8943\n",
      "Epoch 5/10\n",
      "192/192 [==============================] - 0s 2ms/step - loss: 0.2604 - accuracy: 0.8964\n",
      "Epoch 6/10\n",
      "192/192 [==============================] - 0s 2ms/step - loss: 0.2619 - accuracy: 0.8954\n",
      "Epoch 7/10\n",
      "192/192 [==============================] - 0s 2ms/step - loss: 0.2584 - accuracy: 0.8962\n",
      "Epoch 8/10\n",
      "192/192 [==============================] - 0s 2ms/step - loss: 0.2567 - accuracy: 0.8957\n",
      "Epoch 9/10\n",
      "192/192 [==============================] - 0s 2ms/step - loss: 0.2596 - accuracy: 0.8938\n",
      "Epoch 10/10\n",
      "192/192 [==============================] - 0s 2ms/step - loss: 0.2568 - accuracy: 0.8951\n",
      "22/22 [==============================] - 0s 1ms/step\n",
      "fold = 8\n",
      "Epoch 1/10\n",
      "192/192 [==============================] - 0s 1ms/step - loss: 0.2548 - accuracy: 0.8972\n",
      "Epoch 2/10\n",
      "192/192 [==============================] - 0s 1ms/step - loss: 0.2568 - accuracy: 0.8956\n",
      "Epoch 3/10\n",
      "192/192 [==============================] - 0s 1ms/step - loss: 0.2503 - accuracy: 0.8985\n",
      "Epoch 4/10\n",
      "192/192 [==============================] - 0s 1ms/step - loss: 0.2505 - accuracy: 0.8992\n",
      "Epoch 5/10\n",
      "192/192 [==============================] - 0s 1ms/step - loss: 0.2460 - accuracy: 0.9008\n",
      "Epoch 6/10\n",
      "192/192 [==============================] - 0s 1ms/step - loss: 0.2490 - accuracy: 0.8969\n",
      "Epoch 7/10\n",
      "192/192 [==============================] - 0s 1ms/step - loss: 0.2440 - accuracy: 0.9010\n",
      "Epoch 8/10\n",
      "192/192 [==============================] - 0s 1ms/step - loss: 0.2414 - accuracy: 0.9019\n",
      "Epoch 9/10\n",
      "192/192 [==============================] - 0s 1ms/step - loss: 0.2389 - accuracy: 0.9029\n",
      "Epoch 10/10\n",
      "192/192 [==============================] - 0s 1ms/step - loss: 0.2421 - accuracy: 0.9019\n",
      "22/22 [==============================] - 0s 864us/step\n",
      "fold = 9\n",
      "Epoch 1/10\n",
      "192/192 [==============================] - 0s 1ms/step - loss: 0.2412 - accuracy: 0.9001\n",
      "Epoch 2/10\n",
      "192/192 [==============================] - 0s 2ms/step - loss: 0.2396 - accuracy: 0.9039\n",
      "Epoch 3/10\n",
      "192/192 [==============================] - 0s 1ms/step - loss: 0.2388 - accuracy: 0.9068\n",
      "Epoch 4/10\n",
      "192/192 [==============================] - 0s 1ms/step - loss: 0.2359 - accuracy: 0.9060\n",
      "Epoch 5/10\n",
      "192/192 [==============================] - 0s 1ms/step - loss: 0.2411 - accuracy: 0.9032\n",
      "Epoch 6/10\n",
      "192/192 [==============================] - 0s 1ms/step - loss: 0.2349 - accuracy: 0.9062\n",
      "Epoch 7/10\n",
      "192/192 [==============================] - 0s 1ms/step - loss: 0.2297 - accuracy: 0.9090\n",
      "Epoch 8/10\n",
      "192/192 [==============================] - 0s 1ms/step - loss: 0.2307 - accuracy: 0.9077\n",
      "Epoch 9/10\n",
      "192/192 [==============================] - 0s 1ms/step - loss: 0.2280 - accuracy: 0.9085\n",
      "Epoch 10/10\n",
      "192/192 [==============================] - 0s 2ms/step - loss: 0.2320 - accuracy: 0.9080\n",
      "22/22 [==============================] - 0s 857us/step\n",
      "fold = 10\n",
      "Epoch 1/10\n",
      "192/192 [==============================] - 0s 1ms/step - loss: 0.2264 - accuracy: 0.9109\n",
      "Epoch 2/10\n",
      "192/192 [==============================] - 0s 2ms/step - loss: 0.2298 - accuracy: 0.9086\n",
      "Epoch 3/10\n",
      "192/192 [==============================] - 0s 1ms/step - loss: 0.2233 - accuracy: 0.9108\n",
      "Epoch 4/10\n",
      "192/192 [==============================] - 0s 1ms/step - loss: 0.2259 - accuracy: 0.9099\n",
      "Epoch 5/10\n",
      "192/192 [==============================] - 0s 2ms/step - loss: 0.2240 - accuracy: 0.9121\n",
      "Epoch 6/10\n",
      "192/192 [==============================] - 0s 1ms/step - loss: 0.2233 - accuracy: 0.9104\n",
      "Epoch 7/10\n",
      "192/192 [==============================] - 0s 1ms/step - loss: 0.2215 - accuracy: 0.9134\n",
      "Epoch 8/10\n",
      "192/192 [==============================] - 0s 1ms/step - loss: 0.2162 - accuracy: 0.9150\n",
      "Epoch 9/10\n",
      "192/192 [==============================] - 0s 1ms/step - loss: 0.2222 - accuracy: 0.9086\n",
      "Epoch 10/10\n",
      "192/192 [==============================] - 0s 1ms/step - loss: 0.2114 - accuracy: 0.9119\n",
      "22/22 [==============================] - 0s 877us/step\n",
      "Cross-Validation Accuracies: [0.8458149779735683, 0.8707782672540382, 0.8751835535976505, 0.8649045521292217, 0.8663729809104258, 0.8854625550660793, 0.9016152716593245, 0.895741556534508, 0.9030837004405287, 0.9016152716593245]\n",
      "Cross-Validation Scores: [0.844903988183161, 0.871345029239766, 0.8814504881450488, 0.8704225352112676, 0.8794701986754966, 0.8895184135977336, 0.906555090655509, 0.8990042674253201, 0.9093406593406593, 0.9049645390070923]\n",
      "Media Accuracy: 0.8810572687224669\n",
      "Media f1 score: 0.8856975209481055\n"
     ]
    },
    {
     "data": {
      "image/png": "[encoded data removed]",
      "text/plain": [
       "<Figure size 1000x600 with 1 Axes>"
      ]
     },
     "metadata": {},
     "output_type": "display_data"
    },
    {
     "data": {
      "image/png": "[encoded data removed]",
      "text/plain": [
       "<Figure size 1000x600 with 1 Axes>"
      ]
     },
     "metadata": {},
     "output_type": "display_data"
    }
   ],
   "source": [
    "fold = 0\n",
    "\n",
    "fold_accuracies = []\n",
    "fold_f1_scores = []\n",
    "\n",
    "train_loss_history = []\n",
    "train_accuracy_history = []\n",
    "for train_indices, val_indices in kf.split(combined_features):\n",
    "    fold+=1\n",
    "    print(f'fold = {fold}')\n",
    "    X_train_fold = combined_features[train_indices]\n",
    "    y_train_fold = np.array(labels)[train_indices]\n",
    "    \n",
    "    X_val_fold = combined_features[val_indices]\n",
    "    y_val_fold = np.array(labels)[val_indices]\n",
    "    \n",
    "    X_train_fold_tensor = tf.convert_to_tensor(X_train_fold, dtype=tf.float32)\n",
    "    y_train_fold_tensor = tf.convert_to_tensor(y_train_fold, dtype=tf.float32)\n",
    "    X_val_fold_tensor = tf.convert_to_tensor(X_val_fold, dtype=tf.float32)\n",
    "    \n",
    "    model_history = model.fit(\n",
    "        X_train_fold_tensor, \n",
    "        y_train_fold_tensor, \n",
    "        epochs=10, \n",
    "        batch_size=32, \n",
    "        verbose=1,\n",
    "        callbacks=[EarlyStopping('loss', patience=3)],\n",
    "    )\n",
    "    \n",
    "    y_pred_val = model.predict(X_val_fold_tensor)\n",
    "    y_pred_val_binary = np.round(y_pred_val)\n",
    "    \n",
    "    fold_accuracy = accuracy_score(y_val_fold, y_pred_val_binary)\n",
    "    fold_accuracies.append(fold_accuracy)\n",
    "    \n",
    "    fold_f1_score = f1_score(y_val_fold, y_pred_val_binary)\n",
    "    fold_f1_scores.append(fold_f1_score)\n",
    "    \n",
    "    train_loss_history.append(model_history.history['loss'])\n",
    "    train_accuracy_history.append(model_history.history['accuracy'])\n",
    "    \n",
    "print(\"Cross-Validation Accuracies:\", fold_accuracies)\n",
    "print(\"Cross-Validation Scores:\", fold_f1_scores)\n",
    "print(\"Media Accuracy:\", np.mean(fold_accuracies))\n",
    "print(\"Media f1 score:\", np.mean(fold_f1_scores))\n",
    "\n",
    "plt.figure(figsize=(10, 6))\n",
    "for fold_num, fold_loss in enumerate(train_loss_history):\n",
    "    plt.plot(fold_loss, label=f'Fold {fold_num+1}')\n",
    "plt.xlabel('Epoch')\n",
    "plt.ylabel('Training Loss')\n",
    "plt.title('Training Loss per Epoch for Each Fold')\n",
    "plt.legend()\n",
    "plt.show()\n",
    "\n",
    "plt.figure(figsize=(10, 6))\n",
    "for fold_num, fold_accuracy in enumerate(train_accuracy_history):\n",
    "    plt.plot(fold_accuracy, label=f'Fold {fold_num+1}')\n",
    "plt.xlabel('Epoch')\n",
    "plt.ylabel('Training Accuracy')\n",
    "plt.title('Training Accuracy per Epoch for Each Fold')\n",
    "plt.legend()\n",
    "plt.show()"
   ]
  },
  {
   "cell_type": "code",
   "execution_count": 27,
   "id": "413e28f6-c7eb-4cd8-a713-060aef333cf7",
   "metadata": {},
   "outputs": [
    {
     "name": "stdout",
     "output_type": "stream",
     "text": [
      "43/43 [==============================] - 0s 976us/step - loss: 0.1768 - accuracy: 0.9325\n"
     ]
    }
   ],
   "source": [
    "test_loss, test_accuracy = model.evaluate(X_test_tensor, y_test_tensor)"
   ]
  }
 ],
 "metadata": {
  "kernelspec": {
   "display_name": "Python 3 (ipykernel)",
   "language": "python",
   "name": "python3"
  },
  "language_info": {
   "codemirror_mode": {
    "name": "ipython",
    "version": 3
   },
   "file_extension": ".py",
   "mimetype": "text/x-python",
   "name": "python",
   "nbconvert_exporter": "python",
   "pygments_lexer": "ipython3",
   "version": "3.10.11"
  }
 },
 "nbformat": 4,
 "nbformat_minor": 5
}
