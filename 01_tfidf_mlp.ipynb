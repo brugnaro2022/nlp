{
 "cells": [
  {
   "cell_type": "markdown",
   "id": "a9b44287-0d33-4a70-bf7c-7233736a2caa",
   "metadata": {},
   "source": [
    "\n",
    "<b>INSTITUTO FEDERAL DE GOIÁS<br/>\n",
    "PÓS-GRADUAÇÃO EM INTELIGÊNCIA ARTIFICIAL APLICADA<br/></b>\n",
    "Disciplina: Processamento de Linguagem Natural  <br/>\n",
    "Professor: Daniel Xavier de Sousa <br/>\n",
    "Alunos: Wagner Silva, Cleibson, Marcos Rodrigues\n",
    "\n",
    "\n",
    "---"
   ]
  },
  {
   "cell_type": "code",
   "execution_count": 34,
   "id": "98574c79-76f9-42e6-8cf5-02045f2cf9b8",
   "metadata": {
    "tags": []
   },
   "outputs": [],
   "source": [
    "# Bibliotecas básicas\n",
    "import pandas as pd\n",
    "import numpy as np\n",
    "\n",
    "from tqdm import tqdm\n",
    "\n",
    "# Bibliotecas para preparação dos dados\n",
    "from sklearn.model_selection import train_test_split\n",
    "from sklearn.feature_extraction.text import TfidfVectorizer\n",
    "from sklearn.model_selection import KFold\n",
    "\n",
    "# Bibliotecas para exibição de gráficos\n",
    "import matplotlib.pyplot as plt\n",
    "from sklearn.metrics import roc_curve, auc, accuracy_score, log_loss, f1_score, recall_score, precision_score, classification_report, average_precision_score, precision_recall_curve, roc_curve, auc\n",
    "import seaborn as sbn\n",
    "\n",
    "# Bibliotecas relacionadas à arquitetura da rede neural\n",
    "import tensorflow as tf\n",
    "from tensorflow import keras\n",
    "from keras.models import Sequential\n",
    "from tensorflow.keras.layers import Embedding, Dense, Dropout\n",
    "from tensorflow.keras.optimizers import Adam\n",
    "from tensorflow.keras.callbacks import EarlyStopping"
   ]
  },
  {
   "cell_type": "code",
   "execution_count": 79,
   "id": "eea9a02c-6b4c-4e73-b1a6-5d3260e5dd68",
   "metadata": {},
   "outputs": [],
   "source": [
    "MODEL = 'TFIDF+MLP'\n",
    "DATASET = 'buscape'\n",
    "K_FOLDS = 10\n",
    "EPOCHS = 10\n",
    "\n",
    "#+ 5%, 15%, 25%, 35%, and 50%\n",
    "DROPOUT = 0.05\n",
    "# 5e-4, 1e-3, 5e-3, 1e-2\n",
    "LEARNING_RATE = 5e-4"
   ]
  },
  {
   "cell_type": "code",
   "execution_count": 54,
   "id": "dbb122c8-ce19-4b29-97ab-45947919ffc1",
   "metadata": {
    "tags": []
   },
   "outputs": [],
   "source": [
    "# Importação do dataset buscape\n",
    "df = pd.read_csv(f'../datasets/{DATASET}_preprocessed.csv')"
   ]
  },
  {
   "cell_type": "code",
   "execution_count": 55,
   "id": "9c4333bc-0a54-41a1-911d-702965d7f0a5",
   "metadata": {},
   "outputs": [
    {
     "data": {
      "text/plain": [
       "(133632, 2)"
      ]
     },
     "execution_count": 55,
     "metadata": {},
     "output_type": "execute_result"
    }
   ],
   "source": [
    "df.shape"
   ]
  },
  {
   "cell_type": "code",
   "execution_count": 56,
   "id": "2b2cf73e-cb8d-44ec-9cef-70104b625525",
   "metadata": {},
   "outputs": [
    {
     "data": {
      "text/html": [
       "<div>\n",
       "<style scoped>\n",
       "    .dataframe tbody tr th:only-of-type {\n",
       "        vertical-align: middle;\n",
       "    }\n",
       "\n",
       "    .dataframe tbody tr th {\n",
       "        vertical-align: top;\n",
       "    }\n",
       "\n",
       "    .dataframe thead th {\n",
       "        text-align: right;\n",
       "    }\n",
       "</style>\n",
       "<table border=\"1\" class=\"dataframe\">\n",
       "  <thead>\n",
       "    <tr style=\"text-align: right;\">\n",
       "      <th></th>\n",
       "      <th>review_text</th>\n",
       "      <th>rating</th>\n",
       "    </tr>\n",
       "  </thead>\n",
       "  <tbody>\n",
       "    <tr>\n",
       "      <th>0</th>\n",
       "      <td>estou muito satisfeito o visor e melhor do que...</td>\n",
       "      <td>1</td>\n",
       "    </tr>\n",
       "    <tr>\n",
       "      <th>1</th>\n",
       "      <td>muito boa o que gostei preco o que nao gostei ...</td>\n",
       "      <td>1</td>\n",
       "    </tr>\n",
       "    <tr>\n",
       "      <th>2</th>\n",
       "      <td>rapida otima qualidade de impressao e facil de...</td>\n",
       "      <td>1</td>\n",
       "    </tr>\n",
       "  </tbody>\n",
       "</table>\n",
       "</div>"
      ],
      "text/plain": [
       "                                         review_text  rating\n",
       "0  estou muito satisfeito o visor e melhor do que...       1\n",
       "1  muito boa o que gostei preco o que nao gostei ...       1\n",
       "2  rapida otima qualidade de impressao e facil de...       1"
      ]
     },
     "execution_count": 56,
     "metadata": {},
     "output_type": "execute_result"
    }
   ],
   "source": [
    "df.head(3)"
   ]
  },
  {
   "cell_type": "code",
   "execution_count": 57,
   "id": "4019c22a-f403-4d57-9f2c-53dbe423e304",
   "metadata": {},
   "outputs": [
    {
     "name": "stdout",
     "output_type": "stream",
     "text": [
      "(66816, 2)\n",
      "(66816, 2)\n",
      "(33408, 2)\n",
      "(33408, 2)\n",
      "(16704, 2)\n",
      "(16704, 2)\n",
      "(8352, 2)\n",
      "(8352, 2)\n",
      "(4176, 2)\n",
      "(4176, 2)\n"
     ]
    }
   ],
   "source": [
    "batch_1, batch_2 = train_test_split(df, test_size=0.5, stratify=df['rating'], random_state=42)\n",
    "batch_3, batch_4 = train_test_split(batch_2, test_size=0.5, stratify=batch_2['rating'], random_state=42)\n",
    "batch_5, batch_6 = train_test_split(batch_4, test_size=0.5, stratify=batch_4['rating'], random_state=42)\n",
    "batch_7, batch_8 = train_test_split(batch_6, test_size=0.5, stratify=batch_6['rating'], random_state=42)\n",
    "batch_9, batch_10 = train_test_split(batch_8, test_size=0.5, stratify=batch_8['rating'], random_state=42)\n",
    "#batch_11, batch_12 = train_test_split(batch_10, test_size=0.5, stratify=batch_10['rating'], random_state=42)\n",
    "print(batch_1.shape)\n",
    "print(batch_2.shape)\n",
    "print(batch_3.shape)\n",
    "print(batch_4.shape)\n",
    "print(batch_5.shape)\n",
    "print(batch_6.shape)\n",
    "print(batch_7.shape)\n",
    "print(batch_8.shape)\n",
    "print(batch_9.shape)\n",
    "print(batch_10.shape)\n"
   ]
  },
  {
   "cell_type": "code",
   "execution_count": 58,
   "id": "5524644f-8d96-40c8-8d4b-efb6991fb98d",
   "metadata": {},
   "outputs": [
    {
     "data": {
      "text/plain": [
       "4176"
      ]
     },
     "execution_count": 58,
     "metadata": {},
     "output_type": "execute_result"
    }
   ],
   "source": [
    "batch_10.shape[0]"
   ]
  },
  {
   "cell_type": "code",
   "execution_count": 59,
   "id": "af04bd34-091b-41f6-868b-b8b71319b16f",
   "metadata": {},
   "outputs": [
    {
     "data": {
      "text/plain": [
       "0    2088\n",
       "1    2088\n",
       "Name: rating, dtype: int64"
      ]
     },
     "execution_count": 59,
     "metadata": {},
     "output_type": "execute_result"
    }
   ],
   "source": [
    "# Verificando quantidade de ratings\n",
    "batch_10['rating'].value_counts()"
   ]
  },
  {
   "cell_type": "code",
   "execution_count": 60,
   "id": "1713f2a1-149b-469d-810b-16e02ac2593a",
   "metadata": {},
   "outputs": [],
   "source": [
    "# Definindo documents e labels\n",
    "documents = batch_10['review_text'].tolist()\n",
    "labels = np.array(batch_10['rating'])"
   ]
  },
  {
   "cell_type": "code",
   "execution_count": 61,
   "id": "f7f6a083-a3c3-4732-91d8-fc7e816c55d5",
   "metadata": {},
   "outputs": [],
   "source": [
    "# Gerando tfidf matrix\n",
    "tfidf_vectorizer = TfidfVectorizer(ngram_range=(1,2), min_df=5)\n",
    "TFIDF_MATRIX = tfidf_vectorizer.fit_transform(np.array(documents))"
   ]
  },
  {
   "cell_type": "code",
   "execution_count": 80,
   "id": "5b671b9e-f81d-4fdf-9d02-3c224c0105f9",
   "metadata": {},
   "outputs": [],
   "source": [
    "BATCH_SIZE = 32\n",
    "LOSS = 'binary_crossentropy'\n",
    "METRICS = ['acc']\n",
    "CALLBACKS=[EarlyStopping('loss', patience=3)]\n",
    "VERBOSE = 0"
   ]
  },
  {
   "cell_type": "code",
   "execution_count": 81,
   "id": "99541be5-db1a-42c7-bb68-7b5bccf636f9",
   "metadata": {},
   "outputs": [],
   "source": [
    "# Definindo quantidade de folds para cross validation\n",
    "KFOLD = KFold(n_splits=K_FOLDS, shuffle=True, random_state=42)"
   ]
  },
  {
   "cell_type": "code",
   "execution_count": 82,
   "id": "a13fee3d-3cbf-4bce-a64e-5215548fb987",
   "metadata": {},
   "outputs": [
    {
     "name": "stderr",
     "output_type": "stream",
     "text": [
      "Processing: 0it [00:00, ?it/s]"
     ]
    },
    {
     "name": "stdout",
     "output_type": "stream",
     "text": [
      "fold ---> 1\n",
      "118/118 [==============================] - 5s 38ms/step\n",
      "14/14 [==============================] - 0s 32ms/step\n"
     ]
    },
    {
     "name": "stderr",
     "output_type": "stream",
     "text": [
      "Processing: 1it [01:28, 88.80s/it]"
     ]
    },
    {
     "name": "stdout",
     "output_type": "stream",
     "text": [
      "fold ---> 2\n",
      "118/118 [==============================] - 8s 68ms/step\n",
      "14/14 [==============================] - 1s 58ms/step\n"
     ]
    },
    {
     "name": "stderr",
     "output_type": "stream",
     "text": [
      "Processing: 2it [02:52, 85.91s/it]"
     ]
    },
    {
     "name": "stdout",
     "output_type": "stream",
     "text": [
      "fold ---> 3\n",
      "118/118 [==============================] - 4s 36ms/step\n",
      "14/14 [==============================] - 0s 31ms/step\n"
     ]
    },
    {
     "name": "stderr",
     "output_type": "stream",
     "text": [
      "Processing: 3it [05:21, 114.56s/it]"
     ]
    },
    {
     "name": "stdout",
     "output_type": "stream",
     "text": [
      "fold ---> 4\n",
      "118/118 [==============================] - 10s 81ms/step\n",
      "14/14 [==============================] - 1s 82ms/step\n"
     ]
    },
    {
     "name": "stderr",
     "output_type": "stream",
     "text": [
      "Processing: 4it [06:51, 105.10s/it]"
     ]
    },
    {
     "name": "stdout",
     "output_type": "stream",
     "text": [
      "fold ---> 5\n",
      "118/118 [==============================] - 4s 34ms/step\n",
      "14/14 [==============================] - 1s 43ms/step\n"
     ]
    },
    {
     "name": "stderr",
     "output_type": "stream",
     "text": [
      "Processing: 5it [09:20, 120.86s/it]"
     ]
    },
    {
     "name": "stdout",
     "output_type": "stream",
     "text": [
      "fold ---> 6\n",
      "118/118 [==============================] - 8s 67ms/step\n",
      "14/14 [==============================] - 0s 27ms/step\n"
     ]
    },
    {
     "name": "stderr",
     "output_type": "stream",
     "text": [
      "Processing: 6it [10:57, 112.82s/it]"
     ]
    },
    {
     "name": "stdout",
     "output_type": "stream",
     "text": [
      "fold ---> 7\n",
      "118/118 [==============================] - 5s 39ms/step\n",
      "14/14 [==============================] - 0s 30ms/step\n"
     ]
    },
    {
     "name": "stderr",
     "output_type": "stream",
     "text": [
      "Processing: 7it [13:27, 124.72s/it]"
     ]
    },
    {
     "name": "stdout",
     "output_type": "stream",
     "text": [
      "fold ---> 8\n",
      "118/118 [==============================] - 6s 47ms/step\n",
      "14/14 [==============================] - 0s 28ms/step\n"
     ]
    },
    {
     "name": "stderr",
     "output_type": "stream",
     "text": [
      "Processing: 8it [15:01, 115.03s/it]"
     ]
    },
    {
     "name": "stdout",
     "output_type": "stream",
     "text": [
      "fold ---> 9\n",
      "118/118 [==============================] - 5s 40ms/step\n",
      "14/14 [==============================] - 1s 42ms/step\n"
     ]
    },
    {
     "name": "stderr",
     "output_type": "stream",
     "text": [
      "Processing: 9it [16:30, 106.96s/it]"
     ]
    },
    {
     "name": "stdout",
     "output_type": "stream",
     "text": [
      "fold ---> 10\n",
      "118/118 [==============================] - 4s 33ms/step\n",
      "14/14 [==============================] - 1s 42ms/step\n"
     ]
    },
    {
     "name": "stderr",
     "output_type": "stream",
     "text": [
      "Processing: 10it [18:59, 113.97s/it]"
     ]
    },
    {
     "name": "stdout",
     "output_type": "stream",
     "text": [
      "Treinamento finalizado!\n"
     ]
    },
    {
     "name": "stderr",
     "output_type": "stream",
     "text": [
      "\n"
     ]
    }
   ],
   "source": [
    "train_fold_accuracies = []\n",
    "train_fold_f1_scores = []\n",
    "\n",
    "val_fold_accuracies = []\n",
    "val_fold_f1_scores = []\n",
    "\n",
    "tprs = []\n",
    "aucs = []\n",
    "mean_fpr = np.linspace(0, 1, 100)\n",
    "\n",
    "val_tprs = []\n",
    "val_aucs = []\n",
    "val_mean_fpr = np.linspace(0, 1, 100)\n",
    "\n",
    "for fold, (train_idx, test_idx) in tqdm(enumerate(KFOLD.split(TFIDF_MATRIX), start=1), desc=\"Processing\"):\n",
    "    print(f'fold ---> {fold}')\n",
    "    \n",
    "    # Separando datasets\n",
    "    X_train, X_test = TFIDF_MATRIX[train_idx], TFIDF_MATRIX[test_idx]\n",
    "    y_train, y_test = labels[train_idx], labels[test_idx]\n",
    "    \n",
    "    # Arquitetura MLP\n",
    "    model = Sequential()\n",
    "    model.add(Dense(24, activation='relu', input_shape=(X_train.shape[1],)))\n",
    "    model.add(Dropout(DROPOUT)),\n",
    "    model.add(Dense(1, activation='sigmoid'))\n",
    "    \n",
    "    # Compilando o modelo\n",
    "    LEARNING_RATE = LEARNING_RATE\n",
    "    OPTIMIZER = Adam(learning_rate=LEARNING_RATE)\n",
    "    model.compile(optimizer=OPTIMIZER, loss=LOSS, metrics=METRICS)\n",
    "    \n",
    "    # Treinando o modelo\n",
    "    model_history = model.fit(\n",
    "        X_train.toarray(),\n",
    "        y_train, \n",
    "        epochs=EPOCHS, \n",
    "        batch_size=BATCH_SIZE, \n",
    "        verbose=VERBOSE, \n",
    "        callbacks=CALLBACKS,\n",
    "        validation_data=(X_test.toarray(), y_test)\n",
    "    )\n",
    "    \n",
    "    # ------------------------------------------------------------------\n",
    "    # Metricas Treino\n",
    "    \n",
    "    # Predicoes treino\n",
    "    train_pred = (model.predict(X_train.toarray()) > 0.5).astype(int)\n",
    "    \n",
    "    # Treino acuracia em cada fold\n",
    "    train_fold_accuracy = accuracy_score(y_train, train_pred)\n",
    "    train_fold_accuracies.append(train_fold_accuracy)\n",
    "    \n",
    "    # Treino f1 score em cada fold\n",
    "    train_fold_f1 = f1_score(y_train, train_pred)\n",
    "    train_fold_f1_scores.append(train_fold_f1)\n",
    "    \n",
    "    # traino roc curve and auc\n",
    "    fpr, tpr, thresholds = roc_curve(y_train, train_pred)\n",
    "    roc_auc = auc(fpr, tpr)\n",
    "    tprs.append(np.interp(mean_fpr, fpr, tpr))\n",
    "    aucs.append(roc_auc)\n",
    "    \n",
    "    # ------------------------------------------------------------------\n",
    "    # Metricas Validacao\n",
    "    \n",
    "    # Avaliando o modelo\n",
    "    val_pred = (model.predict(X_test.toarray()) > 0.5).astype(int)\n",
    "    \n",
    "    # Validacao acuracia em cada fold\n",
    "    val_fold_accuracy = accuracy_score(y_test, val_pred)\n",
    "    val_fold_accuracies.append(val_fold_accuracy)\n",
    "    \n",
    "    # Validacao f1 score em cada fold\n",
    "    val_fold_f1 = f1_score(y_test, val_pred)\n",
    "    val_fold_f1_scores.append(val_fold_f1)\n",
    "\n",
    "print('Treinamento finalizado!')"
   ]
  },
  {
   "cell_type": "code",
   "execution_count": 83,
   "id": "7968a735-4a28-4add-9ae6-2d444e3a2bce",
   "metadata": {},
   "outputs": [
    {
     "name": "stdout",
     "output_type": "stream",
     "text": [
      "train accuracies mean: 0.9728\n",
      "train f1 scores mean: 0.9733\n",
      "--------------------------------------------------------------------------------\n",
      "val accuracies mean: 0.8544\n",
      "val f1 scores mean: 0.8562\n"
     ]
    }
   ],
   "source": [
    "print(f'train accuracies mean: {round(np.mean(train_fold_accuracies),4)}')\n",
    "print(f'train f1 scores mean: {round(np.mean(train_fold_f1_scores),4)}')\n",
    "print('-'*80)\n",
    "print(f'val accuracies mean: {round(np.mean(val_fold_accuracies),4)}')\n",
    "print(f'val f1 scores mean: {round(np.mean(val_fold_f1_scores),4)}')"
   ]
  },
  {
   "cell_type": "code",
   "execution_count": 84,
   "id": "6df1203a-9a17-46ba-a0d2-9b8bbeab3b28",
   "metadata": {},
   "outputs": [],
   "source": [
    "def plot_eval_metrics(model, metric):\n",
    "    plt.plot(model.history[metric])\n",
    "    plt.plot(model.history[f'val_{metric}'])\n",
    "    plt.title(f'model {metric}')\n",
    "    plt.ylabel(metric)\n",
    "    plt.xlabel('epoch')\n",
    "    plt.legend(['train', 'test'], loc='upper left')\n",
    "    plt.savefig(f'./tfidf_mlp_{metric}_train-01.png')\n",
    "    plt.show()\n",
    "    \n",
    "def plot_roc_auc_curve(desc, mean_tpr, mean_auc):\n",
    "    plt.figure()\n",
    "    plt.plot(mean_fpr, mean_tpr, color='b', label=f'{desc} Mean ROC curve (AUC = {mean_auc:.2f})')\n",
    "    plt.plot([0, 1], [0, 1], color='gray', linestyle='--')\n",
    "    plt.xlim([0.0, 1.0])\n",
    "    plt.ylim([0.0, 1.05])\n",
    "    plt.xlabel('False Positive Rate')\n",
    "    plt.ylabel('True Positive Rate')\n",
    "    plt.title(f'{desc} Mean Receiver Operating Characteristic (ROC) Curve')\n",
    "    plt.legend(loc=\"lower right\")\n",
    "    plt.savefig(f'./tfidf_mlp_roc_auc_train-01.png')\n",
    "    plt.show()"
   ]
  },
  {
   "cell_type": "code",
   "execution_count": 85,
   "id": "cd890ba8-fd38-4f47-81c7-53bc4e62942e",
   "metadata": {},
   "outputs": [
    {
     "data": {
      "image/png": "[encoded data removed]",
      "text/plain": [
       "<Figure size 640x480 with 1 Axes>"
      ]
     },
     "metadata": {},
     "output_type": "display_data"
    },
    {
     "data": {
      "image/png": "[encoded data removed]",
      "text/plain": [
       "<Figure size 640x480 with 1 Axes>"
      ]
     },
     "metadata": {},
     "output_type": "display_data"
    },
    {
     "data": {
      "image/png": "[encoded data removed]",
      "text/plain": [
       "<Figure size 640x480 with 1 Axes>"
      ]
     },
     "metadata": {},
     "output_type": "display_data"
    }
   ],
   "source": [
    "plot_eval_metrics(model_history, 'acc')\n",
    "plot_eval_metrics(model_history, 'loss')\n",
    "\n",
    "mean_tpr = np.mean(tprs, axis=0)\n",
    "mean_auc = auc(mean_fpr, mean_tpr)\n",
    "plot_roc_auc_curve('Train', mean_tpr, mean_auc)"
   ]
  }
 ],
 "metadata": {
  "kernelspec": {
   "display_name": "Python 3 (ipykernel)",
   "language": "python",
   "name": "python3"
  },
  "language_info": {
   "codemirror_mode": {
    "name": "ipython",
    "version": 3
   },
   "file_extension": ".py",
   "mimetype": "text/x-python",
   "name": "python",
   "nbconvert_exporter": "python",
   "pygments_lexer": "ipython3",
   "version": "3.10.11"
  }
 },
 "nbformat": 4,
 "nbformat_minor": 5
}
