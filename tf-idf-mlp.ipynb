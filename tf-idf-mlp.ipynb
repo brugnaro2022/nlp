{
 "cells": [
  {
   "cell_type": "markdown",
   "id": "9b87ca0f-d334-44bb-91ae-b1dca25e25e4",
   "metadata": {},
   "source": [
    "#### Bibliotecas básicas"
   ]
  },
  {
   "cell_type": "code",
   "execution_count": 3,
   "id": "6f060206-9cdf-44b5-9e25-38f0d3878ff1",
   "metadata": {},
   "outputs": [],
   "source": [
    "import numpy as np\n",
    "import pandas as pd\n",
    "from pathlib import Path\n",
    "import matplotlib.pyplot as plt"
   ]
  },
  {
   "cell_type": "markdown",
   "id": "7e83854f-776d-4d46-bcb1-23aaf0aaaacf",
   "metadata": {},
   "source": [
    "#### Bibliotecas relacionadas a preparação dos dados"
   ]
  },
  {
   "cell_type": "code",
   "execution_count": 18,
   "id": "26b77794-27fe-4b50-9816-72cff7b78361",
   "metadata": {},
   "outputs": [
    {
     "name": "stderr",
     "output_type": "stream",
     "text": [
      "[nltk_data] Downloading package punkt to /home/marcos/nltk_data...\n",
      "[nltk_data]   Package punkt is already up-to-date!\n",
      "[nltk_data] Downloading package stopwords to /home/marcos/nltk_data...\n",
      "[nltk_data]   Package stopwords is already up-to-date!\n",
      "[nltk_data] Downloading package wordnet to /home/marcos/nltk_data...\n",
      "[nltk_data]   Package wordnet is already up-to-date!\n"
     ]
    },
    {
     "data": {
      "text/plain": [
       "True"
      ]
     },
     "execution_count": 18,
     "metadata": {},
     "output_type": "execute_result"
    }
   ],
   "source": [
    "import re\n",
    "import nltk\n",
    "from nltk.stem import WordNetLemmatizer\n",
    "nltk.download('punkt')\n",
    "nltk.download('stopwords')\n",
    "nltk.download('wordnet')"
   ]
  },
  {
   "cell_type": "markdown",
   "id": "637ea8b1-96fa-43aa-bf97-3075febedd49",
   "metadata": {},
   "source": [
    "#### Bibliotecas relacionadas aos modelos"
   ]
  },
  {
   "cell_type": "code",
   "execution_count": 30,
   "id": "e064d830-d58c-44ca-a118-2e5d5c0084d2",
   "metadata": {},
   "outputs": [],
   "source": [
    "from sklearn.feature_extraction.text import TfidfVectorizer\n",
    "from sklearn.preprocessing import LabelEncoder\n",
    "from sklearn.naive_bayes import GaussianNB\n",
    "from sklearn.naive_bayes import MultinomialNB\n",
    "from sklearn.tree import DecisionTreeClassifier\n",
    "from sklearn.neural_network import MLPClassifier\n",
    "from sklearn.ensemble import GradientBoostingClassifier\n",
    "from sklearn.model_selection import train_test_split\n",
    "from sklearn.model_selection import GridSearchCV"
   ]
  },
  {
   "cell_type": "markdown",
   "id": "fc208ff0-48ef-4622-910d-42e111a6a31a",
   "metadata": {},
   "source": [
    "#### Caminho do dataset"
   ]
  },
  {
   "cell_type": "code",
   "execution_count": 5,
   "id": "545d45cd-2e9b-4747-91c6-22ecae744a64",
   "metadata": {},
   "outputs": [],
   "source": [
    "root = Path('../datasets/')\n",
    "input_path = root / 'input/'"
   ]
  },
  {
   "cell_type": "markdown",
   "id": "76c9d248-99b1-49f1-be7f-2ee87cd0b56c",
   "metadata": {},
   "source": [
    "#### Leitura do dataset"
   ]
  },
  {
   "cell_type": "code",
   "execution_count": 6,
   "id": "0582282a-9edd-4f21-85db-5eb9b47550f9",
   "metadata": {},
   "outputs": [],
   "source": [
    "df = pd.read_csv(input_path / 'bbc-text.csv')"
   ]
  },
  {
   "cell_type": "markdown",
   "id": "3eb2d4ba-9038-4cbe-94b7-803e778843a6",
   "metadata": {},
   "source": [
    "#### Informações do dataset"
   ]
  },
  {
   "cell_type": "code",
   "execution_count": 7,
   "id": "239f87b9-eb25-4d13-93bb-eebd820f2042",
   "metadata": {},
   "outputs": [
    {
     "data": {
      "text/plain": [
       "(2225, 2)"
      ]
     },
     "execution_count": 7,
     "metadata": {},
     "output_type": "execute_result"
    }
   ],
   "source": [
    "df.shape"
   ]
  },
  {
   "cell_type": "code",
   "execution_count": 8,
   "id": "09ba88d2-9fec-4e96-ab18-db9f0013a3c6",
   "metadata": {},
   "outputs": [
    {
     "data": {
      "text/plain": [
       "Index(['category', 'text'], dtype='object')"
      ]
     },
     "execution_count": 8,
     "metadata": {},
     "output_type": "execute_result"
    }
   ],
   "source": [
    "df.columns"
   ]
  },
  {
   "cell_type": "code",
   "execution_count": 9,
   "id": "95578548-e977-4b6b-a608-e9cf97c25143",
   "metadata": {},
   "outputs": [
    {
     "data": {
      "text/plain": [
       "array(['tech', 'business', 'sport', 'entertainment', 'politics'],\n",
       "      dtype=object)"
      ]
     },
     "execution_count": 9,
     "metadata": {},
     "output_type": "execute_result"
    }
   ],
   "source": [
    "df.category.unique()"
   ]
  },
  {
   "cell_type": "markdown",
   "id": "65735ae6-b322-4d6d-9128-f9182a38c872",
   "metadata": {},
   "source": [
    "#### Histograma categoria relacionado ao número de sentenças"
   ]
  },
  {
   "cell_type": "code",
   "execution_count": 10,
   "id": "ba278e81-24e0-42c4-9171-7f3dd99e0fd2",
   "metadata": {},
   "outputs": [
    {
     "data": {
      "text/plain": [
       "<function matplotlib.pyplot.show(close=None, block=None)>"
      ]
     },
     "execution_count": 10,
     "metadata": {},
     "output_type": "execute_result"
    },
    {
     "data": {
      "image/png": "[encoded data removed]",
      "text/plain": [
       "<Figure size 480x320 with 1 Axes>"
      ]
     },
     "metadata": {},
     "output_type": "display_data"
    }
   ],
   "source": [
    "x = df['category']\n",
    "plt.figure(figsize=(6,4), dpi=80)\n",
    "labels, counts = np.unique(x, return_counts=True)\n",
    "plt.bar(labels, counts, align='center')\n",
    "plt.hist(x)\n",
    "plt.show"
   ]
  },
  {
   "cell_type": "markdown",
   "id": "ca742e65-9d58-4363-a590-645596a7d212",
   "metadata": {},
   "source": [
    "#### Dividindo sentenças em palavras (tokenize)"
   ]
  },
  {
   "cell_type": "code",
   "execution_count": 11,
   "id": "e03bcde6-0798-4345-8d45-6ec805820634",
   "metadata": {},
   "outputs": [
    {
     "data": {
      "text/plain": [
       "0       [tv, future, in, the, hands, of, viewers, with...\n",
       "1       [worldcom, boss, left, books, alone, former, w...\n",
       "2       [tigers, wary, of, farrell, gamble, leicester,...\n",
       "3       [yeading, face, newcastle, in, fa, cup, premie...\n",
       "4       [ocean, s, twelve, raids, box, office, ocean, ...\n",
       "                              ...                        \n",
       "2220    [cars, pull, down, us, retail, figures, us, re...\n",
       "2221    [kilroy, unveils, immigration, policy, ex-chat...\n",
       "2222    [rem, announce, new, glasgow, concert, us, ban...\n",
       "2223    [how, political, squabbles, snowball, it, s, b...\n",
       "2224    [souness, delight, at, euro, progress, boss, g...\n",
       "Name: text_clean, Length: 2225, dtype: object"
      ]
     },
     "execution_count": 11,
     "metadata": {},
     "output_type": "execute_result"
    }
   ],
   "source": [
    "df['text_clean'] = df['text'].apply(nltk.word_tokenize)\n",
    "df['text_clean']"
   ]
  },
  {
   "cell_type": "markdown",
   "id": "7e8c280e-697e-48fb-ba83-e92f25ebc58a",
   "metadata": {},
   "source": [
    "#### Removendo stop words"
   ]
  },
  {
   "cell_type": "code",
   "execution_count": 12,
   "id": "27fe1341-c40b-4161-954a-56e54adc432e",
   "metadata": {},
   "outputs": [
    {
     "data": {
      "text/plain": [
       "0       [tv, future, hands, viewers, home, theatre, sy...\n",
       "1       [worldcom, boss, left, books, alone, former, w...\n",
       "2       [tigers, wary, farrell, gamble, leicester, say...\n",
       "3       [yeading, face, newcastle, fa, cup, premiershi...\n",
       "4       [ocean, twelve, raids, box, office, ocean, twe...\n",
       "                              ...                        \n",
       "2220    [cars, pull, us, retail, figures, us, retail, ...\n",
       "2221    [kilroy, unveils, immigration, policy, ex-chat...\n",
       "2222    [rem, announce, new, glasgow, concert, us, ban...\n",
       "2223    [political, squabbles, snowball, become, commo...\n",
       "2224    [souness, delight, euro, progress, boss, graem...\n",
       "Name: text_clean, Length: 2225, dtype: object"
      ]
     },
     "execution_count": 12,
     "metadata": {},
     "output_type": "execute_result"
    }
   ],
   "source": [
    "stop_words = set(nltk.corpus.stopwords.words('english'))\n",
    "df['text_clean'] = df['text_clean'].apply(lambda x: [item for item in x if item not in stop_words])\n",
    "df['text_clean']"
   ]
  },
  {
   "cell_type": "markdown",
   "id": "673acb8a-85ca-445f-a87f-5bf446c372f1",
   "metadata": {},
   "source": [
    "#### Removendo números, pontuações e caracteres especiais"
   ]
  },
  {
   "cell_type": "code",
   "execution_count": 13,
   "id": "20b0c3ed-c58e-48d4-ba85-1959e20adc93",
   "metadata": {},
   "outputs": [
    {
     "data": {
      "text/plain": [
       "0       [tv, future, hands, viewers, home, theatre, sy...\n",
       "1       [worldcom, boss, left, books, alone, former, w...\n",
       "2       [tigers, wary, farrell, gamble, leicester, say...\n",
       "3       [yeading, face, newcastle, fa, cup, premiershi...\n",
       "4       [ocean, twelve, raids, box, office, ocean, twe...\n",
       "                              ...                        \n",
       "2220    [cars, pull, us, retail, figures, us, retail, ...\n",
       "2221    [kilroy, unveils, immigration, policy, ex-chat...\n",
       "2222    [rem, announce, new, glasgow, concert, us, ban...\n",
       "2223    [political, squabbles, snowball, become, commo...\n",
       "2224    [souness, delight, euro, progress, boss, graem...\n",
       "Name: text_clean, Length: 2225, dtype: object"
      ]
     },
     "execution_count": 13,
     "metadata": {},
     "output_type": "execute_result"
    }
   ],
   "source": [
    "regex = '[a-z]+'\n",
    "df['text_clean'] = df['text_clean'].apply(lambda x: [item for item in x if re.match(regex, item)])\n",
    "df['text_clean']"
   ]
  }
 ],
 "metadata": {
  "kernelspec": {
   "display_name": "Python 3 (ipykernel)",
   "language": "python",
   "name": "python3"
  },
  "language_info": {
   "codemirror_mode": {
    "name": "ipython",
    "version": 3
   },
   "file_extension": ".py",
   "mimetype": "text/x-python",
   "name": "python",
   "nbconvert_exporter": "python",
   "pygments_lexer": "ipython3",
   "version": "3.10.11"
  }
 },
 "nbformat": 4,
 "nbformat_minor": 5
}
