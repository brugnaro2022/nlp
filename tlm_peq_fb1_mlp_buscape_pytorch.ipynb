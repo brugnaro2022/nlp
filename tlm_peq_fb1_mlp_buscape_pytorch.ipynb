{
 "cells": [
  {
   "cell_type": "markdown",
   "id": "a60056bd-bbf0-48ff-8cf4-77d7608b0fef",
   "metadata": {},
   "source": [
    "\n",
    "<b>INSTITUTO FEDERAL DE GOIÁS<br/>\n",
    "PÓS-GRADUAÇÃO EM INTELIGÊNCIA ARTIFICIAL APLICADA<br/></b>\n",
    "Disciplina: Processamento de Linguagem Natural  <br/>\n",
    "Professor: Daniel Xavier de Sousa <br/>\n",
    "Alunos: Wagner Silva, Cleibson, Marcos Rodrigues\n",
    "\n",
    "\n",
    "---"
   ]
  },
  {
   "cell_type": "code",
   "execution_count": 2,
   "id": "aa656325-027b-4f8c-b953-d568876cf670",
   "metadata": {},
   "outputs": [],
   "source": [
    "# Bibliotecas básicas\n",
    "import pandas as pd\n",
    "import numpy as np\n",
    "\n",
    "# Bibliotecas relacionadas ao treinamento do modelo\n",
    "import torch\n",
    "import torch.nn as nn\n",
    "import torch.optim as optim\n",
    "\n",
    "from sklearn.model_selection import train_test_split\n",
    "from sklearn.metrics import accuracy_score, log_loss, f1_score, recall_score, precision_score, classification_report, average_precision_score, precision_recall_curve, roc_curve, auc\n",
    "from transformers import DistilBertTokenizer, DistilBertModel\n",
    "from gensim.models import KeyedVectors\n",
    "\n",
    "# Bibliotecas relacionadas a exibição de gráficos\n",
    "import matplotlib.pyplot as plt"
   ]
  },
  {
   "cell_type": "code",
   "execution_count": 3,
   "id": "27ea515a-7415-42c0-9ad4-0f66aeadf3e3",
   "metadata": {},
   "outputs": [],
   "source": [
    "# Carregando modelo de transformer pré-treinado e tokenizer (DistilBERT)\n",
    "tokenizer = DistilBertTokenizer.from_pretrained('distilbert-base-uncased')\n",
    "model = DistilBertModel.from_pretrained('distilbert-base-uncased')"
   ]
  },
  {
   "cell_type": "code",
   "execution_count": 4,
   "id": "9c95aa5f-75b5-49ee-aa3f-9d07a45d1a59",
   "metadata": {},
   "outputs": [],
   "source": [
    "# Carregando modelo pré-treinado de vetores de palavras (utilizado no feature-based encoding)\n",
    "word_vectors = KeyedVectors.load_word2vec_format('../embeddings/wiki.pt.vec', binary=False)"
   ]
  },
  {
   "cell_type": "code",
   "execution_count": 5,
   "id": "c20ab263-e76a-4d7d-9306-b73ec7a3497d",
   "metadata": {},
   "outputs": [],
   "source": [
    "# Carregando dataset\n",
    "df = pd.read_csv('../datasets/buscape_preprocessed_balanced.csv')"
   ]
  },
  {
   "cell_type": "code",
   "execution_count": 6,
   "id": "4b5b0514-21e0-47a1-aade-43949285d86f",
   "metadata": {},
   "outputs": [
    {
     "data": {
      "text/plain": [
       "(133632, 2)"
      ]
     },
     "execution_count": 6,
     "metadata": {},
     "output_type": "execute_result"
    }
   ],
   "source": [
    "df.shape"
   ]
  },
  {
   "cell_type": "code",
   "execution_count": 7,
   "id": "8f06dde7-0978-488d-995a-bfd6e5601681",
   "metadata": {},
   "outputs": [],
   "source": [
    "# Montando um batch de apenas 1000 instâncias\n",
    "batch_1 = df[:10000]"
   ]
  },
  {
   "cell_type": "code",
   "execution_count": 8,
   "id": "fc4dac40-c62d-4237-a39d-926b60fbebbf",
   "metadata": {},
   "outputs": [
    {
     "data": {
      "text/plain": [
       "rating\n",
       "1    9087\n",
       "0     913\n",
       "Name: count, dtype: int64"
      ]
     },
     "execution_count": 8,
     "metadata": {},
     "output_type": "execute_result"
    }
   ],
   "source": [
    "# Verificando quantidades de rating\n",
    "batch_1['rating'].value_counts()"
   ]
  },
  {
   "cell_type": "code",
   "execution_count": 9,
   "id": "805f5e98-3454-4478-a74a-ffcc463d2060",
   "metadata": {},
   "outputs": [],
   "source": [
    "# Limpando lista de sentenças e definindo labels\n",
    "texts = batch_1['review_text'].tolist()\n",
    "labels = batch_1['rating'].tolist()"
   ]
  },
  {
   "cell_type": "code",
   "execution_count": 10,
   "id": "4f90bf5c-3314-4f07-b4f0-19869133e741",
   "metadata": {},
   "outputs": [],
   "source": [
    "def clear_sentences(sentences):\n",
    "    new_list_texts = []\n",
    "    for item in sentences:\n",
    "        item_fixed = item[1:-1]  \n",
    "        new_list_texts.append(item_fixed)\n",
    "    \n",
    "    return [s[1:-1] for s in new_list_texts]"
   ]
  },
  {
   "cell_type": "code",
   "execution_count": 11,
   "id": "83868b38-e906-42e0-b4f9-703b16e5f886",
   "metadata": {},
   "outputs": [],
   "source": [
    "texts = clear_sentences(texts)"
   ]
  },
  {
   "cell_type": "code",
   "execution_count": 12,
   "id": "46220580-fc0d-4ea2-bc4b-6942ac35241a",
   "metadata": {},
   "outputs": [
    {
     "name": "stdout",
     "output_type": "stream",
     "text": [
      "10000\n",
      "10000\n"
     ]
    }
   ],
   "source": [
    "print(len(texts))\n",
    "print(len(labels))"
   ]
  },
  {
   "cell_type": "code",
   "execution_count": 13,
   "id": "3332163d-ece6-4829-bd17-19b9d999f40b",
   "metadata": {},
   "outputs": [],
   "source": [
    "# Dividindo dataset\n",
    "train_texts, test_texts, train_labels, test_labels = train_test_split(texts, labels, test_size=0.2, random_state=42)"
   ]
  },
  {
   "cell_type": "code",
   "execution_count": 14,
   "id": "a5b39b5e-10b8-4081-8d4f-84eef41bcc7d",
   "metadata": {},
   "outputs": [
    {
     "name": "stdout",
     "output_type": "stream",
     "text": [
      "textos para treino: 8000\n",
      "textos para teste: 2000\n",
      "labels para treino: 8000\n",
      "labels para teste: 2000\n"
     ]
    }
   ],
   "source": [
    "# Conferindo quantidades\n",
    "print(f'textos para treino: {len(train_texts)}')\n",
    "print(f'textos para teste: {len(test_texts)}')\n",
    "print(f'labels para treino: {len(train_labels)}')\n",
    "print(f'labels para teste: {len(test_labels)}')"
   ]
  },
  {
   "cell_type": "code",
   "execution_count": 15,
   "id": "5593c86f-10a3-4b6b-8885-89acaec6e199",
   "metadata": {},
   "outputs": [],
   "source": [
    "# Função que gera incorporações baseadas em recursos usando vetores de palavras pré-treinados\n",
    "def generate_feature_based_embedding(text):\n",
    "    words = text.split()\n",
    "    embeddings = [word_vectors[word] for word in words if word in word_vectors]\n",
    "    return np.mean(embeddings, axis=0) if embeddings else np.zeros(300)"
   ]
  },
  {
   "cell_type": "code",
   "execution_count": 16,
   "id": "0a0bd226-5606-4f70-899b-96e1d59c5bab",
   "metadata": {},
   "outputs": [],
   "source": [
    "# Gerando feature-based embeddings para treino\n",
    "train_feature_based_embeddings = np.array([generate_feature_based_embedding(text) for text in train_texts])"
   ]
  },
  {
   "cell_type": "code",
   "execution_count": 17,
   "id": "039903dc-36de-44c7-9d94-7bbce06466cd",
   "metadata": {},
   "outputs": [],
   "source": [
    "# Gerando feature-based embeddings para teste\n",
    "test_feature_based_embeddings = np.array([generate_feature_based_embedding(text) for text in test_texts])"
   ]
  },
  {
   "cell_type": "code",
   "execution_count": 18,
   "id": "66b95f94-fb59-4518-9023-4e624915e6d6",
   "metadata": {},
   "outputs": [],
   "source": [
    "# Tokenizando\n",
    "train_inputs = tokenizer(train_texts, padding=True, truncation=True, max_length=50, return_tensors=\"pt\")"
   ]
  },
  {
   "cell_type": "code",
   "execution_count": 19,
   "id": "4dfb441b-74a2-437e-993c-029583a51509",
   "metadata": {},
   "outputs": [
    {
     "data": {
      "text/plain": [
       "tensor([[  101,  4013,  8566,  3406, 24970, 15781, 10861,  8915, 19817, 10936,\n",
       "          9530, 13028,  2080,  7861, 28681,  3022,  2004,  9765, 22684,  2229,\n",
       "          2079,  2019,  2080,  1051, 10861,  2175, 13473,  2072,  4013,  8566,\n",
       "          3406, 24970, 15781, 10861,  8915, 19817, 10936,  9530, 13028,  2080,\n",
       "          7861, 28681,  3022,  2004,  9765, 22684,  2229,  2079,  2019,   102],\n",
       "        [  101, 11498,  9530,  7367, 25698,  2099,  2004,  2522, 14268,  2015,\n",
       "          1041,  4274,   102,     0,     0,     0,     0,     0,     0,     0,\n",
       "             0,     0,     0,     0,     0,     0,     0,     0,     0,     0,\n",
       "             0,     0,     0,     0,     0,     0,     0,     0,     0,     0,\n",
       "             0,     0,     0,     0,     0,     0,     0,     0,     0,     0],\n",
       "        [  101,  7861, 28994,  2050,  1041, 14163,  9956, 21766,  5714,  2561,\n",
       "          3672,  2063,  7367,  2213,  6970,  8303,  2063,  7861, 10663,  2099,\n",
       "          1051,  8915,  2226,  3291,  2050,  1051, 10861,  2175, 13473,  2072,\n",
       "         11265, 25311,  2819,  1051, 10861,  6583,  2080,  2175, 13473,  2072,\n",
       "          4012, 28139,  2072,  8529,  9706, 12069, 28061,  4012,  3291,   102]])"
      ]
     },
     "execution_count": 19,
     "metadata": {},
     "output_type": "execute_result"
    }
   ],
   "source": [
    "# CLS: 101\n",
    "# SEP: 102\n",
    "train_inputs.input_ids[0:3]"
   ]
  },
  {
   "cell_type": "code",
   "execution_count": 20,
   "id": "8564197a-7a12-46ca-95fa-5ffa4454d5fa",
   "metadata": {},
   "outputs": [],
   "source": [
    "# Gerando transformer-based embeddings\n",
    "with torch.no_grad():\n",
    "    train_outputs = model(**train_inputs).last_hidden_state\n",
    "transformer_embeddings = train_outputs.numpy()"
   ]
  },
  {
   "cell_type": "code",
   "execution_count": 21,
   "id": "41d070ae-5fd5-4dca-a88f-cbde3fdcb678",
   "metadata": {},
   "outputs": [
    {
     "data": {
      "text/plain": [
       "(8000, 50, 768)"
      ]
     },
     "execution_count": 21,
     "metadata": {},
     "output_type": "execute_result"
    }
   ],
   "source": [
    "# Foi gerado uma matriz de 3 dimensão, optei pelo reshape desta matriz de transformers embeddings\n",
    "transformer_embeddings.shape"
   ]
  },
  {
   "cell_type": "code",
   "execution_count": 22,
   "id": "a95acbee-6069-41b9-a0c4-f98101bf5a14",
   "metadata": {},
   "outputs": [],
   "source": [
    "# Reshape da matriz \n",
    "reshaped_transformer_embeddings = transformer_embeddings.reshape(transformer_embeddings.shape[0], -1)"
   ]
  },
  {
   "cell_type": "code",
   "execution_count": 23,
   "id": "7b271fdc-00d7-4457-a22e-7057012d7b22",
   "metadata": {},
   "outputs": [
    {
     "data": {
      "text/plain": [
       "(8000, 38400)"
      ]
     },
     "execution_count": 23,
     "metadata": {},
     "output_type": "execute_result"
    }
   ],
   "source": [
    "reshaped_transformer_embeddings.shape"
   ]
  },
  {
   "cell_type": "code",
   "execution_count": 24,
   "id": "4a1c137f-61d6-4f35-855d-f4c938ad4a2d",
   "metadata": {},
   "outputs": [],
   "source": [
    "# Concatenando train_feature_based_embeddings e reshaped_transformer_embeddings\n",
    "combined_embeddings = np.concatenate((train_feature_based_embeddings, reshaped_transformer_embeddings), axis=1)"
   ]
  },
  {
   "cell_type": "code",
   "execution_count": 25,
   "id": "abac4473-4471-4797-a05a-aa45ea6517bc",
   "metadata": {},
   "outputs": [
    {
     "data": {
      "text/plain": [
       "(8000, 38700)"
      ]
     },
     "execution_count": 25,
     "metadata": {},
     "output_type": "execute_result"
    }
   ],
   "source": [
    "combined_embeddings.shape"
   ]
  },
  {
   "cell_type": "code",
   "execution_count": 26,
   "id": "f427702c-4b78-4f90-811c-f4dbe0f57b88",
   "metadata": {},
   "outputs": [],
   "source": [
    "# Definindo treino utilizando MLP com PyTorch\n",
    "class MLP(nn.Module):\n",
    "    def __init__(self, input_dim, hidden_dim1, hidden_dim2):\n",
    "        super(MLP, self).__init__()\n",
    "        self.fc1 = nn.Linear(input_dim, hidden_dim1)\n",
    "        self.dropout1 = nn.Dropout(p=0.05)\n",
    "        self.fc2 = nn.Linear(hidden_dim1, hidden_dim2)\n",
    "        self.fc3 = nn.Linear(hidden_dim2, 1)\n",
    "        self.sigmoid = nn.Sigmoid()\n",
    "    \n",
    "    def forward(self, x):\n",
    "        x = torch.relu(self.fc1(x))\n",
    "        x = self.dropout1(x)\n",
    "        x = torch.relu(self.fc2(x))\n",
    "        x = self.fc3(x)\n",
    "        return self.sigmoid(x)"
   ]
  },
  {
   "cell_type": "code",
   "execution_count": 27,
   "id": "ccd69493-b57e-4812-b213-5400bb56990a",
   "metadata": {},
   "outputs": [],
   "source": [
    "input_dim = 300 + reshaped_transformer_embeddings.shape[1]  # Dimensões combinadas\n",
    "hidden_dim1 = 128\n",
    "hidden_dim2 = 64\n",
    "mlp_model = MLP(input_dim, hidden_dim1, hidden_dim2)"
   ]
  },
  {
   "cell_type": "code",
   "execution_count": 28,
   "id": "b6254167-6f7e-4953-9a4a-549618edde19",
   "metadata": {},
   "outputs": [],
   "source": [
    "# Convertendo dados para PyTorch tensors\n",
    "train_embeddings = torch.tensor(combined_embeddings, dtype=torch.float32)\n",
    "train_labels = torch.tensor(train_labels, dtype=torch.float32)"
   ]
  },
  {
   "cell_type": "code",
   "execution_count": 29,
   "id": "65abcb0d-9177-45f3-af97-6796a840e9e7",
   "metadata": {},
   "outputs": [],
   "source": [
    "# Definindo função loss e optmizer\n",
    "criterion = nn.BCELoss()\n",
    "optimizer = optim.Adam(mlp_model.parameters(), lr=5e-4)"
   ]
  },
  {
   "cell_type": "code",
   "execution_count": 30,
   "id": "1a30fd10-64e6-4ed6-a752-8c0a0d2d1cca",
   "metadata": {},
   "outputs": [
    {
     "name": "stdout",
     "output_type": "stream",
     "text": [
      "Epoch [1/30], Loss: 0.6982, Accuracy: 0.3163\n",
      "Epoch [2/30], Loss: 0.3348, Accuracy: 0.9094\n",
      "Epoch [3/30], Loss: 0.3285, Accuracy: 0.9094\n",
      "Epoch [4/30], Loss: 0.3068, Accuracy: 0.9094\n",
      "Epoch [5/30], Loss: 0.3014, Accuracy: 0.9094\n",
      "Epoch [6/30], Loss: 0.2928, Accuracy: 0.9094\n",
      "Epoch [7/30], Loss: 0.2894, Accuracy: 0.9094\n",
      "Epoch [8/30], Loss: 0.2832, Accuracy: 0.9094\n",
      "Epoch [9/30], Loss: 0.2843, Accuracy: 0.9094\n",
      "Epoch [10/30], Loss: 0.2796, Accuracy: 0.9094\n",
      "Epoch [11/30], Loss: 0.2823, Accuracy: 0.9094\n",
      "Epoch [12/30], Loss: 0.2741, Accuracy: 0.9094\n",
      "Epoch [13/30], Loss: 0.2749, Accuracy: 0.9094\n",
      "Epoch [14/30], Loss: 0.2719, Accuracy: 0.9094\n",
      "Epoch [15/30], Loss: 0.2720, Accuracy: 0.9094\n",
      "Epoch [16/30], Loss: 0.2677, Accuracy: 0.9094\n",
      "Epoch [17/30], Loss: 0.2650, Accuracy: 0.9094\n",
      "Epoch [18/30], Loss: 0.2643, Accuracy: 0.9092\n",
      "Epoch [19/30], Loss: 0.2601, Accuracy: 0.9093\n",
      "Epoch [20/30], Loss: 0.2593, Accuracy: 0.9094\n",
      "Epoch [21/30], Loss: 0.2552, Accuracy: 0.9087\n",
      "Epoch [22/30], Loss: 0.2535, Accuracy: 0.9077\n",
      "Epoch [23/30], Loss: 0.2489, Accuracy: 0.9087\n",
      "Epoch [24/30], Loss: 0.2474, Accuracy: 0.9093\n",
      "Epoch [25/30], Loss: 0.2444, Accuracy: 0.9089\n",
      "Epoch [26/30], Loss: 0.2433, Accuracy: 0.9061\n",
      "Epoch [27/30], Loss: 0.2374, Accuracy: 0.9076\n",
      "Epoch [28/30], Loss: 0.2358, Accuracy: 0.9082\n",
      "Epoch [29/30], Loss: 0.2341, Accuracy: 0.9075\n",
      "Epoch [30/30], Loss: 0.2296, Accuracy: 0.9024\n"
     ]
    }
   ],
   "source": [
    "# Lista para armazenar métricas\n",
    "losses = []\n",
    "accuracies = []\n",
    "\n",
    "# Treinando o modelo\n",
    "num_epochs = 30\n",
    "for epoch in range(num_epochs):\n",
    "    optimizer.zero_grad()\n",
    "    outputs = mlp_model(train_embeddings)\n",
    "    loss = criterion(outputs, train_labels.view(-1, 1))\n",
    "    loss.backward()\n",
    "    optimizer.step()\n",
    "    \n",
    "    predicted_labels = (outputs >= 0.5).float()\n",
    "    accuracy = (predicted_labels == train_labels).float().mean()\n",
    "    \n",
    "    losses.append(loss.item())\n",
    "    accuracies.append(accuracy.item())\n",
    "    \n",
    "    print(f'Epoch [{epoch+1}/{num_epochs}], Loss: {loss.item():.4f}, Accuracy: {accuracy.item():.4f}')"
   ]
  },
  {
   "cell_type": "code",
   "execution_count": 31,
   "id": "6f6b5c6e-4815-4792-ab01-c9ff330fc3dc",
   "metadata": {},
   "outputs": [],
   "source": [
    "def plot_metrics_train_graph(metrics, label):\n",
    "    plt.plot(metrics, label=label)\n",
    "    plt.xlabel('Epoch')\n",
    "    plt.ylabel(label)\n",
    "    plt.title(f'Training {label}')\n",
    "    plt.legend()\n",
    "    plt.show()"
   ]
  },
  {
   "cell_type": "code",
   "execution_count": 32,
   "id": "fa3a3910-e7b8-4a44-97ef-99a43313a8cd",
   "metadata": {},
   "outputs": [
    {
     "data": {
      "image/png": "[encoded data removed]",
      "text/plain": [
       "<Figure size 640x480 with 1 Axes>"
      ]
     },
     "metadata": {},
     "output_type": "display_data"
    },
    {
     "data": {
      "image/png": "[encoded data removed]",
      "text/plain": [
       "<Figure size 640x480 with 1 Axes>"
      ]
     },
     "metadata": {},
     "output_type": "display_data"
    }
   ],
   "source": [
    "plot_metrics_train_graph(losses, 'Loss')\n",
    "plot_metrics_train_graph(accuracies, 'Accuracy')"
   ]
  },
  {
   "cell_type": "code",
   "execution_count": 33,
   "id": "17a79883-9240-4c00-872c-04990a1a63a5",
   "metadata": {},
   "outputs": [],
   "source": [
    "# Avaliando o modelo com dados de teste\n",
    "test_feature_based_embeddings = np.array([generate_feature_based_embedding(text) for text in test_texts])\n",
    "test_inputs = tokenizer(test_texts, padding=True, truncation=True, max_length=50, return_tensors=\"pt\")"
   ]
  },
  {
   "cell_type": "code",
   "execution_count": 34,
   "id": "9c9a4a31-10e0-4dec-bd26-30f73612699f",
   "metadata": {},
   "outputs": [],
   "source": [
    "with torch.no_grad():\n",
    "    test_outputs = model(**test_inputs).last_hidden_state\n",
    "test_transformer_embeddings = test_outputs.numpy()"
   ]
  },
  {
   "cell_type": "code",
   "execution_count": 35,
   "id": "be304e95-0993-4e5b-9a06-ec7b65515cc5",
   "metadata": {},
   "outputs": [
    {
     "data": {
      "text/plain": [
       "(2000, 50, 768)"
      ]
     },
     "execution_count": 35,
     "metadata": {},
     "output_type": "execute_result"
    }
   ],
   "source": [
    "test_transformer_embeddings.shape"
   ]
  },
  {
   "cell_type": "code",
   "execution_count": 36,
   "id": "f8ee8bc9-e1bd-46df-8a6b-f85225a1299b",
   "metadata": {},
   "outputs": [],
   "source": [
    "reshape_test_transformer_embeddings = test_transformer_embeddings.reshape(test_transformer_embeddings.shape[0], -1)"
   ]
  },
  {
   "cell_type": "code",
   "execution_count": 37,
   "id": "fbf81f21-7dbb-4dfb-8e74-7ed691873617",
   "metadata": {},
   "outputs": [
    {
     "data": {
      "text/plain": [
       "(2000, 38400)"
      ]
     },
     "execution_count": 37,
     "metadata": {},
     "output_type": "execute_result"
    }
   ],
   "source": [
    "reshape_test_transformer_embeddings.shape"
   ]
  },
  {
   "cell_type": "code",
   "execution_count": 38,
   "id": "a195a1da-b5b3-41a4-8dbb-a95f214f0375",
   "metadata": {},
   "outputs": [],
   "source": [
    "test_combined_embeddings = np.concatenate((test_feature_based_embeddings, reshape_test_transformer_embeddings), axis=1)"
   ]
  },
  {
   "cell_type": "code",
   "execution_count": 39,
   "id": "01d3f2a7-5d1f-4e6e-ad21-38e38cf0b032",
   "metadata": {},
   "outputs": [],
   "source": [
    "test_embeddings = torch.tensor(test_combined_embeddings, dtype=torch.float32)"
   ]
  },
  {
   "cell_type": "code",
   "execution_count": 40,
   "id": "4b24293a-5e9f-4ca4-b1ff-502213a9b51b",
   "metadata": {},
   "outputs": [
    {
     "data": {
      "text/plain": [
       "torch.Size([2000, 38700])"
      ]
     },
     "execution_count": 40,
     "metadata": {},
     "output_type": "execute_result"
    }
   ],
   "source": [
    "test_embeddings.shape"
   ]
  },
  {
   "cell_type": "code",
   "execution_count": 41,
   "id": "d3fce745-6059-4b0b-b387-7a95c7f9e52a",
   "metadata": {},
   "outputs": [],
   "source": [
    "with torch.no_grad():\n",
    "    test_predictions = mlp_model(test_embeddings)"
   ]
  },
  {
   "cell_type": "code",
   "execution_count": 42,
   "id": "2c4cb0c1-3d94-4f1b-ac98-a9fedf6834de",
   "metadata": {},
   "outputs": [],
   "source": [
    "def plot_precision_recall_curve(recall, precision, avg_precision):\n",
    "    plt.subplot(1, 2, 2)\n",
    "    plt.plot(recall, precision, color='darkorange', lw=2, label=f'PR curve (Avg Precision = {avg_precision:.2f})')\n",
    "    plt.xlabel('Recall')\n",
    "    plt.ylabel('Precision')\n",
    "    plt.title('Precision-Recall Curve')\n",
    "    plt.legend(loc='lower left')\n",
    "\n",
    "    plt.tight_layout()\n",
    "    plt.show()"
   ]
  },
  {
   "cell_type": "code",
   "execution_count": 43,
   "id": "068c36fa-c741-4435-9cd4-ce3f12bf1ec6",
   "metadata": {},
   "outputs": [],
   "source": [
    "def plot_roc_curve(fpr, tpr, roc_auc):\n",
    "    plt.figure(figsize=(10, 5))\n",
    "    plt.subplot(1, 2, 1)\n",
    "    plt.plot(fpr, tpr, color='darkorange', lw=2, label=f'ROC curve (AUC = {roc_auc:.2f})')\n",
    "    plt.plot([0, 1], [0, 1], color='navy', lw=2, linestyle='--')\n",
    "    plt.xlim([0.0, 1.0])\n",
    "    plt.ylim([0.0, 1.05])\n",
    "    plt.xlabel('False Positive Rate')\n",
    "    plt.ylabel('True Positive Rate')\n",
    "    plt.title('Receiver Operating Characteristic')\n",
    "    plt.legend(loc='lower right')"
   ]
  },
  {
   "cell_type": "code",
   "execution_count": 44,
   "id": "b39a77cf-c463-46e9-bdad-90166e1e2a4b",
   "metadata": {},
   "outputs": [],
   "source": [
    "def calculate_metrics(predictions, labels):\n",
    "    rounded_predictions = np.round(predictions.numpy())\n",
    "    precision, recall, _ = precision_recall_curve(labels, rounded_predictions)\n",
    "    avg_precision = average_precision_score(labels, rounded_predictions)\n",
    "    \n",
    "    print(\"Métricas dados de Teste\")\n",
    "    print(\"Teste Accuracy:\", accuracy_score(labels, rounded_predictions))\n",
    "    print(\"Teste Loss:\",log_loss(labels, rounded_predictions))\n",
    "    print(\"Teste F1 Score:\", f1_score(labels, rounded_predictions))\n",
    "    print(\"Teste Recall de cada classe:\", precision_score(labels, rounded_predictions))\n",
    "    print(\"Teste Precision de cada classe:\", recall_score(labels, rounded_predictions))\n",
    "    print(\"Teste Avg de cada classe:\", avg_precision)\n",
    "    print(classification_report(labels, rounded_predictions))\n",
    "    \n",
    "    plot_precision_recall_curve(precision, recall, avg_precision)\n",
    "    \n",
    "    fpr, tpr, _ = roc_curve(labels, rounded_predictions)\n",
    "    roc_auc = auc(fpr, tpr)\n",
    "    plot_roc_curve(fpr, tpr, roc_auc)"
   ]
  },
  {
   "cell_type": "code",
   "execution_count": 45,
   "id": "62ecfb1a-6f0a-4396-a143-596cfea51b39",
   "metadata": {},
   "outputs": [
    {
     "name": "stdout",
     "output_type": "stream",
     "text": [
      "Métricas dados de Teste\n",
      "Teste Accuracy: 0.9065\n",
      "Teste Loss: 1.4906131198573898\n",
      "Teste F1 Score: 0.9508024204156802\n",
      "Teste Recall de cada classe: 0.9084967320261438\n",
      "Teste Precision de cada classe: 0.9972406181015453\n",
      "Teste Avg de cada classe: 0.9084898425889856\n",
      "              precision    recall  f1-score   support\n",
      "\n",
      "           0       0.55      0.03      0.06       188\n",
      "           1       0.91      1.00      0.95      1812\n",
      "\n",
      "    accuracy                           0.91      2000\n",
      "   macro avg       0.73      0.51      0.51      2000\n",
      "weighted avg       0.87      0.91      0.87      2000\n",
      "\n"
     ]
    },
    {
     "data": {
      "image/png": "[encoded data removed]",
      "text/plain": [
       "<Figure size 640x480 with 1 Axes>"
      ]
     },
     "metadata": {},
     "output_type": "display_data"
    },
    {
     "data": {
      "image/png": "[encoded data removed]",
      "text/plain": [
       "<Figure size 1000x500 with 1 Axes>"
      ]
     },
     "metadata": {},
     "output_type": "display_data"
    }
   ],
   "source": [
    "calculate_metrics(test_predictions, test_labels)"
   ]
  }
 ],
 "metadata": {
  "kernelspec": {
   "display_name": "Python 3 (ipykernel)",
   "language": "python",
   "name": "python3"
  },
  "language_info": {
   "codemirror_mode": {
    "name": "ipython",
    "version": 3
   },
   "file_extension": ".py",
   "mimetype": "text/x-python",
   "name": "python",
   "nbconvert_exporter": "python",
   "pygments_lexer": "ipython3",
   "version": "3.10.11"
  }
 },
 "nbformat": 4,
 "nbformat_minor": 5
}
