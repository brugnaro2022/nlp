{
 "cells": [
  {
   "cell_type": "markdown",
   "id": "a60056bd-bbf0-48ff-8cf4-77d7608b0fef",
   "metadata": {},
   "source": [
    "\n",
    "<b>INSTITUTO FEDERAL DE GOIÁS<br/>\n",
    "PÓS-GRADUAÇÃO EM INTELIGÊNCIA ARTIFICIAL APLICADA<br/></b>\n",
    "Disciplina: Processamento de Linguagem Natural  <br/>\n",
    "Professor: Daniel Xavier de Sousa <br/>\n",
    "Alunos: Wagner Silva, Cleibson, Marcos Rodrigues\n",
    "\n",
    "\n",
    "---"
   ]
  },
  {
   "cell_type": "code",
   "execution_count": 45,
   "id": "aa656325-027b-4f8c-b953-d568876cf670",
   "metadata": {},
   "outputs": [],
   "source": [
    "# Bibliotecas básicas\n",
    "import pandas as pd\n",
    "import numpy as np\n",
    "\n",
    "# Bibliotecas relacionadas ao treinamento do modelo\n",
    "import torch\n",
    "import torch.nn as nn\n",
    "import torch.optim as optim\n",
    "\n",
    "from sklearn.model_selection import train_test_split\n",
    "from sklearn.metrics import accuracy_score\n",
    "from transformers import DistilBertTokenizer, DistilBertModel\n",
    "from gensim.models import KeyedVectors\n",
    "\n",
    "# Bibliotecas relacionadas a exibição de gráficos\n",
    "import matplotlib.pyplot as plt"
   ]
  },
  {
   "cell_type": "code",
   "execution_count": 2,
   "id": "27ea515a-7415-42c0-9ad4-0f66aeadf3e3",
   "metadata": {},
   "outputs": [],
   "source": [
    "# Carregando modelo de transformer pré-treinado e tokenizer (DistilBERT)\n",
    "tokenizer = DistilBertTokenizer.from_pretrained('distilbert-base-uncased')\n",
    "model = DistilBertModel.from_pretrained('distilbert-base-uncased')"
   ]
  },
  {
   "cell_type": "code",
   "execution_count": 4,
   "id": "9c95aa5f-75b5-49ee-aa3f-9d07a45d1a59",
   "metadata": {},
   "outputs": [],
   "source": [
    "# Carregando modelo pré-treinado de vetores de palavras (utilizado no feature-based encoding)\n",
    "word_vectors = KeyedVectors.load_word2vec_format('../embeddings/wiki.pt.vec', binary=False)"
   ]
  },
  {
   "cell_type": "code",
   "execution_count": 5,
   "id": "c20ab263-e76a-4d7d-9306-b73ec7a3497d",
   "metadata": {},
   "outputs": [],
   "source": [
    "# Carregando dataset\n",
    "df = pd.read_csv('../datasets/buscape_preprocessed_balanced.csv')"
   ]
  },
  {
   "cell_type": "code",
   "execution_count": 6,
   "id": "8f06dde7-0978-488d-995a-bfd6e5601681",
   "metadata": {},
   "outputs": [],
   "source": [
    "# Montando um batch de apenas 1000 instâncias\n",
    "batch_1 = df[:1000]"
   ]
  },
  {
   "cell_type": "code",
   "execution_count": 65,
   "id": "fc4dac40-c62d-4237-a39d-926b60fbebbf",
   "metadata": {},
   "outputs": [
    {
     "data": {
      "text/plain": [
       "rating\n",
       "1    906\n",
       "0     94\n",
       "Name: count, dtype: int64"
      ]
     },
     "execution_count": 65,
     "metadata": {},
     "output_type": "execute_result"
    }
   ],
   "source": [
    "# Verificando quantidades de rating\n",
    "batch_1['rating'].value_counts()"
   ]
  },
  {
   "cell_type": "code",
   "execution_count": 7,
   "id": "805f5e98-3454-4478-a74a-ffcc463d2060",
   "metadata": {},
   "outputs": [],
   "source": [
    "# Limpando lista de sentenças e definindo labels\n",
    "texts = batch_1['review_text'].tolist()\n",
    "labels = batch_1['rating'].tolist()"
   ]
  },
  {
   "cell_type": "code",
   "execution_count": 8,
   "id": "4f90bf5c-3314-4f07-b4f0-19869133e741",
   "metadata": {},
   "outputs": [],
   "source": [
    "def clear_sentences(sentences):\n",
    "    new_list_texts = []\n",
    "    for item in sentences:\n",
    "        item_fixed = item[1:-1]  \n",
    "        new_list_texts.append(item_fixed)\n",
    "    \n",
    "    return [s[1:-1] for s in new_list_texts]"
   ]
  },
  {
   "cell_type": "code",
   "execution_count": 9,
   "id": "83868b38-e906-42e0-b4f9-703b16e5f886",
   "metadata": {},
   "outputs": [],
   "source": [
    "texts = clear_sentences(texts)"
   ]
  },
  {
   "cell_type": "code",
   "execution_count": 10,
   "id": "46220580-fc0d-4ea2-bc4b-6942ac35241a",
   "metadata": {},
   "outputs": [
    {
     "name": "stdout",
     "output_type": "stream",
     "text": [
      "1000\n",
      "1000\n"
     ]
    }
   ],
   "source": [
    "print(len(texts))\n",
    "print(len(labels))"
   ]
  },
  {
   "cell_type": "code",
   "execution_count": 11,
   "id": "3332163d-ece6-4829-bd17-19b9d999f40b",
   "metadata": {},
   "outputs": [],
   "source": [
    "# Dividindo dataset\n",
    "train_texts, test_texts, train_labels, test_labels = train_test_split(texts, labels, test_size=0.2, random_state=42)"
   ]
  },
  {
   "cell_type": "code",
   "execution_count": 12,
   "id": "a5b39b5e-10b8-4081-8d4f-84eef41bcc7d",
   "metadata": {},
   "outputs": [
    {
     "name": "stdout",
     "output_type": "stream",
     "text": [
      "textos para treino: 800\n",
      "textos para teste: 200\n",
      "labels para treino: 800\n",
      "labels para teste: 200\n"
     ]
    }
   ],
   "source": [
    "# Conferindo quantidades\n",
    "print(f'textos para treino: {len(train_texts)}')\n",
    "print(f'textos para teste: {len(test_texts)}')\n",
    "print(f'labels para treino: {len(train_labels)}')\n",
    "print(f'labels para teste: {len(test_labels)}')"
   ]
  },
  {
   "cell_type": "code",
   "execution_count": 13,
   "id": "5593c86f-10a3-4b6b-8885-89acaec6e199",
   "metadata": {},
   "outputs": [],
   "source": [
    "# Função que gera incorporações baseadas em recursos usando vetores de palavras pré-treinados\n",
    "def generate_feature_based_embedding(text):\n",
    "    words = text.split()\n",
    "    embeddings = [word_vectors[word] for word in words if word in word_vectors]\n",
    "    return np.mean(embeddings, axis=0) if embeddings else np.zeros(300)"
   ]
  },
  {
   "cell_type": "code",
   "execution_count": 14,
   "id": "0a0bd226-5606-4f70-899b-96e1d59c5bab",
   "metadata": {},
   "outputs": [],
   "source": [
    "# Gerando feature-based embeddings para treino\n",
    "train_feature_based_embeddings = np.array([generate_feature_based_embedding(text) for text in train_texts])"
   ]
  },
  {
   "cell_type": "code",
   "execution_count": 15,
   "id": "039903dc-36de-44c7-9d94-7bbce06466cd",
   "metadata": {},
   "outputs": [],
   "source": [
    "# Gerando feature-based embeddings para teste\n",
    "test_feature_based_embeddings = np.array([generate_feature_based_embedding(text) for text in test_texts])"
   ]
  },
  {
   "cell_type": "code",
   "execution_count": 16,
   "id": "66b95f94-fb59-4518-9023-4e624915e6d6",
   "metadata": {},
   "outputs": [],
   "source": [
    "# Tokenizando\n",
    "train_inputs = tokenizer(train_texts, padding=True, truncation=True, max_length=50, return_tensors=\"pt\")"
   ]
  },
  {
   "cell_type": "code",
   "execution_count": 17,
   "id": "4dfb441b-74a2-437e-993c-029583a51509",
   "metadata": {},
   "outputs": [
    {
     "data": {
      "text/plain": [
       "tensor([[  101,  8118,  2368,  3653,  9153, 14262,  7903,  2891,  2139,  7367,\n",
       "         27390,  2319,  3540, 21722, 29461,  5740, 23689,  6590,  2099,  1041,\n",
       "          2041,  8180,  4569, 16288,  2015, 11498,  8529,  2050,  2918, 23689,\n",
       "          6590,  2099,  2139,  7367, 27390,  2319,  3540, 26927,  3567,  2850,\n",
       "         29031,  2361, 16371,  2213,  6643,  2483,  7861,  4078,  2368,   102],\n",
       "        [  101, 10882,  4226,  2072,  2938,  2483, 21156, 14643, 16339, 27885,\n",
       "          3089,  3654,  3527,  1051, 10861,  2175, 13473,  2072, 14163,  9956,\n",
       "          8945,  2213,  3690, 10861,  7327,  8391, 15781,  9686,  4842, 12462,\n",
       "          1051, 10861,  6583,  2080,  2175, 13473,  2072, 11265, 25311, 12248,\n",
       "           102,     0,     0,     0,     0,     0,     0,     0,     0,     0],\n",
       "        [  101, 14163,  9956, 21183,  4014,  1051, 10861,  2175, 13473,  2072,\n",
       "         24898,  1051, 10861,  6583,  2080,  2175, 13473,  2072, 21877,  3736,\n",
       "          3527,   102,     0,     0,     0,     0,     0,     0,     0,     0,\n",
       "             0,     0,     0,     0,     0,     0,     0,     0,     0,     0,\n",
       "             0,     0,     0,     0,     0,     0,     0,     0,     0,     0]])"
      ]
     },
     "execution_count": 17,
     "metadata": {},
     "output_type": "execute_result"
    }
   ],
   "source": [
    "# CLS: 101\n",
    "# SEP: 102\n",
    "train_inputs.input_ids[0:3]"
   ]
  },
  {
   "cell_type": "code",
   "execution_count": 18,
   "id": "8564197a-7a12-46ca-95fa-5ffa4454d5fa",
   "metadata": {},
   "outputs": [],
   "source": [
    "# Gerando transformer-based embeddings\n",
    "with torch.no_grad():\n",
    "    train_outputs = model(**train_inputs).last_hidden_state\n",
    "transformer_embeddings = train_outputs.numpy()"
   ]
  },
  {
   "cell_type": "code",
   "execution_count": 19,
   "id": "41d070ae-5fd5-4dca-a88f-cbde3fdcb678",
   "metadata": {},
   "outputs": [
    {
     "data": {
      "text/plain": [
       "(800, 50, 768)"
      ]
     },
     "execution_count": 19,
     "metadata": {},
     "output_type": "execute_result"
    }
   ],
   "source": [
    "# Foi gerado uma matriz de 3 dimensão, optei pelo reshape desta matriz de transformers embeddings\n",
    "transformer_embeddings.shape"
   ]
  },
  {
   "cell_type": "code",
   "execution_count": 20,
   "id": "a95acbee-6069-41b9-a0c4-f98101bf5a14",
   "metadata": {},
   "outputs": [],
   "source": [
    "# Reshape da matriz \n",
    "reshaped_transformer_embeddings = transformer_embeddings.reshape(transformer_embeddings.shape[0], -1)"
   ]
  },
  {
   "cell_type": "code",
   "execution_count": 21,
   "id": "7b271fdc-00d7-4457-a22e-7057012d7b22",
   "metadata": {},
   "outputs": [
    {
     "data": {
      "text/plain": [
       "(800, 38400)"
      ]
     },
     "execution_count": 21,
     "metadata": {},
     "output_type": "execute_result"
    }
   ],
   "source": [
    "reshaped_transformer_embeddings.shape"
   ]
  },
  {
   "cell_type": "code",
   "execution_count": 22,
   "id": "4a1c137f-61d6-4f35-855d-f4c938ad4a2d",
   "metadata": {},
   "outputs": [],
   "source": [
    "# Concatenando train_feature_based_embeddings e reshaped_transformer_embeddings\n",
    "combined_embeddings = np.concatenate((train_feature_based_embeddings, reshaped_transformer_embeddings), axis=1)"
   ]
  },
  {
   "cell_type": "code",
   "execution_count": 23,
   "id": "abac4473-4471-4797-a05a-aa45ea6517bc",
   "metadata": {},
   "outputs": [
    {
     "data": {
      "text/plain": [
       "(800, 38700)"
      ]
     },
     "execution_count": 23,
     "metadata": {},
     "output_type": "execute_result"
    }
   ],
   "source": [
    "combined_embeddings.shape"
   ]
  },
  {
   "cell_type": "code",
   "execution_count": 25,
   "id": "f427702c-4b78-4f90-811c-f4dbe0f57b88",
   "metadata": {},
   "outputs": [],
   "source": [
    "# Definindo treino utilizando MLP com PyTorch\n",
    "class MLP(nn.Module):\n",
    "    def __init__(self, input_dim, hidden_dim1, hidden_dim2):\n",
    "        super(MLP, self).__init__()\n",
    "        self.fc1 = nn.Linear(input_dim, hidden_dim1)\n",
    "        self.dropout1 = nn.Dropout(p=0.05)\n",
    "        self.fc2 = nn.Linear(hidden_dim1, hidden_dim2)\n",
    "        self.fc3 = nn.Linear(hidden_dim2, 1)\n",
    "        self.sigmoid = nn.Sigmoid()\n",
    "    \n",
    "    def forward(self, x):\n",
    "        x = torch.relu(self.fc1(x))\n",
    "        x = self.dropout1(x)\n",
    "        x = torch.relu(self.fc2(x))\n",
    "        x = self.fc3(x)\n",
    "        return self.sigmoid(x)"
   ]
  },
  {
   "cell_type": "code",
   "execution_count": 26,
   "id": "ccd69493-b57e-4812-b213-5400bb56990a",
   "metadata": {},
   "outputs": [],
   "source": [
    "input_dim = 300 + reshaped_transformer_embeddings.shape[1]  # Dimensões combinadas\n",
    "hidden_dim1 = 128\n",
    "hidden_dim2 = 64\n",
    "mlp_model = MLP(input_dim, hidden_dim1, hidden_dim2)"
   ]
  },
  {
   "cell_type": "code",
   "execution_count": 27,
   "id": "b6254167-6f7e-4953-9a4a-549618edde19",
   "metadata": {},
   "outputs": [],
   "source": [
    "# Convertendo dados para PyTorch tensors\n",
    "train_embeddings = torch.tensor(combined_embeddings, dtype=torch.float32)\n",
    "train_labels = torch.tensor(train_labels, dtype=torch.float32)"
   ]
  },
  {
   "cell_type": "code",
   "execution_count": 28,
   "id": "65abcb0d-9177-45f3-af97-6796a840e9e7",
   "metadata": {},
   "outputs": [],
   "source": [
    "# Definindo função loss e optmizer\n",
    "criterion = nn.BCELoss()\n",
    "optimizer = optim.Adam(mlp_model.parameters(), lr=5e-4)"
   ]
  },
  {
   "cell_type": "code",
   "execution_count": 29,
   "id": "1a30fd10-64e6-4ed6-a752-8c0a0d2d1cca",
   "metadata": {},
   "outputs": [
    {
     "name": "stdout",
     "output_type": "stream",
     "text": [
      "Epoch [1/30], Loss: 0.6615, Accuracy: 0.9075\n",
      "Epoch [2/30], Loss: 0.3691, Accuracy: 0.9075\n",
      "Epoch [3/30], Loss: 0.3490, Accuracy: 0.9075\n",
      "Epoch [4/30], Loss: 0.3059, Accuracy: 0.9075\n",
      "Epoch [5/30], Loss: 0.3149, Accuracy: 0.9075\n",
      "Epoch [6/30], Loss: 0.2832, Accuracy: 0.9075\n",
      "Epoch [7/30], Loss: 0.2698, Accuracy: 0.9075\n",
      "Epoch [8/30], Loss: 0.2792, Accuracy: 0.9075\n",
      "Epoch [9/30], Loss: 0.2613, Accuracy: 0.9075\n",
      "Epoch [10/30], Loss: 0.2476, Accuracy: 0.9075\n",
      "Epoch [11/30], Loss: 0.2522, Accuracy: 0.9075\n",
      "Epoch [12/30], Loss: 0.2307, Accuracy: 0.9075\n",
      "Epoch [13/30], Loss: 0.2211, Accuracy: 0.9075\n",
      "Epoch [14/30], Loss: 0.2176, Accuracy: 0.9075\n",
      "Epoch [15/30], Loss: 0.2092, Accuracy: 0.9075\n",
      "Epoch [16/30], Loss: 0.2022, Accuracy: 0.9055\n",
      "Epoch [17/30], Loss: 0.1940, Accuracy: 0.9024\n",
      "Epoch [18/30], Loss: 0.1887, Accuracy: 0.8963\n",
      "Epoch [19/30], Loss: 0.1707, Accuracy: 0.8973\n",
      "Epoch [20/30], Loss: 0.1692, Accuracy: 0.9055\n",
      "Epoch [21/30], Loss: 0.1663, Accuracy: 0.9024\n",
      "Epoch [22/30], Loss: 0.1513, Accuracy: 0.8902\n",
      "Epoch [23/30], Loss: 0.1489, Accuracy: 0.8739\n",
      "Epoch [24/30], Loss: 0.1335, Accuracy: 0.8729\n",
      "Epoch [25/30], Loss: 0.1258, Accuracy: 0.8759\n",
      "Epoch [26/30], Loss: 0.1209, Accuracy: 0.8800\n",
      "Epoch [27/30], Loss: 0.1131, Accuracy: 0.8647\n",
      "Epoch [28/30], Loss: 0.1052, Accuracy: 0.8566\n",
      "Epoch [29/30], Loss: 0.0967, Accuracy: 0.8494\n",
      "Epoch [30/30], Loss: 0.0902, Accuracy: 0.8515\n"
     ]
    }
   ],
   "source": [
    "# Lista para armazenar métricas\n",
    "losses = []\n",
    "accuracies = []\n",
    "\n",
    "# Treinando o modelo\n",
    "num_epochs = 30\n",
    "for epoch in range(num_epochs):\n",
    "    optimizer.zero_grad()\n",
    "    outputs = mlp_model(train_embeddings)\n",
    "    loss = criterion(outputs, train_labels.view(-1, 1))\n",
    "    loss.backward()\n",
    "    optimizer.step()\n",
    "    \n",
    "    predicted_labels = (outputs >= 0.5).float()\n",
    "    accuracy = (predicted_labels == train_labels).float().mean()\n",
    "    \n",
    "    losses.append(loss.item())\n",
    "    accuracies.append(accuracy.item())\n",
    "    \n",
    "    print(f'Epoch [{epoch+1}/{num_epochs}], Loss: {loss.item():.4f}, Accuracy: {accuracy.item():.4f}')"
   ]
  },
  {
   "cell_type": "code",
   "execution_count": 30,
   "id": "80f39a65-268e-4677-a81a-f9d6ba2eb470",
   "metadata": {},
   "outputs": [
    {
     "data": {
      "image/png": "[encoded data removed]",
      "text/plain": [
       "<Figure size 640x480 with 1 Axes>"
      ]
     },
     "metadata": {},
     "output_type": "display_data"
    }
   ],
   "source": [
    "# Plotando gráfico de perda\n",
    "plt.plot(losses, label='Loss')\n",
    "plt.xlabel('Epoch')\n",
    "plt.ylabel('Loss')\n",
    "plt.title('Training Loss')\n",
    "plt.legend()\n",
    "plt.show()"
   ]
  },
  {
   "cell_type": "code",
   "execution_count": 31,
   "id": "1aab61bb-9772-4222-8dd0-7bffdf5dfbe9",
   "metadata": {},
   "outputs": [
    {
     "data": {
      "image/png": "[encoded data removed]",
      "text/plain": [
       "<Figure size 640x480 with 1 Axes>"
      ]
     },
     "metadata": {},
     "output_type": "display_data"
    }
   ],
   "source": [
    "# Plotando gráfico de acurácia\n",
    "plt.plot(accuracies, label='Accuracy')\n",
    "plt.xlabel('Epoch')\n",
    "plt.ylabel('Accuracy')\n",
    "plt.title('Training Accuracy')\n",
    "plt.legend()\n",
    "plt.show()"
   ]
  },
  {
   "cell_type": "code",
   "execution_count": 32,
   "id": "17a79883-9240-4c00-872c-04990a1a63a5",
   "metadata": {},
   "outputs": [],
   "source": [
    "# Avaliando o modelo com dados de teste\n",
    "test_feature_based_embeddings = np.array([generate_feature_based_embedding(text) for text in test_texts])\n",
    "test_inputs = tokenizer(test_texts, padding=True, truncation=True, max_length=50, return_tensors=\"pt\")"
   ]
  },
  {
   "cell_type": "code",
   "execution_count": 33,
   "id": "9c9a4a31-10e0-4dec-bd26-30f73612699f",
   "metadata": {},
   "outputs": [],
   "source": [
    "with torch.no_grad():\n",
    "    test_outputs = model(**test_inputs).last_hidden_state\n",
    "test_transformer_embeddings = test_outputs.numpy()"
   ]
  },
  {
   "cell_type": "code",
   "execution_count": 34,
   "id": "be304e95-0993-4e5b-9a06-ec7b65515cc5",
   "metadata": {},
   "outputs": [
    {
     "data": {
      "text/plain": [
       "(200, 50, 768)"
      ]
     },
     "execution_count": 34,
     "metadata": {},
     "output_type": "execute_result"
    }
   ],
   "source": [
    "test_transformer_embeddings.shape"
   ]
  },
  {
   "cell_type": "code",
   "execution_count": 35,
   "id": "f8ee8bc9-e1bd-46df-8a6b-f85225a1299b",
   "metadata": {},
   "outputs": [],
   "source": [
    "reshape_test_transformer_embeddings = test_transformer_embeddings.reshape(test_transformer_embeddings.shape[0], -1)"
   ]
  },
  {
   "cell_type": "code",
   "execution_count": 36,
   "id": "fbf81f21-7dbb-4dfb-8e74-7ed691873617",
   "metadata": {},
   "outputs": [
    {
     "data": {
      "text/plain": [
       "(200, 38400)"
      ]
     },
     "execution_count": 36,
     "metadata": {},
     "output_type": "execute_result"
    }
   ],
   "source": [
    "reshape_test_transformer_embeddings.shape"
   ]
  },
  {
   "cell_type": "code",
   "execution_count": 37,
   "id": "a195a1da-b5b3-41a4-8dbb-a95f214f0375",
   "metadata": {},
   "outputs": [],
   "source": [
    "test_combined_embeddings = np.concatenate((test_feature_based_embeddings, reshape_test_transformer_embeddings), axis=1)"
   ]
  },
  {
   "cell_type": "code",
   "execution_count": 38,
   "id": "01d3f2a7-5d1f-4e6e-ad21-38e38cf0b032",
   "metadata": {},
   "outputs": [],
   "source": [
    "test_embeddings = torch.tensor(test_combined_embeddings, dtype=torch.float32)"
   ]
  },
  {
   "cell_type": "code",
   "execution_count": 39,
   "id": "4b24293a-5e9f-4ca4-b1ff-502213a9b51b",
   "metadata": {},
   "outputs": [
    {
     "data": {
      "text/plain": [
       "torch.Size([200, 38700])"
      ]
     },
     "execution_count": 39,
     "metadata": {},
     "output_type": "execute_result"
    }
   ],
   "source": [
    "test_embeddings.shape"
   ]
  },
  {
   "cell_type": "code",
   "execution_count": 40,
   "id": "d3fce745-6059-4b0b-b387-7a95c7f9e52a",
   "metadata": {},
   "outputs": [],
   "source": [
    "with torch.no_grad():\n",
    "    test_predictions = mlp_model(test_embeddings)"
   ]
  },
  {
   "cell_type": "code",
   "execution_count": 46,
   "id": "62ecfb1a-6f0a-4396-a143-596cfea51b39",
   "metadata": {},
   "outputs": [
    {
     "name": "stdout",
     "output_type": "stream",
     "text": [
      "Test Accuracy: 0.89\n"
     ]
    }
   ],
   "source": [
    "# Converte probabilidades para predições binárias\n",
    "rounded_predictions = np.round(test_predictions.numpy()) \n",
    "accuracy = accuracy_score(test_labels, rounded_predictions)\n",
    "print(\"Test Accuracy:\", accuracy)"
   ]
  },
  {
   "cell_type": "code",
   "execution_count": null,
   "id": "5e509957-ad75-4757-bb3e-2f7d02994060",
   "metadata": {},
   "outputs": [],
   "source": []
  }
 ],
 "metadata": {
  "kernelspec": {
   "display_name": "Python 3 (ipykernel)",
   "language": "python",
   "name": "python3"
  },
  "language_info": {
   "codemirror_mode": {
    "name": "ipython",
    "version": 3
   },
   "file_extension": ".py",
   "mimetype": "text/x-python",
   "name": "python",
   "nbconvert_exporter": "python",
   "pygments_lexer": "ipython3",
   "version": "3.10.11"
  }
 },
 "nbformat": 4,
 "nbformat_minor": 5
}
