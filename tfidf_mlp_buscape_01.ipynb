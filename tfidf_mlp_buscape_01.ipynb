{
 "cells": [
  {
   "cell_type": "markdown",
   "id": "a9b44287-0d33-4a70-bf7c-7233736a2caa",
   "metadata": {},
   "source": [
    "\n",
    "<b>INSTITUTO FEDERAL DE GOIÁS<br/>\n",
    "PÓS-GRADUAÇÃO EM INTELIGÊNCIA ARTIFICIAL APLICADA<br/></b>\n",
    "Disciplina: Processamento de Linguagem Natural  <br/>\n",
    "Professor: Daniel Xavier de Sousa <br/>\n",
    "Alunos: Wagner Silva, Cleibson, Marcos Rodrigues\n",
    "\n",
    "\n",
    "---"
   ]
  },
  {
   "cell_type": "markdown",
   "id": "7f2c2b53-6ada-4cf2-8fee-9d000ec26123",
   "metadata": {},
   "source": [
    "#### Importação de bibliotecas"
   ]
  },
  {
   "cell_type": "code",
   "execution_count": 2,
   "id": "98574c79-76f9-42e6-8cf5-02045f2cf9b8",
   "metadata": {},
   "outputs": [],
   "source": [
    "# Bibliotecas básicas\n",
    "import pandas as pd\n",
    "import numpy as np\n",
    "import re\n",
    "\n",
    "# Bibliotecas para preparação dos dados\n",
    "from tensorflow.keras.preprocessing.text import Tokenizer\n",
    "from tensorflow.keras.preprocessing.sequence import pad_sequences\n",
    "from unidecode import unidecode\n",
    "\n",
    "# Bibliotecas para exibição de gráficos\n",
    "import matplotlib.pyplot as plt\n",
    "from sklearn.metrics import confusion_matrix, classification_report, accuracy_score\n",
    "import seaborn as sbn\n",
    "\n",
    "# Bibliotecas relacionadas à arquitetura da rede neural\n",
    "import tensorflow as tf\n",
    "from tensorflow import keras\n",
    "from keras.models import Sequential\n",
    "from tensorflow.keras.layers import Embedding, GlobalAveragePooling1D, Dense, Dropout"
   ]
  },
  {
   "cell_type": "markdown",
   "id": "8abe1159-efdc-40b8-89e9-912c3e26c742",
   "metadata": {},
   "source": [
    "#### Importação do dataset buscape"
   ]
  },
  {
   "cell_type": "code",
   "execution_count": 3,
   "id": "dbb122c8-ce19-4b29-97ab-45947919ffc1",
   "metadata": {},
   "outputs": [],
   "source": [
    "df = pd.read_csv('../datasets/projeto-nlp/buscape.csv')"
   ]
  },
  {
   "cell_type": "code",
   "execution_count": 4,
   "id": "b0899eee-3f12-4b97-b4e6-6c22f5dfef13",
   "metadata": {},
   "outputs": [],
   "source": [
    "df = df[['review_text','rating']]"
   ]
  },
  {
   "cell_type": "code",
   "execution_count": 5,
   "id": "49f7e935-c381-406b-868f-f3150c411c71",
   "metadata": {},
   "outputs": [
    {
     "data": {
      "text/html": [
       "<div>\n",
       "<style scoped>\n",
       "    .dataframe tbody tr th:only-of-type {\n",
       "        vertical-align: middle;\n",
       "    }\n",
       "\n",
       "    .dataframe tbody tr th {\n",
       "        vertical-align: top;\n",
       "    }\n",
       "\n",
       "    .dataframe thead th {\n",
       "        text-align: right;\n",
       "    }\n",
       "</style>\n",
       "<table border=\"1\" class=\"dataframe\">\n",
       "  <thead>\n",
       "    <tr style=\"text-align: right;\">\n",
       "      <th></th>\n",
       "      <th>review_text</th>\n",
       "      <th>rating</th>\n",
       "    </tr>\n",
       "  </thead>\n",
       "  <tbody>\n",
       "    <tr>\n",
       "      <th>0</th>\n",
       "      <td>Estou muito satisfeito, o visor é melhor do qu...</td>\n",
       "      <td>4</td>\n",
       "    </tr>\n",
       "    <tr>\n",
       "      <th>1</th>\n",
       "      <td>\"muito boa\\n\\nO que gostei: preco\\n\\nO que não...</td>\n",
       "      <td>5</td>\n",
       "    </tr>\n",
       "    <tr>\n",
       "      <th>2</th>\n",
       "      <td>Rápida, ótima qualidade de impressão e fácil d...</td>\n",
       "      <td>5</td>\n",
       "    </tr>\n",
       "  </tbody>\n",
       "</table>\n",
       "</div>"
      ],
      "text/plain": [
       "                                         review_text  rating\n",
       "0  Estou muito satisfeito, o visor é melhor do qu...       4\n",
       "1  \"muito boa\\n\\nO que gostei: preco\\n\\nO que não...       5\n",
       "2  Rápida, ótima qualidade de impressão e fácil d...       5"
      ]
     },
     "execution_count": 5,
     "metadata": {},
     "output_type": "execute_result"
    }
   ],
   "source": [
    "df.head(3)"
   ]
  },
  {
   "cell_type": "code",
   "execution_count": 6,
   "id": "8288ffe8-a08a-4b77-89a4-0f6da88925d1",
   "metadata": {},
   "outputs": [
    {
     "data": {
      "text/plain": [
       "(84991, 2)"
      ]
     },
     "execution_count": 6,
     "metadata": {},
     "output_type": "execute_result"
    }
   ],
   "source": [
    "df.shape"
   ]
  },
  {
   "cell_type": "markdown",
   "id": "2ffa5bd9-5d77-445d-834b-c40ba73f6ad0",
   "metadata": {},
   "source": [
    "#### Tarefa: Classificação de ratings das avaliações de clientes:\n",
    "- 4 e 5: Positiva\n",
    "- 1 e 2: Negativa\n",
    "- 3: Descartadas\n"
   ]
  },
  {
   "cell_type": "markdown",
   "id": "9e172027-75a6-4ea2-a956-7906f2c90d96",
   "metadata": {},
   "source": [
    "#### Pré-processamento"
   ]
  },
  {
   "cell_type": "markdown",
   "id": "b68a63c3-2513-4263-be70-f58aa5cd5a37",
   "metadata": {},
   "source": [
    "#### Verificando registros nulos"
   ]
  },
  {
   "cell_type": "code",
   "execution_count": 7,
   "id": "91d58bd3-6eda-466a-92ef-fbbbb8487c3c",
   "metadata": {},
   "outputs": [
    {
     "data": {
      "text/plain": [
       "review_text     True\n",
       "rating         False\n",
       "dtype: bool"
      ]
     },
     "execution_count": 7,
     "metadata": {},
     "output_type": "execute_result"
    }
   ],
   "source": [
    "df.isnull().any()"
   ]
  },
  {
   "cell_type": "code",
   "execution_count": 8,
   "id": "adb93c91-e4e1-450b-b0fb-90b61ef5639f",
   "metadata": {},
   "outputs": [
    {
     "data": {
      "text/plain": [
       "1"
      ]
     },
     "execution_count": 8,
     "metadata": {},
     "output_type": "execute_result"
    }
   ],
   "source": [
    "df['review_text'].isnull().sum()"
   ]
  },
  {
   "cell_type": "code",
   "execution_count": 9,
   "id": "6b11089b-55cc-4b88-b59a-6805b208ced8",
   "metadata": {},
   "outputs": [
    {
     "data": {
      "text/html": [
       "<div>\n",
       "<style scoped>\n",
       "    .dataframe tbody tr th:only-of-type {\n",
       "        vertical-align: middle;\n",
       "    }\n",
       "\n",
       "    .dataframe tbody tr th {\n",
       "        vertical-align: top;\n",
       "    }\n",
       "\n",
       "    .dataframe thead th {\n",
       "        text-align: right;\n",
       "    }\n",
       "</style>\n",
       "<table border=\"1\" class=\"dataframe\">\n",
       "  <thead>\n",
       "    <tr style=\"text-align: right;\">\n",
       "      <th></th>\n",
       "      <th>review_text</th>\n",
       "      <th>rating</th>\n",
       "    </tr>\n",
       "  </thead>\n",
       "  <tbody>\n",
       "    <tr>\n",
       "      <th>38852</th>\n",
       "      <td>NaN</td>\n",
       "      <td>4</td>\n",
       "    </tr>\n",
       "  </tbody>\n",
       "</table>\n",
       "</div>"
      ],
      "text/plain": [
       "      review_text  rating\n",
       "38852         NaN       4"
      ]
     },
     "execution_count": 9,
     "metadata": {},
     "output_type": "execute_result"
    }
   ],
   "source": [
    "df[df['review_text'].isnull()]"
   ]
  },
  {
   "cell_type": "markdown",
   "id": "c629ef39-112c-4eea-99ea-d85060ee85fc",
   "metadata": {},
   "source": [
    "#### Removendo registros nulos"
   ]
  },
  {
   "cell_type": "code",
   "execution_count": 10,
   "id": "3f5a6650-de34-4e0a-b5e7-c401ebb335c3",
   "metadata": {},
   "outputs": [],
   "source": [
    "df = df.dropna()"
   ]
  },
  {
   "cell_type": "code",
   "execution_count": 11,
   "id": "c0c3b09b-de9b-4628-a8d5-2631cb718405",
   "metadata": {},
   "outputs": [
    {
     "data": {
      "text/plain": [
       "review_text    False\n",
       "rating         False\n",
       "dtype: bool"
      ]
     },
     "execution_count": 11,
     "metadata": {},
     "output_type": "execute_result"
    }
   ],
   "source": [
    "df.isnull().any()"
   ]
  },
  {
   "cell_type": "code",
   "execution_count": 12,
   "id": "677190fb-d1e8-438c-afa8-f356e2201d14",
   "metadata": {},
   "outputs": [
    {
     "data": {
      "text/plain": [
       "(84990, 2)"
      ]
     },
     "execution_count": 12,
     "metadata": {},
     "output_type": "execute_result"
    }
   ],
   "source": [
    "df.shape"
   ]
  },
  {
   "cell_type": "markdown",
   "id": "c6a385c0-bda8-4118-af9a-db8269775dc3",
   "metadata": {},
   "source": [
    "#### Padronizando texto em lowercase"
   ]
  },
  {
   "cell_type": "code",
   "execution_count": 13,
   "id": "ef44dfb7-e089-4e58-ab54-ef8c53d65554",
   "metadata": {},
   "outputs": [],
   "source": [
    "def to_lowercase(text):\n",
    "    text = text.apply(lambda x: \" \".join(x.lower().split()) if isinstance(x, str) else \"\")\n",
    "    return text"
   ]
  },
  {
   "cell_type": "code",
   "execution_count": 14,
   "id": "2c6ad848-9563-41b3-8008-e7266f2969a0",
   "metadata": {},
   "outputs": [],
   "source": [
    "df[\"review_text\"] = to_lowercase(df[\"review_text\"])"
   ]
  },
  {
   "cell_type": "code",
   "execution_count": 15,
   "id": "5668ae0f-6d28-4227-ab7f-efa75ea5bb07",
   "metadata": {},
   "outputs": [
    {
     "data": {
      "text/html": [
       "<div>\n",
       "<style scoped>\n",
       "    .dataframe tbody tr th:only-of-type {\n",
       "        vertical-align: middle;\n",
       "    }\n",
       "\n",
       "    .dataframe tbody tr th {\n",
       "        vertical-align: top;\n",
       "    }\n",
       "\n",
       "    .dataframe thead th {\n",
       "        text-align: right;\n",
       "    }\n",
       "</style>\n",
       "<table border=\"1\" class=\"dataframe\">\n",
       "  <thead>\n",
       "    <tr style=\"text-align: right;\">\n",
       "      <th></th>\n",
       "      <th>review_text</th>\n",
       "      <th>rating</th>\n",
       "    </tr>\n",
       "  </thead>\n",
       "  <tbody>\n",
       "    <tr>\n",
       "      <th>0</th>\n",
       "      <td>estou muito satisfeito, o visor é melhor do qu...</td>\n",
       "      <td>4</td>\n",
       "    </tr>\n",
       "    <tr>\n",
       "      <th>1</th>\n",
       "      <td>\"muito boa o que gostei: preco o que não goste...</td>\n",
       "      <td>5</td>\n",
       "    </tr>\n",
       "    <tr>\n",
       "      <th>2</th>\n",
       "      <td>rápida, ótima qualidade de impressão e fácil d...</td>\n",
       "      <td>5</td>\n",
       "    </tr>\n",
       "  </tbody>\n",
       "</table>\n",
       "</div>"
      ],
      "text/plain": [
       "                                         review_text  rating\n",
       "0  estou muito satisfeito, o visor é melhor do qu...       4\n",
       "1  \"muito boa o que gostei: preco o que não goste...       5\n",
       "2  rápida, ótima qualidade de impressão e fácil d...       5"
      ]
     },
     "execution_count": 15,
     "metadata": {},
     "output_type": "execute_result"
    }
   ],
   "source": [
    "df.head(3)"
   ]
  },
  {
   "cell_type": "markdown",
   "id": "fe289870-65ea-4560-b83c-6ff2619d86ef",
   "metadata": {},
   "source": [
    "#### Removendo caracteres especiais e substituindo cedilhas por c"
   ]
  },
  {
   "cell_type": "code",
   "execution_count": 16,
   "id": "7e8c865c-e360-476e-8590-6dd962f5ee12",
   "metadata": {},
   "outputs": [
    {
     "data": {
      "text/plain": [
       "'fragrância leve e fixação duradoura.. adoroooo esse perfume'"
      ]
     },
     "execution_count": 16,
     "metadata": {},
     "output_type": "execute_result"
    }
   ],
   "source": [
    "df['review_text'][14]"
   ]
  },
  {
   "cell_type": "code",
   "execution_count": 17,
   "id": "81bf858d-fa6e-4fd6-ae5d-978a397a51c7",
   "metadata": {},
   "outputs": [],
   "source": [
    "def preprocess_text(text):\n",
    "    # removendo caracteres especiais\n",
    "    text = re.sub(r'[^\\w\\s]', '', text)\n",
    "    # unidecode translitera caracteres acentuados e especiais para formas sem acento ou caracteres equivalentes\n",
    "    text = unidecode(text)\n",
    "    return text"
   ]
  },
  {
   "cell_type": "code",
   "execution_count": 18,
   "id": "9391be9a-7b6b-4b7f-a731-bd277858bc0e",
   "metadata": {},
   "outputs": [],
   "source": [
    "df['review_text'] = [preprocess_text(doc) for doc in df['review_text']]"
   ]
  },
  {
   "cell_type": "code",
   "execution_count": 19,
   "id": "1b99124d-c709-493c-aa41-eb40be566a67",
   "metadata": {},
   "outputs": [
    {
     "data": {
      "text/plain": [
       "'fragrancia leve e fixacao duradoura adoroooo esse perfume'"
      ]
     },
     "execution_count": 19,
     "metadata": {},
     "output_type": "execute_result"
    }
   ],
   "source": [
    "df['review_text'][14]"
   ]
  },
  {
   "cell_type": "markdown",
   "id": "8a37b5d4-42f2-4d61-998a-15e6acc343dd",
   "metadata": {},
   "source": [
    "#### Removendo hiperlinks"
   ]
  },
  {
   "cell_type": "code",
   "execution_count": 20,
   "id": "40b08c2f-8771-4076-9d1a-31cedc21cbec",
   "metadata": {},
   "outputs": [],
   "source": [
    "def remove_hiperlink(text):\n",
    "    text = re.sub(r\"(https?://[^\\s]+|www\\.[^\\s]+)\", '', text)\n",
    "    return text"
   ]
  },
  {
   "cell_type": "code",
   "execution_count": 21,
   "id": "1078930c-d288-41d6-a55c-cf68d1e075e8",
   "metadata": {},
   "outputs": [],
   "source": [
    "df['review_text'] = [remove_hiperlink(doc) for doc in df['review_text']]"
   ]
  },
  {
   "cell_type": "markdown",
   "id": "8b434461-81c8-4b06-a88e-f059e6b3b559",
   "metadata": {},
   "source": [
    "#### Descartando instâncias com avaliação igual a 3"
   ]
  },
  {
   "cell_type": "code",
   "execution_count": 22,
   "id": "37798bf8-a548-4ebe-a954-6ff50b49d67e",
   "metadata": {},
   "outputs": [
    {
     "data": {
      "text/plain": [
       "11364"
      ]
     },
     "execution_count": 22,
     "metadata": {},
     "output_type": "execute_result"
    }
   ],
   "source": [
    "rating_3 = df['rating'] == 3\n",
    "rating_3.sum()"
   ]
  },
  {
   "cell_type": "code",
   "execution_count": 23,
   "id": "9f89c75e-02ca-4a73-87ab-b1729659ad1d",
   "metadata": {},
   "outputs": [],
   "source": [
    "df = df[df['rating'] != 3]"
   ]
  },
  {
   "cell_type": "code",
   "execution_count": 24,
   "id": "d94de7da-1364-47e2-a6b8-5a671777e427",
   "metadata": {},
   "outputs": [
    {
     "data": {
      "text/plain": [
       "(73626, 2)"
      ]
     },
     "execution_count": 24,
     "metadata": {},
     "output_type": "execute_result"
    }
   ],
   "source": [
    "df.shape"
   ]
  },
  {
   "cell_type": "markdown",
   "id": "318a5fda-bf11-4276-90f3-afff28787e04",
   "metadata": {},
   "source": [
    "#### Ajustando ratings:\n",
    "- 1 e 2 = 0\n",
    "- 4 e 5 = 1"
   ]
  },
  {
   "cell_type": "code",
   "execution_count": 25,
   "id": "b2ab69d9-ddc1-4b40-b0ad-4edef7addbb1",
   "metadata": {},
   "outputs": [],
   "source": [
    "df['rating'] = list(map(lambda x: 0 if x<=2 else 1, df['rating']))"
   ]
  },
  {
   "cell_type": "code",
   "execution_count": 26,
   "id": "32944e41-3c32-4088-b5a7-a1743d5ea1ff",
   "metadata": {},
   "outputs": [
    {
     "name": "stdout",
     "output_type": "stream",
     "text": [
      "66816 Avaliações Positivas\n",
      "6810 Avaliações Negativas\n"
     ]
    }
   ],
   "source": [
    "df_count = df['rating'].value_counts()\n",
    "print(f'{df_count[1]} Avaliações Positivas')\n",
    "print(f'{df_count[0]} Avaliações Negativas')"
   ]
  },
  {
   "cell_type": "markdown",
   "id": "f91ef1a6-7ace-4e28-8b31-8f1294a146a9",
   "metadata": {},
   "source": [
    "#### Nota-se que o dataset está desbalanceado"
   ]
  },
  {
   "cell_type": "code",
   "execution_count": 27,
   "id": "b1214f0c-afda-4bb6-8119-9d57acd85b19",
   "metadata": {},
   "outputs": [],
   "source": [
    "def plot_barchart(data):\n",
    "    rating_counts = data\n",
    "    labels = [f'{data[1]} Avaliações Positivas', f'{data[0]} Avaliações Negativas']\n",
    "\n",
    "    # Criar o gráfico de barras\n",
    "    plt.bar(labels, rating_counts)\n",
    "\n",
    "    # Adicionar rótulos e título\n",
    "    plt.xlabel('Ratings')\n",
    "    plt.ylabel('Contagem')\n",
    "    plt.title('Gráfico de Barras de Ratings')\n",
    "\n",
    "    # Mostrar o gráfico\n",
    "    plt.show()"
   ]
  },
  {
   "cell_type": "code",
   "execution_count": 28,
   "id": "477ee922-6c02-48b9-8921-50759787bda3",
   "metadata": {},
   "outputs": [
    {
     "data": {
      "image/png": "[encoded data removed]",
      "text/plain": [
       "<Figure size 640x480 with 1 Axes>"
      ]
     },
     "metadata": {},
     "output_type": "display_data"
    }
   ],
   "source": [
    "plot_barchart(df_count)"
   ]
  },
  {
   "cell_type": "markdown",
   "id": "762bb679-73bc-4053-aea2-a66e55de12db",
   "metadata": {},
   "source": [
    "#### Utilizar a técnica de reamostragem RandomOverSampler para resolver o problema de desbalanceamento das classes\n",
    "- Esta técnica gera novas amostras aleatórias para a classe minoritária;\n",
    "- Desta forma tenta igualar número de amostras da classe majoritária;"
   ]
  },
  {
   "cell_type": "code",
   "execution_count": 29,
   "id": "21aef2ab-c4a1-4b15-abe7-e97652f88775",
   "metadata": {},
   "outputs": [],
   "source": [
    "from imblearn.over_sampling import RandomOverSampler"
   ]
  },
  {
   "cell_type": "code",
   "execution_count": 30,
   "id": "938a7be3-704d-4f81-83b6-90819070e03d",
   "metadata": {},
   "outputs": [],
   "source": [
    "# Gerando uma cópia do dataset\n",
    "df_balanced = df.copy()"
   ]
  },
  {
   "cell_type": "code",
   "execution_count": 31,
   "id": "52f6227d-8bd2-4ff7-b045-022293fc8259",
   "metadata": {},
   "outputs": [],
   "source": [
    "# Criando uma instância do RandomOverSampler\n",
    "ros = RandomOverSampler()"
   ]
  },
  {
   "cell_type": "markdown",
   "id": "ee593fb6-71de-4efd-943b-70309a154f1b",
   "metadata": {},
   "source": [
    "#### Separarando os recursos (X) e os rótulos (y)"
   ]
  },
  {
   "cell_type": "code",
   "execution_count": 32,
   "id": "539664d6-e076-4edd-8d19-7fa8808c91a6",
   "metadata": {},
   "outputs": [],
   "source": [
    "# Alterarando o shape dos dados para uma representação com uma única coluna\n",
    "# Os dados foram mantidos, mas agora X possui uma coluna adicional, tornando-se uma matriz bidimensional em vez de uma matriz unidimensional\n",
    "X = np.array(df_balanced['review_text'])\n",
    "X = X.reshape(-1, 1)"
   ]
  },
  {
   "cell_type": "code",
   "execution_count": 33,
   "id": "69995366-42d2-41e3-8425-39d4677f7177",
   "metadata": {},
   "outputs": [],
   "source": [
    "y = df_balanced['rating']"
   ]
  },
  {
   "cell_type": "code",
   "execution_count": 34,
   "id": "4de15a6d-8d63-454b-a859-341ab35630dc",
   "metadata": {},
   "outputs": [],
   "source": [
    "# Aplicando o RandomOverSampler para gerar novas amostras\n",
    "X_res, y_res = ros.fit_resample(X, y)"
   ]
  },
  {
   "cell_type": "code",
   "execution_count": 35,
   "id": "8d20a56f-c399-4702-b8a3-a489f2aab5a0",
   "metadata": {},
   "outputs": [
    {
     "name": "stdout",
     "output_type": "stream",
     "text": [
      "rating\n",
      "1    66816\n",
      "0    66816\n",
      "Name: count, dtype: int64\n"
     ]
    }
   ],
   "source": [
    "print(pd.Series(y_res).value_counts())"
   ]
  },
  {
   "cell_type": "code",
   "execution_count": 36,
   "id": "017bd93a-73d7-4bc6-a39e-96a78ad21741",
   "metadata": {},
   "outputs": [
    {
     "data": {
      "image/png": "[encoded data removed]",
      "text/plain": [
       "<Figure size 640x480 with 1 Axes>"
      ]
     },
     "metadata": {},
     "output_type": "display_data"
    }
   ],
   "source": [
    "plot_barchart(y_res.value_counts())"
   ]
  },
  {
   "cell_type": "markdown",
   "id": "954a4705-294f-4da5-9bf8-5e5a4e037a2f",
   "metadata": {},
   "source": [
    "#### Tokenização\n",
    "- O Tokenizer é usado para converter o texto em uma sequência de números, criando um dicionário de palavras únicas presentes no texto e mapeando cada palavra para um índice inteiro. Esse processo é chamado de tokenização."
   ]
  },
  {
   "cell_type": "code",
   "execution_count": 37,
   "id": "123e2d66-a5da-43c6-b800-ef7891357282",
   "metadata": {},
   "outputs": [],
   "source": [
    "corpus = df_balanced['review_text']"
   ]
  },
  {
   "cell_type": "code",
   "execution_count": 38,
   "id": "aaaf52a4-ba40-4af2-888c-c06fee2b8e03",
   "metadata": {},
   "outputs": [],
   "source": [
    "# Criando uma instância do Tokenizer\n",
    "vocab_size=16000\n",
    "tokenizer = Tokenizer(num_words=vocab_size)"
   ]
  },
  {
   "cell_type": "code",
   "execution_count": 39,
   "id": "ff40385b-d96d-404c-9fc5-340563420207",
   "metadata": {},
   "outputs": [],
   "source": [
    "# Ajustando o Tokenizer ao corpus\n",
    "tokenizer.fit_on_texts(corpus)"
   ]
  },
  {
   "cell_type": "code",
   "execution_count": 40,
   "id": "dadb8ff7-37a8-4943-94de-26eefcd133ff",
   "metadata": {},
   "outputs": [],
   "source": [
    "# Obtendo o dicionário de palavras únicas e seus índices\n",
    "word_index = tokenizer.word_index"
   ]
  },
  {
   "cell_type": "code",
   "execution_count": 41,
   "id": "0b16c0f9-d7a7-47a1-8737-9d0ff385224f",
   "metadata": {},
   "outputs": [
    {
     "data": {
      "text/plain": [
       "71829"
      ]
     },
     "execution_count": 41,
     "metadata": {},
     "output_type": "execute_result"
    }
   ],
   "source": [
    "# Tamanho do dicionário\n",
    "len(word_index)"
   ]
  },
  {
   "cell_type": "code",
   "execution_count": 42,
   "id": "6613219d-c8cc-402d-82d6-093b84f972ab",
   "metadata": {},
   "outputs": [],
   "source": [
    "# Obtendo as sequências de índices para os textos do corpus\n",
    "sequences = tokenizer.texts_to_sequences(corpus)"
   ]
  },
  {
   "cell_type": "code",
   "execution_count": 43,
   "id": "ae5b7fd5-86ba-41e1-bcb8-0831a973efb5",
   "metadata": {},
   "outputs": [],
   "source": [
    "X = pad_sequences(sequences, truncating='post', padding='post')"
   ]
  },
  {
   "cell_type": "code",
   "execution_count": 44,
   "id": "d836d41b-f9df-423b-b58b-75e55e2f3c0b",
   "metadata": {},
   "outputs": [
    {
     "data": {
      "text/plain": [
       "808"
      ]
     },
     "execution_count": 44,
     "metadata": {},
     "output_type": "execute_result"
    }
   ],
   "source": [
    "# Tamanho do vetor após aplicacão do pad_sequences\n",
    "len(X[0])"
   ]
  },
  {
   "cell_type": "markdown",
   "id": "49889732-d576-4ed7-b913-54afd5f9bd81",
   "metadata": {},
   "source": [
    "#### Dividindo o dataset"
   ]
  },
  {
   "cell_type": "code",
   "execution_count": 45,
   "id": "8756d345-9eff-4984-9a16-9888b9026116",
   "metadata": {},
   "outputs": [],
   "source": [
    "from sklearn.model_selection import train_test_split"
   ]
  },
  {
   "cell_type": "code",
   "execution_count": 46,
   "id": "548ad6aa-1aee-42cf-8f89-ac9de3d89be1",
   "metadata": {},
   "outputs": [],
   "source": [
    "X_train, X_test, y_train, y_test = train_test_split(X, y, test_size=0.20, random_state=0)"
   ]
  },
  {
   "cell_type": "markdown",
   "id": "56222a3f-3936-4012-9572-d7ea27acc140",
   "metadata": {},
   "source": [
    "#### Verificando quantidade de instâncias e tamanho do vetor"
   ]
  },
  {
   "cell_type": "code",
   "execution_count": 47,
   "id": "6eec1452-d570-4f16-8bbb-064604a9a171",
   "metadata": {},
   "outputs": [
    {
     "name": "stdout",
     "output_type": "stream",
     "text": [
      "X_train: (58900, 808)\n",
      "X_test: (14726, 808)\n",
      "y_train: (58900,)\n",
      "y_test: (14726,)\n"
     ]
    }
   ],
   "source": [
    "print(f'X_train: {X_train.shape}')\n",
    "print(f'X_test: {X_test.shape}')\n",
    "print(f'y_train: {y_train.shape}')\n",
    "print(f'y_test: {y_test.shape}')"
   ]
  },
  {
   "cell_type": "markdown",
   "id": "62c06632-82bb-4869-8faf-c638d7b0917d",
   "metadata": {},
   "source": [
    "#### Iniciando arquitetura da MLP"
   ]
  },
  {
   "cell_type": "code",
   "execution_count": 48,
   "id": "3334141c-bb35-4302-ac1e-026ae36584d2",
   "metadata": {},
   "outputs": [],
   "source": [
    "model = Sequential()"
   ]
  },
  {
   "cell_type": "code",
   "execution_count": 49,
   "id": "8975e76e-8068-4d5a-a45f-6732eb1a6d2a",
   "metadata": {},
   "outputs": [
    {
     "name": "stdout",
     "output_type": "stream",
     "text": [
      "Model: \"sequential\"\n",
      "_________________________________________________________________\n",
      " Layer (type)                Output Shape              Param #   \n",
      "=================================================================\n",
      " embedding (Embedding)       (None, 808, 808)          12928000  \n",
      "                                                                 \n",
      " global_average_pooling1d (G  (None, 808)              0         \n",
      " lobalAveragePooling1D)                                          \n",
      "                                                                 \n",
      " dense (Dense)               (None, 24)                19416     \n",
      "                                                                 \n",
      " dropout (Dropout)           (None, 24)                0         \n",
      "                                                                 \n",
      " dense_1 (Dense)             (None, 1)                 25        \n",
      "                                                                 \n",
      "=================================================================\n",
      "Total params: 12,947,441\n",
      "Trainable params: 12,947,441\n",
      "Non-trainable params: 0\n",
      "_________________________________________________________________\n"
     ]
    }
   ],
   "source": [
    "#input_dim=vocab_size, output_dim=embedding_dim, input_length=max_length\n",
    "model.add(Embedding(input_dim=vocab_size, output_dim=808, input_length=808)),\n",
    "# Camada GlobalAveragePooling1D usada para reduzir a dimensão das sequências em um único vetor.\n",
    "# Essa operação calcula a média dos valores em cada dimensão das sequências\n",
    "# Produz um vetor de tamanho fixo\n",
    "# É útil para reduzir o número de parâmetros do modelo\n",
    "# Permiti que ele processe sequências de comprimentos variados\n",
    "model.add(GlobalAveragePooling1D()),\n",
    "model.add(Dense(24, activation='relu')),\n",
    "model.add(Dropout(0.05)),\n",
    "model.add(Dense(1, activation='sigmoid'))\n",
    "model.summary()"
   ]
  },
  {
   "cell_type": "code",
   "execution_count": 50,
   "id": "f821b6e5-4474-492f-ac2a-6f59fc8d245b",
   "metadata": {},
   "outputs": [],
   "source": [
    "learning_rate=1e-3\n",
    "loss='binary_crossentropy'\n",
    "optimizer=tf.keras.optimizers.Adam(learning_rate=learning_rate)\n",
    "metrics=['accuracy']\n",
    "\n",
    "model.compile(\n",
    "    loss=loss,\n",
    "    optimizer=optimizer, \n",
    "    metrics=['acc']\n",
    ")"
   ]
  },
  {
   "cell_type": "code",
   "execution_count": 51,
   "id": "c603225a-3a01-48fd-83f9-6b528cebfcdb",
   "metadata": {},
   "outputs": [
    {
     "name": "stdout",
     "output_type": "stream",
     "text": [
      "Epoch 1/10\n",
      "1841/1841 [==============================] - 760s 413ms/step - loss: 0.2444 - acc: 0.9183 - val_loss: 0.1777 - val_acc: 0.9422\n",
      "Epoch 2/10\n",
      "1841/1841 [==============================] - 762s 414ms/step - loss: 0.1760 - acc: 0.9457 - val_loss: 0.1600 - val_acc: 0.9504\n",
      "Epoch 3/10\n",
      "1841/1841 [==============================] - 730s 397ms/step - loss: 0.1516 - acc: 0.9532 - val_loss: 0.1487 - val_acc: 0.9536\n",
      "Epoch 4/10\n",
      "1841/1841 [==============================] - 710s 386ms/step - loss: 0.1391 - acc: 0.9574 - val_loss: 0.1613 - val_acc: 0.9500\n",
      "Epoch 5/10\n",
      "1841/1841 [==============================] - 722s 392ms/step - loss: 0.1308 - acc: 0.9601 - val_loss: 0.1536 - val_acc: 0.9521\n",
      "Epoch 6/10\n",
      "1841/1841 [==============================] - 710s 386ms/step - loss: 0.1225 - acc: 0.9637 - val_loss: 0.1513 - val_acc: 0.9529\n"
     ]
    }
   ],
   "source": [
    "batch_size=32\n",
    "epochs=10\n",
    "callbacks=[tf.keras.callbacks.EarlyStopping('val_loss', patience=3)]\n",
    "\n",
    "model_history = model.fit(\n",
    "    X_train, \n",
    "    y_train, \n",
    "    verbose=1, \n",
    "    batch_size=batch_size,  \n",
    "    epochs=epochs, /\n",
    "    validation_data=(X_test, y_test),\n",
    "    callbacks=callbacks\n",
    ")"
   ]
  },
  {
   "cell_type": "code",
   "execution_count": 52,
   "id": "448fc913-4891-427c-8149-1bf19d5b1959",
   "metadata": {},
   "outputs": [],
   "source": [
    "NB_START_EPOCHS = 6  # Número de épocas"
   ]
  },
  {
   "cell_type": "code",
   "execution_count": 53,
   "id": "89ceedd4-8cb5-444c-a0af-09f4052a823b",
   "metadata": {},
   "outputs": [],
   "source": [
    "def eval_metric(history, metric_name):\n",
    "    '''\n",
    "    Função para avaliar o modelo treinado na métrica escolhida. \n",
    "    Treino e valição são plotados por época.\n",
    "    \n",
    "    Parameters:\n",
    "        history : model training history\n",
    "        metric_name : loss or accuracy\n",
    "    Output:\n",
    "        line chart with epochs of x-axis and metric on\n",
    "        y-axis\n",
    "    '''\n",
    "    metric = history.history[metric_name]\n",
    "    val_metric = history.history['val_' + metric_name]\n",
    "\n",
    "    e = range(1, NB_START_EPOCHS + 1)\n",
    "\n",
    "    plt.plot(e, metric, 'bo', label='Train ' + metric_name)\n",
    "    plt.plot(e, val_metric, 'b', label='Validation ' + metric_name)\n",
    "    plt.legend()\n",
    "    plt.show()"
   ]
  },
  {
   "cell_type": "code",
   "execution_count": 54,
   "id": "1d76cc96-54af-4ee8-9874-02fd0b7c10eb",
   "metadata": {},
   "outputs": [
    {
     "data": {
      "image/png": "[encoded data removed]",
      "text/plain": [
       "<Figure size 640x480 with 1 Axes>"
      ]
     },
     "metadata": {},
     "output_type": "display_data"
    }
   ],
   "source": [
    "eval_metric(model_history, 'loss')"
   ]
  },
  {
   "cell_type": "code",
   "execution_count": 55,
   "id": "93532ae2-49f8-44c0-849e-41862edae21f",
   "metadata": {},
   "outputs": [
    {
     "data": {
      "image/png": "[encoded data removed]",
      "text/plain": [
       "<Figure size 640x480 with 1 Axes>"
      ]
     },
     "metadata": {},
     "output_type": "display_data"
    }
   ],
   "source": [
    "eval_metric(model_history, 'acc')"
   ]
  },
  {
   "cell_type": "code",
   "execution_count": 56,
   "id": "9e42f96b-0d4f-452a-acf1-56ea2e222481",
   "metadata": {},
   "outputs": [
    {
     "data": {
      "image/png": "[encoded data removed]",
      "text/plain": [
       "<Figure size 640x480 with 1 Axes>"
      ]
     },
     "metadata": {},
     "output_type": "display_data"
    },
    {
     "data": {
      "image/png": "[encoded data removed]",
      "text/plain": [
       "<Figure size 640x480 with 1 Axes>"
      ]
     },
     "metadata": {},
     "output_type": "display_data"
    }
   ],
   "source": [
    "import matplotlib.pyplot as plt\n",
    "%matplotlib inline\n",
    "\n",
    "plt.plot(model_history.history['acc'])\n",
    "plt.plot(model_history.history['val_acc'])\n",
    "plt.title('model accuracy')\n",
    "plt.ylabel('accuracy')\n",
    "plt.xlabel('epoch')\n",
    "plt.legend(['train', 'test'], loc='upper left')\n",
    "plt.show()\n",
    "\n",
    "# summarize history for loss\n",
    "plt.plot(model_history.history['loss'])\n",
    "plt.plot(model_history.history['val_loss'])\n",
    "plt.title('model loss')\n",
    "plt.ylabel('loss')\n",
    "plt.xlabel('epoch')\n",
    "plt.legend(['train', 'test'], loc='upper left')\n",
    "plt.show()"
   ]
  },
  {
   "cell_type": "code",
   "execution_count": 57,
   "id": "49e89ec9-9788-4f32-b7f9-908776a505f0",
   "metadata": {},
   "outputs": [
    {
     "name": "stdout",
     "output_type": "stream",
     "text": [
      "461/461 [==============================] - 29s 62ms/step\n"
     ]
    }
   ],
   "source": [
    "predicao = np.round(model.predict(X_test))"
   ]
  },
  {
   "cell_type": "code",
   "execution_count": 58,
   "id": "22fc4093-04d7-48bd-b959-f246ff02a163",
   "metadata": {},
   "outputs": [],
   "source": [
    "acc = accuracy_score(y_test, predicao)"
   ]
  },
  {
   "cell_type": "code",
   "execution_count": 59,
   "id": "4bd2ee1e-f169-4d8a-bce6-c87a61847352",
   "metadata": {},
   "outputs": [
    {
     "data": {
      "text/plain": [
       "0.9529403775634931"
      ]
     },
     "execution_count": 59,
     "metadata": {},
     "output_type": "execute_result"
    }
   ],
   "source": [
    "acc"
   ]
  },
  {
   "cell_type": "code",
   "execution_count": 60,
   "id": "826ab9c6-cba9-4d40-b319-e3343312b0a2",
   "metadata": {},
   "outputs": [
    {
     "name": "stdout",
     "output_type": "stream",
     "text": [
      "              precision    recall  f1-score   support\n",
      "\n",
      "           0       0.88      0.56      0.69      1343\n",
      "           1       0.96      0.99      0.97     13383\n",
      "\n",
      "    accuracy                           0.95     14726\n",
      "   macro avg       0.92      0.78      0.83     14726\n",
      "weighted avg       0.95      0.95      0.95     14726\n",
      "\n"
     ]
    }
   ],
   "source": [
    "print(classification_report(y_test, predicao))"
   ]
  },
  {
   "cell_type": "code",
   "execution_count": 61,
   "id": "de2b5b40-5a28-436f-9603-344f53866cf3",
   "metadata": {},
   "outputs": [
    {
     "data": {
      "image/png": "[encoded data removed]",
      "text/plain": [
       "<Figure size 600x400 with 2 Axes>"
      ]
     },
     "metadata": {},
     "output_type": "display_data"
    }
   ],
   "source": [
    "mc = confusion_matrix(y_test, predicao)\n",
    "plt.figure(figsize=(6,4))\n",
    "sbn.heatmap(mc, annot=True, linewidth=0.2, annot_kws={'size':12}, fmt='.0f')\n",
    "plt.title(\"Matriz de Confusão\", fontsize=12)\n",
    "plt.xlabel('Real')\n",
    "plt.ylabel('Predito')\n",
    "plt.show()"
   ]
  }
 ],
 "metadata": {
  "kernelspec": {
   "display_name": "Python 3 (ipykernel)",
   "language": "python",
   "name": "python3"
  },
  "language_info": {
   "codemirror_mode": {
    "name": "ipython",
    "version": 3
   },
   "file_extension": ".py",
   "mimetype": "text/x-python",
   "name": "python",
   "nbconvert_exporter": "python",
   "pygments_lexer": "ipython3",
   "version": "3.10.11"
  }
 },
 "nbformat": 4,
 "nbformat_minor": 5
}
