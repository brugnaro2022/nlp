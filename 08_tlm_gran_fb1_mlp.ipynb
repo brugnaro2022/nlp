{
 "cells": [
  {
   "cell_type": "markdown",
   "id": "0eeecbd9-595c-478a-b467-0b325bf25dff",
   "metadata": {},
   "source": [
    "\n",
    "<b>INSTITUTO FEDERAL DE GOIÁS<br/>\n",
    "PÓS-GRADUAÇÃO EM INTELIGÊNCIA ARTIFICIAL APLICADA<br/></b>\n",
    "Disciplina: Processamento de Linguagem Natural  <br/>\n",
    "Professor: Daniel Xavier de Sousa <br/>\n",
    "Alunos: Wagner Silva, Cleibson, Marcos Rodrigues\n",
    "\n",
    "\n",
    "---"
   ]
  },
  {
   "cell_type": "code",
   "execution_count": 2,
   "id": "4eff3435-e01a-40ee-a853-4d9378cfc2cd",
   "metadata": {},
   "outputs": [],
   "source": [
    "import pandas as pd\n",
    "import numpy as np\n",
    "import torch\n",
    "\n",
    "from tqdm import tqdm\n",
    "\n",
    "from transformers import AutoTokenizer, AutoModel\n",
    "\n",
    "from sklearn.model_selection import cross_val_score, train_test_split\n",
    "from sklearn.model_selection import KFold\n",
    "from sklearn.metrics import accuracy_score, f1_score\n",
    "\n",
    "import tensorflow as tf\n",
    "from tensorflow.keras.models import Sequential\n",
    "from tensorflow.keras.layers import Dense, Dropout\n",
    "from tensorflow.keras.callbacks import EarlyStopping\n",
    "from tensorflow.keras.optimizers import Adam\n",
    "\n",
    "import matplotlib.pyplot as plt"
   ]
  },
  {
   "cell_type": "code",
   "execution_count": 3,
   "id": "498979f2-ba75-418f-aa31-882b9956d0e8",
   "metadata": {},
   "outputs": [],
   "source": [
    "#Dropout: 0, 10%\n",
    "DROPOUT = 0\n",
    "\n",
    "#Learning rate: 2.5e-5 e 5e-5\n",
    "LEARNING_RATE = 2.5e-5"
   ]
  },
  {
   "cell_type": "code",
   "execution_count": 4,
   "id": "cc05eb94-185b-4ac5-a65f-92dc2337bce8",
   "metadata": {},
   "outputs": [],
   "source": [
    "tokenizer = AutoTokenizer.from_pretrained(\"xlm-roberta-large\")\n",
    "model = AutoModel.from_pretrained(\"xlm-roberta-large\")"
   ]
  },
  {
   "cell_type": "code",
   "execution_count": 5,
   "id": "67bd7419-7171-467e-9bff-0bafd968a094",
   "metadata": {},
   "outputs": [],
   "source": [
    "df = pd.read_csv('../datasets/buscape_preprocessed.csv')"
   ]
  },
  {
   "cell_type": "code",
   "execution_count": 6,
   "id": "6b5a3d95-ae9e-4753-aac9-633b658c1c13",
   "metadata": {},
   "outputs": [
    {
     "data": {
      "text/html": [
       "<div>\n",
       "<style scoped>\n",
       "    .dataframe tbody tr th:only-of-type {\n",
       "        vertical-align: middle;\n",
       "    }\n",
       "\n",
       "    .dataframe tbody tr th {\n",
       "        vertical-align: top;\n",
       "    }\n",
       "\n",
       "    .dataframe thead th {\n",
       "        text-align: right;\n",
       "    }\n",
       "</style>\n",
       "<table border=\"1\" class=\"dataframe\">\n",
       "  <thead>\n",
       "    <tr style=\"text-align: right;\">\n",
       "      <th></th>\n",
       "      <th>review_text</th>\n",
       "      <th>rating</th>\n",
       "    </tr>\n",
       "  </thead>\n",
       "  <tbody>\n",
       "    <tr>\n",
       "      <th>0</th>\n",
       "      <td>estou muito satisfeito o visor e melhor do que...</td>\n",
       "      <td>1</td>\n",
       "    </tr>\n",
       "    <tr>\n",
       "      <th>1</th>\n",
       "      <td>muito boa o que gostei preco o que nao gostei ...</td>\n",
       "      <td>1</td>\n",
       "    </tr>\n",
       "    <tr>\n",
       "      <th>2</th>\n",
       "      <td>rapida otima qualidade de impressao e facil de...</td>\n",
       "      <td>1</td>\n",
       "    </tr>\n",
       "  </tbody>\n",
       "</table>\n",
       "</div>"
      ],
      "text/plain": [
       "                                         review_text  rating\n",
       "0  estou muito satisfeito o visor e melhor do que...       1\n",
       "1  muito boa o que gostei preco o que nao gostei ...       1\n",
       "2  rapida otima qualidade de impressao e facil de...       1"
      ]
     },
     "execution_count": 6,
     "metadata": {},
     "output_type": "execute_result"
    }
   ],
   "source": [
    "df.head(3)"
   ]
  },
  {
   "cell_type": "code",
   "execution_count": 7,
   "id": "253fd218-66f4-45b1-a5b7-68b774eea0a6",
   "metadata": {},
   "outputs": [
    {
     "name": "stdout",
     "output_type": "stream",
     "text": [
      "133632 instancias, 2 classes\n"
     ]
    }
   ],
   "source": [
    "print(f'{df.shape[0]} instancias, {df.shape[1]} classes')"
   ]
  },
  {
   "cell_type": "markdown",
   "id": "23ec0014-81e2-406f-aabd-b10baff38107",
   "metadata": {},
   "source": [
    "#### Dividindo dataset em dois batchs, 50% cada"
   ]
  },
  {
   "cell_type": "code",
   "execution_count": 8,
   "id": "e0eb2239-d7a2-403d-924a-e1a974931b12",
   "metadata": {},
   "outputs": [],
   "source": [
    "reviews_batch_01, reviews_batch_02, labels_batch_01, labels_batch_02 = train_test_split(df['review_text'], df['rating'], test_size=0.5, random_state=42)"
   ]
  },
  {
   "cell_type": "code",
   "execution_count": 9,
   "id": "41e30cab-05e8-4251-9c6f-f99d43768b23",
   "metadata": {},
   "outputs": [
    {
     "name": "stdout",
     "output_type": "stream",
     "text": [
      "batch_01: 66816 instancias\n",
      "batch_02: 66816 instancias\n"
     ]
    }
   ],
   "source": [
    "print(f'batch_01: {reviews_batch_01.shape[0]} instancias')\n",
    "print(f'batch_02: {reviews_batch_02.shape[0]} instancias')"
   ]
  },
  {
   "cell_type": "markdown",
   "id": "6efbfc04-2ff5-4133-9635-2c67619d1689",
   "metadata": {},
   "source": [
    "#### Quantidade de avaliações positivas e negativas no batch_01"
   ]
  },
  {
   "cell_type": "code",
   "execution_count": 10,
   "id": "6679171a-4b4e-43be-bd06-6207cd4c349c",
   "metadata": {},
   "outputs": [
    {
     "data": {
      "text/plain": [
       "rating\n",
       "1    33477\n",
       "0    33339\n",
       "Name: count, dtype: int64"
      ]
     },
     "execution_count": 10,
     "metadata": {},
     "output_type": "execute_result"
    }
   ],
   "source": [
    "labels_batch_01.value_counts()"
   ]
  },
  {
   "cell_type": "code",
   "execution_count": 11,
   "id": "282fb03a-25e5-40c0-9611-8c6ab5ebeff0",
   "metadata": {},
   "outputs": [],
   "source": [
    "reviews = reviews_batch_01\n",
    "labels = labels_batch_01"
   ]
  },
  {
   "cell_type": "markdown",
   "id": "8641ee11-6c0f-4d99-8063-9eb06b19c63f",
   "metadata": {},
   "source": [
    "#### Tokenização e geração dos embeddings\n",
    "- Este processo pode demorar alguns instantes para ser concluído"
   ]
  },
  {
   "cell_type": "code",
   "execution_count": null,
   "id": "583c3394-9378-4f1f-b66d-0e428398f6d1",
   "metadata": {},
   "outputs": [
    {
     "name": "stderr",
     "output_type": "stream",
     "text": [
      "Processing:  43%|████▎     | 29023/66816 [4:04:27<4:38:33,  2.26it/s] "
     ]
    }
   ],
   "source": [
    "embeddings = []\n",
    "for review in tqdm((reviews), desc='Processing'):\n",
    "    inputs = tokenizer(str(review), return_tensors=\"pt\", padding=True, truncation=True)\n",
    "    with torch.no_grad():\n",
    "        output = model(**inputs)\n",
    "    embeddings.append(output.last_hidden_state.mean(dim=1).numpy())"
   ]
  },
  {
   "cell_type": "code",
   "execution_count": 24,
   "id": "31250cb7-be0d-43a3-8938-42bfee043378",
   "metadata": {},
   "outputs": [],
   "source": [
    "embeddings_array = np.vstack(embeddings)"
   ]
  },
  {
   "cell_type": "code",
   "execution_count": 25,
   "id": "9274f7b8-0804-436d-9341-82e702c7a1df",
   "metadata": {},
   "outputs": [
    {
     "name": "stdout",
     "output_type": "stream",
     "text": [
      "6810 embeddings de 1024 dimensões\n"
     ]
    }
   ],
   "source": [
    "print(f'{embeddings_array.shape[0]} embeddings de {embeddings_array.shape[1]} dimensões')"
   ]
  },
  {
   "cell_type": "markdown",
   "id": "27fe71ea-9cbe-464e-9823-2b1772b43543",
   "metadata": {},
   "source": [
    "#### Feature based 1"
   ]
  },
  {
   "cell_type": "code",
   "execution_count": 26,
   "id": "0494221c-521c-4627-bc64-845c45d95942",
   "metadata": {},
   "outputs": [],
   "source": [
    "additional_features = np.array([[len(review.split())] for review in reviews_batch_02])"
   ]
  },
  {
   "cell_type": "code",
   "execution_count": 27,
   "id": "7a40a583-1d1c-47e7-8275-4f28c255c491",
   "metadata": {},
   "outputs": [
    {
     "name": "stdout",
     "output_type": "stream",
     "text": [
      "(6810, 1024)\n",
      "(6810, 1)\n"
     ]
    }
   ],
   "source": [
    "print(embeddings_array.shape)\n",
    "print(additional_features.shape)"
   ]
  },
  {
   "cell_type": "markdown",
   "id": "7fd2a886-b830-48bd-8893-94b0f286b0f6",
   "metadata": {},
   "source": [
    "#### Combinando embeddings_array e additional_features"
   ]
  },
  {
   "cell_type": "code",
   "execution_count": 28,
   "id": "1ad5c9cb-b4db-4d66-83ce-b0a313b47785",
   "metadata": {},
   "outputs": [],
   "source": [
    "combined_features = np.hstack((embeddings_array, additional_features))"
   ]
  },
  {
   "cell_type": "markdown",
   "id": "db03c447-ae9d-4b9d-90ae-c5826ef4d631",
   "metadata": {},
   "source": [
    "#### Dividindo dataset treino e teste"
   ]
  },
  {
   "cell_type": "code",
   "execution_count": 29,
   "id": "3f5fce34-b5ec-47c1-9c85-1790d41a14cf",
   "metadata": {},
   "outputs": [],
   "source": [
    "X_train, X_test, y_train, y_test = train_test_split(combined_features, labels, test_size=0.2, random_state=42)"
   ]
  },
  {
   "cell_type": "code",
   "execution_count": 30,
   "id": "c68f6ca6-df7b-4e13-a917-fcac77fe3a0a",
   "metadata": {},
   "outputs": [],
   "source": [
    "X_train_tensor = tf.convert_to_tensor(X_train, dtype=tf.float32)\n",
    "y_train_tensor = tf.convert_to_tensor(y_train, dtype=tf.float32)"
   ]
  },
  {
   "cell_type": "code",
   "execution_count": 31,
   "id": "a741c373-5fe8-43e1-bef7-3ca777f4f8c7",
   "metadata": {},
   "outputs": [],
   "source": [
    "X_test_tensor = tf.convert_to_tensor(X_test, dtype=tf.float32)\n",
    "y_test_tensor = tf.convert_to_tensor(y_test, dtype=tf.float32)"
   ]
  },
  {
   "cell_type": "markdown",
   "id": "fd918c3b-2483-4ae0-8add-993249735289",
   "metadata": {},
   "source": [
    "#### Arquitetura rede neural MLP"
   ]
  },
  {
   "cell_type": "code",
   "execution_count": 32,
   "id": "844193f9-f989-4aa6-bb3a-599ee915ec04",
   "metadata": {},
   "outputs": [
    {
     "name": "stdout",
     "output_type": "stream",
     "text": [
      "Model: \"sequential\"\n",
      "_________________________________________________________________\n",
      " Layer (type)                Output Shape              Param #   \n",
      "=================================================================\n",
      " dense (Dense)               (None, 24)                24624     \n",
      "                                                                 \n",
      " dropout (Dropout)           (None, 24)                0         \n",
      "                                                                 \n",
      " dense_1 (Dense)             (None, 1)                 25        \n",
      "                                                                 \n",
      "=================================================================\n",
      "Total params: 24,649\n",
      "Trainable params: 24,649\n",
      "Non-trainable params: 0\n",
      "_________________________________________________________________\n"
     ]
    }
   ],
   "source": [
    "model = Sequential([\n",
    "    Dense(24, activation='relu', input_dim=X_train_tensor.shape[1]),\n",
    "    Dropout(DROPOUT),\n",
    "    Dense(1, activation='sigmoid')\n",
    "])\n",
    "model.summary()"
   ]
  },
  {
   "cell_type": "code",
   "execution_count": 33,
   "id": "dd5bf94b-527c-4ccd-ae79-64da1843f3c1",
   "metadata": {},
   "outputs": [],
   "source": [
    "model.compile(optimizer=Adam(learning_rate=LEARNING_RATE), loss='binary_crossentropy', metrics=['accuracy'])"
   ]
  },
  {
   "cell_type": "markdown",
   "id": "e428006c-fa10-4fa9-bd30-0dfed115ac7a",
   "metadata": {},
   "source": [
    "#### Cross-validation"
   ]
  },
  {
   "cell_type": "code",
   "execution_count": 34,
   "id": "08e203b7-d30e-4d36-a824-4965e5a13299",
   "metadata": {},
   "outputs": [],
   "source": [
    "num_folds = 10\n",
    "kf = KFold(n_splits=num_folds, shuffle=True, random_state=42)"
   ]
  },
  {
   "cell_type": "markdown",
   "id": "f8960145-c7cd-4ee0-bc67-3e85cdca9292",
   "metadata": {},
   "source": [
    "#### Treinamento do modelo"
   ]
  },
  {
   "cell_type": "code",
   "execution_count": 35,
   "id": "b911ef20-f3f2-4033-99ef-99451a97abc2",
   "metadata": {},
   "outputs": [
    {
     "name": "stdout",
     "output_type": "stream",
     "text": [
      "fold = 1\n",
      "Epoch 1/10\n",
      "192/192 [==============================] - 1s 2ms/step - loss: 0.7231 - accuracy: 0.6128\n",
      "Epoch 2/10\n",
      "192/192 [==============================] - 0s 1ms/step - loss: 0.5789 - accuracy: 0.7130\n",
      "Epoch 3/10\n",
      "192/192 [==============================] - 0s 1ms/step - loss: 0.5160 - accuracy: 0.7510\n",
      "Epoch 4/10\n",
      "192/192 [==============================] - 0s 1ms/step - loss: 0.4756 - accuracy: 0.7858\n",
      "Epoch 5/10\n",
      "192/192 [==============================] - 0s 1ms/step - loss: 0.4419 - accuracy: 0.8088\n",
      "Epoch 6/10\n",
      "192/192 [==============================] - 0s 1ms/step - loss: 0.4250 - accuracy: 0.8124\n",
      "Epoch 7/10\n",
      "192/192 [==============================] - 0s 1ms/step - loss: 0.4057 - accuracy: 0.8246\n",
      "Epoch 8/10\n",
      "192/192 [==============================] - 0s 1ms/step - loss: 0.3953 - accuracy: 0.8326\n",
      "Epoch 9/10\n",
      "192/192 [==============================] - 0s 1ms/step - loss: 0.3835 - accuracy: 0.8349\n",
      "Epoch 10/10\n",
      "192/192 [==============================] - 0s 1ms/step - loss: 0.3754 - accuracy: 0.8443\n",
      "22/22 [==============================] - 0s 926us/step\n",
      "fold = 2\n",
      "Epoch 1/10\n",
      "192/192 [==============================] - 0s 1ms/step - loss: 0.3655 - accuracy: 0.8474\n",
      "Epoch 2/10\n",
      "192/192 [==============================] - 0s 1ms/step - loss: 0.3612 - accuracy: 0.8478\n",
      "Epoch 3/10\n",
      "192/192 [==============================] - 0s 1ms/step - loss: 0.3523 - accuracy: 0.8528\n",
      "Epoch 4/10\n",
      "192/192 [==============================] - 0s 1ms/step - loss: 0.3466 - accuracy: 0.8559\n",
      "Epoch 5/10\n",
      "192/192 [==============================] - 0s 1ms/step - loss: 0.3423 - accuracy: 0.8587\n",
      "Epoch 6/10\n",
      "192/192 [==============================] - 0s 1ms/step - loss: 0.3405 - accuracy: 0.8595\n",
      "Epoch 7/10\n",
      "192/192 [==============================] - 0s 1ms/step - loss: 0.3348 - accuracy: 0.8616\n",
      "Epoch 8/10\n",
      "192/192 [==============================] - 0s 1ms/step - loss: 0.3345 - accuracy: 0.8625\n",
      "Epoch 9/10\n",
      "192/192 [==============================] - 0s 1ms/step - loss: 0.3289 - accuracy: 0.8654\n",
      "Epoch 10/10\n",
      "192/192 [==============================] - 0s 2ms/step - loss: 0.3237 - accuracy: 0.8660\n",
      "22/22 [==============================] - 0s 931us/step\n",
      "fold = 3\n",
      "Epoch 1/10\n",
      "192/192 [==============================] - 0s 1ms/step - loss: 0.3244 - accuracy: 0.8660\n",
      "Epoch 2/10\n",
      "192/192 [==============================] - 0s 1ms/step - loss: 0.3209 - accuracy: 0.8678\n",
      "Epoch 3/10\n",
      "192/192 [==============================] - 0s 1ms/step - loss: 0.3189 - accuracy: 0.8691\n",
      "Epoch 4/10\n",
      "192/192 [==============================] - 0s 1ms/step - loss: 0.3164 - accuracy: 0.8687\n",
      "Epoch 5/10\n",
      "192/192 [==============================] - 0s 1ms/step - loss: 0.3110 - accuracy: 0.8719\n",
      "Epoch 6/10\n",
      "192/192 [==============================] - 0s 1ms/step - loss: 0.3103 - accuracy: 0.8722\n",
      "Epoch 7/10\n",
      "192/192 [==============================] - 0s 1ms/step - loss: 0.3092 - accuracy: 0.8690\n",
      "Epoch 8/10\n",
      "192/192 [==============================] - 0s 1ms/step - loss: 0.3054 - accuracy: 0.8724\n",
      "Epoch 9/10\n",
      "192/192 [==============================] - 0s 1ms/step - loss: 0.3064 - accuracy: 0.8739\n",
      "Epoch 10/10\n",
      "192/192 [==============================] - 0s 1ms/step - loss: 0.2975 - accuracy: 0.8780\n",
      "22/22 [==============================] - 0s 875us/step\n",
      "fold = 4\n",
      "Epoch 1/10\n",
      "192/192 [==============================] - 0s 1ms/step - loss: 0.2987 - accuracy: 0.8768\n",
      "Epoch 2/10\n",
      "192/192 [==============================] - 0s 1ms/step - loss: 0.2999 - accuracy: 0.8762\n",
      "Epoch 3/10\n",
      "192/192 [==============================] - 0s 1ms/step - loss: 0.2942 - accuracy: 0.8802\n",
      "Epoch 4/10\n",
      "192/192 [==============================] - 0s 1ms/step - loss: 0.2927 - accuracy: 0.8807\n",
      "Epoch 5/10\n",
      "192/192 [==============================] - 0s 1ms/step - loss: 0.2882 - accuracy: 0.8822\n",
      "Epoch 6/10\n",
      "192/192 [==============================] - 0s 1ms/step - loss: 0.2871 - accuracy: 0.8819\n",
      "Epoch 7/10\n",
      "192/192 [==============================] - 0s 2ms/step - loss: 0.2863 - accuracy: 0.8846\n",
      "Epoch 8/10\n",
      "192/192 [==============================] - 0s 1ms/step - loss: 0.2857 - accuracy: 0.8843\n",
      "Epoch 9/10\n",
      "192/192 [==============================] - 0s 1ms/step - loss: 0.2846 - accuracy: 0.8819\n",
      "Epoch 10/10\n",
      "192/192 [==============================] - 0s 1ms/step - loss: 0.2813 - accuracy: 0.8891\n",
      "22/22 [==============================] - 0s 856us/step\n",
      "fold = 5\n",
      "Epoch 1/10\n",
      "192/192 [==============================] - 0s 1ms/step - loss: 0.2839 - accuracy: 0.8874\n",
      "Epoch 2/10\n",
      "192/192 [==============================] - 0s 1ms/step - loss: 0.2827 - accuracy: 0.8851\n",
      "Epoch 3/10\n",
      "192/192 [==============================] - 0s 1ms/step - loss: 0.2825 - accuracy: 0.8851\n",
      "Epoch 4/10\n",
      "192/192 [==============================] - 0s 1ms/step - loss: 0.2822 - accuracy: 0.8863\n",
      "Epoch 5/10\n",
      "192/192 [==============================] - 0s 1ms/step - loss: 0.2803 - accuracy: 0.8876\n",
      "Epoch 6/10\n",
      "192/192 [==============================] - 0s 1ms/step - loss: 0.2781 - accuracy: 0.8860\n",
      "Epoch 7/10\n",
      "192/192 [==============================] - 0s 2ms/step - loss: 0.2747 - accuracy: 0.8900\n",
      "Epoch 8/10\n",
      "192/192 [==============================] - 0s 2ms/step - loss: 0.2725 - accuracy: 0.8910\n",
      "Epoch 9/10\n",
      "192/192 [==============================] - 0s 2ms/step - loss: 0.2752 - accuracy: 0.8905\n",
      "Epoch 10/10\n",
      "192/192 [==============================] - 0s 2ms/step - loss: 0.2715 - accuracy: 0.8889\n",
      "22/22 [==============================] - 0s 961us/step\n",
      "fold = 6\n",
      "Epoch 1/10\n",
      "192/192 [==============================] - 0s 2ms/step - loss: 0.2810 - accuracy: 0.8824\n",
      "Epoch 2/10\n",
      "192/192 [==============================] - 0s 1ms/step - loss: 0.2718 - accuracy: 0.8931\n",
      "Epoch 3/10\n",
      "192/192 [==============================] - 0s 1ms/step - loss: 0.2689 - accuracy: 0.8928\n",
      "Epoch 4/10\n",
      "192/192 [==============================] - 0s 1ms/step - loss: 0.2666 - accuracy: 0.8923\n",
      "Epoch 5/10\n",
      "192/192 [==============================] - 0s 1ms/step - loss: 0.2702 - accuracy: 0.8920\n",
      "Epoch 6/10\n",
      "192/192 [==============================] - 0s 1ms/step - loss: 0.2722 - accuracy: 0.8874\n",
      "Epoch 7/10\n",
      "192/192 [==============================] - 0s 1ms/step - loss: 0.2639 - accuracy: 0.8933\n",
      "Epoch 8/10\n",
      "192/192 [==============================] - 0s 1ms/step - loss: 0.2686 - accuracy: 0.8943\n",
      "Epoch 9/10\n",
      "192/192 [==============================] - 0s 2ms/step - loss: 0.2660 - accuracy: 0.8912\n",
      "Epoch 10/10\n",
      "192/192 [==============================] - 0s 1ms/step - loss: 0.2611 - accuracy: 0.8941\n",
      "22/22 [==============================] - 0s 917us/step\n",
      "fold = 7\n",
      "Epoch 1/10\n",
      "192/192 [==============================] - 0s 1ms/step - loss: 0.2670 - accuracy: 0.8915\n",
      "Epoch 2/10\n",
      "192/192 [==============================] - 0s 1ms/step - loss: 0.2635 - accuracy: 0.8930\n",
      "Epoch 3/10\n",
      "192/192 [==============================] - 0s 1ms/step - loss: 0.2588 - accuracy: 0.8944\n",
      "Epoch 4/10\n",
      "192/192 [==============================] - 0s 2ms/step - loss: 0.2618 - accuracy: 0.8917\n",
      "Epoch 5/10\n",
      "192/192 [==============================] - 0s 1ms/step - loss: 0.2558 - accuracy: 0.8944\n",
      "Epoch 6/10\n",
      "192/192 [==============================] - 0s 1ms/step - loss: 0.2577 - accuracy: 0.8962\n",
      "Epoch 7/10\n",
      "192/192 [==============================] - 0s 1ms/step - loss: 0.2525 - accuracy: 0.8984\n",
      "Epoch 8/10\n",
      "192/192 [==============================] - 0s 1ms/step - loss: 0.2534 - accuracy: 0.8985\n",
      "Epoch 9/10\n",
      "192/192 [==============================] - 0s 1ms/step - loss: 0.2546 - accuracy: 0.8969\n",
      "Epoch 10/10\n",
      "192/192 [==============================] - 0s 1ms/step - loss: 0.2573 - accuracy: 0.8962\n",
      "22/22 [==============================] - 0s 899us/step\n",
      "fold = 8\n",
      "Epoch 1/10\n",
      "192/192 [==============================] - 0s 1ms/step - loss: 0.2521 - accuracy: 0.8972\n",
      "Epoch 2/10\n",
      "192/192 [==============================] - 0s 1ms/step - loss: 0.2475 - accuracy: 0.9008\n",
      "Epoch 3/10\n",
      "192/192 [==============================] - 0s 1ms/step - loss: 0.2475 - accuracy: 0.9000\n",
      "Epoch 4/10\n",
      "192/192 [==============================] - 0s 1ms/step - loss: 0.2450 - accuracy: 0.9039\n",
      "Epoch 5/10\n",
      "192/192 [==============================] - 0s 1ms/step - loss: 0.2489 - accuracy: 0.9003\n",
      "Epoch 6/10\n",
      "192/192 [==============================] - 0s 1ms/step - loss: 0.2459 - accuracy: 0.9039\n",
      "Epoch 7/10\n",
      "192/192 [==============================] - 0s 2ms/step - loss: 0.2412 - accuracy: 0.9010\n",
      "Epoch 8/10\n",
      "192/192 [==============================] - 0s 1ms/step - loss: 0.2388 - accuracy: 0.9044\n",
      "Epoch 9/10\n",
      "192/192 [==============================] - 0s 1ms/step - loss: 0.2430 - accuracy: 0.9005\n",
      "Epoch 10/10\n",
      "192/192 [==============================] - 0s 1ms/step - loss: 0.2364 - accuracy: 0.9049\n",
      "22/22 [==============================] - 0s 909us/step\n",
      "fold = 9\n",
      "Epoch 1/10\n",
      "192/192 [==============================] - 0s 1ms/step - loss: 0.2432 - accuracy: 0.9023\n",
      "Epoch 2/10\n",
      "192/192 [==============================] - 0s 1ms/step - loss: 0.2407 - accuracy: 0.9034\n",
      "Epoch 3/10\n",
      "192/192 [==============================] - 0s 1ms/step - loss: 0.2366 - accuracy: 0.9055\n",
      "Epoch 4/10\n",
      "192/192 [==============================] - 0s 1ms/step - loss: 0.2427 - accuracy: 0.9047\n",
      "Epoch 5/10\n",
      "192/192 [==============================] - 0s 1ms/step - loss: 0.2385 - accuracy: 0.9041\n",
      "Epoch 6/10\n",
      "192/192 [==============================] - 0s 1ms/step - loss: 0.2342 - accuracy: 0.9068\n",
      "Epoch 7/10\n",
      "192/192 [==============================] - 0s 2ms/step - loss: 0.2313 - accuracy: 0.9039\n",
      "Epoch 8/10\n",
      "192/192 [==============================] - 0s 1ms/step - loss: 0.2320 - accuracy: 0.9065\n",
      "Epoch 9/10\n",
      "192/192 [==============================] - 0s 1ms/step - loss: 0.2332 - accuracy: 0.9057\n",
      "Epoch 10/10\n",
      "192/192 [==============================] - 0s 1ms/step - loss: 0.2323 - accuracy: 0.9044\n",
      "22/22 [==============================] - 0s 834us/step\n",
      "fold = 10\n",
      "Epoch 1/10\n",
      "192/192 [==============================] - 0s 1ms/step - loss: 0.2305 - accuracy: 0.9060\n",
      "Epoch 2/10\n",
      "192/192 [==============================] - 0s 2ms/step - loss: 0.2281 - accuracy: 0.9119\n",
      "Epoch 3/10\n",
      "192/192 [==============================] - 0s 2ms/step - loss: 0.2269 - accuracy: 0.9116\n",
      "Epoch 4/10\n",
      "192/192 [==============================] - 0s 2ms/step - loss: 0.2219 - accuracy: 0.9122\n",
      "Epoch 5/10\n",
      "192/192 [==============================] - 0s 2ms/step - loss: 0.2288 - accuracy: 0.9108\n",
      "Epoch 6/10\n",
      "192/192 [==============================] - 0s 2ms/step - loss: 0.2275 - accuracy: 0.9101\n",
      "Epoch 7/10\n",
      "192/192 [==============================] - 0s 1ms/step - loss: 0.2282 - accuracy: 0.9116\n",
      "22/22 [==============================] - 0s 807us/step\n",
      "Cross-Validation Accuracies: [0.8575624082232012, 0.8663729809104258, 0.8795888399412628, 0.869309838472834, 0.8649045521292217, 0.8898678414096917, 0.9060205580029369, 0.9030837004405287, 0.9030837004405287, 0.8898678414096917]\n",
      "Cross-Validation Scores: [0.8647140864714086, 0.8737864077669903, 0.886426592797784, 0.8733997155049786, 0.8776595744680851, 0.8945147679324894, 0.9096045197740114, 0.9051724137931033, 0.9093406593406593, 0.8953974895397488]\n",
      "Media Accuracy: 0.8829662261380322\n",
      "Media f1 score: 0.8890016227389259\n"
     ]
    },
    {
     "data": {
      "image/png": "[encoded data removed]",
      "text/plain": [
       "<Figure size 1000x600 with 1 Axes>"
      ]
     },
     "metadata": {},
     "output_type": "display_data"
    },
    {
     "data": {
      "image/png": "[encoded data removed]",
      "text/plain": [
       "<Figure size 1000x600 with 1 Axes>"
      ]
     },
     "metadata": {},
     "output_type": "display_data"
    }
   ],
   "source": [
    "fold = 0\n",
    "\n",
    "fold_accuracies = []\n",
    "fold_f1_scores = []\n",
    "\n",
    "train_loss_history = []\n",
    "train_accuracy_history = []\n",
    "for train_indices, val_indices in kf.split(combined_features):\n",
    "    fold+=1\n",
    "    print(f'fold = {fold}')\n",
    "    X_train_fold = combined_features[train_indices]\n",
    "    y_train_fold = np.array(labels)[train_indices]\n",
    "    \n",
    "    X_val_fold = combined_features[val_indices]\n",
    "    y_val_fold = np.array(labels)[val_indices]\n",
    "    \n",
    "    X_train_fold_tensor = tf.convert_to_tensor(X_train_fold, dtype=tf.float32)\n",
    "    y_train_fold_tensor = tf.convert_to_tensor(y_train_fold, dtype=tf.float32)\n",
    "    X_val_fold_tensor = tf.convert_to_tensor(X_val_fold, dtype=tf.float32)\n",
    "    \n",
    "    model_history = model.fit(\n",
    "        X_train_fold_tensor, \n",
    "        y_train_fold_tensor, \n",
    "        epochs=10, \n",
    "        batch_size=32, \n",
    "        verbose=1,\n",
    "        callbacks=[EarlyStopping('loss', patience=3)],\n",
    "    )\n",
    "    \n",
    "    y_pred_val = model.predict(X_val_fold_tensor)\n",
    "    y_pred_val_binary = np.round(y_pred_val)\n",
    "    \n",
    "    fold_accuracy = accuracy_score(y_val_fold, y_pred_val_binary)\n",
    "    fold_accuracies.append(fold_accuracy)\n",
    "    \n",
    "    fold_f1_score = f1_score(y_val_fold, y_pred_val_binary)\n",
    "    fold_f1_scores.append(fold_f1_score)\n",
    "    \n",
    "    train_loss_history.append(model_history.history['loss'])\n",
    "    train_accuracy_history.append(model_history.history['accuracy'])\n",
    "    \n",
    "print(\"Cross-Validation Accuracies:\", fold_accuracies)\n",
    "print(\"Cross-Validation Scores:\", fold_f1_scores)\n",
    "print(\"Media Accuracy:\", np.mean(fold_accuracies))\n",
    "print(\"Media f1 score:\", np.mean(fold_f1_scores))\n",
    "\n",
    "plt.figure(figsize=(10, 6))\n",
    "for fold_num, fold_loss in enumerate(train_loss_history):\n",
    "    plt.plot(fold_loss, label=f'Fold {fold_num+1}')\n",
    "plt.xlabel('Epoch')\n",
    "plt.ylabel('Training Loss')\n",
    "plt.title('Training Loss per Epoch for Each Fold')\n",
    "plt.legend()\n",
    "plt.show()\n",
    "\n",
    "plt.figure(figsize=(10, 6))\n",
    "for fold_num, fold_accuracy in enumerate(train_accuracy_history):\n",
    "    plt.plot(fold_accuracy, label=f'Fold {fold_num+1}')\n",
    "plt.xlabel('Epoch')\n",
    "plt.ylabel('Training Accuracy')\n",
    "plt.title('Training Accuracy per Epoch for Each Fold')\n",
    "plt.legend()\n",
    "plt.show()"
   ]
  },
  {
   "cell_type": "code",
   "execution_count": 36,
   "id": "413e28f6-c7eb-4cd8-a713-060aef333cf7",
   "metadata": {},
   "outputs": [
    {
     "name": "stdout",
     "output_type": "stream",
     "text": [
      "43/43 [==============================] - 0s 946us/step - loss: 0.1831 - accuracy: 0.9280\n"
     ]
    }
   ],
   "source": [
    "test_loss, test_accuracy = model.evaluate(X_test_tensor, y_test_tensor)"
   ]
  }
 ],
 "metadata": {
  "kernelspec": {
   "display_name": "Python 3 (ipykernel)",
   "language": "python",
   "name": "python3"
  },
  "language_info": {
   "codemirror_mode": {
    "name": "ipython",
    "version": 3
   },
   "file_extension": ".py",
   "mimetype": "text/x-python",
   "name": "python",
   "nbconvert_exporter": "python",
   "pygments_lexer": "ipython3",
   "version": "3.10.11"
  }
 },
 "nbformat": 4,
 "nbformat_minor": 5
}
